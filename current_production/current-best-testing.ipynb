{
 "cells": [
  {
   "cell_type": "markdown",
   "id": "5759bf85-7621-4ad3-9d56-22f8621f6a86",
   "metadata": {},
   "source": [
    "## LLM Clip\n",
    "\n",
    "https://github.com/simonw/llm-clip\n",
    "requires LLM: https://llm.datasette.io/en/stable/\n",
    "\n",
    "```\n",
    "$ pip install llm\n",
    "$ llm install llm-clip\n",
    "```\n",
    "\n",
    "Then, assuming you are doing this in an environment (I create mine with conda), find the site packages directory, and the **llm_clip.py** file. `archaeology-images-ai/.venv/lib/python3.11/site-packages/llm_clip.py` is where mine hides.\n",
    "\n",
    "For convenience, it would be nice to easily change models used in testing. For instance, you may have multiple models developed with different training data and different training parameters. For this reason, we should make a modification to the  **llm_clip.py**, by first adding to the top of the file this line:\n",
    "\n",
    "```python\n",
    "import os\n",
    "```\n",
    "\n",
    "And then alter this function to check to see if a `LLM_CLIP_MODEL_PATH` environment variable has been specified, and if so, use that:\n",
    "le."
   ]
  },
  {
   "cell_type": "markdown",
   "id": "e48d555d-fae6-447a-8b3e-dc1a34d49faf",
   "metadata": {},
   "source": [
    "```python\n",
    "def embed_batch(self, items):\n",
    "    # Embeds a mix of text strings and binary images\n",
    "    model_to_use = os.getenv('LLM_CLIP_MODEL_PATH', 'clip-ViT-B-32')\n",
    "    # Now set the model, either from the env varaible or the default clip.\n",
    "    if self._model is None:\n",
    "        self._model = SentenceTransformer(model_to_use)\n",
    "```"
   ]
  },
  {
   "cell_type": "markdown",
   "id": "3b8ae79c-9b7d-4608-a261-3919e0d2863c",
   "metadata": {},
   "source": [
    "This should give some more flexibility in switching between different models to use with llm-clip."
   ]
  },
  {
   "cell_type": "code",
   "execution_count": 1,
   "id": "1ad57cdc-eb57-45e5-9190-272cab9c5cba",
   "metadata": {},
   "outputs": [],
   "source": [
    "import os\n",
    "import requests\n",
    "\n",
    "REPO_PATH = os.path.dirname(os.path.abspath(os.getcwd()))\n",
    "\n",
    "# We will need files from:\n",
    "# https://huggingface.co/sentence-transformers/clip-ViT-B-32/tree/main\n",
    "# But since there's no clear license for these, we can't put them into source control in this repo.\n",
    "# So we'll need to download them at run time and store in a folder that's ignored by git.\n",
    "CLIP_FILE_WEB_ROOT = 'https://huggingface.co/sentence-transformers/clip-ViT-B-32/resolve/main'\n",
    "REQUIRED_CLIP_FILES = [\n",
    "    (None, 'config_sentence_transformers.json',),\n",
    "    (None, 'modules.json'),\n",
    "    ('0_CLIPModel', 'merges.txt', ),\n",
    "    ('0_CLIPModel', 'preprocessor_config.json', ),\n",
    "    ('0_CLIPModel', 'special_tokens_map.json', ),\n",
    "    ('0_CLIPModel', 'tokenizer_config.json', ),\n",
    "    ('0_CLIPModel', 'vocab.json', ),\n",
    "]\n",
    "\n",
    "def get_required_clip_files(use_model_path):\n",
    "    \"\"\"Populates the use_model directory with the needed CLIP files via\n",
    "    Web requests from Hugging Face\n",
    "    \"\"\"\n",
    "    for sub_dir, filename in REQUIRED_CLIP_FILES:\n",
    "        if sub_dir:\n",
    "            filepath =  os.path.join(use_model_path, sub_dir, filename)\n",
    "            file_url = f'{CLIP_FILE_WEB_ROOT}/{sub_dir}/{filename}'\n",
    "        else:\n",
    "            filepath =  os.path.join(use_model_path, filename)\n",
    "            file_url = f'{CLIP_FILE_WEB_ROOT}/{filename}'\n",
    "        if os.path.exists(filepath):\n",
    "            # We already have this file, no need to download it again.\n",
    "            continue\n",
    "        print(f'Get needed CLIP file from {file_url}')\n",
    "        r = requests.get(file_url)  \n",
    "        with open(filepath, 'wb') as fd:\n",
    "            fd.write(r.content)\n",
    "\n",
    "def move_results_data_into_use_model(results_path, use_model_path):\n",
    "    \"\"\"Moves the results data to the correct place for the use_mode\"\"\"\n",
    "    clip_path =  os.path.join(use_model_path, '0_CLIPModel')\n",
    "    os.makedirs(clip_path, exist_ok=True)\n",
    "    files = [\n",
    "        'model.safetensors', # current preferred format\n",
    "        'pytorch_model.bin', # old-school format\n",
    "        'config.json',\n",
    "    ]\n",
    "    for file in files:\n",
    "        source_path = os.path.join(results_path, file)\n",
    "        use_path = os.path.join(clip_path, file)\n",
    "        if os.path.exists(use_path):\n",
    "            # nothing to do, we already have the expected\n",
    "            # file in the correct place\n",
    "            continue\n",
    "        if not os.path.exists(source_path):\n",
    "            print(f'We do not have the file, cannot move: {source_path}')\n",
    "            continue\n",
    "        os.rename(source_path, use_path)\n",
    "        print(f'Moved {file} to {use_path}')\n",
    "\n",
    "\n",
    "def prepare_usable_model_from_fine_tuned_results(results_path, use_model_dir='fine_tuned_model'):\n",
    "    use_model_path =  os.path.join(results_path, use_model_dir)\n",
    "    # Make sure we have a directory for our overall model\n",
    "    os.makedirs(use_model_path, exist_ok=True)\n",
    "    # Now make sure that overall model has a directory called 0_CLIPModel\n",
    "    clip_path =  os.path.join(use_model_path, '0_CLIPModel')\n",
    "    os.makedirs(clip_path, exist_ok=True)\n",
    "    # Make sure we have all the needed files.\n",
    "    get_required_clip_files(use_model_path)\n",
    "    # Make sure our results data is in the correct place.\n",
    "    move_results_data_into_use_model(results_path, use_model_path)\n",
    "    return use_model_path\n",
    "    "
   ]
  },
  {
   "cell_type": "code",
   "execution_count": 2,
   "id": "751c7d5d-1371-4ee2-92ad-82ff84b74202",
   "metadata": {},
   "outputs": [
    {
     "name": "stdout",
     "output_type": "stream",
     "text": [
      "We do not have the file, cannot move: /home/ekansa/github/archaeology-images-ai/results/pytorch_model.bin\n",
      "Using the model here: /home/ekansa/github/archaeology-images-ai/results/fine_tuned_model\n"
     ]
    }
   ],
   "source": [
    "import os\n",
    "\n",
    "repo_path = os.path.dirname(os.path.abspath(os.getcwd()))\n",
    "results_path = os.path.join(REPO_PATH, 'results')\n",
    "# Set up our model for use\n",
    "# model_name = 'fine_tuned_model_v9'\n",
    "model_name = None\n",
    "if model_name:\n",
    "    use_model_path = os.path.join(repo_path, 'results', model_name)\n",
    "else:\n",
    "    use_model_path = prepare_usable_model_from_fine_tuned_results(results_path)\n",
    "os.environ['LLM_CLIP_MODEL_PATH'] = use_model_path\n",
    "\n",
    "print(f'Using the model here: {os.getenv(\"LLM_CLIP_MODEL_PATH\")}')\n",
    "\n",
    "train_files = os.path.join(repo_path, 'files', 'training')\n",
    "test_files = os.path.join(repo_path, 'files', 'testing')\n"
   ]
  },
  {
   "cell_type": "code",
   "execution_count": 3,
   "id": "dbb89cbf-0a93-4595-9065-e46e5f3e6700",
   "metadata": {},
   "outputs": [
    {
     "name": "stdout",
     "output_type": "stream",
     "text": [
      "\u001b[?25lEmbedding  [####################################]  100%          \u001b[?25h\n",
      "\u001b[?25lEmbedding  [####################################]  100%          \u001b[?25h\n"
     ]
    }
   ],
   "source": [
    "# Load delete any prior embeddings from earlier attempts\n",
    "!llm collections delete photos\n",
    "# Load the test images into embeddings...\n",
    "!llm embed-multi photos --files {train_files} '*.jpg' --binary -m clip\n",
    "# Load the test images into embeddings...\n",
    "!llm embed-multi photos --files {test_files} '*.jpg' --binary -m clip"
   ]
  },
  {
   "cell_type": "code",
   "execution_count": 4,
   "id": "e507d6ff-4977-4c7c-b6d1-0dcd4099e592",
   "metadata": {},
   "outputs": [],
   "source": [
    "# functions to look up images and captions from the results of llm search\n",
    "import subprocess\n",
    "import json\n",
    "import IPython.display as display\n",
    "import pandas as pd\n",
    "\n",
    "def setup_uuid_keyed_image_metadata(IMAGE_METADATA):\n",
    "    \"\"\"Reads the json file and retrieves the metadata for the given image ids\"\"\"\n",
    "    data_path = os.path.join(REPO_PATH, 'json_data', 'artifact_images_w_sentence_captions.json')\n",
    "    df = pd.read_json(data_path)\n",
    "    for _, row in df.iterrows():\n",
    "        if not row['caption']:\n",
    "            continue\n",
    "        uuid = str(row['media__uuid'])\n",
    "        caption = row['caption']\n",
    "        IMAGE_METADATA[uuid] = caption\n",
    "    return IMAGE_METADATA\n",
    "\n",
    "# Setup the image metadata.\n",
    "IMAGE_METADATA = {}\n",
    "IMAGE_METADATA = setup_uuid_keyed_image_metadata(IMAGE_METADATA)\n",
    "\n",
    "def get_similar_ideas(query):\n",
    "    # Construct the command\n",
    "    cmd = f'llm similar photos -c \"{query}\"'\n",
    "    \n",
    "    # Execute the command and retrieve its output\n",
    "    output = subprocess.check_output(cmd, shell=True)\n",
    "    \n",
    "    # Since the output is a bytes object, decode it to convert it to a string\n",
    "    output_str = output.decode()\n",
    "    \n",
    "    # Split the output by lines and parse each line as JSON\n",
    "    results = [json.loads(line) for line in output_str.split('\\n') if line.strip()]\n",
    "    \n",
    "    # Return the parsed output\n",
    "    return results\n",
    "\n",
    "def get_similar_images(query):\n",
    "    # Construct the command\n",
    "    cmd = f'llm similar photos -i \"{query}\" --binary'\n",
    " \n",
    "    # Execute the command and retrieve its output\n",
    "    output = subprocess.check_output(cmd, shell=True)\n",
    "    \n",
    "    # Since the output is a bytes object, decode it to convert it to a string\n",
    "    output_str = output.decode()\n",
    "    \n",
    "    # Split the output by lines and parse each line as JSON\n",
    "    results = [json.loads(line) for line in output_str.split('\\n') if line.strip()]\n",
    "    \n",
    "    # Return the parsed output\n",
    "    return results\n",
    "\n",
    "def display_similar_ideas(query, metadata=IMAGE_METADATA):\n",
    "    \"Fetches similar ideas using the llm package and displays them with captions\"\n",
    "    similar_images = get_similar_ideas(query)\n",
    "    training_file_path = os.path.join(REPO_PATH, 'files', 'training')\n",
    "    testing_file_path = os.path.join(REPO_PATH, 'files', 'testing')\n",
    "    html_str = ''\n",
    "    for img in similar_images:\n",
    "        score = img['score']\n",
    "        image_id = os.path.join(testing_file_path, img['id'])\n",
    "        if os.path.exists(image_id):\n",
    "            src = f\"../files/testing/{ img['id']}\"  # located in our repo, but under git version control\n",
    "        else:\n",
    "            src = f\"../files/training/{ img['id']}\"  # Experimenting with embeddings from our training set\n",
    "        uuid = img['id'].split('.')[0]  # This will remove the '.jpg' from the image id\n",
    "        caption = metadata.get(uuid, uuid)\n",
    "        url = f\"https://opencontext.org/media/{uuid}\"  # Create the URL by concatenating the base URL and the image id (without 'testing/' and '.jpg')\n",
    "        html_str += f'<div><img src=\"{src}\" width=25% alt=\"Image not found\"> <p><strong>ID:</strong> {image_id}</p><p><strong>Score:</strong> {score}</p><p><strong>Caption:</strong> {caption}</p><p><a href=\"{url}\">Link to full record</a></p></div>'\n",
    "    display.display(display.HTML(html_str))\n",
    "\n",
    "def display_similar_images(query, metadata=IMAGE_METADATA):\n",
    "    \"Fetches similar ideas using the llm package and displays them with captions\"\n",
    "    similar_images = get_similar_images(query)\n",
    "    training_file_path = os.path.join(REPO_PATH, 'files', 'training')\n",
    "    testing_file_path = os.path.join(REPO_PATH, 'files', 'testing')\n",
    "    html_str = ''\n",
    "    if '/files/' in query:\n",
    "        q_file = query.split('/files/')[-1]\n",
    "        q_src = f\"../files/{ q_file}\"\n",
    "        html_str += f'<div>Search for images similar to:<br/><img src=\"{q_src}\" width=25% alt=\"Image not found\" /><p>----------------------------------</p>'\n",
    "        html_str += '<p><strong>Results Below</strong>:</p></div>'\n",
    "    for img in similar_images:\n",
    "        score = img['score']\n",
    "        image_id = os.path.join(testing_file_path, img['id'])\n",
    "        if os.path.exists(image_id):\n",
    "            src = f\"../files/testing/{ img['id']}\"  # located in our repo, but under git version control\n",
    "        else:\n",
    "            src = f\"../files/training/{ img['id']}\"  # Experimenting with embeddings from our training set\n",
    "        uuid = img['id'].split('.')[0]  # This will remove the '.jpg' from the image id\n",
    "        url = f\"https://opencontext.org/media/{uuid}\"\n",
    "        caption = metadata.get(uuid, uuid)        \n",
    "        html_str += f'<div><img src=\"{src}\" width=25% alt=\"Image not found\"> <p><strong>ID:</strong> {image_id}</p><p><strong>Score:</strong> {score}</p><p><strong>Caption:</strong> {caption}</p><p><a href=\"{url}\">Link to full record</a></p></div>'\n",
    "    display.display(display.HTML(html_str))"
   ]
  },
  {
   "cell_type": "code",
   "execution_count": 5,
   "id": "0dd6de70-8548-4422-a54f-414b35027976",
   "metadata": {},
   "outputs": [
    {
     "data": {
      "text/html": [
       "<div><img src=\"../files/training/b57439ee-99da-465e-e0e7-411c708640b2.jpg\" width=25% alt=\"Image not found\"> <p><strong>ID:</strong> /home/ekansa/github/archaeology-images-ai/files/testing/b57439ee-99da-465e-e0e7-411c708640b2.jpg</p><p><strong>Score:</strong> 0.4356992521572876</p><p><strong>Caption:</strong> An image of an archaeological artifact found at Poggio Civitate, a place in Italy, within the Europe world region. This architectural element came from a context dating to around 700 BCE to 535 BCE so it was probably made then or earlier. It has a general classification of architecture and mainly consists of clay;  clay. More descriptions include: Fragment Noted: false Fabric Category: Clay Object Type: Architectural::Unspecified / Misc.</p><p><a href=\"https://opencontext.org/media/b57439ee-99da-465e-e0e7-411c708640b2\">Link to full record</a></p></div><div><img src=\"../files/training/c61fcc09-7994-472c-c1b7-9fac542f9700.jpg\" width=25% alt=\"Image not found\"> <p><strong>ID:</strong> /home/ekansa/github/archaeology-images-ai/files/testing/c61fcc09-7994-472c-c1b7-9fac542f9700.jpg</p><p><strong>Score:</strong> 0.41872974756170367</p><p><strong>Caption:</strong> An image of an archaeological artifact found at Poggio Civitate, a place in Italy, within the Europe world region. This architectural element came from a context dating to around 700 BCE to 535 BCE so it was probably made then or earlier. It has a general classification of architecture and mainly consists of clay;  clay. More descriptions include: Fragment Noted: false Fabric Category: Clay Motif: Feline Object Type: Architectural::Unspecified / Misc. Decorative Technique: Incised;  Painted</p><p><a href=\"https://opencontext.org/media/c61fcc09-7994-472c-c1b7-9fac542f9700\">Link to full record</a></p></div><div><img src=\"../files/training/d64e7341-0838-47c3-2652-bdb92105d8e6.jpg\" width=25% alt=\"Image not found\"> <p><strong>ID:</strong> /home/ekansa/github/archaeology-images-ai/files/testing/d64e7341-0838-47c3-2652-bdb92105d8e6.jpg</p><p><strong>Score:</strong> 0.4155526798721396</p><p><strong>Caption:</strong> An image of an archaeological artifact found at Poggio Civitate, a place in Italy, within the Europe world region. This architectural element came from a context dating to around 700 BCE to 535 BCE so it was probably made then or earlier. It has a general classification of architecture and mainly consists of clay;  clay. More descriptions include: Fragment Noted: true Fabric Category: Clay Object Type: Architectural::Unspecified / Misc. Decorative Technique: Impressed</p><p><a href=\"https://opencontext.org/media/d64e7341-0838-47c3-2652-bdb92105d8e6\">Link to full record</a></p></div><div><img src=\"../files/training/d858cf1d-af2e-42d6-0cf0-91efe130eea4.jpg\" width=25% alt=\"Image not found\"> <p><strong>ID:</strong> /home/ekansa/github/archaeology-images-ai/files/testing/d858cf1d-af2e-42d6-0cf0-91efe130eea4.jpg</p><p><strong>Score:</strong> 0.40914633785366245</p><p><strong>Caption:</strong> An image of an archaeological artifact found at Poggio Civitate, a place in Italy, within the Europe world region. This architectural element came from a context dating to around 700 BCE to 535 BCE so it was probably made then or earlier. It has a general classification of architecture and mainly consists of clay;  clay. More descriptions include: Fragment Noted: false Fabric Category: Clay Object Type: Architectural::Unspecified / Misc.</p><p><a href=\"https://opencontext.org/media/d858cf1d-af2e-42d6-0cf0-91efe130eea4\">Link to full record</a></p></div><div><img src=\"../files/training/c4670989-fb9e-4337-c798-8f03524392ca.jpg\" width=25% alt=\"Image not found\"> <p><strong>ID:</strong> /home/ekansa/github/archaeology-images-ai/files/testing/c4670989-fb9e-4337-c798-8f03524392ca.jpg</p><p><strong>Score:</strong> 0.4043252079553761</p><p><strong>Caption:</strong> An image of an archaeological artifact found at Poggio Civitate, a place in Italy, within the Europe world region. This architectural element came from a context dating to around 700 BCE to 535 BCE so it was probably made then or earlier. It has a general classification of architecture and mainly consists of clay;  clay. More descriptions include: Fragment Noted: true Fabric Category: Clay Motif: Griffin Object Type: Architectural::Unspecified / Misc. Decorative Technique: Painted</p><p><a href=\"https://opencontext.org/media/c4670989-fb9e-4337-c798-8f03524392ca\">Link to full record</a></p></div><div><img src=\"../files/testing/829f98e7-a2ab-4a53-b0b3-ae0ed8ea9987.jpg\" width=25% alt=\"Image not found\"> <p><strong>ID:</strong> /home/ekansa/github/archaeology-images-ai/files/testing/829f98e7-a2ab-4a53-b0b3-ae0ed8ea9987.jpg</p><p><strong>Score:</strong> 0.39758353143379277</p><p><strong>Caption:</strong> An image of an archaeological artifact found at Corinthia, a place in Greece, within the Europe world region. It has a general classification of late roman 1 amphora. More descriptions include: Chronotype: Amphora, Late Roman 1 Zone: 12 Class: LOCA Collection-Strategy: Grab Extant-Part: Handle Material: Pottery Fabric: Medium-Coarse Location: Isthmia Drawing-Status: Drawing Photo-Status: Photo Period (Linked): Roman, Late</p><p><a href=\"https://opencontext.org/media/829f98e7-a2ab-4a53-b0b3-ae0ed8ea9987\">Link to full record</a></p></div><div><img src=\"../files/training/1509e8d9-6190-4cd9-e817-3fde7382526a.jpg\" width=25% alt=\"Image not found\"> <p><strong>ID:</strong> /home/ekansa/github/archaeology-images-ai/files/testing/1509e8d9-6190-4cd9-e817-3fde7382526a.jpg</p><p><strong>Score:</strong> 0.3892613438324992</p><p><strong>Caption:</strong> An image of an archaeological artifact found at Poggio Civitate, a place in Italy, within the Europe world region. This architectural element came from a context dating to around 700 BCE to 535 BCE so it was probably made then or earlier. It has a general classification of architecture and mainly consists of clay;  clay. More descriptions include: Fragment Noted: false Fabric Category: Clay Motif: Feline Object Type: Architectural::Unspecified / Misc.</p><p><a href=\"https://opencontext.org/media/1509e8d9-6190-4cd9-e817-3fde7382526a\">Link to full record</a></p></div><div><img src=\"../files/training/f6b9a564-e0b2-433c-3761-a820fdddd4f2.jpg\" width=25% alt=\"Image not found\"> <p><strong>ID:</strong> /home/ekansa/github/archaeology-images-ai/files/testing/f6b9a564-e0b2-433c-3761-a820fdddd4f2.jpg</p><p><strong>Score:</strong> 0.38755788972455435</p><p><strong>Caption:</strong> An image of an archaeological artifact found at Poggio Civitate, a place in Italy, within the Europe world region. This architectural element came from a context dating to around 700 BCE to 535 BCE so it was probably made then or earlier. It has a general classification of architecture and mainly consists of clay;  clay. More descriptions include: Fragment Noted: false Fabric Category: Clay Motif: Feline;  Panther Object Type: Architectural::Unspecified / Misc. Decorative Technique: Relief</p><p><a href=\"https://opencontext.org/media/f6b9a564-e0b2-433c-3761-a820fdddd4f2\">Link to full record</a></p></div><div><img src=\"../files/training/cf655909-a131-475f-6192-e69b124296c3.jpg\" width=25% alt=\"Image not found\"> <p><strong>ID:</strong> /home/ekansa/github/archaeology-images-ai/files/testing/cf655909-a131-475f-6192-e69b124296c3.jpg</p><p><strong>Score:</strong> 0.38742916720244985</p><p><strong>Caption:</strong> An image of an archaeological artifact found at Poggio Civitate, a place in Italy, within the Europe world region. This object came from a context dating to around 700 BCE to 535 BCE so it was probably made then or earlier. It has a general classification of finial;  finials and mainly consists of clay;  clay. More descriptions include: Fragment Noted: false Fabric Category: Clay Motif: Palmette Object Type: Ornament::Finial Decorative Technique: Incised</p><p><a href=\"https://opencontext.org/media/cf655909-a131-475f-6192-e69b124296c3\">Link to full record</a></p></div><div><img src=\"../files/training/905e0e88-2647-432b-8358-b9b2ade11269.jpg\" width=25% alt=\"Image not found\"> <p><strong>ID:</strong> /home/ekansa/github/archaeology-images-ai/files/testing/905e0e88-2647-432b-8358-b9b2ade11269.jpg</p><p><strong>Score:</strong> 0.38631834392771314</p><p><strong>Caption:</strong> An image of an archaeological artifact found at Poggio Civitate, a place in Italy, within the Europe world region. This architectural element came from a context dating to around 700 BCE to 535 BCE so it was probably made then or earlier. It has a general classification of architecture and mainly consists of clay;  clay. More descriptions include: Fragment Noted: false Fabric Category: Clay Motif: Feline;  Panther Object Type: Architectural::Unspecified / Misc. Decorative Technique: Relief</p><p><a href=\"https://opencontext.org/media/905e0e88-2647-432b-8358-b9b2ade11269\">Link to full record</a></p></div>"
      ],
      "text/plain": [
       "<IPython.core.display.HTML object>"
      ]
     },
     "metadata": {},
     "output_type": "display_data"
    }
   ],
   "source": [
    "query = \"A clay tablet with incisions\"\n",
    "display_similar_ideas(query)"
   ]
  },
  {
   "cell_type": "code",
   "execution_count": 19,
   "id": "1fb1f03b-0301-4990-be23-d577009b9bec",
   "metadata": {},
   "outputs": [
    {
     "data": {
      "text/html": [
       "<div><img src=\"../files/training/aa092a76-e485-4cc2-d1c9-cc5cc85c8370.jpg\" width=25% alt=\"Image not found\"> <p><strong>ID:</strong> /home/ekansa/github/archaeology-images-ai/files/testing/aa092a76-e485-4cc2-d1c9-cc5cc85c8370.jpg</p><p><strong>Score:</strong> 0.37708867202242774</p><p><strong>Caption:</strong> An image of an archaeological artifact found at PKAP Survey Area, a place in Cyprus, within the Europe world region. It has a general classification of late roman d(+e?) = (or part) \"cypriot red slip ware\". More descriptions include: Chronotype: Cypriot Red Slip</p><p><a href=\"https://opencontext.org/media/aa092a76-e485-4cc2-d1c9-cc5cc85c8370\">Link to full record</a></p></div><div><img src=\"../files/training/f3d615dd-47b6-4b6a-28ed-5ada124643df.jpg\" width=25% alt=\"Image not found\"> <p><strong>ID:</strong> /home/ekansa/github/archaeology-images-ai/files/testing/f3d615dd-47b6-4b6a-28ed-5ada124643df.jpg</p><p><strong>Score:</strong> 0.3757641208361242</p><p><strong>Caption:</strong> An image of an archaeological artifact found at PKAP Survey Area, a place in Cyprus, within the Europe world region. It has a general classification of late roman d(+e?) = (or part) \"cypriot red slip ware\". More descriptions include: Chronotype: Cypriot Red Slip</p><p><a href=\"https://opencontext.org/media/f3d615dd-47b6-4b6a-28ed-5ada124643df\">Link to full record</a></p></div><div><img src=\"../files/training/d25080eb-0a09-4621-b15c-f4d342b5a473.jpg\" width=25% alt=\"Image not found\"> <p><strong>ID:</strong> /home/ekansa/github/archaeology-images-ai/files/testing/d25080eb-0a09-4621-b15c-f4d342b5a473.jpg</p><p><strong>Score:</strong> 0.36975477033862847</p><p><strong>Caption:</strong> An image of an archaeological artifact found at PKAP Survey Area, a place in Cyprus, within the Europe world region. It has a general classification of eastern sigillata a. More descriptions include: Chronotype: Eastern Sigillata A</p><p><a href=\"https://opencontext.org/media/d25080eb-0a09-4621-b15c-f4d342b5a473\">Link to full record</a></p></div><div><img src=\"../files/training/0df4ab9f-031b-4bb7-8e12-ff7c269a2435.jpg\" width=25% alt=\"Image not found\"> <p><strong>ID:</strong> /home/ekansa/github/archaeology-images-ai/files/testing/0df4ab9f-031b-4bb7-8e12-ff7c269a2435.jpg</p><p><strong>Score:</strong> 0.36890568422976666</p><p><strong>Caption:</strong> An image of an archaeological artifact found at PKAP Survey Area, a place in Cyprus, within the Europe world region. It has a general classification of late roman 1 amphora. More descriptions include: Chronotype: Amphora, Late Roman 1</p><p><a href=\"https://opencontext.org/media/0df4ab9f-031b-4bb7-8e12-ff7c269a2435\">Link to full record</a></p></div><div><img src=\"../files/training/c0167b63-b968-4966-d618-66286f4e9669.jpg\" width=25% alt=\"Image not found\"> <p><strong>ID:</strong> /home/ekansa/github/archaeology-images-ai/files/testing/c0167b63-b968-4966-d618-66286f4e9669.jpg</p><p><strong>Score:</strong> 0.3679237641244304</p><p><strong>Caption:</strong> An image of an archaeological artifact found at PKAP Survey Area, a place in Cyprus, within the Europe world region. It has a general classification of late roman 1 amphora. More descriptions include: Chronotype: Amphora, Late Roman 1</p><p><a href=\"https://opencontext.org/media/c0167b63-b968-4966-d618-66286f4e9669\">Link to full record</a></p></div><div><img src=\"../files/training/6fb72de3-eb94-45a4-93d5-badaa2b16c67.jpg\" width=25% alt=\"Image not found\"> <p><strong>ID:</strong> /home/ekansa/github/archaeology-images-ai/files/testing/6fb72de3-eb94-45a4-93d5-badaa2b16c67.jpg</p><p><strong>Score:</strong> 0.3675522154504332</p><p><strong>Caption:</strong> An image of an archaeological artifact found at PKAP Survey Area, a place in Cyprus, within the Europe world region. It has a general classification of ware: t01-- yellow salamis roof tile. More descriptions include: Chronotype: Tile, Kopetra Corinthian Cover Roman Late</p><p><a href=\"https://opencontext.org/media/6fb72de3-eb94-45a4-93d5-badaa2b16c67\">Link to full record</a></p></div><div><img src=\"../files/training/80993fbe-8f43-4672-39dc-62c00615e4c6.jpg\" width=25% alt=\"Image not found\"> <p><strong>ID:</strong> /home/ekansa/github/archaeology-images-ai/files/testing/80993fbe-8f43-4672-39dc-62c00615e4c6.jpg</p><p><strong>Score:</strong> 0.36693642386368236</p><p><strong>Caption:</strong> An image of an archaeological artifact found at PKAP Survey Area, a place in Cyprus, within the Europe world region. It has a general classification of late roman d(+e?) = (or part) \"cypriot red slip ware\". More descriptions include: Chronotype: Cypriot Red Slip</p><p><a href=\"https://opencontext.org/media/80993fbe-8f43-4672-39dc-62c00615e4c6\">Link to full record</a></p></div><div><img src=\"../files/training/be855658-2b30-45e6-19a8-3f0b9f84c22e.jpg\" width=25% alt=\"Image not found\"> <p><strong>ID:</strong> /home/ekansa/github/archaeology-images-ai/files/testing/be855658-2b30-45e6-19a8-3f0b9f84c22e.jpg</p><p><strong>Score:</strong> 0.3654029431054877</p><p><strong>Caption:</strong> An image of an archaeological artifact found at PKAP Survey Area, a place in Cyprus, within the Europe world region. It has a general classification of northern coastal hellenistic fine ware. More descriptions include: Chronotype: Fineware, Hellenistic Color Coated Ware</p><p><a href=\"https://opencontext.org/media/be855658-2b30-45e6-19a8-3f0b9f84c22e\">Link to full record</a></p></div><div><img src=\"../files/training/f585610b-ff2f-4000-7ba6-e953d22f9f05.jpg\" width=25% alt=\"Image not found\"> <p><strong>ID:</strong> /home/ekansa/github/archaeology-images-ai/files/testing/f585610b-ff2f-4000-7ba6-e953d22f9f05.jpg</p><p><strong>Score:</strong> 0.365268881224054</p><p><strong>Caption:</strong> An image of an archaeological artifact found at PKAP Survey Area, a place in Cyprus, within the Europe world region. It has a general classification of eastern sigillata a. More descriptions include: Chronotype: Eastern Sigillata A</p><p><a href=\"https://opencontext.org/media/f585610b-ff2f-4000-7ba6-e953d22f9f05\">Link to full record</a></p></div><div><img src=\"../files/training/0c083c5f-edf8-4d04-68f8-282306498c2f.jpg\" width=25% alt=\"Image not found\"> <p><strong>ID:</strong> /home/ekansa/github/archaeology-images-ai/files/testing/0c083c5f-edf8-4d04-68f8-282306498c2f.jpg</p><p><strong>Score:</strong> 0.3639022259427757</p><p><strong>Caption:</strong> An image of an archaeological artifact found at PKAP Survey Area, a place in Cyprus, within the Europe world region. It has a general classification of late roman d(+e?) = (or part) \"cypriot red slip ware\". More descriptions include: Chronotype: Cypriot Red Slip</p><p><a href=\"https://opencontext.org/media/0c083c5f-edf8-4d04-68f8-282306498c2f\">Link to full record</a></p></div>"
      ],
      "text/plain": [
       "<IPython.core.display.HTML object>"
      ]
     },
     "metadata": {},
     "output_type": "display_data"
    }
   ],
   "source": [
    "query = \"The face of a cat on an ancient artifact\"\n",
    "display_similar_ideas(query)"
   ]
  },
  {
   "cell_type": "code",
   "execution_count": 13,
   "id": "3aedffa5-f94e-4f09-858f-d3941e3f8168",
   "metadata": {},
   "outputs": [
    {
     "data": {
      "text/html": [
       "<div><img src=\"../files/training/1d5ef14d-99e3-4bfa-30a5-f78aa1fa9243.jpg\" width=25% alt=\"Image not found\"> <p><strong>ID:</strong> /home/ekansa/github/archaeology-images-ai/files/testing/1d5ef14d-99e3-4bfa-30a5-f78aa1fa9243.jpg</p><p><strong>Score:</strong> 0.38234535092333505</p><p><strong>Caption:</strong> An image of an archaeological artifact found at Poggio Civitate, a place in Italy, within the Europe world region. This object came from a context dating to around 700 BCE to 535 BCE so it was probably made then or earlier. It has a general classification of bellows;  bellows (fire controlling equipment) and mainly consists of terracotta;  terracotta;  terracotta (clay material). More descriptions include: Chronology: Securely Orientalizing Fragment Noted: false Fabric Category: Terracotta Object Type: Pyrotech Related::Bellows Decorative Technique: Pierced</p><p><a href=\"https://opencontext.org/media/1d5ef14d-99e3-4bfa-30a5-f78aa1fa9243\">Link to full record</a></p></div><div><img src=\"../files/training/06fb5505-643d-4094-2365-3135f1775773.jpg\" width=25% alt=\"Image not found\"> <p><strong>ID:</strong> /home/ekansa/github/archaeology-images-ai/files/testing/06fb5505-643d-4094-2365-3135f1775773.jpg</p><p><strong>Score:</strong> 0.3699720367698824</p><p><strong>Caption:</strong> An image of an archaeological artifact found at Poggio Civitate, a place in Italy, within the Europe world region. This object came from a context dating to around 700 BCE to 535 BCE so it was probably made then or earlier. It has a general classification of bellows;  bellows (fire controlling equipment) and mainly consists of terracotta;  terracotta;  terracotta (clay material). More descriptions include: Fragment Noted: true Fabric Category: Terracotta Object Type: Pyrotech Related::Bellows</p><p><a href=\"https://opencontext.org/media/06fb5505-643d-4094-2365-3135f1775773\">Link to full record</a></p></div><div><img src=\"../files/training/d57a626d-4893-496b-92ac-e65c456f9125.jpg\" width=25% alt=\"Image not found\"> <p><strong>ID:</strong> /home/ekansa/github/archaeology-images-ai/files/testing/d57a626d-4893-496b-92ac-e65c456f9125.jpg</p><p><strong>Score:</strong> 0.36803393701000897</p><p><strong>Caption:</strong> An image of an archaeological artifact found at Poggio Civitate, a place in Italy, within the Europe world region. This architectural element came from a context dating to around 700 BCE to 535 BCE so it was probably made then or earlier. It has a general classification of architecture and mainly consists of terracotta;  terracotta;  terracotta (clay material). More descriptions include: Fragment Noted: false Fabric Category: Terracotta Object Type: Architectural::Unspecified / Misc.</p><p><a href=\"https://opencontext.org/media/d57a626d-4893-496b-92ac-e65c456f9125\">Link to full record</a></p></div><div><img src=\"../files/testing/0f075bb6-cce5-46e1-fc28-2fcd0b538193.jpg\" width=25% alt=\"Image not found\"> <p><strong>ID:</strong> /home/ekansa/github/archaeology-images-ai/files/testing/0f075bb6-cce5-46e1-fc28-2fcd0b538193.jpg</p><p><strong>Score:</strong> 0.3627556230191625</p><p><strong>Caption:</strong> An image of an archaeological artifact found at Poggio Civitate, a place in Italy, within the Europe world region. This object came from a context dating to around 700 BCE to 535 BCE so it was probably made then or earlier. It has a general classification of oven;  kilns and mainly consists of terracotta;  terracotta;  terracotta (clay material). More descriptions include: Fragment Noted: true Fabric Category: Terracotta Object Type: Pyrotech Related::Forno / Oven Conservation Action: cleaned;  adhered Conservation Material: tap water;  acetone;  Acryloid B-72</p><p><a href=\"https://opencontext.org/media/0f075bb6-cce5-46e1-fc28-2fcd0b538193\">Link to full record</a></p></div><div><img src=\"../files/training/1df4d56d-bb55-4f4e-4704-da6fdb700d67.jpg\" width=25% alt=\"Image not found\"> <p><strong>ID:</strong> /home/ekansa/github/archaeology-images-ai/files/testing/1df4d56d-bb55-4f4e-4704-da6fdb700d67.jpg</p><p><strong>Score:</strong> 0.3613806402275161</p><p><strong>Caption:</strong> An image of an archaeological artifact found at Poggio Civitate, a place in Italy, within the Europe world region. This object came from a context dating to around 700 BCE to 535 BCE so it was probably made then or earlier. It has a general classification of bellows;  bellows (fire controlling equipment) and mainly consists of terracotta;  terracotta;  terracotta (clay material). More descriptions include: Fragment Noted: true Fabric Category: Terracotta Object Type: Pyrotech Related::Bellows</p><p><a href=\"https://opencontext.org/media/1df4d56d-bb55-4f4e-4704-da6fdb700d67\">Link to full record</a></p></div><div><img src=\"../files/testing/594dc259-8344-4e7e-5018-bc0026cfffa3.jpg\" width=25% alt=\"Image not found\"> <p><strong>ID:</strong> /home/ekansa/github/archaeology-images-ai/files/testing/594dc259-8344-4e7e-5018-bc0026cfffa3.jpg</p><p><strong>Score:</strong> 0.35993796552747986</p><p><strong>Caption:</strong> An image of an archaeological artifact found at Poggio Civitate, a place in Italy, within the Europe world region. This architectural element came from a context dating to around 700 BCE to 535 BCE so it was probably made then or earlier. It has a general classification of ridge-tile and mainly consists of terracotta;  terracotta;  terracotta (clay material). More descriptions include: Fragment Noted: true Fabric Category: Terracotta Object Type: Architectural::Ridge Pole Tile Decorative Technique: Painted Conservation Action: cleaned Conservation Material: No Value (--)</p><p><a href=\"https://opencontext.org/media/594dc259-8344-4e7e-5018-bc0026cfffa3\">Link to full record</a></p></div><div><img src=\"../files/training/e5e8d6c2-5602-4e48-a090-e88301007b89.jpg\" width=25% alt=\"Image not found\"> <p><strong>ID:</strong> /home/ekansa/github/archaeology-images-ai/files/testing/e5e8d6c2-5602-4e48-a090-e88301007b89.jpg</p><p><strong>Score:</strong> 0.358855454962834</p><p><strong>Caption:</strong> An image of an archaeological artifact found at Poggio Civitate, a place in Italy, within the Europe world region. This architectural element came from a context dating to around 700 BCE to 535 BCE so it was probably made then or earlier. It has a general classification of architecture and mainly consists of terracotta;  terracotta;  terracotta (clay material). More descriptions include: Fragment Noted: true Fabric Category: Terracotta Motif: Vegetal Object Type: Architectural::Unspecified / Misc.</p><p><a href=\"https://opencontext.org/media/e5e8d6c2-5602-4e48-a090-e88301007b89\">Link to full record</a></p></div><div><img src=\"../files/training/caca8cd5-6b2a-4d75-02b6-b500090edfc1.jpg\" width=25% alt=\"Image not found\"> <p><strong>ID:</strong> /home/ekansa/github/archaeology-images-ai/files/testing/caca8cd5-6b2a-4d75-02b6-b500090edfc1.jpg</p><p><strong>Score:</strong> 0.35793531914225607</p><p><strong>Caption:</strong> An image of an archaeological artifact found at Poggio Civitate, a place in Italy, within the Europe world region. This object came from a context dating to around 700 BCE to 535 BCE so it was probably made then or earlier. It has a general classification of bellows;  bellows (fire controlling equipment) and mainly consists of terracotta;  terracotta;  terracotta (clay material). More descriptions include: Fragment Noted: false Fabric Category: Terracotta Object Type: Pyrotech Related::Bellows</p><p><a href=\"https://opencontext.org/media/caca8cd5-6b2a-4d75-02b6-b500090edfc1\">Link to full record</a></p></div><div><img src=\"../files/testing/53207068-5a67-41bb-4530-9a289314996c.jpg\" width=25% alt=\"Image not found\"> <p><strong>ID:</strong> /home/ekansa/github/archaeology-images-ai/files/testing/53207068-5a67-41bb-4530-9a289314996c.jpg</p><p><strong>Score:</strong> 0.3575051566473843</p><p><strong>Caption:</strong> An image of an archaeological artifact found at Poggio Civitate, a place in Italy, within the Europe world region. This architectural element came from a context dating to around 700 BCE to 535 BCE so it was probably made then or earlier. It has a general classification of acroterion;  akroterion;  acroteria and mainly consists of terracotta;  terracotta;  terracotta (clay material). More descriptions include: Fragment Noted: true Fabric Category: Terracotta Object Type: Architectural::Akroterion Decorative Technique: Incised Conservation Action: cleaned;  adhered;  filled Conservation Material: not recorded</p><p><a href=\"https://opencontext.org/media/53207068-5a67-41bb-4530-9a289314996c\">Link to full record</a></p></div><div><img src=\"../files/training/0b4d9e3f-dccd-499a-18ec-6e764ff8520a.jpg\" width=25% alt=\"Image not found\"> <p><strong>ID:</strong> /home/ekansa/github/archaeology-images-ai/files/testing/0b4d9e3f-dccd-499a-18ec-6e764ff8520a.jpg</p><p><strong>Score:</strong> 0.3570922425539205</p><p><strong>Caption:</strong> An image of an archaeological artifact found at Poggio Civitate, a place in Italy, within the Europe world region. This architectural element came from a context dating to around 700 BCE to 535 BCE so it was probably made then or earlier. It has a general classification of architecture and mainly consists of terracotta;  terracotta;  terracotta (clay material). More descriptions include: Chronology: Securely Orientalizing Fragment Noted: false Fabric Category: Terracotta Object Type: Architectural::Unspecified / Misc. Decorative Technique: Incised</p><p><a href=\"https://opencontext.org/media/0b4d9e3f-dccd-499a-18ec-6e764ff8520a\">Link to full record</a></p></div>"
      ],
      "text/plain": [
       "<IPython.core.display.HTML object>"
      ]
     },
     "metadata": {},
     "output_type": "display_data"
    }
   ],
   "source": [
    "query = \"An exciting horse racing scene in terracotta\"\n",
    "display_similar_ideas(query)"
   ]
  },
  {
   "cell_type": "code",
   "execution_count": 18,
   "id": "93eecd75-a694-47b0-909d-91fa64694dbf",
   "metadata": {},
   "outputs": [
    {
     "data": {
      "text/html": [
       "<div><img src=\"../files/training/8e814faa-88be-47b7-8528-04a1d8d0ba62.jpg\" width=25% alt=\"Image not found\"> <p><strong>ID:</strong> /home/ekansa/github/archaeology-images-ai/files/testing/8e814faa-88be-47b7-8528-04a1d8d0ba62.jpg</p><p><strong>Score:</strong> 0.3661631007737124</p><p><strong>Caption:</strong> An image of an archaeological artifact found at Corinthia, a place in Greece, within the Europe world region. It has a general classification of eastern sigillata a. More descriptions include: Chronotype: Eastern Sigillata A Zone: 11 Class: Standard Collection-Strategy: Chronotype Extant-Part: Base Material: Pottery Fabric: Fine Location: Field Drawing-Status: Drawing Period (Linked): Roman, Early</p><p><a href=\"https://opencontext.org/media/8e814faa-88be-47b7-8528-04a1d8d0ba62\">Link to full record</a></p></div><div><img src=\"../files/training/144addff-8881-44e9-aeb9-dcf0ee21b732.jpg\" width=25% alt=\"Image not found\"> <p><strong>ID:</strong> /home/ekansa/github/archaeology-images-ai/files/testing/144addff-8881-44e9-aeb9-dcf0ee21b732.jpg</p><p><strong>Score:</strong> 0.36444170267018006</p><p><strong>Caption:</strong> An image of an archaeological artifact found at Alaska, a place in United States, within the Americas world region. This object came from a context dating to around 1800 to 1840 so it was probably made then or earlier. It has a general classification of metal and mainly consists of iron;  iron (metal). More descriptions include: Object Description: Metal Material: Iron Object Description 2: Door Hinge Level: L1 Feature: Hearth Excavator initials: AVM</p><p><a href=\"https://opencontext.org/media/144addff-8881-44e9-aeb9-dcf0ee21b732\">Link to full record</a></p></div><div><img src=\"../files/training/b5b4574c-57e8-4b33-9aa2-c293c41d2670.jpg\" width=25% alt=\"Image not found\"> <p><strong>ID:</strong> /home/ekansa/github/archaeology-images-ai/files/testing/b5b4574c-57e8-4b33-9aa2-c293c41d2670.jpg</p><p><strong>Score:</strong> 0.36281306692138043</p><p><strong>Caption:</strong> An image of an archaeological artifact found at Alaska, a place in United States, within the Americas world region. This object came from a context dating to around 1800 to 1840 so it was probably made then or earlier. It has a general classification of metal and mainly consists of metal. More descriptions include: Object Description: Metal Material: Metal Object Description 2: Spoon Level: L1 Excavator initials: ADB</p><p><a href=\"https://opencontext.org/media/b5b4574c-57e8-4b33-9aa2-c293c41d2670\">Link to full record</a></p></div><div><img src=\"../files/training/ab7f5f16-bfaa-4de1-a927-aeec9510bb2c.jpg\" width=25% alt=\"Image not found\"> <p><strong>ID:</strong> /home/ekansa/github/archaeology-images-ai/files/testing/ab7f5f16-bfaa-4de1-a927-aeec9510bb2c.jpg</p><p><strong>Score:</strong> 0.35876010196561603</p><p><strong>Caption:</strong> An image of an archaeological artifact found at Poggio Civitate, a place in Italy, within the Europe world region. This object came from a context dating to around 700 BCE to 535 BCE so it was probably made then or earlier. It has a general classification of spear-head and mainly consists of ivory;  ivory (material). More descriptions include: Fragment Noted: false Fabric Category: Ivory Object Type: Tool / Weapon::Unspecified</p><p><a href=\"https://opencontext.org/media/ab7f5f16-bfaa-4de1-a927-aeec9510bb2c\">Link to full record</a></p></div><div><img src=\"../files/training/370b85fa-b3b0-4b8e-9380-651161c45a0f.jpg\" width=25% alt=\"Image not found\"> <p><strong>ID:</strong> /home/ekansa/github/archaeology-images-ai/files/testing/370b85fa-b3b0-4b8e-9380-651161c45a0f.jpg</p><p><strong>Score:</strong> 0.35532552980206267</p><p><strong>Caption:</strong> An image of an archaeological artifact found at Poggio Civitate, a place in Italy, within the Europe world region. This object came from a context dating to around 700 BCE to 535 BCE so it was probably made then or earlier. It has a general classification of statuette;  figurines and mainly consists of bone;  bone (material). More descriptions include: Fragment Noted: false Fabric Category: Bone Motif: Female Object Type: Figurine / Statuette Decorative Technique: Incised</p><p><a href=\"https://opencontext.org/media/370b85fa-b3b0-4b8e-9380-651161c45a0f\">Link to full record</a></p></div><div><img src=\"../files/training/a129444d-9b09-4b62-aa37-f5c688b47a64.jpg\" width=25% alt=\"Image not found\"> <p><strong>ID:</strong> /home/ekansa/github/archaeology-images-ai/files/testing/a129444d-9b09-4b62-aa37-f5c688b47a64.jpg</p><p><strong>Score:</strong> 0.3546504731339606</p><p><strong>Caption:</strong> An image of an archaeological artifact found at Minnesota, a place in United States, within the Americas world region. This object came from a context dating to around 1820 to 1950 so it was probably made then or earlier. It has a general classification of fragments (object portions);  fragments (object portions);  tools and equipment (hierarchy name);  stove components and mainly consists of cast iron. More descriptions include: General Object Type: Tools and Equipment Materials (1): cast iron Descriptor (1): stove component Descriptor (2): fragment (object portion) Horizontal Coordinate (N-S): S10 Horizontal Coordinate (E-W): E0 Description Type (1): Catalog Description Type (2): Internet</p><p><a href=\"https://opencontext.org/media/a129444d-9b09-4b62-aa37-f5c688b47a64\">Link to full record</a></p></div><div><img src=\"../files/training/5b6bb357-91bf-44d2-8313-0ae0bf8cdec6.jpg\" width=25% alt=\"Image not found\"> <p><strong>ID:</strong> /home/ekansa/github/archaeology-images-ai/files/testing/5b6bb357-91bf-44d2-8313-0ae0bf8cdec6.jpg</p><p><strong>Score:</strong> 0.3542952835070808</p><p><strong>Caption:</strong> An image of an archaeological artifact found at Minnesota, a place in United States, within the Americas world region. This object came from a context dating to around 1820 to 1950 so it was probably made then or earlier. It has a general classification of fragments (object portions);  fragments (object portions);  tools and equipment (hierarchy name);  razors and mainly consists of iron (metal). More descriptions include: General Object Type: Tools and Equipment Materials (1): iron (metal) Descriptor (1): razor Descriptor (2): fragment (object portion) Horizontal Coordinate (N-S): S10 Horizontal Coordinate (E-W): W10 Description Type (1): Catalog Description Type (2): Internet</p><p><a href=\"https://opencontext.org/media/5b6bb357-91bf-44d2-8313-0ae0bf8cdec6\">Link to full record</a></p></div><div><img src=\"../files/training/cf64f32e-9f8f-44ae-a895-115fbfaf771f.jpg\" width=25% alt=\"Image not found\"> <p><strong>ID:</strong> /home/ekansa/github/archaeology-images-ai/files/testing/cf64f32e-9f8f-44ae-a895-115fbfaf771f.jpg</p><p><strong>Score:</strong> 0.354182685483918</p><p><strong>Caption:</strong> An image of an archaeological artifact found at Poggio Civitate, a place in Italy, within the Europe world region. This object came from a context dating to around 700 BCE to 535 BCE so it was probably made then or earlier. It has a general classification of statuette;  figurines and mainly consists of bone;  bone (material). More descriptions include: Fragment Noted: true Fabric Category: Bone Motif: Figure Object Type: Figurine / Statuette Decorative Technique: Relief;  Applique</p><p><a href=\"https://opencontext.org/media/cf64f32e-9f8f-44ae-a895-115fbfaf771f\">Link to full record</a></p></div><div><img src=\"../files/training/f8c05050-b09a-4bb1-b8b1-2839f13399f7.jpg\" width=25% alt=\"Image not found\"> <p><strong>ID:</strong> /home/ekansa/github/archaeology-images-ai/files/testing/f8c05050-b09a-4bb1-b8b1-2839f13399f7.jpg</p><p><strong>Score:</strong> 0.3539026016597141</p><p><strong>Caption:</strong> An image of an archaeological artifact found at Gabii, a place in Italy, within the Europe world region. This object came from a context dating to around 250 BCE to 150 BCE so it was probably made then or earlier. It has a general classification of altars (religious fixtures). More descriptions include: Special Find Object Type: Altar</p><p><a href=\"https://opencontext.org/media/f8c05050-b09a-4bb1-b8b1-2839f13399f7\">Link to full record</a></p></div><div><img src=\"../files/training/b04ae12d-f7e8-4764-17bd-1cdb7e143ae4.jpg\" width=25% alt=\"Image not found\"> <p><strong>ID:</strong> /home/ekansa/github/archaeology-images-ai/files/testing/b04ae12d-f7e8-4764-17bd-1cdb7e143ae4.jpg</p><p><strong>Score:</strong> 0.3533422883887991</p><p><strong>Caption:</strong> An image of an archaeological artifact found at Poggio Civitate, a place in Italy, within the Europe world region. This object came from a context dating to around 700 BCE to 535 BCE so it was probably made then or earlier. It has a general classification of spear-head and mainly consists of bone;  bone (material). More descriptions include: Fragment Noted: false Fabric Category: Bone Object Type: Tool / Weapon::Unspecified</p><p><a href=\"https://opencontext.org/media/b04ae12d-f7e8-4764-17bd-1cdb7e143ae4\">Link to full record</a></p></div>"
      ],
      "text/plain": [
       "<IPython.core.display.HTML object>"
      ]
     },
     "metadata": {},
     "output_type": "display_data"
    }
   ],
   "source": [
    "query = \"A human profile\"\n",
    "display_similar_ideas(query)"
   ]
  },
  {
   "cell_type": "code",
   "execution_count": 8,
   "id": "e6c29f01-c780-4811-b604-05942bfaa6aa",
   "metadata": {},
   "outputs": [
    {
     "data": {
      "text/html": [
       "<div><img src=\"../files/training/f3d615dd-47b6-4b6a-28ed-5ada124643df.jpg\" width=25% alt=\"Image not found\"> <p><strong>ID:</strong> /home/ekansa/github/archaeology-images-ai/files/testing/f3d615dd-47b6-4b6a-28ed-5ada124643df.jpg</p><p><strong>Score:</strong> 0.35977681986309207</p><p><strong>Caption:</strong> An image of an archaeological artifact found at PKAP Survey Area, a place in Cyprus, within the Europe world region. It has a general classification of late roman d(+e?) = (or part) \"cypriot red slip ware\". More descriptions include: Chronotype: Cypriot Red Slip</p><p><a href=\"https://opencontext.org/media/f3d615dd-47b6-4b6a-28ed-5ada124643df\">Link to full record</a></p></div><div><img src=\"../files/training/aa092a76-e485-4cc2-d1c9-cc5cc85c8370.jpg\" width=25% alt=\"Image not found\"> <p><strong>ID:</strong> /home/ekansa/github/archaeology-images-ai/files/testing/aa092a76-e485-4cc2-d1c9-cc5cc85c8370.jpg</p><p><strong>Score:</strong> 0.35854696022638927</p><p><strong>Caption:</strong> An image of an archaeological artifact found at PKAP Survey Area, a place in Cyprus, within the Europe world region. It has a general classification of late roman d(+e?) = (or part) \"cypriot red slip ware\". More descriptions include: Chronotype: Cypriot Red Slip</p><p><a href=\"https://opencontext.org/media/aa092a76-e485-4cc2-d1c9-cc5cc85c8370\">Link to full record</a></p></div><div><img src=\"../files/training/c0167b63-b968-4966-d618-66286f4e9669.jpg\" width=25% alt=\"Image not found\"> <p><strong>ID:</strong> /home/ekansa/github/archaeology-images-ai/files/testing/c0167b63-b968-4966-d618-66286f4e9669.jpg</p><p><strong>Score:</strong> 0.35603699826171165</p><p><strong>Caption:</strong> An image of an archaeological artifact found at PKAP Survey Area, a place in Cyprus, within the Europe world region. It has a general classification of late roman 1 amphora. More descriptions include: Chronotype: Amphora, Late Roman 1</p><p><a href=\"https://opencontext.org/media/c0167b63-b968-4966-d618-66286f4e9669\">Link to full record</a></p></div><div><img src=\"../files/training/0df4ab9f-031b-4bb7-8e12-ff7c269a2435.jpg\" width=25% alt=\"Image not found\"> <p><strong>ID:</strong> /home/ekansa/github/archaeology-images-ai/files/testing/0df4ab9f-031b-4bb7-8e12-ff7c269a2435.jpg</p><p><strong>Score:</strong> 0.35498898623618796</p><p><strong>Caption:</strong> An image of an archaeological artifact found at PKAP Survey Area, a place in Cyprus, within the Europe world region. It has a general classification of late roman 1 amphora. More descriptions include: Chronotype: Amphora, Late Roman 1</p><p><a href=\"https://opencontext.org/media/0df4ab9f-031b-4bb7-8e12-ff7c269a2435\">Link to full record</a></p></div><div><img src=\"../files/training/d25080eb-0a09-4621-b15c-f4d342b5a473.jpg\" width=25% alt=\"Image not found\"> <p><strong>ID:</strong> /home/ekansa/github/archaeology-images-ai/files/testing/d25080eb-0a09-4621-b15c-f4d342b5a473.jpg</p><p><strong>Score:</strong> 0.3541250705315898</p><p><strong>Caption:</strong> An image of an archaeological artifact found at PKAP Survey Area, a place in Cyprus, within the Europe world region. It has a general classification of eastern sigillata a. More descriptions include: Chronotype: Eastern Sigillata A</p><p><a href=\"https://opencontext.org/media/d25080eb-0a09-4621-b15c-f4d342b5a473\">Link to full record</a></p></div><div><img src=\"../files/training/6fb72de3-eb94-45a4-93d5-badaa2b16c67.jpg\" width=25% alt=\"Image not found\"> <p><strong>ID:</strong> /home/ekansa/github/archaeology-images-ai/files/testing/6fb72de3-eb94-45a4-93d5-badaa2b16c67.jpg</p><p><strong>Score:</strong> 0.3535842345161583</p><p><strong>Caption:</strong> An image of an archaeological artifact found at PKAP Survey Area, a place in Cyprus, within the Europe world region. It has a general classification of ware: t01-- yellow salamis roof tile. More descriptions include: Chronotype: Tile, Kopetra Corinthian Cover Roman Late</p><p><a href=\"https://opencontext.org/media/6fb72de3-eb94-45a4-93d5-badaa2b16c67\">Link to full record</a></p></div><div><img src=\"../files/training/f585610b-ff2f-4000-7ba6-e953d22f9f05.jpg\" width=25% alt=\"Image not found\"> <p><strong>ID:</strong> /home/ekansa/github/archaeology-images-ai/files/testing/f585610b-ff2f-4000-7ba6-e953d22f9f05.jpg</p><p><strong>Score:</strong> 0.35255308814608083</p><p><strong>Caption:</strong> An image of an archaeological artifact found at PKAP Survey Area, a place in Cyprus, within the Europe world region. It has a general classification of eastern sigillata a. More descriptions include: Chronotype: Eastern Sigillata A</p><p><a href=\"https://opencontext.org/media/f585610b-ff2f-4000-7ba6-e953d22f9f05\">Link to full record</a></p></div><div><img src=\"../files/training/80993fbe-8f43-4672-39dc-62c00615e4c6.jpg\" width=25% alt=\"Image not found\"> <p><strong>ID:</strong> /home/ekansa/github/archaeology-images-ai/files/testing/80993fbe-8f43-4672-39dc-62c00615e4c6.jpg</p><p><strong>Score:</strong> 0.35163213766603346</p><p><strong>Caption:</strong> An image of an archaeological artifact found at PKAP Survey Area, a place in Cyprus, within the Europe world region. It has a general classification of late roman d(+e?) = (or part) \"cypriot red slip ware\". More descriptions include: Chronotype: Cypriot Red Slip</p><p><a href=\"https://opencontext.org/media/80993fbe-8f43-4672-39dc-62c00615e4c6\">Link to full record</a></p></div><div><img src=\"../files/training/1a687cde-7516-40c0-9c44-0e0a7e58c5c5.jpg\" width=25% alt=\"Image not found\"> <p><strong>ID:</strong> /home/ekansa/github/archaeology-images-ai/files/testing/1a687cde-7516-40c0-9c44-0e0a7e58c5c5.jpg</p><p><strong>Score:</strong> 0.35146508791856673</p><p><strong>Caption:</strong> An image of an archaeological artifact found at PKAP Survey Area, a place in Cyprus, within the Europe world region. It has a general classification of late roman 1 amphora. More descriptions include: Chronotype: Amphora, Late Roman 1</p><p><a href=\"https://opencontext.org/media/1a687cde-7516-40c0-9c44-0e0a7e58c5c5\">Link to full record</a></p></div><div><img src=\"../files/training/73ed27c3-1826-490a-e869-cd50835474e0.jpg\" width=25% alt=\"Image not found\"> <p><strong>ID:</strong> /home/ekansa/github/archaeology-images-ai/files/testing/73ed27c3-1826-490a-e869-cd50835474e0.jpg</p><p><strong>Score:</strong> 0.35118474854220877</p><p><strong>Caption:</strong> An image of an archaeological artifact found at PKAP Survey Area, a place in Cyprus, within the Europe world region. It has a general classification of late roman d(+e?) = (or part) \"cypriot red slip ware\". More descriptions include: Chronotype: Cypriot Red Slip</p><p><a href=\"https://opencontext.org/media/73ed27c3-1826-490a-e869-cd50835474e0\">Link to full record</a></p></div>"
      ],
      "text/plain": [
       "<IPython.core.display.HTML object>"
      ]
     },
     "metadata": {},
     "output_type": "display_data"
    }
   ],
   "source": [
    "query = \"A face on an ancient artifact\"\n",
    "display_similar_ideas(query)"
   ]
  },
  {
   "cell_type": "code",
   "execution_count": 16,
   "id": "a0be6307-846e-4e96-be0c-58e9d150fed5",
   "metadata": {},
   "outputs": [
    {
     "data": {
      "text/html": [
       "<div><img src=\"../files/training/b11e4010-dad8-4fbb-85c0-e541dac27185.jpg\" width=25% alt=\"Image not found\"> <p><strong>ID:</strong> /home/ekansa/github/archaeology-images-ai/files/testing/b11e4010-dad8-4fbb-85c0-e541dac27185.jpg</p><p><strong>Score:</strong> 0.3752971319556028</p><p><strong>Caption:</strong> An image of an archaeological artifact found at Minnesota, a place in United States, within the Americas world region. This object came from a context dating to around 1820 to 1950 so it was probably made then or earlier. It has a general classification of fragments (object portions);  fragments (object portions);  containers (hierarchy name);  scabbards and mainly consists of metal. More descriptions include: General Object Type: Containers Materials (1): metal Descriptor (1): scabbard Descriptor (2): fragment (object portion) Horizontal Coordinate (N-S): S10 Horizontal Coordinate (E-W): E0 Description Type (1): Catalog Description Type (2): Internet</p><p><a href=\"https://opencontext.org/media/b11e4010-dad8-4fbb-85c0-e541dac27185\">Link to full record</a></p></div><div><img src=\"../files/training/2c54d07a-37ca-46df-80ef-f5802007715a.jpg\" width=25% alt=\"Image not found\"> <p><strong>ID:</strong> /home/ekansa/github/archaeology-images-ai/files/testing/2c54d07a-37ca-46df-80ef-f5802007715a.jpg</p><p><strong>Score:</strong> 0.37260732393533436</p><p><strong>Caption:</strong> An image of an archaeological artifact found at Gabii, a place in Italy, within the Europe world region. This object came from a context dating to around 175 BCE to 200 so it was probably made then or earlier. It has a general classification of slag. More descriptions include: Special Find Object Type: Slag</p><p><a href=\"https://opencontext.org/media/2c54d07a-37ca-46df-80ef-f5802007715a\">Link to full record</a></p></div><div><img src=\"../files/testing/d3e5a272-9dfe-4239-8bf3-23247da8ac99.jpg\" width=25% alt=\"Image not found\"> <p><strong>ID:</strong> /home/ekansa/github/archaeology-images-ai/files/testing/d3e5a272-9dfe-4239-8bf3-23247da8ac99.jpg</p><p><strong>Score:</strong> 0.3706321449627192</p><p><strong>Caption:</strong> An image of an archaeological artifact found at Minnesota, a place in United States, within the Americas world region. This object came from a context dating to around 1820 to 1950 so it was probably made then or earlier. It has a general classification of tools and equipment (hierarchy name);  components (objects parts);  components (objects parts);  traps (trapping equipment) and mainly consists of iron (metal). More descriptions include: General Object Type: Tools and Equipment Materials (1): iron (metal) Descriptor (1): trap (trapping equipment) Descriptor (2): component (component object) Horizontal Coordinate (N-S): S10 Horizontal Coordinate (E-W): E30 Description Type (1): Catalog Description Type (2): Internet</p><p><a href=\"https://opencontext.org/media/d3e5a272-9dfe-4239-8bf3-23247da8ac99\">Link to full record</a></p></div><div><img src=\"../files/training/f84a6f04-e437-475b-ac73-69498bfb41e3.jpg\" width=25% alt=\"Image not found\"> <p><strong>ID:</strong> /home/ekansa/github/archaeology-images-ai/files/testing/f84a6f04-e437-475b-ac73-69498bfb41e3.jpg</p><p><strong>Score:</strong> 0.36951845970564623</p><p><strong>Caption:</strong> An image of an archaeological artifact found at Gabii, a place in Italy, within the Europe world region. It has a general classification of sculpture (visual works). More descriptions include: Special Find Object Type: Sculpture</p><p><a href=\"https://opencontext.org/media/f84a6f04-e437-475b-ac73-69498bfb41e3\">Link to full record</a></p></div><div><img src=\"../files/training/caefd5db-bd0a-41fd-8155-10ebd4bd6cfb.jpg\" width=25% alt=\"Image not found\"> <p><strong>ID:</strong> /home/ekansa/github/archaeology-images-ai/files/testing/caefd5db-bd0a-41fd-8155-10ebd4bd6cfb.jpg</p><p><strong>Score:</strong> 0.36890727192535133</p><p><strong>Caption:</strong> An image of an archaeological artifact found at Gabii, a place in Italy, within the Europe world region. It has a general classification of sculpture (visual works). More descriptions include: Special Find Object Type: Sculpture</p><p><a href=\"https://opencontext.org/media/caefd5db-bd0a-41fd-8155-10ebd4bd6cfb\">Link to full record</a></p></div><div><img src=\"../files/training/2b56f279-fbf9-43b4-a60f-e44ac0ce8fcd.jpg\" width=25% alt=\"Image not found\"> <p><strong>ID:</strong> /home/ekansa/github/archaeology-images-ai/files/testing/2b56f279-fbf9-43b4-a60f-e44ac0ce8fcd.jpg</p><p><strong>Score:</strong> 0.36658894944515685</p><p><strong>Caption:</strong> An image of an archaeological artifact found at PKAP Survey Area, a place in Cyprus, within the Europe world region. It has a general classification of ware: t01-- yellow salamis roof tile. More descriptions include: Chronotype: Tile, Kopetra Corinthian Pan Roman Late</p><p><a href=\"https://opencontext.org/media/2b56f279-fbf9-43b4-a60f-e44ac0ce8fcd\">Link to full record</a></p></div><div><img src=\"../files/training/9f1c1aaf-1a3a-48e0-9709-4a36a367bb6b.jpg\" width=25% alt=\"Image not found\"> <p><strong>ID:</strong> /home/ekansa/github/archaeology-images-ai/files/testing/9f1c1aaf-1a3a-48e0-9709-4a36a367bb6b.jpg</p><p><strong>Score:</strong> 0.36365378415475164</p><p><strong>Caption:</strong> An image of an archaeological artifact found at Gabii, a place in Italy, within the Europe world region. It has a general classification of architectural elements. More descriptions include: Special Find Object Type: Architectural Element</p><p><a href=\"https://opencontext.org/media/9f1c1aaf-1a3a-48e0-9709-4a36a367bb6b\">Link to full record</a></p></div><div><img src=\"../files/training/6fb72de3-eb94-45a4-93d5-badaa2b16c67.jpg\" width=25% alt=\"Image not found\"> <p><strong>ID:</strong> /home/ekansa/github/archaeology-images-ai/files/testing/6fb72de3-eb94-45a4-93d5-badaa2b16c67.jpg</p><p><strong>Score:</strong> 0.36125680206225447</p><p><strong>Caption:</strong> An image of an archaeological artifact found at PKAP Survey Area, a place in Cyprus, within the Europe world region. It has a general classification of ware: t01-- yellow salamis roof tile. More descriptions include: Chronotype: Tile, Kopetra Corinthian Cover Roman Late</p><p><a href=\"https://opencontext.org/media/6fb72de3-eb94-45a4-93d5-badaa2b16c67\">Link to full record</a></p></div><div><img src=\"../files/training/662d3ef3-418d-481b-8055-7861eaa5494f.jpg\" width=25% alt=\"Image not found\"> <p><strong>ID:</strong> /home/ekansa/github/archaeology-images-ai/files/testing/662d3ef3-418d-481b-8055-7861eaa5494f.jpg</p><p><strong>Score:</strong> 0.35911090565559284</p><p><strong>Caption:</strong> An image of an archaeological artifact found at Gabii, a place in Italy, within the Europe world region. It has a general classification of architectural elements. More descriptions include: Special Find Object Type: Architectural Element</p><p><a href=\"https://opencontext.org/media/662d3ef3-418d-481b-8055-7861eaa5494f\">Link to full record</a></p></div><div><img src=\"../files/training/2ba3d520-5cdc-453d-d50d-0c12291589ed.jpg\" width=25% alt=\"Image not found\"> <p><strong>ID:</strong> /home/ekansa/github/archaeology-images-ai/files/testing/2ba3d520-5cdc-453d-d50d-0c12291589ed.jpg</p><p><strong>Score:</strong> 0.3590319170328467</p><p><strong>Caption:</strong> An image of an archaeological artifact found at PKAP Survey Area, a place in Cyprus, within the Europe world region. It has a general classification of late roman 1 amphora. More descriptions include: Chronotype: Amphora, Late Roman 1</p><p><a href=\"https://opencontext.org/media/2ba3d520-5cdc-453d-d50d-0c12291589ed\">Link to full record</a></p></div>"
      ],
      "text/plain": [
       "<IPython.core.display.HTML object>"
      ]
     },
     "metadata": {},
     "output_type": "display_data"
    }
   ],
   "source": [
    "query = \"A Greek goddess on an ancient artifact\"\n",
    "display_similar_ideas(query)"
   ]
  },
  {
   "cell_type": "code",
   "execution_count": 9,
   "id": "ff498a76-c569-494b-bc0a-1def0566943d",
   "metadata": {},
   "outputs": [
    {
     "data": {
      "text/html": [
       "<div><img src=\"../files/training/5f746bb2-ab37-459c-78ae-3dd9d8fcb763.jpg\" width=25% alt=\"Image not found\"> <p><strong>ID:</strong> /home/ekansa/github/archaeology-images-ai/files/testing/5f746bb2-ab37-459c-78ae-3dd9d8fcb763.jpg</p><p><strong>Score:</strong> 0.43402522536101235</p><p><strong>Caption:</strong> An image of an archaeological artifact found at Poggio Civitate, a place in Italy, within the Europe world region. This object came from a context dating to around 700 BCE to 535 BCE so it was probably made then or earlier. It has a general classification of wire;  wire and mainly consists of gold;  gold (metal). More descriptions include: Fragment Noted: true Fabric Category: Gold Object Type: Shaped Object::Coil / Wire</p><p><a href=\"https://opencontext.org/media/5f746bb2-ab37-459c-78ae-3dd9d8fcb763\">Link to full record</a></p></div><div><img src=\"../files/testing/95f7359d-908d-4e4f-9c38-48248b546b41.jpg\" width=25% alt=\"Image not found\"> <p><strong>ID:</strong> /home/ekansa/github/archaeology-images-ai/files/testing/95f7359d-908d-4e4f-9c38-48248b546b41.jpg</p><p><strong>Score:</strong> 0.4286402143540189</p><p><strong>Caption:</strong> An image of an archaeological artifact found at Poggio Civitate, a place in Italy, within the Europe world region. This object came from a context dating to around 700 BCE to 535 BCE so it was probably made then or earlier. It has a general classification of bead;  beads (pierced objects) and mainly consists of shell;  shell (animal material). More descriptions include: Fabric Category: Shell Object Type: Costume, Accessories::Bead Decorative Technique: Fluted Record Type: Small Find</p><p><a href=\"https://opencontext.org/media/95f7359d-908d-4e4f-9c38-48248b546b41\">Link to full record</a></p></div><div><img src=\"../files/training/d7b13001-9f43-400f-b710-9d4c32c3e329.jpg\" width=25% alt=\"Image not found\"> <p><strong>ID:</strong> /home/ekansa/github/archaeology-images-ai/files/testing/d7b13001-9f43-400f-b710-9d4c32c3e329.jpg</p><p><strong>Score:</strong> 0.4269574660971181</p><p><strong>Caption:</strong> An image of an archaeological artifact found at Poggio Civitate, a place in Italy, within the Europe world region. This object came from a context dating to around 700 BCE to 535 BCE so it was probably made then or earlier. It has a general classification of sample;  biological material and mainly consists of shell;  shell (animal material). More descriptions include: Fragment Noted: false Fabric Category: Shell Object Type: Organic (ecofact)</p><p><a href=\"https://opencontext.org/media/d7b13001-9f43-400f-b710-9d4c32c3e329\">Link to full record</a></p></div><div><img src=\"../files/training/c81d17b3-31c1-41ff-a703-75d41ca20a76.jpg\" width=25% alt=\"Image not found\"> <p><strong>ID:</strong> /home/ekansa/github/archaeology-images-ai/files/testing/c81d17b3-31c1-41ff-a703-75d41ca20a76.jpg</p><p><strong>Score:</strong> 0.42572096699263173</p><p><strong>Caption:</strong> An image of an archaeological artifact found at Poggio Civitate, a place in Italy, within the Europe world region. This object came from a context dating to around 700 BCE to 535 BCE so it was probably made then or earlier. It has a general classification of chain;  chains (object genres) and mainly consists of bronze;  bronze (metal). More descriptions include: Fabric Category: Bronze Motif: Other Object Type: Costume, Accessories;  Costume, Accessories::Chain / Links Decorative Technique: Beveled;  Molded;  Ridged Record Type: Small Find</p><p><a href=\"https://opencontext.org/media/c81d17b3-31c1-41ff-a703-75d41ca20a76\">Link to full record</a></p></div><div><img src=\"../files/training/91647766-2a65-4536-956b-36dc664b496d.jpg\" width=25% alt=\"Image not found\"> <p><strong>ID:</strong> /home/ekansa/github/archaeology-images-ai/files/testing/91647766-2a65-4536-956b-36dc664b496d.jpg</p><p><strong>Score:</strong> 0.4243019475314443</p><p><strong>Caption:</strong> An image of an archaeological artifact found at Poggio Civitate, a place in Italy, within the Europe world region. This object came from a context dating to around 700 BCE to 535 BCE so it was probably made then or earlier. It has a general classification of artefact and mainly consists of gold;  gold (metal). More descriptions include: Fabric Category: Gold Object Type: Ornament::Unspecified / Misc. Record Type: Supplemental Find</p><p><a href=\"https://opencontext.org/media/91647766-2a65-4536-956b-36dc664b496d\">Link to full record</a></p></div><div><img src=\"../files/training/40783c3d-8129-40b3-5481-439c23684315.jpg\" width=25% alt=\"Image not found\"> <p><strong>ID:</strong> /home/ekansa/github/archaeology-images-ai/files/testing/40783c3d-8129-40b3-5481-439c23684315.jpg</p><p><strong>Score:</strong> 0.42354243399249625</p><p><strong>Caption:</strong> An image of an archaeological artifact found at Poggio Civitate, a place in Italy, within the Europe world region. This object came from a context dating to around 700 BCE to 535 BCE so it was probably made then or earlier. It has a general classification of sample;  biological material and mainly consists of shell;  shell (animal material). More descriptions include: Fragment Noted: false Fabric Category: Shell Object Type: Organic (ecofact) Conservation Action: cleaned Conservation Material: tap water</p><p><a href=\"https://opencontext.org/media/40783c3d-8129-40b3-5481-439c23684315\">Link to full record</a></p></div><div><img src=\"../files/training/a189c340-a271-48d6-0825-f26af7c3900c.jpg\" width=25% alt=\"Image not found\"> <p><strong>ID:</strong> /home/ekansa/github/archaeology-images-ai/files/testing/a189c340-a271-48d6-0825-f26af7c3900c.jpg</p><p><strong>Score:</strong> 0.4168662054600162</p><p><strong>Caption:</strong> An image of an archaeological artifact found at Poggio Civitate, a place in Italy, within the Europe world region. This object came from a context dating to around 700 BCE to 535 BCE so it was probably made then or earlier. It has a general classification of artefact;  strips (object genres) and mainly consists of gold;  gold (metal). More descriptions include: Fragment Noted: false Fabric Category: Gold Motif: Flower Object Type: Shaped Object::Ribbon / Strip</p><p><a href=\"https://opencontext.org/media/a189c340-a271-48d6-0825-f26af7c3900c\">Link to full record</a></p></div><div><img src=\"../files/training/42cbffb4-9dcd-470c-9db1-cfc3a6db5315.jpg\" width=25% alt=\"Image not found\"> <p><strong>ID:</strong> /home/ekansa/github/archaeology-images-ai/files/testing/42cbffb4-9dcd-470c-9db1-cfc3a6db5315.jpg</p><p><strong>Score:</strong> 0.41601900963415633</p><p><strong>Caption:</strong> An image of an archaeological artifact found at Poggio Civitate, a place in Italy, within the Europe world region. This object came from a context dating to around 700 BCE to 535 BCE so it was probably made then or earlier. It has a general classification of chain;  chains (object genres) and mainly consists of bronze;  bronze (metal). More descriptions include: Fabric Category: Bronze Motif: Other Object Type: Costume, Accessories;  Costume, Accessories::Chain / Links Decorative Technique: Beveled;  Molded;  Ridged Record Type: Small Find</p><p><a href=\"https://opencontext.org/media/42cbffb4-9dcd-470c-9db1-cfc3a6db5315\">Link to full record</a></p></div><div><img src=\"../files/training/c00dcd18-e3cd-42d3-ad5f-4e99091951bd.jpg\" width=25% alt=\"Image not found\"> <p><strong>ID:</strong> /home/ekansa/github/archaeology-images-ai/files/testing/c00dcd18-e3cd-42d3-ad5f-4e99091951bd.jpg</p><p><strong>Score:</strong> 0.41244001482145964</p><p><strong>Caption:</strong> An image of an archaeological artifact found at Poggio Civitate, a place in Italy, within the Europe world region. This object came from a context dating to around 700 BCE to 535 BCE so it was probably made then or earlier. It has a general classification of sample and mainly consists of shell;  shell (animal material). More descriptions include: Fabric Category: Shell Object Type: Unclassified / Debris / Misc. Decorative Technique: Pierced Record Type: Small Find</p><p><a href=\"https://opencontext.org/media/c00dcd18-e3cd-42d3-ad5f-4e99091951bd\">Link to full record</a></p></div><div><img src=\"../files/training/dbabc15d-6747-438a-35cd-38487c1b86cb.jpg\" width=25% alt=\"Image not found\"> <p><strong>ID:</strong> /home/ekansa/github/archaeology-images-ai/files/testing/dbabc15d-6747-438a-35cd-38487c1b86cb.jpg</p><p><strong>Score:</strong> 0.4123636966773845</p><p><strong>Caption:</strong> An image of an archaeological artifact found at Poggio Civitate, a place in Italy, within the Europe world region. This object came from a context dating to around 700 BCE to 535 BCE so it was probably made then or earlier. It has a general classification of sample;  biological material and mainly consists of shell;  shell (animal material). More descriptions include: Fragment Noted: false Fabric Category: Shell Object Type: Organic (ecofact) Conservation Action: cleaned Conservation Material: tap water</p><p><a href=\"https://opencontext.org/media/dbabc15d-6747-438a-35cd-38487c1b86cb\">Link to full record</a></p></div>"
      ],
      "text/plain": [
       "<IPython.core.display.HTML object>"
      ]
     },
     "metadata": {},
     "output_type": "display_data"
    }
   ],
   "source": [
    "query = \"A mythical animal on an ancient artifact\"\n",
    "display_similar_ideas(query)"
   ]
  },
  {
   "cell_type": "code",
   "execution_count": 10,
   "id": "928051c5-90ca-4120-8030-ccb92d1f7ecc",
   "metadata": {},
   "outputs": [
    {
     "data": {
      "text/html": [
       "<div><img src=\"../files/testing/829f98e7-a2ab-4a53-b0b3-ae0ed8ea9987.jpg\" width=25% alt=\"Image not found\"> <p><strong>ID:</strong> /home/ekansa/github/archaeology-images-ai/files/testing/829f98e7-a2ab-4a53-b0b3-ae0ed8ea9987.jpg</p><p><strong>Score:</strong> 0.33973772374267586</p><p><strong>Caption:</strong> An image of an archaeological artifact found at Corinthia, a place in Greece, within the Europe world region. It has a general classification of late roman 1 amphora. More descriptions include: Chronotype: Amphora, Late Roman 1 Zone: 12 Class: LOCA Collection-Strategy: Grab Extant-Part: Handle Material: Pottery Fabric: Medium-Coarse Location: Isthmia Drawing-Status: Drawing Photo-Status: Photo Period (Linked): Roman, Late</p><p><a href=\"https://opencontext.org/media/829f98e7-a2ab-4a53-b0b3-ae0ed8ea9987\">Link to full record</a></p></div><div><img src=\"../files/training/81607edb-2791-40f4-b783-50f1037d8ab5.jpg\" width=25% alt=\"Image not found\"> <p><strong>ID:</strong> /home/ekansa/github/archaeology-images-ai/files/testing/81607edb-2791-40f4-b783-50f1037d8ab5.jpg</p><p><strong>Score:</strong> 0.3347357455127104</p><p><strong>Caption:</strong> An image of an archaeological artifact found at Poggio Civitate, a place in Italy, within the Europe world region. This pottery came from a context dating to around 700 BCE to 535 BCE so it was probably made then or earlier. It has a general classification of vessel;  pottery (visual works);  strainer;  strainers (culinary tools) and mainly consists of pottery. More descriptions include: Chronology: Securely Orientalizing Fragment Noted: true Fabric Category: Impasto Object Type: Vessel Vessel Form: Strainer / Sieve</p><p><a href=\"https://opencontext.org/media/81607edb-2791-40f4-b783-50f1037d8ab5\">Link to full record</a></p></div><div><img src=\"../files/testing/752217ba-85a8-408e-1460-3a8c271459e5.jpg\" width=25% alt=\"Image not found\"> <p><strong>ID:</strong> /home/ekansa/github/archaeology-images-ai/files/testing/752217ba-85a8-408e-1460-3a8c271459e5.jpg</p><p><strong>Score:</strong> 0.3323804042700882</p><p><strong>Caption:</strong> An image of an archaeological artifact found at Poggio Civitate, a place in Italy, within the Europe world region. This architectural element came from a context dating to around 700 BCE to 535 BCE so it was probably made then or earlier. It has a general classification of roof-tile;  pantile and mainly consists of clay;  clay. More descriptions include: Fragment Noted: true Fabric Category: Clay Object Type: Architectural::Pan Tile Decorative Technique: Painted Conservation Action: cleaned Conservation Material: alcohol;  tap water;  acetone;  saliva</p><p><a href=\"https://opencontext.org/media/752217ba-85a8-408e-1460-3a8c271459e5\">Link to full record</a></p></div><div><img src=\"../files/training/de726bb3-5af6-4ad2-33c8-a8c60b43742a.jpg\" width=25% alt=\"Image not found\"> <p><strong>ID:</strong> /home/ekansa/github/archaeology-images-ai/files/testing/de726bb3-5af6-4ad2-33c8-a8c60b43742a.jpg</p><p><strong>Score:</strong> 0.3309584577776437</p><p><strong>Caption:</strong> An image of an archaeological artifact found at Poggio Civitate, a place in Italy, within the Europe world region. This object came from a context dating to around 700 BCE to 535 BCE so it was probably made then or earlier. It has a general classification of vessel;  pottery (visual works);  alabastron;  alabastra;  alabastron and mainly consists of stone;  rock (inorganic material). More descriptions include: Fragment Noted: false Fabric Category: Stone Object Type: Vessel Vessel Form: Alabastron</p><p><a href=\"https://opencontext.org/media/de726bb3-5af6-4ad2-33c8-a8c60b43742a\">Link to full record</a></p></div><div><img src=\"../files/training/e4d05215-c6a1-4f06-a080-b63a4279dd4a.jpg\" width=25% alt=\"Image not found\"> <p><strong>ID:</strong> /home/ekansa/github/archaeology-images-ai/files/testing/e4d05215-c6a1-4f06-a080-b63a4279dd4a.jpg</p><p><strong>Score:</strong> 0.33094385924313463</p><p><strong>Caption:</strong> An image of an archaeological artifact found at Poggio Civitate, a place in Italy, within the Europe world region. This pottery came from a context dating to around 700 BCE to 535 BCE so it was probably made then or earlier. It has a general classification of vessel;  pottery (visual works);  aryballoi;  aryballos;  aryballos and mainly consists of clay;  clay. More descriptions include: Fragment Noted: true Fabric Category: Clay Object Type: Vessel Vessel Form: Aryballos</p><p><a href=\"https://opencontext.org/media/e4d05215-c6a1-4f06-a080-b63a4279dd4a\">Link to full record</a></p></div><div><img src=\"../files/training/0b43343f-d3f3-4e87-df39-f523f8ffc2e0.jpg\" width=25% alt=\"Image not found\"> <p><strong>ID:</strong> /home/ekansa/github/archaeology-images-ai/files/testing/0b43343f-d3f3-4e87-df39-f523f8ffc2e0.jpg</p><p><strong>Score:</strong> 0.32953857548846127</p><p><strong>Caption:</strong> An image of an archaeological artifact found at Poggio Civitate, a place in Italy, within the Europe world region. This pottery came from a context dating to around 700 BCE to 535 BCE so it was probably made then or earlier. It has a general classification of vessel;  pottery (visual works);  strainer;  strainers (culinary tools) and mainly consists of pottery. More descriptions include: Chronology: Securely Orientalizing Fragment Noted: true Fabric Category: Impasto Object Type: Vessel Vessel Form: Strainer / Sieve</p><p><a href=\"https://opencontext.org/media/0b43343f-d3f3-4e87-df39-f523f8ffc2e0\">Link to full record</a></p></div><div><img src=\"../files/training/4672c786-f548-4918-a7c1-9888474be499.jpg\" width=25% alt=\"Image not found\"> <p><strong>ID:</strong> /home/ekansa/github/archaeology-images-ai/files/testing/4672c786-f548-4918-a7c1-9888474be499.jpg</p><p><strong>Score:</strong> 0.32773091584880226</p><p><strong>Caption:</strong> An image of an archaeological artifact found at Tell en-Nasbeh, a place in Palestinian Authority, within the Asia world region. It has a general classification of figurines and mainly consists of ceramic (material). More descriptions include: Condition: Good Category Type: Ceramic Material: Ceramic Subcatagory: Ceramic -- Figurine Decoration: Slip Manufacture: Handmade</p><p><a href=\"https://opencontext.org/media/4672c786-f548-4918-a7c1-9888474be499\">Link to full record</a></p></div><div><img src=\"../files/training/533370f8-bcb1-49ea-cf82-8f639868e58f.jpg\" width=25% alt=\"Image not found\"> <p><strong>ID:</strong> /home/ekansa/github/archaeology-images-ai/files/testing/533370f8-bcb1-49ea-cf82-8f639868e58f.jpg</p><p><strong>Score:</strong> 0.3268004144061502</p><p><strong>Caption:</strong> An image of an archaeological artifact found at Poggio Civitate, a place in Italy, within the Europe world region. This object came from a context dating to around 700 BCE to 535 BCE so it was probably made then or earlier. It has a general classification of bellows;  bellows (fire controlling equipment) and mainly consists of terracotta;  terracotta;  terracotta (clay material). More descriptions include: Chronology: Securely Orientalizing Fragment Noted: true Fabric Category: Terracotta Object Type: Pyrotech Related::Bellows</p><p><a href=\"https://opencontext.org/media/533370f8-bcb1-49ea-cf82-8f639868e58f\">Link to full record</a></p></div><div><img src=\"../files/training/adb45453-aa47-47a3-cc77-e8196cc1ae2c.jpg\" width=25% alt=\"Image not found\"> <p><strong>ID:</strong> /home/ekansa/github/archaeology-images-ai/files/testing/adb45453-aa47-47a3-cc77-e8196cc1ae2c.jpg</p><p><strong>Score:</strong> 0.325763913717633</p><p><strong>Caption:</strong> An image of an archaeological artifact found at Poggio Civitate, a place in Italy, within the Europe world region. This object came from a context dating to around 700 BCE to 535 BCE so it was probably made then or earlier. It has a general classification of artefact;  strips (object genres) and mainly consists of gold;  gold (metal). More descriptions include: Fragment Noted: false Fabric Category: Gold Motif: Flower Object Type: Shaped Object::Ribbon / Strip</p><p><a href=\"https://opencontext.org/media/adb45453-aa47-47a3-cc77-e8196cc1ae2c\">Link to full record</a></p></div><div><img src=\"../files/testing/9bbe31b5-0221-4248-2b60-ed6b1e18837f.jpg\" width=25% alt=\"Image not found\"> <p><strong>ID:</strong> /home/ekansa/github/archaeology-images-ai/files/testing/9bbe31b5-0221-4248-2b60-ed6b1e18837f.jpg</p><p><strong>Score:</strong> 0.32463827501933273</p><p><strong>Caption:</strong> An image of an archaeological artifact found at Poggio Civitate, a place in Italy, within the Europe world region. This pottery came from a context dating to around 700 BCE to 535 BCE so it was probably made then or earlier. It has a general classification of vessel;  pottery (visual works);  vessel and mainly consists of pottery. More descriptions include: Chronology: Securely Orientalizing Fragment Noted: false Fabric Category: Red Ware Object Type: Vessel Decorative Technique: Fluted Vessel Form: Form unspecified</p><p><a href=\"https://opencontext.org/media/9bbe31b5-0221-4248-2b60-ed6b1e18837f\">Link to full record</a></p></div>"
      ],
      "text/plain": [
       "<IPython.core.display.HTML object>"
      ]
     },
     "metadata": {},
     "output_type": "display_data"
    }
   ],
   "source": [
    "query = \"Something used by an astronaut\"\n",
    "display_similar_ideas(query)"
   ]
  },
  {
   "cell_type": "markdown",
   "id": "728172eb-6a0a-40cc-bad7-5ecaf8582c0c",
   "metadata": {},
   "source": [
    "# Assessment\n",
    "\n",
    "I'm not really impressed with the results of the \"idea\" queries. Maybe we over-fit the data when training?"
   ]
  },
  {
   "cell_type": "code",
   "execution_count": 12,
   "id": "46dd8ee5-9fb1-4565-b285-3b0d32b01a42",
   "metadata": {},
   "outputs": [
    {
     "data": {
      "text/html": [
       "<div>Search for images similar to:<br/><img src=\"../files/testing/0ace44d4-52f2-4ced-777f-563585c32172.jpg\" width=25% alt=\"Image not found\" /><p>----------------------------------</p><p><strong>Results Below</strong>:</p></div><div><img src=\"../files/testing/0ace44d4-52f2-4ced-777f-563585c32172.jpg\" width=25% alt=\"Image not found\"> <p><strong>ID:</strong> /home/ekansa/github/archaeology-images-ai/files/testing/0ace44d4-52f2-4ced-777f-563585c32172.jpg</p><p><strong>Score:</strong> 0.9999999999999619</p><p><strong>Caption:</strong> An image of an archaeological artifact found at Poggio Civitate, a place in Italy, within the Europe world region. This architectural element came from a context dating to around 700 BCE to 535 BCE so it was probably made then or earlier. It has a general classification of plaque;  plaques (flat objects) and mainly consists of terracotta;  terracotta;  terracotta (clay material). More descriptions include: Chronology: Securely Archaic Fragment Noted: true Fabric Category: Terracotta Motif: Banquet;  Guilloche Object Type: Architectural::Frieze Plaque Decorative Technique: Pierced</p><p><a href=\"https://opencontext.org/media/0ace44d4-52f2-4ced-777f-563585c32172\">Link to full record</a></p></div><div><img src=\"../files/training/5bb32b43-8842-4bbc-d06e-9f8ce873c1f6.jpg\" width=25% alt=\"Image not found\"> <p><strong>ID:</strong> /home/ekansa/github/archaeology-images-ai/files/testing/5bb32b43-8842-4bbc-d06e-9f8ce873c1f6.jpg</p><p><strong>Score:</strong> 0.9836132901987781</p><p><strong>Caption:</strong> An image of an archaeological artifact found at Poggio Civitate, a place in Italy, within the Europe world region. This architectural element came from a context dating to around 700 BCE to 535 BCE so it was probably made then or earlier. It has a general classification of plaque;  plaques (flat objects) and mainly consists of clay;  clay. More descriptions include: Chronology: Securely Archaic Fragment Noted: true Fabric Category: Clay Motif: Banquet;  Seated Figure Object Type: Architectural::Frieze Plaque Decorative Technique: Cavetto</p><p><a href=\"https://opencontext.org/media/5bb32b43-8842-4bbc-d06e-9f8ce873c1f6\">Link to full record</a></p></div><div><img src=\"../files/training/2ed5da81-602c-46ab-5a5d-e081dce93fd7.jpg\" width=25% alt=\"Image not found\"> <p><strong>ID:</strong> /home/ekansa/github/archaeology-images-ai/files/testing/2ed5da81-602c-46ab-5a5d-e081dce93fd7.jpg</p><p><strong>Score:</strong> 0.9833707639342564</p><p><strong>Caption:</strong> An image of an archaeological artifact found at Poggio Civitate, a place in Italy, within the Europe world region. This architectural element came from a context dating to around 700 BCE to 535 BCE so it was probably made then or earlier. It has a general classification of plaque;  plaques (flat objects) and mainly consists of clay;  clay. More descriptions include: Chronology: Securely Archaic Fragment Noted: true Fabric Category: Clay Motif: Banquet;  Female Object Type: Architectural::Frieze Plaque Decorative Technique: Cavetto</p><p><a href=\"https://opencontext.org/media/2ed5da81-602c-46ab-5a5d-e081dce93fd7\">Link to full record</a></p></div><div><img src=\"../files/training/10a54e36-3b52-4735-a7f0-5310ab55d375.jpg\" width=25% alt=\"Image not found\"> <p><strong>ID:</strong> /home/ekansa/github/archaeology-images-ai/files/testing/10a54e36-3b52-4735-a7f0-5310ab55d375.jpg</p><p><strong>Score:</strong> 0.9826699478692734</p><p><strong>Caption:</strong> An image of an archaeological artifact found at Poggio Civitate, a place in Italy, within the Europe world region. This architectural element came from a context dating to around 700 BCE to 535 BCE so it was probably made then or earlier. It has a general classification of plaque;  plaques (flat objects) and mainly consists of clay;  clay. More descriptions include: Chronology: Securely Archaic Fragment Noted: true Fabric Category: Clay Motif: Procession;  Female Object Type: Architectural::Frieze Plaque Decorative Technique: Cavetto</p><p><a href=\"https://opencontext.org/media/10a54e36-3b52-4735-a7f0-5310ab55d375\">Link to full record</a></p></div><div><img src=\"../files/training/96e12600-1a8e-42c5-2ac0-c20f6e583678.jpg\" width=25% alt=\"Image not found\"> <p><strong>ID:</strong> /home/ekansa/github/archaeology-images-ai/files/testing/96e12600-1a8e-42c5-2ac0-c20f6e583678.jpg</p><p><strong>Score:</strong> 0.9826699478692734</p><p><strong>Caption:</strong> An image of an archaeological artifact found at Poggio Civitate, a place in Italy, within the Europe world region. This architectural element came from a context dating to around 700 BCE to 535 BCE so it was probably made then or earlier. It has a general classification of plaque;  plaques (flat objects) and mainly consists of clay;  clay. More descriptions include: Chronology: Securely Archaic Fragment Noted: true Fabric Category: Clay Motif: Lotus;  Female;  Procession Object Type: Architectural::Frieze Plaque</p><p><a href=\"https://opencontext.org/media/96e12600-1a8e-42c5-2ac0-c20f6e583678\">Link to full record</a></p></div><div><img src=\"../files/training/047b5a4d-b76e-486f-485a-e18bb7d3d66e.jpg\" width=25% alt=\"Image not found\"> <p><strong>ID:</strong> /home/ekansa/github/archaeology-images-ai/files/testing/047b5a4d-b76e-486f-485a-e18bb7d3d66e.jpg</p><p><strong>Score:</strong> 0.9818745965207099</p><p><strong>Caption:</strong> An image of an archaeological artifact found at Poggio Civitate, a place in Italy, within the Europe world region. This architectural element came from a context dating to around 700 BCE to 535 BCE so it was probably made then or earlier. It has a general classification of plaque;  plaques (flat objects) and mainly consists of clay;  clay. More descriptions include: Chronology: Securely Archaic Fragment Noted: true Fabric Category: Clay Motif: Banquet;  Guilloche;  Female Object Type: Architectural::Frieze Plaque</p><p><a href=\"https://opencontext.org/media/047b5a4d-b76e-486f-485a-e18bb7d3d66e\">Link to full record</a></p></div><div><img src=\"../files/training/a2198536-a667-46cb-10b0-c00b83bbb47d.jpg\" width=25% alt=\"Image not found\"> <p><strong>ID:</strong> /home/ekansa/github/archaeology-images-ai/files/testing/a2198536-a667-46cb-10b0-c00b83bbb47d.jpg</p><p><strong>Score:</strong> 0.9816339788521137</p><p><strong>Caption:</strong> An image of an archaeological artifact found at Poggio Civitate, a place in Italy, within the Europe world region. This architectural element came from a context dating to around 700 BCE to 535 BCE so it was probably made then or earlier. It has a general classification of plaque;  plaques (flat objects) and mainly consists of clay;  clay. More descriptions include: Chronology: Securely Archaic Fragment Noted: true Fabric Category: Clay Motif: Banquet Object Type: Architectural::Frieze Plaque</p><p><a href=\"https://opencontext.org/media/a2198536-a667-46cb-10b0-c00b83bbb47d\">Link to full record</a></p></div><div><img src=\"../files/training/50453518-0ef9-428c-9cb1-1a8aa55e05bd.jpg\" width=25% alt=\"Image not found\"> <p><strong>ID:</strong> /home/ekansa/github/archaeology-images-ai/files/testing/50453518-0ef9-428c-9cb1-1a8aa55e05bd.jpg</p><p><strong>Score:</strong> 0.9809788006609457</p><p><strong>Caption:</strong> An image of an archaeological artifact found at Poggio Civitate, a place in Italy, within the Europe world region. This architectural element came from a context dating to around 700 BCE to 535 BCE so it was probably made then or earlier. It has a general classification of plaque;  plaques (flat objects) and mainly consists of clay;  clay. More descriptions include: Chronology: Securely Archaic Fragment Noted: true Fabric Category: Clay Motif: Banquet Object Type: Architectural::Frieze Plaque Decorative Technique: Painted</p><p><a href=\"https://opencontext.org/media/50453518-0ef9-428c-9cb1-1a8aa55e05bd\">Link to full record</a></p></div><div><img src=\"../files/training/143dbc18-8902-49d5-b96a-ade9ea4eaada.jpg\" width=25% alt=\"Image not found\"> <p><strong>ID:</strong> /home/ekansa/github/archaeology-images-ai/files/testing/143dbc18-8902-49d5-b96a-ade9ea4eaada.jpg</p><p><strong>Score:</strong> 0.9802051085787331</p><p><strong>Caption:</strong> An image of an archaeological artifact found at Poggio Civitate, a place in Italy, within the Europe world region. This architectural element came from a context dating to around 700 BCE to 535 BCE so it was probably made then or earlier. It has a general classification of plaque;  plaques (flat objects) and mainly consists of clay;  clay. More descriptions include: Chronology: Securely Archaic Fragment Noted: true Fabric Category: Clay Motif: Horse Race Object Type: Architectural::Frieze Plaque</p><p><a href=\"https://opencontext.org/media/143dbc18-8902-49d5-b96a-ade9ea4eaada\">Link to full record</a></p></div><div><img src=\"../files/training/06c1c978-93e7-4589-5539-88a6ffce6d40.jpg\" width=25% alt=\"Image not found\"> <p><strong>ID:</strong> /home/ekansa/github/archaeology-images-ai/files/testing/06c1c978-93e7-4589-5539-88a6ffce6d40.jpg</p><p><strong>Score:</strong> 0.9792208549046383</p><p><strong>Caption:</strong> An image of an archaeological artifact found at Poggio Civitate, a place in Italy, within the Europe world region. This architectural element came from a context dating to around 700 BCE to 535 BCE so it was probably made then or earlier. It has a general classification of plaque;  plaques (flat objects) and mainly consists of clay;  clay. More descriptions include: Chronology: Securely Archaic Fragment Noted: true Fabric Category: Clay Motif: Procession;  Guilloche Object Type: Architectural::Frieze Plaque</p><p><a href=\"https://opencontext.org/media/06c1c978-93e7-4589-5539-88a6ffce6d40\">Link to full record</a></p></div>"
      ],
      "text/plain": [
       "<IPython.core.display.HTML object>"
      ]
     },
     "metadata": {},
     "output_type": "display_data"
    }
   ],
   "source": [
    "query = \"/home/ekansa/github/archaeology-images-ai/files/testing/0ace44d4-52f2-4ced-777f-563585c32172.jpg\"\n",
    "display_similar_images(query)"
   ]
  },
  {
   "cell_type": "code",
   "execution_count": 15,
   "id": "11588893-0c2c-475a-9cde-cca1fb6a7172",
   "metadata": {},
   "outputs": [
    {
     "data": {
      "text/html": [
       "<div>Search for images similar to:<br/><img src=\"../files/testing/0ad70498-fc77-47ea-acc4-c31e5c5b5791.jpg\" width=25% alt=\"Image not found\" /><p>----------------------------------</p><p><strong>Results Below</strong>:</p></div><div><img src=\"../files/testing/0ad70498-fc77-47ea-acc4-c31e5c5b5791.jpg\" width=25% alt=\"Image not found\"> <p><strong>ID:</strong> /home/ekansa/github/archaeology-images-ai/files/testing/0ad70498-fc77-47ea-acc4-c31e5c5b5791.jpg</p><p><strong>Score:</strong> 0.9999999999999133</p><p><strong>Caption:</strong> An image of an archaeological artifact found at Poggio Civitate, a place in Italy, within the Europe world region. This object came from a context dating to around 700 BCE to 535 BCE so it was probably made then or earlier. It has a general classification of spools;  spool and mainly consists of bucchero ware;  bucchero. More descriptions include: Fragment Noted: false Fabric Category: Bucchero Object Type: Textile Related::Rocchetto Decorative Technique: Stamped Conservation Action: cleaned;  consolidated;  adhered Conservation Material: alcohol;  tap water;  acetone;  Acryloid B-72;  cellulose nitrate</p><p><a href=\"https://opencontext.org/media/0ad70498-fc77-47ea-acc4-c31e5c5b5791\">Link to full record</a></p></div><div><img src=\"../files/testing/5f934db0-6180-4a63-380e-71630029230c.jpg\" width=25% alt=\"Image not found\"> <p><strong>ID:</strong> /home/ekansa/github/archaeology-images-ai/files/testing/5f934db0-6180-4a63-380e-71630029230c.jpg</p><p><strong>Score:</strong> 0.9855270128874305</p><p><strong>Caption:</strong> An image of an archaeological artifact found at Poggio Civitate, a place in Italy, within the Europe world region. This object came from a context dating to around 700 BCE to 535 BCE so it was probably made then or earlier. It has a general classification of spools;  spool and mainly consists of pottery. More descriptions include: Fragment Noted: true Fabric Category: Impasto Motif: Quadruped Object Type: Textile Related::Rocchetto Decorative Technique: Stamped</p><p><a href=\"https://opencontext.org/media/5f934db0-6180-4a63-380e-71630029230c\">Link to full record</a></p></div><div><img src=\"../files/training/52375fbc-1003-4748-d92a-6f50e1dea775.jpg\" width=25% alt=\"Image not found\"> <p><strong>ID:</strong> /home/ekansa/github/archaeology-images-ai/files/testing/52375fbc-1003-4748-d92a-6f50e1dea775.jpg</p><p><strong>Score:</strong> 0.9831912648504864</p><p><strong>Caption:</strong> An image of an archaeological artifact found at Poggio Civitate, a place in Italy, within the Europe world region. This object came from a context dating to around 700 BCE to 535 BCE so it was probably made then or earlier. It has a general classification of spools;  spool and mainly consists of pottery. More descriptions include: Fragment Noted: false Fabric Category: Impasto Object Type: Textile Related::Rocchetto Decorative Technique: Incised Conservation Action: cleaned;  consolidated;  adhered Conservation Material: alcohol;  acetone;  tap water;  Acryloid B-72;  cellulose nitrate</p><p><a href=\"https://opencontext.org/media/52375fbc-1003-4748-d92a-6f50e1dea775\">Link to full record</a></p></div><div><img src=\"../files/training/1c402a3f-376c-41f7-1543-8fc3c16eecb1.jpg\" width=25% alt=\"Image not found\"> <p><strong>ID:</strong> /home/ekansa/github/archaeology-images-ai/files/testing/1c402a3f-376c-41f7-1543-8fc3c16eecb1.jpg</p><p><strong>Score:</strong> 0.982412345062675</p><p><strong>Caption:</strong> An image of an archaeological artifact found at Poggio Civitate, a place in Italy, within the Europe world region. This object came from a context dating to around 700 BCE to 535 BCE so it was probably made then or earlier. It has a general classification of spools;  spool and mainly consists of pottery. More descriptions include: Fragment Noted: true Fabric Category: Impasto Object Type: Textile Related::Rocchetto Conservation Action: cleaned Conservation Material: alcohol</p><p><a href=\"https://opencontext.org/media/1c402a3f-376c-41f7-1543-8fc3c16eecb1\">Link to full record</a></p></div><div><img src=\"../files/training/08e708e4-683e-4978-a820-5f4c4bba586f.jpg\" width=25% alt=\"Image not found\"> <p><strong>ID:</strong> /home/ekansa/github/archaeology-images-ai/files/testing/08e708e4-683e-4978-a820-5f4c4bba586f.jpg</p><p><strong>Score:</strong> 0.980352755147332</p><p><strong>Caption:</strong> An image of an archaeological artifact found at Poggio Civitate, a place in Italy, within the Europe world region. This object came from a context dating to around 700 BCE to 535 BCE so it was probably made then or earlier. It has a general classification of spools;  spool and mainly consists of pottery. More descriptions include: Fragment Noted: false Fabric Category: Impasto Object Type: Textile Related::Rocchetto</p><p><a href=\"https://opencontext.org/media/08e708e4-683e-4978-a820-5f4c4bba586f\">Link to full record</a></p></div><div><img src=\"../files/testing/652366ba-04bc-47ee-8a12-b648ef8af342.jpg\" width=25% alt=\"Image not found\"> <p><strong>ID:</strong> /home/ekansa/github/archaeology-images-ai/files/testing/652366ba-04bc-47ee-8a12-b648ef8af342.jpg</p><p><strong>Score:</strong> 0.9790776822916888</p><p><strong>Caption:</strong> An image of an archaeological artifact found at Poggio Civitate, a place in Italy, within the Europe world region. This object came from a context dating to around 700 BCE to 535 BCE so it was probably made then or earlier. It has a general classification of spools;  spool and mainly consists of pottery. More descriptions include: Fragment Noted: true Fabric Category: Impasto Motif: Dots Object Type: Textile Related::Rocchetto Decorative Technique: Impressed</p><p><a href=\"https://opencontext.org/media/652366ba-04bc-47ee-8a12-b648ef8af342\">Link to full record</a></p></div><div><img src=\"../files/training/fdc0b425-5173-4669-1749-925e7e2295c7.jpg\" width=25% alt=\"Image not found\"> <p><strong>ID:</strong> /home/ekansa/github/archaeology-images-ai/files/testing/fdc0b425-5173-4669-1749-925e7e2295c7.jpg</p><p><strong>Score:</strong> 0.9774833504180415</p><p><strong>Caption:</strong> An image of an archaeological artifact found at Poggio Civitate, a place in Italy, within the Europe world region. This object came from a context dating to around 700 BCE to 535 BCE so it was probably made then or earlier. It has a general classification of spools;  spool and mainly consists of pottery. More descriptions include: Fragment Noted: true Fabric Category: Impasto Object Type: Textile Related::Rocchetto</p><p><a href=\"https://opencontext.org/media/fdc0b425-5173-4669-1749-925e7e2295c7\">Link to full record</a></p></div><div><img src=\"../files/training/f9c3a05e-a24e-4341-6f98-1d4694876b6b.jpg\" width=25% alt=\"Image not found\"> <p><strong>ID:</strong> /home/ekansa/github/archaeology-images-ai/files/testing/f9c3a05e-a24e-4341-6f98-1d4694876b6b.jpg</p><p><strong>Score:</strong> 0.9773441111291297</p><p><strong>Caption:</strong> An image of an archaeological artifact found at Poggio Civitate, a place in Italy, within the Europe world region. This object came from a context dating to around 700 BCE to 535 BCE so it was probably made then or earlier. It has a general classification of spools;  spool and mainly consists of pottery. More descriptions include: Fragment Noted: false Fabric Category: Impasto Motif: Circles Object Type: Textile Related::Rocchetto Decorative Technique: Stamped</p><p><a href=\"https://opencontext.org/media/f9c3a05e-a24e-4341-6f98-1d4694876b6b\">Link to full record</a></p></div><div><img src=\"../files/training/e2970298-bc80-4909-804d-295c60c89b50.jpg\" width=25% alt=\"Image not found\"> <p><strong>ID:</strong> /home/ekansa/github/archaeology-images-ai/files/testing/e2970298-bc80-4909-804d-295c60c89b50.jpg</p><p><strong>Score:</strong> 0.9764066583192449</p><p><strong>Caption:</strong> An image of an archaeological artifact found at Poggio Civitate, a place in Italy, within the Europe world region. This object came from a context dating to around 700 BCE to 535 BCE so it was probably made then or earlier. It has a general classification of spools;  spool and mainly consists of pottery. More descriptions include: Fragment Noted: true Fabric Category: Impasto Motif: Quadruped Object Type: Textile Related::Rocchetto Decorative Technique: Stamped Conservation Action: cleaned;  buffed;  consolidated;  adhered Conservation Material: acetone;  Acryloid B-72</p><p><a href=\"https://opencontext.org/media/e2970298-bc80-4909-804d-295c60c89b50\">Link to full record</a></p></div><div><img src=\"../files/training/83aa16e5-0be0-4a15-1cad-d6532bc70789.jpg\" width=25% alt=\"Image not found\"> <p><strong>ID:</strong> /home/ekansa/github/archaeology-images-ai/files/testing/83aa16e5-0be0-4a15-1cad-d6532bc70789.jpg</p><p><strong>Score:</strong> 0.9759647731780908</p><p><strong>Caption:</strong> An image of an archaeological artifact found at Poggio Civitate, a place in Italy, within the Europe world region. This object came from a context dating to around 700 BCE to 535 BCE so it was probably made then or earlier. It has a general classification of spools;  spool and mainly consists of pottery. More descriptions include: Fragment Noted: false Fabric Category: Impasto Object Type: Textile Related::Rocchetto Conservation Action: cleaned Conservation Material: alcohol;  tap water</p><p><a href=\"https://opencontext.org/media/83aa16e5-0be0-4a15-1cad-d6532bc70789\">Link to full record</a></p></div>"
      ],
      "text/plain": [
       "<IPython.core.display.HTML object>"
      ]
     },
     "metadata": {},
     "output_type": "display_data"
    }
   ],
   "source": [
    "query = \"/home/ekansa/github/archaeology-images-ai/files/testing/0ad70498-fc77-47ea-acc4-c31e5c5b5791.jpg\"\n",
    "display_similar_images(query)"
   ]
  },
  {
   "cell_type": "code",
   "execution_count": 17,
   "id": "728000ff-1fea-4e5e-93a1-d082010961af",
   "metadata": {},
   "outputs": [
    {
     "data": {
      "text/html": [
       "<div>Search for images similar to:<br/><img src=\"../files/testing/1a62ff87-d9f4-47dd-aa55-c1fbb5d3f344.jpg\" width=25% alt=\"Image not found\" /><p>----------------------------------</p><p><strong>Results Below</strong>:</p></div><div><img src=\"../files/testing/1a62ff87-d9f4-47dd-aa55-c1fbb5d3f344.jpg\" width=25% alt=\"Image not found\"> <p><strong>ID:</strong> /home/ekansa/github/archaeology-images-ai/files/testing/1a62ff87-d9f4-47dd-aa55-c1fbb5d3f344.jpg</p><p><strong>Score:</strong> 0.9999999999998674</p><p><strong>Caption:</strong> An image of an archaeological artifact found at Tel Kedesh, a place in Israel, within the Asia world region. This object came from a context dating to around 200 BCE to 150 BCE so it was probably made then or earlier. It has a general classification of seals (marks). More descriptions include: Object Type: Bulla or sealing General type: Tyches Preservation of sealing: Fully preserved or intact Shape of sealing: Wide oval Preservation of impression: 3/4 preserved or intact Shape of impression: Wide oval Condition of impression: Fair</p><p><a href=\"https://opencontext.org/media/1a62ff87-d9f4-47dd-aa55-c1fbb5d3f344\">Link to full record</a></p></div><div><img src=\"../files/training/1fc8232f-116f-43f7-9663-89d959a746f4.jpg\" width=25% alt=\"Image not found\"> <p><strong>ID:</strong> /home/ekansa/github/archaeology-images-ai/files/testing/1fc8232f-116f-43f7-9663-89d959a746f4.jpg</p><p><strong>Score:</strong> 0.9255556025718323</p><p><strong>Caption:</strong> An image of an archaeological artifact found at Tel Kedesh, a place in Israel, within the Asia world region. This object came from a context dating to around 200 BCE to 150 BCE so it was probably made then or earlier. It has a general classification of seals (marks). More descriptions include: Object Type: Bulla or sealing General type: Helios Preservation of sealing: 3/4 preserved or intact Shape of sealing: Up-and-down oval Preservation of impression: 3/4 preserved or intact Shape of impression: Circular Condition of impression: Good</p><p><a href=\"https://opencontext.org/media/1fc8232f-116f-43f7-9663-89d959a746f4\">Link to full record</a></p></div><div><img src=\"../files/training/f9beb752-1a58-4f96-8eb0-ff8df672c2eb.jpg\" width=25% alt=\"Image not found\"> <p><strong>ID:</strong> /home/ekansa/github/archaeology-images-ai/files/testing/f9beb752-1a58-4f96-8eb0-ff8df672c2eb.jpg</p><p><strong>Score:</strong> 0.9244689285647507</p><p><strong>Caption:</strong> An image of an archaeological artifact found at Tel Kedesh, a place in Israel, within the Asia world region. This object came from a context dating to around 200 BCE to 150 BCE so it was probably made then or earlier. It has a general classification of seals (marks). More descriptions include: Object Type: Bulla or sealing General type: Misc Specific type: Achilles Preservation of sealing: Fully preserved or intact Shape of sealing: Up-and-down oval Preservation of impression: Fully preserved or intact Shape of impression: Up-and-down oval Condition of impression: Excellent</p><p><a href=\"https://opencontext.org/media/f9beb752-1a58-4f96-8eb0-ff8df672c2eb\">Link to full record</a></p></div><div><img src=\"../files/training/aff004ea-c50c-48c4-9cb9-36480ac54265.jpg\" width=25% alt=\"Image not found\"> <p><strong>ID:</strong> /home/ekansa/github/archaeology-images-ai/files/testing/aff004ea-c50c-48c4-9cb9-36480ac54265.jpg</p><p><strong>Score:</strong> 0.9204828468570302</p><p><strong>Caption:</strong> An image of an archaeological artifact found at Tel Kedesh, a place in Israel, within the Asia world region. This object came from a context dating to around 200 BCE to 150 BCE so it was probably made then or earlier. It has a general classification of seals (marks). More descriptions include: Object Type: Bulla or sealing General type: Zeus Preservation of sealing: Fully preserved or intact Shape of sealing: Up-and-down oval Preservation of impression: 3/4 preserved or intact Shape of impression: Up-and-down oval Condition of impression: Poor</p><p><a href=\"https://opencontext.org/media/aff004ea-c50c-48c4-9cb9-36480ac54265\">Link to full record</a></p></div><div><img src=\"../files/training/584d1ee1-25e5-42f2-9d7c-694beebcf521.jpg\" width=25% alt=\"Image not found\"> <p><strong>ID:</strong> /home/ekansa/github/archaeology-images-ai/files/testing/584d1ee1-25e5-42f2-9d7c-694beebcf521.jpg</p><p><strong>Score:</strong> 0.9199318690804384</p><p><strong>Caption:</strong> An image of an archaeological artifact found at Tel Kedesh, a place in Israel, within the Asia world region. This object came from a context dating to around 200 BCE to 150 BCE so it was probably made then or earlier. It has a general classification of seals (marks). More descriptions include: Object Type: Bulla or sealing General type: Zeus Preservation of sealing: 3/4 preserved or intact Shape of sealing: Up-and-down oval Preservation of impression: 3/4 preserved or intact Shape of impression: Up-and-down oval Condition of impression: Good</p><p><a href=\"https://opencontext.org/media/584d1ee1-25e5-42f2-9d7c-694beebcf521\">Link to full record</a></p></div><div><img src=\"../files/training/7d18ff1d-1677-47f1-abbe-e5a48ddf1d4f.jpg\" width=25% alt=\"Image not found\"> <p><strong>ID:</strong> /home/ekansa/github/archaeology-images-ai/files/testing/7d18ff1d-1677-47f1-abbe-e5a48ddf1d4f.jpg</p><p><strong>Score:</strong> 0.9190247531455736</p><p><strong>Caption:</strong> An image of an archaeological artifact found at Tel Kedesh, a place in Israel, within the Asia world region. This object came from a context dating to around 200 BCE to 150 BCE so it was probably made then or earlier. It has a general classification of seals (marks). More descriptions include: Object Type: Bulla or sealing General type: Nike Preservation of sealing: 1/2 preserved or intact Shape of sealing: Irregular Preservation of impression: Fully preserved or intact Shape of impression: Up-and-down oval Condition of impression: Excellent</p><p><a href=\"https://opencontext.org/media/7d18ff1d-1677-47f1-abbe-e5a48ddf1d4f\">Link to full record</a></p></div><div><img src=\"../files/training/633473b7-4db5-43e0-a814-ab1480218bb2.jpg\" width=25% alt=\"Image not found\"> <p><strong>ID:</strong> /home/ekansa/github/archaeology-images-ai/files/testing/633473b7-4db5-43e0-a814-ab1480218bb2.jpg</p><p><strong>Score:</strong> 0.9187415860548379</p><p><strong>Caption:</strong> An image of an archaeological artifact found at Tel Kedesh, a place in Israel, within the Asia world region. This object came from a context dating to around 200 BCE to 150 BCE so it was probably made then or earlier. It has a general classification of seals (marks). More descriptions include: Object Type: Bulla or sealing General type: Athenas Preservation of sealing: 3/4 preserved or intact Shape of sealing: Up-and-down rectangular Preservation of impression: 3/4 preserved or intact Shape of impression: Up-and-down oval Condition of impression: Good</p><p><a href=\"https://opencontext.org/media/633473b7-4db5-43e0-a814-ab1480218bb2\">Link to full record</a></p></div><div><img src=\"../files/testing/64d1690d-9ff0-48c7-a99d-46fcc4003aec.jpg\" width=25% alt=\"Image not found\"> <p><strong>ID:</strong> /home/ekansa/github/archaeology-images-ai/files/testing/64d1690d-9ff0-48c7-a99d-46fcc4003aec.jpg</p><p><strong>Score:</strong> 0.9185157194105802</p><p><strong>Caption:</strong> An image of an archaeological artifact found at Tel Kedesh, a place in Israel, within the Asia world region. This object came from a context dating to around 200 BCE to 150 BCE so it was probably made then or earlier. It has a general classification of seals (marks). More descriptions include: Object Type: Bulla or sealing General type: Animals Specific type: Animals, Insects Preservation of sealing: Fully preserved or intact Shape of sealing: Up-and-down oval Preservation of impression: 1/2 preserved or intact Shape of impression: Up-and-down oval Condition of impression: Fair</p><p><a href=\"https://opencontext.org/media/64d1690d-9ff0-48c7-a99d-46fcc4003aec\">Link to full record</a></p></div><div><img src=\"../files/training/6bff28de-02c1-4d1c-9c7c-a167e2ba8f8a.jpg\" width=25% alt=\"Image not found\"> <p><strong>ID:</strong> /home/ekansa/github/archaeology-images-ai/files/testing/6bff28de-02c1-4d1c-9c7c-a167e2ba8f8a.jpg</p><p><strong>Score:</strong> 0.9169839684268669</p><p><strong>Caption:</strong> An image of an archaeological artifact found at Tel Kedesh, a place in Israel, within the Asia world region. This object came from a context dating to around 200 BCE to 150 BCE so it was probably made then or earlier. It has a general classification of seals (marks). More descriptions include: Object Type: Bulla or sealing General type: Animals Specific type: Animals, Insects Preservation of sealing: Fully preserved or intact Shape of sealing: Up-and-down oval Preservation of impression: Fully preserved or intact Shape of impression: Up-and-down oval Condition of impression: Good</p><p><a href=\"https://opencontext.org/media/6bff28de-02c1-4d1c-9c7c-a167e2ba8f8a\">Link to full record</a></p></div><div><img src=\"../files/training/aa27215d-9df1-4acf-846b-4025b891d83c.jpg\" width=25% alt=\"Image not found\"> <p><strong>ID:</strong> /home/ekansa/github/archaeology-images-ai/files/testing/aa27215d-9df1-4acf-846b-4025b891d83c.jpg</p><p><strong>Score:</strong> 0.9156101823560268</p><p><strong>Caption:</strong> An image of an archaeological artifact found at Tel Kedesh, a place in Israel, within the Asia world region. This object came from a context dating to around 200 BCE to 150 BCE so it was probably made then or earlier. It has a general classification of seals (marks). More descriptions include: Object Type: Bulla or sealing General type: Misc Specific type: Lykourgos Preservation of sealing: Fully preserved or intact Shape of sealing: Wide oval Preservation of impression: 3/4 preserved or intact Shape of impression: Up-and-down oval Condition of impression: Good</p><p><a href=\"https://opencontext.org/media/aa27215d-9df1-4acf-846b-4025b891d83c\">Link to full record</a></p></div>"
      ],
      "text/plain": [
       "<IPython.core.display.HTML object>"
      ]
     },
     "metadata": {},
     "output_type": "display_data"
    }
   ],
   "source": [
    "query = \"/home/ekansa/github/archaeology-images-ai/files/testing/1a62ff87-d9f4-47dd-aa55-c1fbb5d3f344.jpg\"\n",
    "display_similar_images(query)"
   ]
  },
  {
   "cell_type": "code",
   "execution_count": null,
   "id": "fc9c2a05-30c3-4944-88e8-9e2c9c623124",
   "metadata": {},
   "outputs": [],
   "source": []
  }
 ],
 "metadata": {
  "kernelspec": {
   "display_name": "Python 3 (ipykernel)",
   "language": "python",
   "name": "python3"
  },
  "language_info": {
   "codemirror_mode": {
    "name": "ipython",
    "version": 3
   },
   "file_extension": ".py",
   "mimetype": "text/x-python",
   "name": "python",
   "nbconvert_exporter": "python",
   "pygments_lexer": "ipython3",
   "version": "3.11.5"
  }
 },
 "nbformat": 4,
 "nbformat_minor": 5
}
