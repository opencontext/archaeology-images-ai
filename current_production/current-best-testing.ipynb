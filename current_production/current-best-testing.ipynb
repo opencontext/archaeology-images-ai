{
 "cells": [
  {
   "cell_type": "markdown",
   "id": "5759bf85-7621-4ad3-9d56-22f8621f6a86",
   "metadata": {},
   "source": [
    "## LLM Clip\n",
    "\n",
    "https://github.com/simonw/llm-clip\n",
    "requires LLM: https://llm.datasette.io/en/stable/\n",
    "\n",
    "```\n",
    "$ pip install llm\n",
    "$ llm install llm-clip\n",
    "```\n",
    "\n",
    "Then, assuming you are doing this in an environment (I create mine with conda), find the site packages directory, and the **llm_clip.py** file. `archaeology-images-ai/.venv/lib/python3.11/site-packages/llm_clip.py` is where mine hides.\n",
    "\n",
    "For convenience, it would be nice to easily change models used in testing. For instance, you may have multiple models developed with different training data and different training parameters. For this reason, we should make a modification to the  **llm_clip.py**, by first adding to the top of the file this line:\n",
    "\n",
    "```python\n",
    "import os\n",
    "```\n",
    "\n",
    "And then alter this function to check to see if a `LLM_CLIP_MODEL_PATH` environment variable has been specified, and if so, use that:\n",
    "le."
   ]
  },
  {
   "cell_type": "markdown",
   "id": "e48d555d-fae6-447a-8b3e-dc1a34d49faf",
   "metadata": {},
   "source": [
    "```python\n",
    "def embed_batch(self, items):\n",
    "    # Embeds a mix of text strings and binary images\n",
    "    model_to_use = os.getenv('LLM_CLIP_MODEL_PATH', 'clip-ViT-B-32')\n",
    "    # Now set the model, either from the env varaible or the default clip.\n",
    "    if self._model is None:\n",
    "        self._model = SentenceTransformer(model_to_use)\n",
    "```"
   ]
  },
  {
   "cell_type": "markdown",
   "id": "3b8ae79c-9b7d-4608-a261-3919e0d2863c",
   "metadata": {},
   "source": [
    "This should give some more flexibility in switching between different models to use with llm-clip."
   ]
  },
  {
   "cell_type": "code",
   "execution_count": 1,
   "id": "1ad57cdc-eb57-45e5-9190-272cab9c5cba",
   "metadata": {},
   "outputs": [],
   "source": [
    "import os\n",
    "import requests\n",
    "\n",
    "REPO_PATH = os.path.dirname(os.path.abspath(os.getcwd()))\n",
    "\n",
    "# We will need files from:\n",
    "# https://huggingface.co/sentence-transformers/clip-ViT-B-32/tree/main\n",
    "# But since there's no clear license for these, we can't put them into source control in this repo.\n",
    "# So we'll need to download them at run time and store in a folder that's ignored by git.\n",
    "CLIP_FILE_WEB_ROOT = 'https://huggingface.co/sentence-transformers/clip-ViT-B-32/resolve/main'\n",
    "REQUIRED_CLIP_FILES = [\n",
    "    (None, 'config_sentence_transformers.json',),\n",
    "    (None, 'modules.json'),\n",
    "    ('0_CLIPModel', 'merges.txt', ),\n",
    "    ('0_CLIPModel', 'preprocessor_config.json', ),\n",
    "    ('0_CLIPModel', 'special_tokens_map.json', ),\n",
    "    ('0_CLIPModel', 'tokenizer_config.json', ),\n",
    "    ('0_CLIPModel', 'vocab.json', ),\n",
    "]\n",
    "\n",
    "def get_required_clip_files(use_model_path):\n",
    "    \"\"\"Populates the use_model directory with the needed CLIP files via\n",
    "    Web requests from Hugging Face\n",
    "    \"\"\"\n",
    "    for sub_dir, filename in REQUIRED_CLIP_FILES:\n",
    "        if sub_dir:\n",
    "            filepath =  os.path.join(use_model_path, sub_dir, filename)\n",
    "            file_url = f'{CLIP_FILE_WEB_ROOT}/{sub_dir}/{filename}'\n",
    "        else:\n",
    "            filepath =  os.path.join(use_model_path, filename)\n",
    "            file_url = f'{CLIP_FILE_WEB_ROOT}/{filename}'\n",
    "        if os.path.exists(filepath):\n",
    "            # We already have this file, no need to download it again.\n",
    "            continue\n",
    "        print(f'Get needed CLIP file from {file_url}')\n",
    "        r = requests.get(file_url)  \n",
    "        with open(filepath, 'wb') as fd:\n",
    "            fd.write(r.content)\n",
    "\n",
    "def move_results_data_into_use_model(results_path, use_model_path):\n",
    "    \"\"\"Moves the results data to the correct place for the use_mode\"\"\"\n",
    "    clip_path =  os.path.join(use_model_path, '0_CLIPModel')\n",
    "    os.makedirs(clip_path, exist_ok=True)\n",
    "    files = ['pytorch_model.bin', 'config.json',]\n",
    "    for file in files:\n",
    "        source_path = os.path.join(results_path, file)\n",
    "        use_path = os.path.join(clip_path, file)\n",
    "        if os.path.exists(use_path):\n",
    "            # nothing to do, we already have the expected\n",
    "            # file in the correct place\n",
    "            continue\n",
    "        os.rename(source_path, use_path)\n",
    "        print(f'Moved {file} to {use_path}')\n",
    "\n",
    "\n",
    "def prepare_usable_model_from_fine_tuned_results(results_path, use_model_dir='fine_tuned_model'):\n",
    "    use_model_path =  os.path.join(results_path, use_model_dir)\n",
    "    # Make sure we have a directory for our overall model\n",
    "    os.makedirs(use_model_path, exist_ok=True)\n",
    "    # Now make sure that overall model has a directory called 0_CLIPModel\n",
    "    clip_path =  os.path.join(use_model_path, '0_CLIPModel')\n",
    "    os.makedirs(clip_path, exist_ok=True)\n",
    "    # Make sure we have all the needed files.\n",
    "    get_required_clip_files(use_model_path)\n",
    "    # Make sure our results data is in the correct place.\n",
    "    move_results_data_into_use_model(results_path, use_model_path)\n",
    "    return use_model_path\n",
    "    "
   ]
  },
  {
   "cell_type": "code",
   "execution_count": 2,
   "id": "751c7d5d-1371-4ee2-92ad-82ff84b74202",
   "metadata": {},
   "outputs": [
    {
     "name": "stdout",
     "output_type": "stream",
     "text": [
      "Get needed CLIP file from https://huggingface.co/sentence-transformers/clip-ViT-B-32/resolve/main/config_sentence_transformers.json\n",
      "Get needed CLIP file from https://huggingface.co/sentence-transformers/clip-ViT-B-32/resolve/main/modules.json\n",
      "Get needed CLIP file from https://huggingface.co/sentence-transformers/clip-ViT-B-32/resolve/main/0_CLIPModel/merges.txt\n",
      "Get needed CLIP file from https://huggingface.co/sentence-transformers/clip-ViT-B-32/resolve/main/0_CLIPModel/preprocessor_config.json\n",
      "Get needed CLIP file from https://huggingface.co/sentence-transformers/clip-ViT-B-32/resolve/main/0_CLIPModel/special_tokens_map.json\n",
      "Get needed CLIP file from https://huggingface.co/sentence-transformers/clip-ViT-B-32/resolve/main/0_CLIPModel/tokenizer_config.json\n",
      "Get needed CLIP file from https://huggingface.co/sentence-transformers/clip-ViT-B-32/resolve/main/0_CLIPModel/vocab.json\n",
      "Moved pytorch_model.bin to /home/ekansa/github/archaeology-images-ai/results/fine_tuned_model/0_CLIPModel/pytorch_model.bin\n",
      "Moved config.json to /home/ekansa/github/archaeology-images-ai/results/fine_tuned_model/0_CLIPModel/config.json\n",
      "Using the model here: /home/ekansa/github/archaeology-images-ai/results/fine_tuned_model\n"
     ]
    }
   ],
   "source": [
    "import os\n",
    "\n",
    "repo_path = os.path.dirname(os.path.abspath(os.getcwd()))\n",
    "results_path = os.path.join(REPO_PATH, 'results')\n",
    "# Set up our model for use\n",
    "# model_name = 'fine_tuned_model_v9'\n",
    "model_name = None\n",
    "if model_name:\n",
    "    use_model_path = os.path.join(repo_path, 'results', model_name)\n",
    "else:\n",
    "    use_model_path = prepare_usable_model_from_fine_tuned_results(results_path)\n",
    "os.environ['LLM_CLIP_MODEL_PATH'] = use_model_path\n",
    "\n",
    "print(f'Using the model here: {os.getenv(\"LLM_CLIP_MODEL_PATH\")}')\n",
    "\n",
    "train_files = os.path.join(repo_path, 'files', 'training')\n",
    "test_files = os.path.join(repo_path, 'files', 'testing')\n"
   ]
  },
  {
   "cell_type": "code",
   "execution_count": 3,
   "id": "dbb89cbf-0a93-4595-9065-e46e5f3e6700",
   "metadata": {},
   "outputs": [
    {
     "name": "stdout",
     "output_type": "stream",
     "text": [
      "\u001b[?25lEmbedding  [####################################]  100%          \u001b[?25h\n",
      "\u001b[?25lEmbedding  [####################################]  100%          \u001b[?25h\n"
     ]
    }
   ],
   "source": [
    "# Load delete any prior embeddings from earlier attempts\n",
    "!llm collections delete photos\n",
    "# Load the test images into embeddings...\n",
    "!llm embed-multi photos --files {train_files} '*.jpg' --binary -m clip\n",
    "# Load the test images into embeddings...\n",
    "!llm embed-multi photos --files {test_files} '*.jpg' --binary -m clip"
   ]
  },
  {
   "cell_type": "code",
   "execution_count": 4,
   "id": "e507d6ff-4977-4c7c-b6d1-0dcd4099e592",
   "metadata": {},
   "outputs": [],
   "source": [
    "# functions to look up images and captions from the results of llm search\n",
    "import subprocess\n",
    "import json\n",
    "import IPython.display as display\n",
    "import pandas as pd\n",
    "\n",
    "def setup_uuid_keyed_image_metadata(IMAGE_METADATA):\n",
    "    \"\"\"Reads the json file and retrieves the metadata for the given image ids\"\"\"\n",
    "    data_path = os.path.join(REPO_PATH, 'json_data', 'artifact_images_w_sentence_captions.json')\n",
    "    df = pd.read_json(data_path)\n",
    "    for _, row in df.iterrows():\n",
    "        if not row['caption']:\n",
    "            continue\n",
    "        uuid = str(row['media__uuid'])\n",
    "        caption = row['caption']\n",
    "        IMAGE_METADATA[uuid] = caption\n",
    "    return IMAGE_METADATA\n",
    "\n",
    "# Setup the image metadata.\n",
    "IMAGE_METADATA = {}\n",
    "IMAGE_METADATA = setup_uuid_keyed_image_metadata(IMAGE_METADATA)\n",
    "\n",
    "def get_similar_ideas(query):\n",
    "    # Construct the command\n",
    "    cmd = f'llm similar photos -c \"{query}\"'\n",
    "    \n",
    "    # Execute the command and retrieve its output\n",
    "    output = subprocess.check_output(cmd, shell=True)\n",
    "    \n",
    "    # Since the output is a bytes object, decode it to convert it to a string\n",
    "    output_str = output.decode()\n",
    "    \n",
    "    # Split the output by lines and parse each line as JSON\n",
    "    results = [json.loads(line) for line in output_str.split('\\n') if line.strip()]\n",
    "    \n",
    "    # Return the parsed output\n",
    "    return results\n",
    "\n",
    "def get_similar_images(query):\n",
    "    # Construct the command\n",
    "    cmd = f'llm similar photos -i \"{query}\" --binary'\n",
    " \n",
    "    # Execute the command and retrieve its output\n",
    "    output = subprocess.check_output(cmd, shell=True)\n",
    "    \n",
    "    # Since the output is a bytes object, decode it to convert it to a string\n",
    "    output_str = output.decode()\n",
    "    \n",
    "    # Split the output by lines and parse each line as JSON\n",
    "    results = [json.loads(line) for line in output_str.split('\\n') if line.strip()]\n",
    "    \n",
    "    # Return the parsed output\n",
    "    return results\n",
    "\n",
    "def display_similar_ideas(query, metadata=IMAGE_METADATA):\n",
    "    \"Fetches similar ideas using the llm package and displays them with captions\"\n",
    "    similar_images = get_similar_ideas(query)\n",
    "    training_file_path = os.path.join(REPO_PATH, 'files', 'training')\n",
    "    testing_file_path = os.path.join(REPO_PATH, 'files', 'testing')\n",
    "    html_str = ''\n",
    "    for img in similar_images:\n",
    "        score = img['score']\n",
    "        image_id = os.path.join(testing_file_path, img['id'])\n",
    "        if os.path.exists(image_id):\n",
    "            src = f\"../files/testing/{ img['id']}\"  # located in our repo, but under git version control\n",
    "        else:\n",
    "            src = f\"../files/training/{ img['id']}\"  # Experimenting with embeddings from our training set\n",
    "        uuid = img['id'].split('.')[0]  # This will remove the '.jpg' from the image id\n",
    "        caption = metadata.get(uuid, uuid)\n",
    "        url = f\"https://opencontext.org/media/{uuid}\"  # Create the URL by concatenating the base URL and the image id (without 'testing/' and '.jpg')\n",
    "        html_str += f'<div><img src=\"{src}\" width=25% alt=\"Image not found\"> <p><strong>ID:</strong> {image_id}</p><p><strong>Score:</strong> {score}</p><p><strong>Caption:</strong> {caption}</p><p><a href=\"{url}\">Link to full record</a></p></div>'\n",
    "    display.display(display.HTML(html_str))\n",
    "\n",
    "def display_similar_images(query, metadata=IMAGE_METADATA):\n",
    "    \"Fetches similar ideas using the llm package and displays them with captions\"\n",
    "    similar_images = get_similar_images(query)\n",
    "    training_file_path = os.path.join(REPO_PATH, 'files', 'training')\n",
    "    testing_file_path = os.path.join(REPO_PATH, 'files', 'testing')\n",
    "    html_str = ''\n",
    "    if '/files/' in query:\n",
    "        q_file = query.split('/files/')[-1]\n",
    "        q_src = f\"../files/{ q_file}\"\n",
    "        html_str += f'<div>Search for images similar to:<br/><img src=\"{q_src}\" width=25% alt=\"Image not found\" /><p>----------------------------------</p>'\n",
    "        html_str += '<p><strong>Results Below</strong>:</p></div>'\n",
    "    for img in similar_images:\n",
    "        score = img['score']\n",
    "        image_id = os.path.join(testing_file_path, img['id'])\n",
    "        if os.path.exists(image_id):\n",
    "            src = f\"../files/testing/{ img['id']}\"  # located in our repo, but under git version control\n",
    "        else:\n",
    "            src = f\"../files/training/{ img['id']}\"  # Experimenting with embeddings from our training set\n",
    "        uuid = img['id'].split('.')[0]  # This will remove the '.jpg' from the image id\n",
    "        url = f\"https://opencontext.org/media/{uuid}\"\n",
    "        caption = metadata.get(uuid, uuid)        \n",
    "        html_str += f'<div><img src=\"{src}\" width=25% alt=\"Image not found\"> <p><strong>ID:</strong> {image_id}</p><p><strong>Score:</strong> {score}</p><p><strong>Caption:</strong> {caption}</p><p><a href=\"{url}\">Link to full record</a></p></div>'\n",
    "    display.display(display.HTML(html_str))"
   ]
  },
  {
   "cell_type": "code",
   "execution_count": 5,
   "id": "0dd6de70-8548-4422-a54f-414b35027976",
   "metadata": {},
   "outputs": [
    {
     "data": {
      "text/html": [
       "<div><img src=\"../files/testing/cac81993-85dd-41b9-c85d-bf73fbc73726.jpg\" width=25% alt=\"Image not found\"> <p><strong>ID:</strong> /home/ekansa/github/archaeology-images-ai/files/testing/cac81993-85dd-41b9-c85d-bf73fbc73726.jpg</p><p><strong>Score:</strong> 0.32025102440612946</p><p><strong>Caption:</strong> cac81993-85dd-41b9-c85d-bf73fbc73726</p><p><a href=\"https://opencontext.org/media/cac81993-85dd-41b9-c85d-bf73fbc73726\">Link to full record</a></p></div><div><img src=\"../files/testing/a23de0f4-e3cb-4e5b-9340-c4627490482b.jpg\" width=25% alt=\"Image not found\"> <p><strong>ID:</strong> /home/ekansa/github/archaeology-images-ai/files/testing/a23de0f4-e3cb-4e5b-9340-c4627490482b.jpg</p><p><strong>Score:</strong> 0.31144087959672884</p><p><strong>Caption:</strong> An image of an archaeological artifact found at Tell en-Nasbeh, a place in Palestinian Authority, within the Asia world region. The artifact has a general classification of figurines and mainly consists of ceramic (material). Additional descriptions for the artifact include: Condition: Good \n",
       " Category Type: Ceramic \n",
       " Material: Ceramic \n",
       " Subcatagory: Ceramic -- Figurine \n",
       " Decoration: Incised;  Excised \n",
       " Completeness: Fragment \n",
       " Manufacture: Handmade</p><p><a href=\"https://opencontext.org/media/a23de0f4-e3cb-4e5b-9340-c4627490482b\">Link to full record</a></p></div><div><img src=\"../files/training/676d1225-976e-44aa-0983-6a683f2138cf.jpg\" width=25% alt=\"Image not found\"> <p><strong>ID:</strong> /home/ekansa/github/archaeology-images-ai/files/testing/676d1225-976e-44aa-0983-6a683f2138cf.jpg</p><p><strong>Score:</strong> 0.31093173299280646</p><p><strong>Caption:</strong> 676d1225-976e-44aa-0983-6a683f2138cf</p><p><a href=\"https://opencontext.org/media/676d1225-976e-44aa-0983-6a683f2138cf\">Link to full record</a></p></div><div><img src=\"../files/training/9a18eb19-756a-4c3a-9f91-15d725fe1f42.jpg\" width=25% alt=\"Image not found\"> <p><strong>ID:</strong> /home/ekansa/github/archaeology-images-ai/files/testing/9a18eb19-756a-4c3a-9f91-15d725fe1f42.jpg</p><p><strong>Score:</strong> 0.3076325295709167</p><p><strong>Caption:</strong> 9a18eb19-756a-4c3a-9f91-15d725fe1f42</p><p><a href=\"https://opencontext.org/media/9a18eb19-756a-4c3a-9f91-15d725fe1f42\">Link to full record</a></p></div><div><img src=\"../files/training/134b18d2-7fb6-4922-b954-fe33653c639f.jpg\" width=25% alt=\"Image not found\"> <p><strong>ID:</strong> /home/ekansa/github/archaeology-images-ai/files/testing/134b18d2-7fb6-4922-b954-fe33653c639f.jpg</p><p><strong>Score:</strong> 0.30562040004517216</p><p><strong>Caption:</strong> 134b18d2-7fb6-4922-b954-fe33653c639f</p><p><a href=\"https://opencontext.org/media/134b18d2-7fb6-4922-b954-fe33653c639f\">Link to full record</a></p></div><div><img src=\"../files/training/f40252f6-9517-45b8-a689-8e0bef2c2efe.jpg\" width=25% alt=\"Image not found\"> <p><strong>ID:</strong> /home/ekansa/github/archaeology-images-ai/files/testing/f40252f6-9517-45b8-a689-8e0bef2c2efe.jpg</p><p><strong>Score:</strong> 0.3052077197413898</p><p><strong>Caption:</strong> An image of an archaeological artifact found at Tell en-Nasbeh, a place in Palestinian Authority, within the Asia world region. The artifact has a general classification of vessels (containers) and mainly consists of ceramic (material). Additional descriptions for the artifact include: Condition: Good \n",
       " Category Type: Ceramic \n",
       " Material: Ceramic \n",
       " Subcatagory: Ceramic -- Vessel \n",
       " Decoration: Incised;  Excised \n",
       " Completeness: Fragment \n",
       " Manufacture: Handmade</p><p><a href=\"https://opencontext.org/media/f40252f6-9517-45b8-a689-8e0bef2c2efe\">Link to full record</a></p></div><div><img src=\"../files/training/e44d44e0-1966-4a6c-24c2-4f5dba3658a7.jpg\" width=25% alt=\"Image not found\"> <p><strong>ID:</strong> /home/ekansa/github/archaeology-images-ai/files/testing/e44d44e0-1966-4a6c-24c2-4f5dba3658a7.jpg</p><p><strong>Score:</strong> 0.30340116409869045</p><p><strong>Caption:</strong> e44d44e0-1966-4a6c-24c2-4f5dba3658a7</p><p><a href=\"https://opencontext.org/media/e44d44e0-1966-4a6c-24c2-4f5dba3658a7\">Link to full record</a></p></div><div><img src=\"../files/testing/86e6e1af-8597-496e-c3b9-7c263b6cee8f.jpg\" width=25% alt=\"Image not found\"> <p><strong>ID:</strong> /home/ekansa/github/archaeology-images-ai/files/testing/86e6e1af-8597-496e-c3b9-7c263b6cee8f.jpg</p><p><strong>Score:</strong> 0.30275325923394986</p><p><strong>Caption:</strong> 86e6e1af-8597-496e-c3b9-7c263b6cee8f</p><p><a href=\"https://opencontext.org/media/86e6e1af-8597-496e-c3b9-7c263b6cee8f\">Link to full record</a></p></div><div><img src=\"../files/training/8e7d66b8-d8eb-45b6-6185-b8d0f76dd673.jpg\" width=25% alt=\"Image not found\"> <p><strong>ID:</strong> /home/ekansa/github/archaeology-images-ai/files/testing/8e7d66b8-d8eb-45b6-6185-b8d0f76dd673.jpg</p><p><strong>Score:</strong> 0.3023720765556989</p><p><strong>Caption:</strong> 8e7d66b8-d8eb-45b6-6185-b8d0f76dd673</p><p><a href=\"https://opencontext.org/media/8e7d66b8-d8eb-45b6-6185-b8d0f76dd673\">Link to full record</a></p></div><div><img src=\"../files/training/09feb9ec-df69-48e2-82b4-e799950d6723.jpg\" width=25% alt=\"Image not found\"> <p><strong>ID:</strong> /home/ekansa/github/archaeology-images-ai/files/testing/09feb9ec-df69-48e2-82b4-e799950d6723.jpg</p><p><strong>Score:</strong> 0.3021509801486277</p><p><strong>Caption:</strong> An image of an archaeological artifact found at Tell en-Nasbeh, a place in Palestinian Authority, within the Asia world region. The artifact has a general classification of vessels (containers) and mainly consists of ceramic (material). Additional descriptions for the artifact include: Condition: Good \n",
       " Category Type: Ceramic \n",
       " Material: Ceramic \n",
       " Subcatagory: Ceramic -- Vessel \n",
       " Decoration: Incised;  Excised \n",
       " Completeness: Fragment \n",
       " Manufacture: Wheel made</p><p><a href=\"https://opencontext.org/media/09feb9ec-df69-48e2-82b4-e799950d6723\">Link to full record</a></p></div>"
      ],
      "text/plain": [
       "<IPython.core.display.HTML object>"
      ]
     },
     "metadata": {},
     "output_type": "display_data"
    }
   ],
   "source": [
    "query = \"A clay tablet with incisions\"\n",
    "display_similar_ideas(query)"
   ]
  },
  {
   "cell_type": "code",
   "execution_count": 6,
   "id": "3aedffa5-f94e-4f09-858f-d3941e3f8168",
   "metadata": {},
   "outputs": [
    {
     "data": {
      "text/html": [
       "<div><img src=\"../files/training/83ff06fd-3ec0-468c-d1a8-0b6c96fb961b.jpg\" width=25% alt=\"Image not found\"> <p><strong>ID:</strong> /home/ekansa/github/archaeology-images-ai/files/testing/83ff06fd-3ec0-468c-d1a8-0b6c96fb961b.jpg</p><p><strong>Score:</strong> 0.30297607152585093</p><p><strong>Caption:</strong> 83ff06fd-3ec0-468c-d1a8-0b6c96fb961b</p><p><a href=\"https://opencontext.org/media/83ff06fd-3ec0-468c-d1a8-0b6c96fb961b\">Link to full record</a></p></div><div><img src=\"../files/training/52749290-4332-49d1-1af4-c5aeda556aa3.jpg\" width=25% alt=\"Image not found\"> <p><strong>ID:</strong> /home/ekansa/github/archaeology-images-ai/files/testing/52749290-4332-49d1-1af4-c5aeda556aa3.jpg</p><p><strong>Score:</strong> 0.2953701305838281</p><p><strong>Caption:</strong> 52749290-4332-49d1-1af4-c5aeda556aa3</p><p><a href=\"https://opencontext.org/media/52749290-4332-49d1-1af4-c5aeda556aa3\">Link to full record</a></p></div><div><img src=\"../files/training/2a9cf717-865b-490d-4fd4-b866039c5c66.jpg\" width=25% alt=\"Image not found\"> <p><strong>ID:</strong> /home/ekansa/github/archaeology-images-ai/files/testing/2a9cf717-865b-490d-4fd4-b866039c5c66.jpg</p><p><strong>Score:</strong> 0.295087629857123</p><p><strong>Caption:</strong> 2a9cf717-865b-490d-4fd4-b866039c5c66</p><p><a href=\"https://opencontext.org/media/2a9cf717-865b-490d-4fd4-b866039c5c66\">Link to full record</a></p></div><div><img src=\"../files/training/67862718-0180-41b9-322e-b305701daf27.jpg\" width=25% alt=\"Image not found\"> <p><strong>ID:</strong> /home/ekansa/github/archaeology-images-ai/files/testing/67862718-0180-41b9-322e-b305701daf27.jpg</p><p><strong>Score:</strong> 0.2941524271053909</p><p><strong>Caption:</strong> An image of an archaeological artifact found at Poggio Civitate, a place in Italy, within the Europe world region. This architectural element came from a context that likely dates to around 700 BCE to 535 BCE so it was probably made around then or earlier. The artifact has a general classification of acroterion;  akroterion;  acroteria and mainly consists of terracotta;  terracotta;  terracotta (clay material). Additional descriptions for the artifact include: Fragment Noted: true \n",
       " Fabric Category: Terracotta \n",
       " Object Type: Architectural::Akroterion \n",
       " Decorative Technique: Incised \n",
       " Conservation Action: cleaned;  consolidated \n",
       " Conservation Material: alcohol;  tap water;  acetone;  Acryloid B-72</p><p><a href=\"https://opencontext.org/media/67862718-0180-41b9-322e-b305701daf27\">Link to full record</a></p></div><div><img src=\"../files/testing/1e3042ca-7a7b-464d-9666-301e5bc9df89.jpg\" width=25% alt=\"Image not found\"> <p><strong>ID:</strong> /home/ekansa/github/archaeology-images-ai/files/testing/1e3042ca-7a7b-464d-9666-301e5bc9df89.jpg</p><p><strong>Score:</strong> 0.2927918083477923</p><p><strong>Caption:</strong> An image of an archaeological artifact found at Poggio Civitate, a place in Italy, within the Europe world region. This architectural element came from a context that likely dates to around 700 BCE to 535 BCE so it was probably made around then or earlier. The artifact has a general classification of acroterion;  akroterion;  acroteria and mainly consists of terracotta;  terracotta;  terracotta (clay material). Additional descriptions for the artifact include: Chronology: Securely Orientalizing \n",
       " Fragment Noted: true \n",
       " Fabric Category: Terracotta \n",
       " Object Type: Architectural::Akroterion</p><p><a href=\"https://opencontext.org/media/1e3042ca-7a7b-464d-9666-301e5bc9df89\">Link to full record</a></p></div><div><img src=\"../files/training/9723db6b-bdef-427f-a2cb-03a05818b2f3.jpg\" width=25% alt=\"Image not found\"> <p><strong>ID:</strong> /home/ekansa/github/archaeology-images-ai/files/testing/9723db6b-bdef-427f-a2cb-03a05818b2f3.jpg</p><p><strong>Score:</strong> 0.2924095167025367</p><p><strong>Caption:</strong> An image of an archaeological artifact found at Poggio Civitate, a place in Italy, within the Europe world region. This object came from a context that likely dates to around 700 BCE to 535 BCE so it was probably made around then or earlier. The artifact has a general classification of vessel;  pottery (visual works) and mainly consists of terracotta;  terracotta;  terracotta (clay material). Additional descriptions for the artifact include: Chronology: Securely Orientalizing \n",
       " Fragment Noted: true \n",
       " Fabric Category: Terracotta \n",
       " Motif: Notches \n",
       " Object Type: Vessel \n",
       " Decorative Technique: Incised</p><p><a href=\"https://opencontext.org/media/9723db6b-bdef-427f-a2cb-03a05818b2f3\">Link to full record</a></p></div><div><img src=\"../files/testing/e08c3e88-7cb0-4b45-bb93-127f4845edd9.jpg\" width=25% alt=\"Image not found\"> <p><strong>ID:</strong> /home/ekansa/github/archaeology-images-ai/files/testing/e08c3e88-7cb0-4b45-bb93-127f4845edd9.jpg</p><p><strong>Score:</strong> 0.2916740320927635</p><p><strong>Caption:</strong> e08c3e88-7cb0-4b45-bb93-127f4845edd9</p><p><a href=\"https://opencontext.org/media/e08c3e88-7cb0-4b45-bb93-127f4845edd9\">Link to full record</a></p></div><div><img src=\"../files/training/4a859a76-a5a2-469c-e9b5-a91b1e2963fc.jpg\" width=25% alt=\"Image not found\"> <p><strong>ID:</strong> /home/ekansa/github/archaeology-images-ai/files/testing/4a859a76-a5a2-469c-e9b5-a91b1e2963fc.jpg</p><p><strong>Score:</strong> 0.2913344083146007</p><p><strong>Caption:</strong> 4a859a76-a5a2-469c-e9b5-a91b1e2963fc</p><p><a href=\"https://opencontext.org/media/4a859a76-a5a2-469c-e9b5-a91b1e2963fc\">Link to full record</a></p></div><div><img src=\"../files/training/95ac2794-50af-47ef-58f2-28d1c420f745.jpg\" width=25% alt=\"Image not found\"> <p><strong>ID:</strong> /home/ekansa/github/archaeology-images-ai/files/testing/95ac2794-50af-47ef-58f2-28d1c420f745.jpg</p><p><strong>Score:</strong> 0.2911506170111139</p><p><strong>Caption:</strong> 95ac2794-50af-47ef-58f2-28d1c420f745</p><p><a href=\"https://opencontext.org/media/95ac2794-50af-47ef-58f2-28d1c420f745\">Link to full record</a></p></div><div><img src=\"../files/training/013fd006-aefe-4621-7257-81f6d9a23d32.jpg\" width=25% alt=\"Image not found\"> <p><strong>ID:</strong> /home/ekansa/github/archaeology-images-ai/files/testing/013fd006-aefe-4621-7257-81f6d9a23d32.jpg</p><p><strong>Score:</strong> 0.2908329127405986</p><p><strong>Caption:</strong> 013fd006-aefe-4621-7257-81f6d9a23d32</p><p><a href=\"https://opencontext.org/media/013fd006-aefe-4621-7257-81f6d9a23d32\">Link to full record</a></p></div>"
      ],
      "text/plain": [
       "<IPython.core.display.HTML object>"
      ]
     },
     "metadata": {},
     "output_type": "display_data"
    }
   ],
   "source": [
    "query = \"A horse racing scene in terracotta\"\n",
    "display_similar_ideas(query)"
   ]
  },
  {
   "cell_type": "code",
   "execution_count": 7,
   "id": "93eecd75-a694-47b0-909d-91fa64694dbf",
   "metadata": {},
   "outputs": [
    {
     "data": {
      "text/html": [
       "<div><img src=\"../files/training/2d1d76c9-6096-403f-e2c4-453d888909f6.jpg\" width=25% alt=\"Image not found\"> <p><strong>ID:</strong> /home/ekansa/github/archaeology-images-ai/files/testing/2d1d76c9-6096-403f-e2c4-453d888909f6.jpg</p><p><strong>Score:</strong> 0.34156492758492923</p><p><strong>Caption:</strong> An image of an archaeological artifact found at Poggio Civitate, a place in Italy, within the Europe world region. This object came from a context that likely dates to around 700 BCE to 535 BCE so it was probably made around then or earlier. The artifact has a general classification of statuette;  figurines and mainly consists of terracotta;  terracotta;  terracotta (clay material). Additional descriptions for the artifact include: Chronology: Securely Orientalizing \n",
       " Fragment Noted: true \n",
       " Fabric Category: Terracotta \n",
       " Object Type: Figurine / Statuette \n",
       " Decorative Technique: Incised</p><p><a href=\"https://opencontext.org/media/2d1d76c9-6096-403f-e2c4-453d888909f6\">Link to full record</a></p></div><div><img src=\"../files/testing/9cf8c24e-9ce7-4a76-9e84-2b22eef4d79d.jpg\" width=25% alt=\"Image not found\"> <p><strong>ID:</strong> /home/ekansa/github/archaeology-images-ai/files/testing/9cf8c24e-9ce7-4a76-9e84-2b22eef4d79d.jpg</p><p><strong>Score:</strong> 0.3336205484728434</p><p><strong>Caption:</strong> An image of an archaeological artifact found at Poggio Civitate, a place in Italy, within the Europe world region. This object came from a context that likely dates to around 700 BCE to 535 BCE so it was probably made around then or earlier. The artifact has a general classification of statuette;  figurines and mainly consists of terracotta;  terracotta;  terracotta (clay material). Additional descriptions for the artifact include: Fragment Noted: true \n",
       " Fabric Category: Terracotta \n",
       " Object Type: Figurine / Statuette \n",
       " Decorative Technique: Pierced;  Relief</p><p><a href=\"https://opencontext.org/media/9cf8c24e-9ce7-4a76-9e84-2b22eef4d79d\">Link to full record</a></p></div><div><img src=\"../files/testing/d25cf2f6-1f38-4d08-9f70-ff8e3e9c53bb.jpg\" width=25% alt=\"Image not found\"> <p><strong>ID:</strong> /home/ekansa/github/archaeology-images-ai/files/testing/d25cf2f6-1f38-4d08-9f70-ff8e3e9c53bb.jpg</p><p><strong>Score:</strong> 0.3320639086113162</p><p><strong>Caption:</strong> An image of an archaeological artifact found at Poggio Civitate, a place in Italy, within the Europe world region. This object came from a context that likely dates to around 700 BCE to 535 BCE so it was probably made around then or earlier. The artifact has a general classification of statuette;  figurines and mainly consists of terracotta;  terracotta;  terracotta (clay material). Additional descriptions for the artifact include: Chronology: Securely Orientalizing \n",
       " Fragment Noted: true \n",
       " Fabric Category: Terracotta \n",
       " Object Type: Figurine / Statuette \n",
       " Decorative Technique: Incised</p><p><a href=\"https://opencontext.org/media/d25cf2f6-1f38-4d08-9f70-ff8e3e9c53bb\">Link to full record</a></p></div><div><img src=\"../files/training/06cb9ceb-d840-440d-3ca6-00ae91f89191.jpg\" width=25% alt=\"Image not found\"> <p><strong>ID:</strong> /home/ekansa/github/archaeology-images-ai/files/testing/06cb9ceb-d840-440d-3ca6-00ae91f89191.jpg</p><p><strong>Score:</strong> 0.33039741651654075</p><p><strong>Caption:</strong> An image of an archaeological artifact found at Poggio Civitate, a place in Italy, within the Europe world region. This object came from a context that likely dates to around 700 BCE to 535 BCE so it was probably made around then or earlier. The artifact has a general classification of statuette;  figurines and mainly consists of terracotta;  terracotta;  terracotta (clay material). Additional descriptions for the artifact include: Fragment Noted: true \n",
       " Fabric Category: Terracotta \n",
       " Object Type: Figurine / Statuette \n",
       " Conservation Action: cleaned \n",
       " Conservation Material: No Value (--)</p><p><a href=\"https://opencontext.org/media/06cb9ceb-d840-440d-3ca6-00ae91f89191\">Link to full record</a></p></div><div><img src=\"../files/training/8e72d5ef-a0fb-47dd-942f-7ac20a9542d7.jpg\" width=25% alt=\"Image not found\"> <p><strong>ID:</strong> /home/ekansa/github/archaeology-images-ai/files/testing/8e72d5ef-a0fb-47dd-942f-7ac20a9542d7.jpg</p><p><strong>Score:</strong> 0.32956241371462197</p><p><strong>Caption:</strong> An image of an archaeological artifact found at Tell en-Nasbeh, a place in Palestinian Authority, within the Asia world region. The artifact has a general classification of figurines and mainly consists of ceramic (material). Additional descriptions for the artifact include: Condition: Good \n",
       " Category Type: Ceramic \n",
       " Material: Ceramic \n",
       " Subcatagory: Ceramic -- Figurine \n",
       " Decoration: None;  Slip \n",
       " Completeness: Fragment \n",
       " Manufacture: Handmade</p><p><a href=\"https://opencontext.org/media/8e72d5ef-a0fb-47dd-942f-7ac20a9542d7\">Link to full record</a></p></div><div><img src=\"../files/testing/d51dde24-cd49-4260-2198-5ae419d3216f.jpg\" width=25% alt=\"Image not found\"> <p><strong>ID:</strong> /home/ekansa/github/archaeology-images-ai/files/testing/d51dde24-cd49-4260-2198-5ae419d3216f.jpg</p><p><strong>Score:</strong> 0.32693408410891794</p><p><strong>Caption:</strong> An image of an archaeological artifact found at Poggio Civitate, a place in Italy, within the Europe world region. This object came from a context that likely dates to around 700 BCE to 535 BCE so it was probably made around then or earlier. The artifact has a general classification of statuette;  figurines and mainly consists of terracotta;  terracotta;  terracotta (clay material). Additional descriptions for the artifact include: Fragment Noted: true \n",
       " Fabric Category: Terracotta \n",
       " Object Type: Figurine / Statuette \n",
       " Conservation Action: cleaned \n",
       " Conservation Material: No Value (--)</p><p><a href=\"https://opencontext.org/media/d51dde24-cd49-4260-2198-5ae419d3216f\">Link to full record</a></p></div><div><img src=\"../files/training/5e9be6ee-84bd-442b-8ca9-94f966b73b26.jpg\" width=25% alt=\"Image not found\"> <p><strong>ID:</strong> /home/ekansa/github/archaeology-images-ai/files/testing/5e9be6ee-84bd-442b-8ca9-94f966b73b26.jpg</p><p><strong>Score:</strong> 0.326761336609939</p><p><strong>Caption:</strong> An image of an archaeological artifact found at Poggio Civitate, a place in Italy, within the Europe world region. This object came from a context that likely dates to around 700 BCE to 535 BCE so it was probably made around then or earlier. The artifact has a general classification of statuette;  figurines and mainly consists of terracotta;  terracotta;  terracotta (clay material). Additional descriptions for the artifact include: Fragment Noted: true \n",
       " Fabric Category: Terracotta \n",
       " Object Type: Figurine / Statuette \n",
       " Conservation Action: cleaned \n",
       " Conservation Material: No Value (--)</p><p><a href=\"https://opencontext.org/media/5e9be6ee-84bd-442b-8ca9-94f966b73b26\">Link to full record</a></p></div><div><img src=\"../files/training/221627d3-d56b-4bc6-3655-beebc1dc8bdc.jpg\" width=25% alt=\"Image not found\"> <p><strong>ID:</strong> /home/ekansa/github/archaeology-images-ai/files/testing/221627d3-d56b-4bc6-3655-beebc1dc8bdc.jpg</p><p><strong>Score:</strong> 0.32551664099350086</p><p><strong>Caption:</strong> An image of an archaeological artifact found at Poggio Civitate, a place in Italy, within the Europe world region. This object came from a context that likely dates to around 700 BCE to 535 BCE so it was probably made around then or earlier. The artifact has a general classification of statuette;  figurines and mainly consists of terracotta;  terracotta;  terracotta (clay material). Additional descriptions for the artifact include: Chronology: Securely Orientalizing \n",
       " Fragment Noted: true \n",
       " Fabric Category: Terracotta \n",
       " Object Type: Figurine / Statuette \n",
       " Decorative Technique: Incised</p><p><a href=\"https://opencontext.org/media/221627d3-d56b-4bc6-3655-beebc1dc8bdc\">Link to full record</a></p></div><div><img src=\"../files/training/369b912b-6fa1-49d2-1462-ec963b3ea577.jpg\" width=25% alt=\"Image not found\"> <p><strong>ID:</strong> /home/ekansa/github/archaeology-images-ai/files/testing/369b912b-6fa1-49d2-1462-ec963b3ea577.jpg</p><p><strong>Score:</strong> 0.3245153927399464</p><p><strong>Caption:</strong> An image of an archaeological artifact found at Poggio Civitate, a place in Italy, within the Europe world region. This object came from a context that likely dates to around 700 BCE to 535 BCE so it was probably made around then or earlier. The artifact has a general classification of statuette;  figurines and mainly consists of terracotta;  terracotta;  terracotta (clay material). Additional descriptions for the artifact include: Chronology: Securely Orientalizing \n",
       " Fragment Noted: true \n",
       " Fabric Category: Terracotta \n",
       " Object Type: Figurine / Statuette \n",
       " Decorative Technique: Incised</p><p><a href=\"https://opencontext.org/media/369b912b-6fa1-49d2-1462-ec963b3ea577\">Link to full record</a></p></div><div><img src=\"../files/testing/f3d66f2f-5259-41f7-ad6d-58d5a27121e1.jpg\" width=25% alt=\"Image not found\"> <p><strong>ID:</strong> /home/ekansa/github/archaeology-images-ai/files/testing/f3d66f2f-5259-41f7-ad6d-58d5a27121e1.jpg</p><p><strong>Score:</strong> 0.3244391692302024</p><p><strong>Caption:</strong> An image of an archaeological artifact found at Poggio Civitate, a place in Italy, within the Europe world region. This object came from a context that likely dates to around 700 BCE to 535 BCE so it was probably made around then or earlier. The artifact has a general classification of statuette;  figurines and mainly consists of terracotta;  terracotta;  terracotta (clay material). Additional descriptions for the artifact include: Fragment Noted: true \n",
       " Fabric Category: Terracotta \n",
       " Motif: Bird \n",
       " Object Type: Figurine / Statuette \n",
       " Decorative Technique: Incised</p><p><a href=\"https://opencontext.org/media/f3d66f2f-5259-41f7-ad6d-58d5a27121e1\">Link to full record</a></p></div>"
      ],
      "text/plain": [
       "<IPython.core.display.HTML object>"
      ]
     },
     "metadata": {},
     "output_type": "display_data"
    }
   ],
   "source": [
    "query = \"A human figurine artifact\"\n",
    "display_similar_ideas(query)"
   ]
  },
  {
   "cell_type": "code",
   "execution_count": 8,
   "id": "e6c29f01-c780-4811-b604-05942bfaa6aa",
   "metadata": {},
   "outputs": [
    {
     "data": {
      "text/html": [
       "<div><img src=\"../files/training/55e75499-ca9e-482c-bb36-3a53e14ca6a0.jpg\" width=25% alt=\"Image not found\"> <p><strong>ID:</strong> /home/ekansa/github/archaeology-images-ai/files/testing/55e75499-ca9e-482c-bb36-3a53e14ca6a0.jpg</p><p><strong>Score:</strong> 0.2905213981494775</p><p><strong>Caption:</strong> 55e75499-ca9e-482c-bb36-3a53e14ca6a0</p><p><a href=\"https://opencontext.org/media/55e75499-ca9e-482c-bb36-3a53e14ca6a0\">Link to full record</a></p></div><div><img src=\"../files/training/d2c4da51-74c0-4421-9717-7ee4f75a2178.jpg\" width=25% alt=\"Image not found\"> <p><strong>ID:</strong> /home/ekansa/github/archaeology-images-ai/files/testing/d2c4da51-74c0-4421-9717-7ee4f75a2178.jpg</p><p><strong>Score:</strong> 0.29012091144130797</p><p><strong>Caption:</strong> d2c4da51-74c0-4421-9717-7ee4f75a2178</p><p><a href=\"https://opencontext.org/media/d2c4da51-74c0-4421-9717-7ee4f75a2178\">Link to full record</a></p></div><div><img src=\"../files/training/50bb0d7f-5e3e-47b3-b0c4-e2285eda65ea.jpg\" width=25% alt=\"Image not found\"> <p><strong>ID:</strong> /home/ekansa/github/archaeology-images-ai/files/testing/50bb0d7f-5e3e-47b3-b0c4-e2285eda65ea.jpg</p><p><strong>Score:</strong> 0.28776461812964355</p><p><strong>Caption:</strong> 50bb0d7f-5e3e-47b3-b0c4-e2285eda65ea</p><p><a href=\"https://opencontext.org/media/50bb0d7f-5e3e-47b3-b0c4-e2285eda65ea\">Link to full record</a></p></div><div><img src=\"../files/training/956b1ccb-2caa-4af6-b3b6-b9efa3100261.jpg\" width=25% alt=\"Image not found\"> <p><strong>ID:</strong> /home/ekansa/github/archaeology-images-ai/files/testing/956b1ccb-2caa-4af6-b3b6-b9efa3100261.jpg</p><p><strong>Score:</strong> 0.28757812309587955</p><p><strong>Caption:</strong> 956b1ccb-2caa-4af6-b3b6-b9efa3100261</p><p><a href=\"https://opencontext.org/media/956b1ccb-2caa-4af6-b3b6-b9efa3100261\">Link to full record</a></p></div><div><img src=\"../files/training/70ed9f97-19ad-4488-9b0b-aedb97656631.jpg\" width=25% alt=\"Image not found\"> <p><strong>ID:</strong> /home/ekansa/github/archaeology-images-ai/files/testing/70ed9f97-19ad-4488-9b0b-aedb97656631.jpg</p><p><strong>Score:</strong> 0.2874463564794789</p><p><strong>Caption:</strong> 70ed9f97-19ad-4488-9b0b-aedb97656631</p><p><a href=\"https://opencontext.org/media/70ed9f97-19ad-4488-9b0b-aedb97656631\">Link to full record</a></p></div><div><img src=\"../files/training/c28d99c2-b3e3-4b6b-3d8f-e286c265999e.jpg\" width=25% alt=\"Image not found\"> <p><strong>ID:</strong> /home/ekansa/github/archaeology-images-ai/files/testing/c28d99c2-b3e3-4b6b-3d8f-e286c265999e.jpg</p><p><strong>Score:</strong> 0.28729414981128154</p><p><strong>Caption:</strong> c28d99c2-b3e3-4b6b-3d8f-e286c265999e</p><p><a href=\"https://opencontext.org/media/c28d99c2-b3e3-4b6b-3d8f-e286c265999e\">Link to full record</a></p></div><div><img src=\"../files/training/aafb0e2b-33fa-47ba-170d-ff972015ff5e.jpg\" width=25% alt=\"Image not found\"> <p><strong>ID:</strong> /home/ekansa/github/archaeology-images-ai/files/testing/aafb0e2b-33fa-47ba-170d-ff972015ff5e.jpg</p><p><strong>Score:</strong> 0.28712848304313743</p><p><strong>Caption:</strong> aafb0e2b-33fa-47ba-170d-ff972015ff5e</p><p><a href=\"https://opencontext.org/media/aafb0e2b-33fa-47ba-170d-ff972015ff5e\">Link to full record</a></p></div><div><img src=\"../files/training/ea6ebf5d-740a-4725-90f8-c1d19966e4e7.jpg\" width=25% alt=\"Image not found\"> <p><strong>ID:</strong> /home/ekansa/github/archaeology-images-ai/files/testing/ea6ebf5d-740a-4725-90f8-c1d19966e4e7.jpg</p><p><strong>Score:</strong> 0.2863283364677136</p><p><strong>Caption:</strong> ea6ebf5d-740a-4725-90f8-c1d19966e4e7</p><p><a href=\"https://opencontext.org/media/ea6ebf5d-740a-4725-90f8-c1d19966e4e7\">Link to full record</a></p></div><div><img src=\"../files/training/a6a3629e-350d-443e-b8b6-64ed58ed5219.jpg\" width=25% alt=\"Image not found\"> <p><strong>ID:</strong> /home/ekansa/github/archaeology-images-ai/files/testing/a6a3629e-350d-443e-b8b6-64ed58ed5219.jpg</p><p><strong>Score:</strong> 0.2852579514891136</p><p><strong>Caption:</strong> a6a3629e-350d-443e-b8b6-64ed58ed5219</p><p><a href=\"https://opencontext.org/media/a6a3629e-350d-443e-b8b6-64ed58ed5219\">Link to full record</a></p></div><div><img src=\"../files/training/8c487388-5802-473d-9f4b-bd3a05d217eb.jpg\" width=25% alt=\"Image not found\"> <p><strong>ID:</strong> /home/ekansa/github/archaeology-images-ai/files/testing/8c487388-5802-473d-9f4b-bd3a05d217eb.jpg</p><p><strong>Score:</strong> 0.2849169426705423</p><p><strong>Caption:</strong> 8c487388-5802-473d-9f4b-bd3a05d217eb</p><p><a href=\"https://opencontext.org/media/8c487388-5802-473d-9f4b-bd3a05d217eb\">Link to full record</a></p></div>"
      ],
      "text/plain": [
       "<IPython.core.display.HTML object>"
      ]
     },
     "metadata": {},
     "output_type": "display_data"
    }
   ],
   "source": [
    "query = \"A face on an ancient artifact\"\n",
    "display_similar_ideas(query)"
   ]
  },
  {
   "cell_type": "code",
   "execution_count": 9,
   "id": "ff498a76-c569-494b-bc0a-1def0566943d",
   "metadata": {},
   "outputs": [
    {
     "data": {
      "text/html": [
       "<div><img src=\"../files/training/1d26cb67-8993-59eb-03a7-842c7ca710c7.jpg\" width=25% alt=\"Image not found\"> <p><strong>ID:</strong> /home/ekansa/github/archaeology-images-ai/files/testing/1d26cb67-8993-59eb-03a7-842c7ca710c7.jpg</p><p><strong>Score:</strong> 0.29732313742230465</p><p><strong>Caption:</strong> 1d26cb67-8993-59eb-03a7-842c7ca710c7</p><p><a href=\"https://opencontext.org/media/1d26cb67-8993-59eb-03a7-842c7ca710c7\">Link to full record</a></p></div><div><img src=\"../files/training/aafb0e2b-33fa-47ba-170d-ff972015ff5e.jpg\" width=25% alt=\"Image not found\"> <p><strong>ID:</strong> /home/ekansa/github/archaeology-images-ai/files/testing/aafb0e2b-33fa-47ba-170d-ff972015ff5e.jpg</p><p><strong>Score:</strong> 0.29555310262081297</p><p><strong>Caption:</strong> aafb0e2b-33fa-47ba-170d-ff972015ff5e</p><p><a href=\"https://opencontext.org/media/aafb0e2b-33fa-47ba-170d-ff972015ff5e\">Link to full record</a></p></div><div><img src=\"../files/training/70ed9f97-19ad-4488-9b0b-aedb97656631.jpg\" width=25% alt=\"Image not found\"> <p><strong>ID:</strong> /home/ekansa/github/archaeology-images-ai/files/testing/70ed9f97-19ad-4488-9b0b-aedb97656631.jpg</p><p><strong>Score:</strong> 0.2939117458036554</p><p><strong>Caption:</strong> 70ed9f97-19ad-4488-9b0b-aedb97656631</p><p><a href=\"https://opencontext.org/media/70ed9f97-19ad-4488-9b0b-aedb97656631\">Link to full record</a></p></div><div><img src=\"../files/training/956b1ccb-2caa-4af6-b3b6-b9efa3100261.jpg\" width=25% alt=\"Image not found\"> <p><strong>ID:</strong> /home/ekansa/github/archaeology-images-ai/files/testing/956b1ccb-2caa-4af6-b3b6-b9efa3100261.jpg</p><p><strong>Score:</strong> 0.29254854182336415</p><p><strong>Caption:</strong> 956b1ccb-2caa-4af6-b3b6-b9efa3100261</p><p><a href=\"https://opencontext.org/media/956b1ccb-2caa-4af6-b3b6-b9efa3100261\">Link to full record</a></p></div><div><img src=\"../files/training/0d4c5ac1-4266-45a2-f3a4-9a13aa380513.jpg\" width=25% alt=\"Image not found\"> <p><strong>ID:</strong> /home/ekansa/github/archaeology-images-ai/files/testing/0d4c5ac1-4266-45a2-f3a4-9a13aa380513.jpg</p><p><strong>Score:</strong> 0.29204577586694114</p><p><strong>Caption:</strong> 0d4c5ac1-4266-45a2-f3a4-9a13aa380513</p><p><a href=\"https://opencontext.org/media/0d4c5ac1-4266-45a2-f3a4-9a13aa380513\">Link to full record</a></p></div><div><img src=\"../files/training/e34a668f-8c94-4192-7a70-98d360107e52.jpg\" width=25% alt=\"Image not found\"> <p><strong>ID:</strong> /home/ekansa/github/archaeology-images-ai/files/testing/e34a668f-8c94-4192-7a70-98d360107e52.jpg</p><p><strong>Score:</strong> 0.29204577586694114</p><p><strong>Caption:</strong> e34a668f-8c94-4192-7a70-98d360107e52</p><p><a href=\"https://opencontext.org/media/e34a668f-8c94-4192-7a70-98d360107e52\">Link to full record</a></p></div><div><img src=\"../files/training/1f45a81c-64ad-48fa-6c41-2b443c0b5ddc.jpg\" width=25% alt=\"Image not found\"> <p><strong>ID:</strong> /home/ekansa/github/archaeology-images-ai/files/testing/1f45a81c-64ad-48fa-6c41-2b443c0b5ddc.jpg</p><p><strong>Score:</strong> 0.29125264097061193</p><p><strong>Caption:</strong> 1f45a81c-64ad-48fa-6c41-2b443c0b5ddc</p><p><a href=\"https://opencontext.org/media/1f45a81c-64ad-48fa-6c41-2b443c0b5ddc\">Link to full record</a></p></div><div><img src=\"../files/training/20001290-4132-4c04-a4fc-c25472b30d86.jpg\" width=25% alt=\"Image not found\"> <p><strong>ID:</strong> /home/ekansa/github/archaeology-images-ai/files/testing/20001290-4132-4c04-a4fc-c25472b30d86.jpg</p><p><strong>Score:</strong> 0.28940409479728474</p><p><strong>Caption:</strong> 20001290-4132-4c04-a4fc-c25472b30d86</p><p><a href=\"https://opencontext.org/media/20001290-4132-4c04-a4fc-c25472b30d86\">Link to full record</a></p></div><div><img src=\"../files/testing/6a4141fa-3de2-463e-a0b2-faf06212d1a9.jpg\" width=25% alt=\"Image not found\"> <p><strong>ID:</strong> /home/ekansa/github/archaeology-images-ai/files/testing/6a4141fa-3de2-463e-a0b2-faf06212d1a9.jpg</p><p><strong>Score:</strong> 0.2883241651717576</p><p><strong>Caption:</strong> An image of an archaeological artifact found at Poggio Civitate, a place in Italy, within the Europe world region. This object came from a context that likely dates to around 700 BCE to 535 BCE so it was probably made around then or earlier. The artifact has a general classification of vessel;  bone (material) and mainly consists of bone;  bone (material). Additional descriptions for the artifact include: Fabric Category: Bone \n",
       " Object Type: Production Material;  Production Material::Worked Bone \n",
       " Record Type: Supplemental Find</p><p><a href=\"https://opencontext.org/media/6a4141fa-3de2-463e-a0b2-faf06212d1a9\">Link to full record</a></p></div><div><img src=\"../files/training/00a29a77-4518-47b5-db0a-f4730d2237f5.jpg\" width=25% alt=\"Image not found\"> <p><strong>ID:</strong> /home/ekansa/github/archaeology-images-ai/files/testing/00a29a77-4518-47b5-db0a-f4730d2237f5.jpg</p><p><strong>Score:</strong> 0.28728860525231714</p><p><strong>Caption:</strong> 00a29a77-4518-47b5-db0a-f4730d2237f5</p><p><a href=\"https://opencontext.org/media/00a29a77-4518-47b5-db0a-f4730d2237f5\">Link to full record</a></p></div>"
      ],
      "text/plain": [
       "<IPython.core.display.HTML object>"
      ]
     },
     "metadata": {},
     "output_type": "display_data"
    }
   ],
   "source": [
    "query = \"A mythical animal on an ancient artifact\"\n",
    "display_similar_ideas(query)"
   ]
  },
  {
   "cell_type": "code",
   "execution_count": 17,
   "id": "928051c5-90ca-4120-8030-ccb92d1f7ecc",
   "metadata": {},
   "outputs": [
    {
     "data": {
      "text/html": [
       "<div><img src=\"../files/training/1840719d-2934-482d-8eb4-a8d7f3a15008.jpg\" width=25% alt=\"Image not found\"> <p><strong>ID:</strong> /home/ekansa/github/archaeology-images-ai/files/testing/1840719d-2934-482d-8eb4-a8d7f3a15008.jpg</p><p><strong>Score:</strong> 0.3145677985396714</p><p><strong>Caption:</strong> An image of an archaeological artifact found at Zvezda Service Module, located at International Space Station, which is Off World (in outer space). The artifact has a general classification of icons (devotional images);  religions and religious concepts. Additional descriptions for the artifact include: Location: Top center \n",
       " Item type: Icon \n",
       " Secular/Religious: Religious</p><p><a href=\"https://opencontext.org/media/1840719d-2934-482d-8eb4-a8d7f3a15008\">Link to full record</a></p></div><div><img src=\"../files/training/5b4ea4a4-a448-4d9c-aca8-e676dff64e91.jpg\" width=25% alt=\"Image not found\"> <p><strong>ID:</strong> /home/ekansa/github/archaeology-images-ai/files/testing/5b4ea4a4-a448-4d9c-aca8-e676dff64e91.jpg</p><p><strong>Score:</strong> 0.3089393910686937</p><p><strong>Caption:</strong> An image of an archaeological artifact found at Zvezda Service Module, located at International Space Station, which is Off World (in outer space). The artifact has a general classification of photographs. Additional descriptions for the artifact include: Location: Niche port side;  Niche starboard side;  Top starboard side \n",
       " Item type: Photograph \n",
       " Secular/Religious: Secular</p><p><a href=\"https://opencontext.org/media/5b4ea4a4-a448-4d9c-aca8-e676dff64e91\">Link to full record</a></p></div><div><img src=\"../files/testing/ba6cdda5-545a-4a01-1193-cbb605113787.jpg\" width=25% alt=\"Image not found\"> <p><strong>ID:</strong> /home/ekansa/github/archaeology-images-ai/files/testing/ba6cdda5-545a-4a01-1193-cbb605113787.jpg</p><p><strong>Score:</strong> 0.2699326507631408</p><p><strong>Caption:</strong> An image of an archaeological artifact found at Poggio Civitate, a place in Italy, within the Europe world region. This object came from a context that likely dates to around 700 BCE to 535 BCE so it was probably made around then or earlier. The artifact has a general classification of sling-shot;  sling bullet and mainly consists of pottery. Additional descriptions for the artifact include: Chronology: Securely Orientalizing \n",
       " Fragment Noted: false \n",
       " Fabric Category: Impasto \n",
       " Object Type: Tool / Weapon::Sling Stone/Bullet</p><p><a href=\"https://opencontext.org/media/ba6cdda5-545a-4a01-1193-cbb605113787\">Link to full record</a></p></div><div><img src=\"../files/training/a7614d75-0e64-4491-09b6-a9f7d581da5b.jpg\" width=25% alt=\"Image not found\"> <p><strong>ID:</strong> /home/ekansa/github/archaeology-images-ai/files/testing/a7614d75-0e64-4491-09b6-a9f7d581da5b.jpg</p><p><strong>Score:</strong> 0.26961117042310356</p><p><strong>Caption:</strong> a7614d75-0e64-4491-09b6-a9f7d581da5b</p><p><a href=\"https://opencontext.org/media/a7614d75-0e64-4491-09b6-a9f7d581da5b\">Link to full record</a></p></div><div><img src=\"../files/testing/a7bbcca9-c380-421c-8f4b-dd4f73111f94.jpg\" width=25% alt=\"Image not found\"> <p><strong>ID:</strong> /home/ekansa/github/archaeology-images-ai/files/testing/a7bbcca9-c380-421c-8f4b-dd4f73111f94.jpg</p><p><strong>Score:</strong> 0.2694388193178076</p><p><strong>Caption:</strong> An image of an archaeological artifact found at Poggio Civitate, a place in Italy, within the Europe world region. This object came from a context that likely dates to around 700 BCE to 535 BCE so it was probably made around then or earlier. The artifact has a general classification of sling-shot;  sling bullet and mainly consists of pottery. Additional descriptions for the artifact include: Chronology: Securely Orientalizing \n",
       " Fragment Noted: false \n",
       " Fabric Category: Impasto \n",
       " Object Type: Tool / Weapon::Sling Stone/Bullet</p><p><a href=\"https://opencontext.org/media/a7bbcca9-c380-421c-8f4b-dd4f73111f94\">Link to full record</a></p></div><div><img src=\"../files/training/646d48d8-c48f-4d7e-a0e6-1c7243c475cf.jpg\" width=25% alt=\"Image not found\"> <p><strong>ID:</strong> /home/ekansa/github/archaeology-images-ai/files/testing/646d48d8-c48f-4d7e-a0e6-1c7243c475cf.jpg</p><p><strong>Score:</strong> 0.2666757009003459</p><p><strong>Caption:</strong> 646d48d8-c48f-4d7e-a0e6-1c7243c475cf</p><p><a href=\"https://opencontext.org/media/646d48d8-c48f-4d7e-a0e6-1c7243c475cf\">Link to full record</a></p></div><div><img src=\"../files/training/e2c83ad7-0498-4ff2-c5c9-533aa0af5b04.jpg\" width=25% alt=\"Image not found\"> <p><strong>ID:</strong> /home/ekansa/github/archaeology-images-ai/files/testing/e2c83ad7-0498-4ff2-c5c9-533aa0af5b04.jpg</p><p><strong>Score:</strong> 0.26559009812791284</p><p><strong>Caption:</strong> An image of an archaeological artifact found at Poggio Civitate, a place in Italy, within the Europe world region. This object came from a context that likely dates to around 700 BCE to 535 BCE so it was probably made around then or earlier. The artifact has a general classification of sample;  biological material and mainly consists of organic;  biological material. Additional descriptions for the artifact include: Fragment Noted: true \n",
       " Fabric Category: Organic \n",
       " Object Type: Organic (ecofact) \n",
       " Conservation Action: cleaned \n",
       " Conservation Material: No Value (--)</p><p><a href=\"https://opencontext.org/media/e2c83ad7-0498-4ff2-c5c9-533aa0af5b04\">Link to full record</a></p></div><div><img src=\"../files/training/4a4af260-fc76-4627-63b1-aebab6ecf8d7.jpg\" width=25% alt=\"Image not found\"> <p><strong>ID:</strong> /home/ekansa/github/archaeology-images-ai/files/testing/4a4af260-fc76-4627-63b1-aebab6ecf8d7.jpg</p><p><strong>Score:</strong> 0.26544932612566413</p><p><strong>Caption:</strong> 4a4af260-fc76-4627-63b1-aebab6ecf8d7</p><p><a href=\"https://opencontext.org/media/4a4af260-fc76-4627-63b1-aebab6ecf8d7\">Link to full record</a></p></div><div><img src=\"../files/training/20001290-4132-4c04-a4fc-c25472b30d86.jpg\" width=25% alt=\"Image not found\"> <p><strong>ID:</strong> /home/ekansa/github/archaeology-images-ai/files/testing/20001290-4132-4c04-a4fc-c25472b30d86.jpg</p><p><strong>Score:</strong> 0.2650448250551082</p><p><strong>Caption:</strong> 20001290-4132-4c04-a4fc-c25472b30d86</p><p><a href=\"https://opencontext.org/media/20001290-4132-4c04-a4fc-c25472b30d86\">Link to full record</a></p></div><div><img src=\"../files/training/876ddac0-d864-406b-3ccf-472e9aef7d1b.jpg\" width=25% alt=\"Image not found\"> <p><strong>ID:</strong> /home/ekansa/github/archaeology-images-ai/files/testing/876ddac0-d864-406b-3ccf-472e9aef7d1b.jpg</p><p><strong>Score:</strong> 0.2646917974686179</p><p><strong>Caption:</strong> An image of an archaeological artifact found at Poggio Civitate, a place in Italy, within the Europe world region. This object came from a context that likely dates to around 700 BCE to 535 BCE so it was probably made around then or earlier. The artifact has a general classification of spear-head and mainly consists of ivory;  ivory (material). Additional descriptions for the artifact include: Fragment Noted: false \n",
       " Fabric Category: Ivory \n",
       " Object Type: Tool / Weapon::Unspecified \n",
       " Decorative Technique: Incised</p><p><a href=\"https://opencontext.org/media/876ddac0-d864-406b-3ccf-472e9aef7d1b\">Link to full record</a></p></div>"
      ],
      "text/plain": [
       "<IPython.core.display.HTML object>"
      ]
     },
     "metadata": {},
     "output_type": "display_data"
    }
   ],
   "source": [
    "query = \"Something used by an astronaut\"\n",
    "display_similar_ideas(query)"
   ]
  },
  {
   "cell_type": "markdown",
   "id": "728172eb-6a0a-40cc-bad7-5ecaf8582c0c",
   "metadata": {},
   "source": [
    "# Assessment\n",
    "\n",
    "I'm not really impressed with the results of the \"idea\" queries. Maybe we over-fit the data when training?"
   ]
  },
  {
   "cell_type": "code",
   "execution_count": 11,
   "id": "46dd8ee5-9fb1-4565-b285-3b0d32b01a42",
   "metadata": {},
   "outputs": [
    {
     "data": {
      "text/html": [
       "<div>Search for images similar to:<br/><img src=\"../files/training/73c2c55a-bed7-43b9-994d-3c1ac91a338a.jpg\" width=25% alt=\"Image not found\" /><p>----------------------------------</p><p><strong>Results Below</strong>:</p></div><div><img src=\"../files/training/73c2c55a-bed7-43b9-994d-3c1ac91a338a.jpg\" width=25% alt=\"Image not found\"> <p><strong>ID:</strong> /home/ekansa/github/archaeology-images-ai/files/testing/73c2c55a-bed7-43b9-994d-3c1ac91a338a.jpg</p><p><strong>Score:</strong> 0.9999999999994367</p><p><strong>Caption:</strong> 73c2c55a-bed7-43b9-994d-3c1ac91a338a</p><p><a href=\"https://opencontext.org/media/73c2c55a-bed7-43b9-994d-3c1ac91a338a\">Link to full record</a></p></div><div><img src=\"../files/training/3665b234-560f-48a2-3b3c-6a750183be75.jpg\" width=25% alt=\"Image not found\"> <p><strong>ID:</strong> /home/ekansa/github/archaeology-images-ai/files/testing/3665b234-560f-48a2-3b3c-6a750183be75.jpg</p><p><strong>Score:</strong> 0.8075858126143161</p><p><strong>Caption:</strong> 3665b234-560f-48a2-3b3c-6a750183be75</p><p><a href=\"https://opencontext.org/media/3665b234-560f-48a2-3b3c-6a750183be75\">Link to full record</a></p></div><div><img src=\"../files/training/319be8a9-10d2-4cbd-6500-22393c052173.jpg\" width=25% alt=\"Image not found\"> <p><strong>ID:</strong> /home/ekansa/github/archaeology-images-ai/files/testing/319be8a9-10d2-4cbd-6500-22393c052173.jpg</p><p><strong>Score:</strong> 0.8041701177899021</p><p><strong>Caption:</strong> 319be8a9-10d2-4cbd-6500-22393c052173</p><p><a href=\"https://opencontext.org/media/319be8a9-10d2-4cbd-6500-22393c052173\">Link to full record</a></p></div><div><img src=\"../files/testing/15ed300e-4026-4fb1-8148-da7d52a72e65.jpg\" width=25% alt=\"Image not found\"> <p><strong>ID:</strong> /home/ekansa/github/archaeology-images-ai/files/testing/15ed300e-4026-4fb1-8148-da7d52a72e65.jpg</p><p><strong>Score:</strong> 0.8033936299515045</p><p><strong>Caption:</strong> 15ed300e-4026-4fb1-8148-da7d52a72e65</p><p><a href=\"https://opencontext.org/media/15ed300e-4026-4fb1-8148-da7d52a72e65\">Link to full record</a></p></div><div><img src=\"../files/testing/d42643c4-6e6e-4a6f-6e67-9d1e88619cfd.jpg\" width=25% alt=\"Image not found\"> <p><strong>ID:</strong> /home/ekansa/github/archaeology-images-ai/files/testing/d42643c4-6e6e-4a6f-6e67-9d1e88619cfd.jpg</p><p><strong>Score:</strong> 0.8018799248654747</p><p><strong>Caption:</strong> d42643c4-6e6e-4a6f-6e67-9d1e88619cfd</p><p><a href=\"https://opencontext.org/media/d42643c4-6e6e-4a6f-6e67-9d1e88619cfd\">Link to full record</a></p></div><div><img src=\"../files/training/b8ca4c83-0c29-4ebd-d16a-e0a3c524011f.jpg\" width=25% alt=\"Image not found\"> <p><strong>ID:</strong> /home/ekansa/github/archaeology-images-ai/files/testing/b8ca4c83-0c29-4ebd-d16a-e0a3c524011f.jpg</p><p><strong>Score:</strong> 0.8011307801491143</p><p><strong>Caption:</strong> b8ca4c83-0c29-4ebd-d16a-e0a3c524011f</p><p><a href=\"https://opencontext.org/media/b8ca4c83-0c29-4ebd-d16a-e0a3c524011f\">Link to full record</a></p></div><div><img src=\"../files/training/cf5fae83-2e88-4115-b90a-8e5e0190d0a8.jpg\" width=25% alt=\"Image not found\"> <p><strong>ID:</strong> /home/ekansa/github/archaeology-images-ai/files/testing/cf5fae83-2e88-4115-b90a-8e5e0190d0a8.jpg</p><p><strong>Score:</strong> 0.7935726889416306</p><p><strong>Caption:</strong> cf5fae83-2e88-4115-b90a-8e5e0190d0a8</p><p><a href=\"https://opencontext.org/media/cf5fae83-2e88-4115-b90a-8e5e0190d0a8\">Link to full record</a></p></div><div><img src=\"../files/training/a4405565-18c5-43a0-5110-a9cfe4aac64f.jpg\" width=25% alt=\"Image not found\"> <p><strong>ID:</strong> /home/ekansa/github/archaeology-images-ai/files/testing/a4405565-18c5-43a0-5110-a9cfe4aac64f.jpg</p><p><strong>Score:</strong> 0.7904823344817802</p><p><strong>Caption:</strong> a4405565-18c5-43a0-5110-a9cfe4aac64f</p><p><a href=\"https://opencontext.org/media/a4405565-18c5-43a0-5110-a9cfe4aac64f\">Link to full record</a></p></div><div><img src=\"../files/training/b1f8d71f-c1ef-4710-bd46-614dc4d2a802.jpg\" width=25% alt=\"Image not found\"> <p><strong>ID:</strong> /home/ekansa/github/archaeology-images-ai/files/testing/b1f8d71f-c1ef-4710-bd46-614dc4d2a802.jpg</p><p><strong>Score:</strong> 0.7861803568588607</p><p><strong>Caption:</strong> b1f8d71f-c1ef-4710-bd46-614dc4d2a802</p><p><a href=\"https://opencontext.org/media/b1f8d71f-c1ef-4710-bd46-614dc4d2a802\">Link to full record</a></p></div><div><img src=\"../files/testing/0718781a-6f93-445c-bf20-fa6285f6e736.jpg\" width=25% alt=\"Image not found\"> <p><strong>ID:</strong> /home/ekansa/github/archaeology-images-ai/files/testing/0718781a-6f93-445c-bf20-fa6285f6e736.jpg</p><p><strong>Score:</strong> 0.7858260280801869</p><p><strong>Caption:</strong> 0718781a-6f93-445c-bf20-fa6285f6e736</p><p><a href=\"https://opencontext.org/media/0718781a-6f93-445c-bf20-fa6285f6e736\">Link to full record</a></p></div>"
      ],
      "text/plain": [
       "<IPython.core.display.HTML object>"
      ]
     },
     "metadata": {},
     "output_type": "display_data"
    }
   ],
   "source": [
    "query = \"/home/ekansa/github/archaeology-images-ai/files/training/73c2c55a-bed7-43b9-994d-3c1ac91a338a.jpg\"\n",
    "display_similar_images(query)"
   ]
  },
  {
   "cell_type": "code",
   "execution_count": 12,
   "id": "b70f9d61-e8db-4469-9a7d-c9a1c7fbd7c0",
   "metadata": {},
   "outputs": [
    {
     "name": "stdout",
     "output_type": "stream",
     "text": [
      "\"a9cedbad-e25b-4f4b-9a14-1249ab2ee4f4\": An image of an archaeological artifact found at Domuztepe, a place in Turkey, within the Asia world region. This object came from a context that likely dates to around 6500 BCE to 5500 BCE so it was probably made around then or earlier. The artifact has a general classification of seals (artifacts) and mainly consists of rock (inorganic material). Additional descriptions for the artifact include: Artifact Name: Stamp Seal \n",
      " Material: Stone, unidentified \n",
      " Disposition: Marash Mus. invent\n"
     ]
    }
   ],
   "source": [
    "for key, val in IMAGE_METADATA.items():\n",
    "    print(f'\"{key}\": {val}')\n",
    "    break\n"
   ]
  },
  {
   "cell_type": "code",
   "execution_count": 13,
   "id": "ef02f1ce-4ace-4974-8fd2-ab7c851e0eed",
   "metadata": {},
   "outputs": [
    {
     "name": "stdout",
     "output_type": "stream",
     "text": [
      "photos: clip\n",
      "  64475 embeddings\n"
     ]
    }
   ],
   "source": [
    "!llm collections list"
   ]
  },
  {
   "cell_type": "code",
   "execution_count": null,
   "id": "728000ff-1fea-4e5e-93a1-d082010961af",
   "metadata": {},
   "outputs": [],
   "source": []
  }
 ],
 "metadata": {
  "kernelspec": {
   "display_name": "Python 3 (ipykernel)",
   "language": "python",
   "name": "python3"
  },
  "language_info": {
   "codemirror_mode": {
    "name": "ipython",
    "version": 3
   },
   "file_extension": ".py",
   "mimetype": "text/x-python",
   "name": "python",
   "nbconvert_exporter": "python",
   "pygments_lexer": "ipython3",
   "version": "3.11.5"
  }
 },
 "nbformat": 4,
 "nbformat_minor": 5
}
