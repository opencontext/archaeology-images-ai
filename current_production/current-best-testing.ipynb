{
 "cells": [
  {
   "cell_type": "markdown",
   "id": "5759bf85-7621-4ad3-9d56-22f8621f6a86",
   "metadata": {},
   "source": [
    "## LLM Clip\n",
    "\n",
    "https://github.com/simonw/llm-clip\n",
    "requires LLM: https://llm.datasette.io/en/stable/\n",
    "\n",
    "```\n",
    "$ pip install llm\n",
    "$ llm install llm-clip\n",
    "```\n",
    "\n",
    "Then, assuming you are doing this in an environment (I create mine with conda), find the site packages directory, and the **llm_clip.py** file. `archaeology-images-ai/.venv/lib/python3.11/site-packages/llm_clip.py` is where mine hides.\n",
    "\n",
    "For convenience, it would be nice to easily change models used in testing. For instance, you may have multiple models developed with different training data and different training parameters. For this reason, we should make a modification to the  **llm_clip.py**, by first adding to the top of the file this line:\n",
    "\n",
    "```python\n",
    "import os\n",
    "```\n",
    "\n",
    "And then alter this function to check to see if a `LLM_CLIP_MODEL_PATH` environment variable has been specified, and if so, use that:\n",
    "le."
   ]
  },
  {
   "cell_type": "markdown",
   "id": "e48d555d-fae6-447a-8b3e-dc1a34d49faf",
   "metadata": {},
   "source": [
    "```python\n",
    "def embed_batch(self, items):\n",
    "    # Embeds a mix of text strings and binary images\n",
    "    model_to_use = os.getenv('LLM_CLIP_MODEL_PATH', 'clip-ViT-B-32')\n",
    "    # Now set the model, either from the env varaible or the default clip.\n",
    "    if self._model is None:\n",
    "        self._model = SentenceTransformer(model_to_use)\n",
    "```"
   ]
  },
  {
   "cell_type": "markdown",
   "id": "3b8ae79c-9b7d-4608-a261-3919e0d2863c",
   "metadata": {},
   "source": [
    "This should give some more flexibility in switching between different models to use with llm-clip."
   ]
  },
  {
   "cell_type": "code",
   "execution_count": 1,
   "id": "1ad57cdc-eb57-45e5-9190-272cab9c5cba",
   "metadata": {},
   "outputs": [],
   "source": [
    "import os\n",
    "import requests\n",
    "\n",
    "REPO_PATH = os.path.dirname(os.path.abspath(os.getcwd()))\n",
    "\n",
    "# We will need files from:\n",
    "# https://huggingface.co/sentence-transformers/clip-ViT-B-32/tree/main\n",
    "# But since there's no clear license for these, we can't put them into source control in this repo.\n",
    "# So we'll need to download them at run time and store in a folder that's ignored by git.\n",
    "CLIP_FILE_WEB_ROOT = 'https://huggingface.co/sentence-transformers/clip-ViT-B-32/resolve/main'\n",
    "REQUIRED_CLIP_FILES = [\n",
    "    (None, 'config_sentence_transformers.json',),\n",
    "    (None, 'modules.json'),\n",
    "    ('0_CLIPModel', 'merges.txt', ),\n",
    "    ('0_CLIPModel', 'preprocessor_config.json', ),\n",
    "    ('0_CLIPModel', 'special_tokens_map.json', ),\n",
    "    ('0_CLIPModel', 'tokenizer_config.json', ),\n",
    "    ('0_CLIPModel', 'vocab.json', ),\n",
    "]\n",
    "\n",
    "def get_required_clip_files(use_model_path):\n",
    "    \"\"\"Populates the use_model directory with the needed CLIP files via\n",
    "    Web requests from Hugging Face\n",
    "    \"\"\"\n",
    "    for sub_dir, filename in REQUIRED_CLIP_FILES:\n",
    "        if sub_dir:\n",
    "            filepath =  os.path.join(use_model_path, sub_dir, filename)\n",
    "            file_url = f'{CLIP_FILE_WEB_ROOT}/{sub_dir}/{filename}'\n",
    "        else:\n",
    "            filepath =  os.path.join(use_model_path, filename)\n",
    "            file_url = f'{CLIP_FILE_WEB_ROOT}/{filename}'\n",
    "        if os.path.exists(filepath):\n",
    "            # We already have this file, no need to download it again.\n",
    "            continue\n",
    "        print(f'Get needed CLIP file from {file_url}')\n",
    "        r = requests.get(file_url)  \n",
    "        with open(filepath, 'wb') as fd:\n",
    "            fd.write(r.content)\n",
    "\n",
    "def move_results_data_into_use_model(results_path, use_model_path):\n",
    "    \"\"\"Moves the results data to the correct place for the use_mode\"\"\"\n",
    "    clip_path =  os.path.join(use_model_path, '0_CLIPModel')\n",
    "    os.makedirs(clip_path, exist_ok=True)\n",
    "    files = [\n",
    "        'model.safetensors', # current preferred format\n",
    "        'pytorch_model.bin', # old-school format\n",
    "        'config.json',\n",
    "    ]\n",
    "    for file in files:\n",
    "        source_path = os.path.join(results_path, file)\n",
    "        use_path = os.path.join(clip_path, file)\n",
    "        if os.path.exists(use_path):\n",
    "            # nothing to do, we already have the expected\n",
    "            # file in the correct place\n",
    "            continue\n",
    "        if not os.path.exists(source_path):\n",
    "            print(f'We do not have the file, cannot move: {source_path}')\n",
    "            continue\n",
    "        os.rename(source_path, use_path)\n",
    "        print(f'Moved {file} to {use_path}')\n",
    "\n",
    "\n",
    "def prepare_usable_model_from_fine_tuned_results(results_path, use_model_dir='fine_tuned_model'):\n",
    "    use_model_path =  os.path.join(results_path, use_model_dir)\n",
    "    # Make sure we have a directory for our overall model\n",
    "    os.makedirs(use_model_path, exist_ok=True)\n",
    "    # Now make sure that overall model has a directory called 0_CLIPModel\n",
    "    clip_path =  os.path.join(use_model_path, '0_CLIPModel')\n",
    "    os.makedirs(clip_path, exist_ok=True)\n",
    "    # Make sure we have all the needed files.\n",
    "    get_required_clip_files(use_model_path)\n",
    "    # Make sure our results data is in the correct place.\n",
    "    move_results_data_into_use_model(results_path, use_model_path)\n",
    "    return use_model_path\n",
    "    "
   ]
  },
  {
   "cell_type": "code",
   "execution_count": 2,
   "id": "751c7d5d-1371-4ee2-92ad-82ff84b74202",
   "metadata": {},
   "outputs": [
    {
     "name": "stdout",
     "output_type": "stream",
     "text": [
      "Get needed CLIP file from https://huggingface.co/sentence-transformers/clip-ViT-B-32/resolve/main/config_sentence_transformers.json\n",
      "Get needed CLIP file from https://huggingface.co/sentence-transformers/clip-ViT-B-32/resolve/main/modules.json\n",
      "Get needed CLIP file from https://huggingface.co/sentence-transformers/clip-ViT-B-32/resolve/main/0_CLIPModel/merges.txt\n",
      "Get needed CLIP file from https://huggingface.co/sentence-transformers/clip-ViT-B-32/resolve/main/0_CLIPModel/preprocessor_config.json\n",
      "Get needed CLIP file from https://huggingface.co/sentence-transformers/clip-ViT-B-32/resolve/main/0_CLIPModel/special_tokens_map.json\n",
      "Get needed CLIP file from https://huggingface.co/sentence-transformers/clip-ViT-B-32/resolve/main/0_CLIPModel/tokenizer_config.json\n",
      "Get needed CLIP file from https://huggingface.co/sentence-transformers/clip-ViT-B-32/resolve/main/0_CLIPModel/vocab.json\n",
      "Moved model.safetensors to /home/ekansa/github/archaeology-images-ai/results/fine_tuned_model/0_CLIPModel/model.safetensors\n",
      "We do not have the file, cannot move: /home/ekansa/github/archaeology-images-ai/results/pytorch_model.bin\n",
      "Moved config.json to /home/ekansa/github/archaeology-images-ai/results/fine_tuned_model/0_CLIPModel/config.json\n",
      "Using the model here: /home/ekansa/github/archaeology-images-ai/results/fine_tuned_model\n"
     ]
    }
   ],
   "source": [
    "import os\n",
    "\n",
    "repo_path = os.path.dirname(os.path.abspath(os.getcwd()))\n",
    "results_path = os.path.join(REPO_PATH, 'results')\n",
    "# Set up our model for use\n",
    "# model_name = 'fine_tuned_model'\n",
    "model_name = None\n",
    "if model_name:\n",
    "    use_model_path = os.path.join(repo_path, 'results', model_name)\n",
    "else:\n",
    "    use_model_path = prepare_usable_model_from_fine_tuned_results(results_path)\n",
    "os.environ['LLM_CLIP_MODEL_PATH'] = use_model_path\n",
    "\n",
    "print(f'Using the model here: {os.getenv(\"LLM_CLIP_MODEL_PATH\")}')\n",
    "\n",
    "train_files = os.path.join(repo_path, 'files', 'training')\n",
    "test_files = os.path.join(repo_path, 'files', 'testing')\n"
   ]
  },
  {
   "cell_type": "code",
   "execution_count": 3,
   "id": "dbb89cbf-0a93-4595-9065-e46e5f3e6700",
   "metadata": {},
   "outputs": [
    {
     "name": "stdout",
     "output_type": "stream",
     "text": [
      "\u001b[?25lEmbedding  [####################################]  100%          \u001b[?25h\n"
     ]
    }
   ],
   "source": [
    "# Load delete any prior embeddings from earlier attempts\n",
    "!llm collections delete photos\n",
    "# Load the test images into embeddings...\n",
    "# !llm embed-multi photos --files {train_files} '*.jpg' --binary -m clip\n",
    "# Load the test images into embeddings...\n",
    "!llm embed-multi photos --files {test_files} '*.jpg' --binary -m clip"
   ]
  },
  {
   "cell_type": "code",
   "execution_count": 4,
   "id": "e507d6ff-4977-4c7c-b6d1-0dcd4099e592",
   "metadata": {},
   "outputs": [],
   "source": [
    "# functions to look up images and captions from the results of llm search\n",
    "import subprocess\n",
    "import json\n",
    "import IPython.display as display\n",
    "import pandas as pd\n",
    "\n",
    "def setup_uuid_keyed_image_metadata(IMAGE_METADATA):\n",
    "    \"\"\"Reads the json file and retrieves the metadata for the given image ids\"\"\"\n",
    "    data_path = os.path.join(REPO_PATH, 'json_data', 'artifact_images_w_sentence_captions.json')\n",
    "    df = pd.read_json(data_path)\n",
    "    for _, row in df.iterrows():\n",
    "        if not row['caption']:\n",
    "            continue\n",
    "        uuid = str(row['media__uuid'])\n",
    "        caption = row['caption']\n",
    "        IMAGE_METADATA[uuid] = caption\n",
    "    return IMAGE_METADATA\n",
    "\n",
    "# Setup the image metadata.\n",
    "IMAGE_METADATA = {}\n",
    "IMAGE_METADATA = setup_uuid_keyed_image_metadata(IMAGE_METADATA)\n",
    "\n",
    "def get_similar_ideas(query):\n",
    "    # Construct the command\n",
    "    cmd = f'llm similar photos -c \"{query}\"'\n",
    "    \n",
    "    # Execute the command and retrieve its output\n",
    "    output = subprocess.check_output(cmd, shell=True)\n",
    "    \n",
    "    # Since the output is a bytes object, decode it to convert it to a string\n",
    "    output_str = output.decode()\n",
    "    \n",
    "    # Split the output by lines and parse each line as JSON\n",
    "    results = [json.loads(line) for line in output_str.split('\\n') if line.strip()]\n",
    "    \n",
    "    # Return the parsed output\n",
    "    return results\n",
    "\n",
    "def get_similar_images(query):\n",
    "    # Construct the command\n",
    "    cmd = f'llm similar photos -i \"{query}\" --binary'\n",
    " \n",
    "    # Execute the command and retrieve its output\n",
    "    output = subprocess.check_output(cmd, shell=True)\n",
    "    \n",
    "    # Since the output is a bytes object, decode it to convert it to a string\n",
    "    output_str = output.decode()\n",
    "    \n",
    "    # Split the output by lines and parse each line as JSON\n",
    "    results = [json.loads(line) for line in output_str.split('\\n') if line.strip()]\n",
    "    \n",
    "    # Return the parsed output\n",
    "    return results\n",
    "\n",
    "def display_similar_ideas(query, metadata=IMAGE_METADATA):\n",
    "    \"Fetches similar ideas using the llm package and displays them with captions\"\n",
    "    similar_images = get_similar_ideas(query)\n",
    "    training_file_path = os.path.join(REPO_PATH, 'files', 'training')\n",
    "    testing_file_path = os.path.join(REPO_PATH, 'files', 'testing')\n",
    "    html_str = ''\n",
    "    for img in similar_images:\n",
    "        score = img['score']\n",
    "        image_id = os.path.join(testing_file_path, img['id'])\n",
    "        if os.path.exists(image_id):\n",
    "            src = f\"../files/testing/{ img['id']}\"  # located in our repo, but under git version control\n",
    "        else:\n",
    "            src = f\"../files/training/{ img['id']}\"  # Experimenting with embeddings from our training set\n",
    "        uuid = img['id'].split('.')[0]  # This will remove the '.jpg' from the image id\n",
    "        caption = metadata.get(uuid, uuid)\n",
    "        url = f\"https://opencontext.org/media/{uuid}\"  # Create the URL by concatenating the base URL and the image id (without 'testing/' and '.jpg')\n",
    "        html_str += f'<div><img src=\"{src}\" width=25% alt=\"Image not found\"> <p><strong>ID:</strong> {image_id}</p><p><strong>Score:</strong> {score}</p><p><strong>Caption:</strong> {caption}</p><p><a href=\"{url}\">Link to full record</a></p></div>'\n",
    "    display.display(display.HTML(html_str))\n",
    "\n",
    "def display_similar_images(query, metadata=IMAGE_METADATA):\n",
    "    \"Fetches similar ideas using the llm package and displays them with captions\"\n",
    "    similar_images = get_similar_images(query)\n",
    "    training_file_path = os.path.join(REPO_PATH, 'files', 'training')\n",
    "    testing_file_path = os.path.join(REPO_PATH, 'files', 'testing')\n",
    "    html_str = ''\n",
    "    if '/files/' in query:\n",
    "        q_file = query.split('/files/')[-1]\n",
    "        q_src = f\"../files/{ q_file}\"\n",
    "        html_str += f'<div>Search for images similar to:<br/><img src=\"{q_src}\" width=25% alt=\"Image not found\" /><p>----------------------------------</p>'\n",
    "        html_str += '<p><strong>Results Below</strong>:</p></div>'\n",
    "    for img in similar_images:\n",
    "        score = img['score']\n",
    "        image_id = os.path.join(testing_file_path, img['id'])\n",
    "        if os.path.exists(image_id):\n",
    "            src = f\"../files/testing/{ img['id']}\"  # located in our repo, but under git version control\n",
    "        else:\n",
    "            src = f\"../files/training/{ img['id']}\"  # Experimenting with embeddings from our training set\n",
    "        uuid = img['id'].split('.')[0]  # This will remove the '.jpg' from the image id\n",
    "        url = f\"https://opencontext.org/media/{uuid}\"\n",
    "        caption = metadata.get(uuid, uuid)        \n",
    "        html_str += f'<div><img src=\"{src}\" width=25% alt=\"Image not found\"> <p><strong>ID:</strong> {image_id}</p><p><strong>Score:</strong> {score}</p><p><strong>Caption:</strong> {caption}</p><p><a href=\"{url}\">Link to full record</a></p></div>'\n",
    "    display.display(display.HTML(html_str))"
   ]
  },
  {
   "cell_type": "code",
   "execution_count": 5,
   "id": "0dd6de70-8548-4422-a54f-414b35027976",
   "metadata": {},
   "outputs": [
    {
     "data": {
      "text/html": [
       "<div><img src=\"../files/testing/14785732-4bcf-4c75-16d0-73b852de77a0.jpg\" width=25% alt=\"Image not found\"> <p><strong>ID:</strong> /home/ekansa/github/archaeology-images-ai/files/testing/14785732-4bcf-4c75-16d0-73b852de77a0.jpg</p><p><strong>Score:</strong> 0.47282558418122933</p><p><strong>Caption:</strong> Image of an archaeological artifact found at Poggio Civitate, in Italy. This architectural element, figure; roofing tile, mainly consists of clay. Context suggests dates of 700 BCE to 535 BCE. Fabric Category: Clay; Object Type: Architectural, Tile (not specified)</p><p><a href=\"https://opencontext.org/media/14785732-4bcf-4c75-16d0-73b852de77a0\">Link to full record</a></p></div><div><img src=\"../files/testing/eda247c0-f699-469f-bb0c-41781eaed773.jpg\" width=25% alt=\"Image not found\"> <p><strong>ID:</strong> /home/ekansa/github/archaeology-images-ai/files/testing/eda247c0-f699-469f-bb0c-41781eaed773.jpg</p><p><strong>Score:</strong> 0.4688380573118699</p><p><strong>Caption:</strong> Image of an archaeological artifact found at Tall al-Umayri, in Jordan. This example of figurines, mainly consists of clay. Record Type (Object or Artifact): Artifact; Designation certainty: Certain; Material: Clay; Preservation: Fragmentary; Craftsmanship: Crude; Allocation: CNEA</p><p><a href=\"https://opencontext.org/media/eda247c0-f699-469f-bb0c-41781eaed773\">Link to full record</a></p></div><div><img src=\"../files/testing/85a80d58-be4d-4654-92a9-251828c91db4.jpg\" width=25% alt=\"Image not found\"> <p><strong>ID:</strong> /home/ekansa/github/archaeology-images-ai/files/testing/85a80d58-be4d-4654-92a9-251828c91db4.jpg</p><p><strong>Score:</strong> 0.4646513485580141</p><p><strong>Caption:</strong> Image of an archaeological artifact found at Poggio Civitate, in Italy. This pottery, vessel; vase; vases, mainly consists of clay. Context suggests dates of 700 BCE to 535 BCE. Fabric Category: Clay; Object Type: Vessel; Vessel Form: Vase</p><p><a href=\"https://opencontext.org/media/85a80d58-be4d-4654-92a9-251828c91db4\">Link to full record</a></p></div><div><img src=\"../files/testing/a17a6ecd-3239-4ddc-9f82-3556aba240aa.jpg\" width=25% alt=\"Image not found\"> <p><strong>ID:</strong> /home/ekansa/github/archaeology-images-ai/files/testing/a17a6ecd-3239-4ddc-9f82-3556aba240aa.jpg</p><p><strong>Score:</strong> 0.46226238578102374</p><p><strong>Caption:</strong> Image of an archaeological artifact found at Poggio Civitate, in Italy. This architectural element, figure; roofing tile, mainly consists of clay. Context suggests dates of 700 BCE to 535 BCE. Fabric Category: Clay; Object Type: Architectural, Tile (not specified)</p><p><a href=\"https://opencontext.org/media/a17a6ecd-3239-4ddc-9f82-3556aba240aa\">Link to full record</a></p></div><div><img src=\"../files/testing/42021572-ad3e-457a-a764-4248a954fd64.jpg\" width=25% alt=\"Image not found\"> <p><strong>ID:</strong> /home/ekansa/github/archaeology-images-ai/files/testing/42021572-ad3e-457a-a764-4248a954fd64.jpg</p><p><strong>Score:</strong> 0.44566383749986715</p><p><strong>Caption:</strong> Image of an archaeological artifact found at Alaska, in United States. This example of lithics, mainly consists of greywacke graywacke. Context suggests dates of 1800 to 1840. Object Description: Lithic; Material: Greywacke; Object Description 2: Net Sinker; Level: L1; Excavator initials: J</p><p><a href=\"https://opencontext.org/media/42021572-ad3e-457a-a764-4248a954fd64\">Link to full record</a></p></div><div><img src=\"../files/testing/c221102e-ea2b-4eec-ea2e-9b44b641587e.jpg\" width=25% alt=\"Image not found\"> <p><strong>ID:</strong> /home/ekansa/github/archaeology-images-ai/files/testing/c221102e-ea2b-4eec-ea2e-9b44b641587e.jpg</p><p><strong>Score:</strong> 0.43954575952758734</p><p><strong>Caption:</strong> Image of an archaeological artifact found at Poggio Civitate, in Italy. This pottery, vessel; pithoi; pithos; pithos, mainly consists of clay. Context suggests dates of 700 BCE to 535 BCE. Fabric Category: Clay; Object Type: Vessel; Vessel Form: Pithos</p><p><a href=\"https://opencontext.org/media/c221102e-ea2b-4eec-ea2e-9b44b641587e\">Link to full record</a></p></div><div><img src=\"../files/testing/24ad2202-521c-462d-9c20-66db77f6957c.jpg\" width=25% alt=\"Image not found\"> <p><strong>ID:</strong> /home/ekansa/github/archaeology-images-ai/files/testing/24ad2202-521c-462d-9c20-66db77f6957c.jpg</p><p><strong>Score:</strong> 0.4342549737920853</p><p><strong>Caption:</strong> Image of an archaeological artifact found at Poggio Civitate, in Italy. This architectural element, figure; roofing tile, mainly consists of clay. Context suggests dates of 700 BCE to 535 BCE. Fabric Category: Clay; Object Type: Architectural, Tile (not specified); Conservation Action: cleaned; Conservation Material: No Value (-)</p><p><a href=\"https://opencontext.org/media/24ad2202-521c-462d-9c20-66db77f6957c\">Link to full record</a></p></div><div><img src=\"../files/testing/8122fbd1-c2f3-4d5c-b186-c3634fbf1136.jpg\" width=25% alt=\"Image not found\"> <p><strong>ID:</strong> /home/ekansa/github/archaeology-images-ai/files/testing/8122fbd1-c2f3-4d5c-b186-c3634fbf1136.jpg</p><p><strong>Score:</strong> 0.43091180323287925</p><p><strong>Caption:</strong> Image of an archaeological artifact found at Poggio Civitate, in Italy. This architectural element, ridge-tile, mainly consists of clay. Context suggests dates of 700 BCE to 535 BCE. Fabric Category: Clay; Object Type: Architectural, Ridge Pole Tile</p><p><a href=\"https://opencontext.org/media/8122fbd1-c2f3-4d5c-b186-c3634fbf1136\">Link to full record</a></p></div><div><img src=\"../files/testing/57e438f1-424d-46ca-9c50-b1006f5d6ef7.jpg\" width=25% alt=\"Image not found\"> <p><strong>ID:</strong> /home/ekansa/github/archaeology-images-ai/files/testing/57e438f1-424d-46ca-9c50-b1006f5d6ef7.jpg</p><p><strong>Score:</strong> 0.4223057247923391</p><p><strong>Caption:</strong> Image of an archaeological artifact found at Poggio Civitate, in Italy. This architectural element, acroterion, acroteria, mainly consists of terracotta (clay material). Context suggests dates of 700 BCE to 535 BCE. Fabric Category: Terracotta; Motif: Hair; Object Type: Architectural, Akroterion</p><p><a href=\"https://opencontext.org/media/57e438f1-424d-46ca-9c50-b1006f5d6ef7\">Link to full record</a></p></div><div><img src=\"../files/testing/0d1f549d-8747-4dd9-8503-daed4d5acd58.jpg\" width=25% alt=\"Image not found\"> <p><strong>ID:</strong> /home/ekansa/github/archaeology-images-ai/files/testing/0d1f549d-8747-4dd9-8503-daed4d5acd58.jpg</p><p><strong>Score:</strong> 0.4186069950981968</p><p><strong>Caption:</strong> Image of an archaeological artifact found at Tall al-Umayri, in Jordan. This example of mortars (grinding tools), mainly consists of limestone. Record Type (Object or Artifact): Object; Designation certainty: Certain; Material: Limestone; Preservation: Complete; Allocation: Site</p><p><a href=\"https://opencontext.org/media/0d1f549d-8747-4dd9-8503-daed4d5acd58\">Link to full record</a></p></div>"
      ],
      "text/plain": [
       "<IPython.core.display.HTML object>"
      ]
     },
     "metadata": {},
     "output_type": "display_data"
    }
   ],
   "source": [
    "query = \"A clay tablet with incisions\"\n",
    "display_similar_ideas(query)"
   ]
  },
  {
   "cell_type": "code",
   "execution_count": 6,
   "id": "1fb1f03b-0301-4990-be23-d577009b9bec",
   "metadata": {},
   "outputs": [
    {
     "data": {
      "text/html": [
       "<div><img src=\"../files/testing/c341434c-ea38-4526-1c82-02a67afc28e4.jpg\" width=25% alt=\"Image not found\"> <p><strong>ID:</strong> /home/ekansa/github/archaeology-images-ai/files/testing/c341434c-ea38-4526-1c82-02a67afc28e4.jpg</p><p><strong>Score:</strong> 0.4446727692884513</p><p><strong>Caption:</strong> Image of an archaeological artifact found at Poggio Civitate, in Italy. This pottery vessel, mainly consists of pottery. Context suggests dates of 700 BCE to 535 BCE. Fabric Category: Impasto; Motif: Female; Object Type: Vessel; Decorative Technique: Incised; Relief; Vessel Form: Form unspecified</p><p><a href=\"https://opencontext.org/media/c341434c-ea38-4526-1c82-02a67afc28e4\">Link to full record</a></p></div><div><img src=\"../files/testing/7056b0b4-e272-4403-60ee-3c5ffc3f30fd.jpg\" width=25% alt=\"Image not found\"> <p><strong>ID:</strong> /home/ekansa/github/archaeology-images-ai/files/testing/7056b0b4-e272-4403-60ee-3c5ffc3f30fd.jpg</p><p><strong>Score:</strong> 0.43485076509076726</p><p><strong>Caption:</strong> Image of an archaeological artifact found at Poggio Civitate, in Italy. This pottery vessel, mainly consists of pottery. Context suggests dates of 700 BCE to 535 BCE. Fabric Category: Impasto; Motif: Female; Object Type: Vessel; Decorative Technique: Incised; Relief; Vessel Form: Form unspecified</p><p><a href=\"https://opencontext.org/media/7056b0b4-e272-4403-60ee-3c5ffc3f30fd\">Link to full record</a></p></div><div><img src=\"../files/testing/42d02c00-05b1-43fc-a423-9e54476e1f49.jpg\" width=25% alt=\"Image not found\"> <p><strong>ID:</strong> /home/ekansa/github/archaeology-images-ai/files/testing/42d02c00-05b1-43fc-a423-9e54476e1f49.jpg</p><p><strong>Score:</strong> 0.4267680473270113</p><p><strong>Caption:</strong> Image of an archaeological artifact found at Poggio Civitate, in Italy. This pottery, vessel; cup; <cups by form>, mainly consists of pottery. Context suggests dates of 700 BCE to 535 BCE. Fabric Category: Impasto; Motif: Female; Object Type: Vessel; Decorative Technique: Incised; Relief; Vessel Form:</p><p><a href=\"https://opencontext.org/media/42d02c00-05b1-43fc-a423-9e54476e1f49\">Link to full record</a></p></div><div><img src=\"../files/testing/b72bad7f-908c-4264-fe36-88c429e91d8e.jpg\" width=25% alt=\"Image not found\"> <p><strong>ID:</strong> /home/ekansa/github/archaeology-images-ai/files/testing/b72bad7f-908c-4264-fe36-88c429e91d8e.jpg</p><p><strong>Score:</strong> 0.4203002317848157</p><p><strong>Caption:</strong> Image of an archaeological artifact found at Poggio Civitate, in Italy. This pottery vessel, mainly consists of bucchero ware bucchero. Context suggests dates of 700 BCE to 535 BCE. Chronology: Securely Orientalizing; Fabric Category: Bucchero; Motif: Female; Object Type: Vessel; Decorative Technique: Relief; Mold</p><p><a href=\"https://opencontext.org/media/b72bad7f-908c-4264-fe36-88c429e91d8e\">Link to full record</a></p></div><div><img src=\"../files/testing/9f91f6db-18e7-48de-35db-92306ded8326.jpg\" width=25% alt=\"Image not found\"> <p><strong>ID:</strong> /home/ekansa/github/archaeology-images-ai/files/testing/9f91f6db-18e7-48de-35db-92306ded8326.jpg</p><p><strong>Score:</strong> 0.4123325559615038</p><p><strong>Caption:</strong> Image of an archaeological artifact found at Poggio Civitate, in Italy. This architectural element, architecture, mainly consists of clay. Context suggests dates of 700 BCE to 535 BCE. Fabric Category: Clay; Motif: Feline; Object Type: Architectural, Unspecified / Misc.</p><p><a href=\"https://opencontext.org/media/9f91f6db-18e7-48de-35db-92306ded8326\">Link to full record</a></p></div><div><img src=\"../files/testing/ddf654ca-22bf-4c0e-5781-dc85342c2f6a.jpg\" width=25% alt=\"Image not found\"> <p><strong>ID:</strong> /home/ekansa/github/archaeology-images-ai/files/testing/ddf654ca-22bf-4c0e-5781-dc85342c2f6a.jpg</p><p><strong>Score:</strong> 0.41223987270246815</p><p><strong>Caption:</strong> Image of an archaeological artifact found at Poggio Civitate, in Italy. This architectural element, acroterion, acroteria, mainly consists of terracotta (clay material). Context suggests dates of 700 BCE to 535 BCE. Chronology: Securely Archaic; Fabric Category: Terracotta; Motif: Feline; Object</p><p><a href=\"https://opencontext.org/media/ddf654ca-22bf-4c0e-5781-dc85342c2f6a\">Link to full record</a></p></div><div><img src=\"../files/testing/02e101e7-78a6-4ecf-09e3-ace362db50b6.jpg\" width=25% alt=\"Image not found\"> <p><strong>ID:</strong> /home/ekansa/github/archaeology-images-ai/files/testing/02e101e7-78a6-4ecf-09e3-ace362db50b6.jpg</p><p><strong>Score:</strong> 0.4066378600286093</p><p><strong>Caption:</strong> Image of an archaeological artifact found at Poggio Civitate, in Italy. This pottery, vessel; oinochoe; oenochoe; oinochoai, mainly consists of pottery. Context suggests dates of 700 BCE to 535 BCE. Chronology: Probably Archaic; Fabric Category: Impasto; Object Type: Vessel; Vessel Form</p><p><a href=\"https://opencontext.org/media/02e101e7-78a6-4ecf-09e3-ace362db50b6\">Link to full record</a></p></div><div><img src=\"../files/testing/1f078603-410a-4b2e-5c4f-08d1413d9836.jpg\" width=25% alt=\"Image not found\"> <p><strong>ID:</strong> /home/ekansa/github/archaeology-images-ai/files/testing/1f078603-410a-4b2e-5c4f-08d1413d9836.jpg</p><p><strong>Score:</strong> 0.40234712461135785</p><p><strong>Caption:</strong> Image of an archaeological artifact found at Poggio Civitate, in Italy. This pottery vessel, mainly consists of pottery. Context suggests dates of 700 BCE to 535 BCE. Fabric Category: Impasto; Motif: Female; Object Type: Vessel; Decorative Technique: Incised; Molded; Vessel Form: Form unspecified; Conservation Action: cleaned;</p><p><a href=\"https://opencontext.org/media/1f078603-410a-4b2e-5c4f-08d1413d9836\">Link to full record</a></p></div><div><img src=\"../files/testing/f9a300b3-36eb-4efa-ec39-7d7fdee943d1.jpg\" width=25% alt=\"Image not found\"> <p><strong>ID:</strong> /home/ekansa/github/archaeology-images-ai/files/testing/f9a300b3-36eb-4efa-ec39-7d7fdee943d1.jpg</p><p><strong>Score:</strong> 0.4008098945669946</p><p><strong>Caption:</strong> Image of an archaeological artifact found at Poggio Civitate, in Italy. This pottery, vessel; oinochoe; oenochoe; oinochoai, mainly consists of pottery. Context suggests dates of 700 BCE to 535 BCE. Chronology: Probably Archaic; Fabric Category: Italo-Corinthian Ware; Motif: Circ</p><p><a href=\"https://opencontext.org/media/f9a300b3-36eb-4efa-ec39-7d7fdee943d1\">Link to full record</a></p></div><div><img src=\"../files/testing/83c7d882-bb53-4580-1517-b85aacdb0b43.jpg\" width=25% alt=\"Image not found\"> <p><strong>ID:</strong> /home/ekansa/github/archaeology-images-ai/files/testing/83c7d882-bb53-4580-1517-b85aacdb0b43.jpg</p><p><strong>Score:</strong> 0.40003247999839303</p><p><strong>Caption:</strong> Image of an archaeological artifact found at Poggio Civitate, in Italy. This example of statuette; figurines, mainly consists of ivory (material). Context suggests dates of 700 BCE to 535 BCE. Fabric Category: Ivory; Motif: Notches; Duck; Ram; Object Type: Figurine / Statuette; Decorative Technique: Appl</p><p><a href=\"https://opencontext.org/media/83c7d882-bb53-4580-1517-b85aacdb0b43\">Link to full record</a></p></div>"
      ],
      "text/plain": [
       "<IPython.core.display.HTML object>"
      ]
     },
     "metadata": {},
     "output_type": "display_data"
    }
   ],
   "source": [
    "query = \"A woman's face\"\n",
    "display_similar_ideas(query)"
   ]
  },
  {
   "cell_type": "code",
   "execution_count": 7,
   "id": "87fdc260-d24d-4466-bd67-7b98d0b09b24",
   "metadata": {},
   "outputs": [
    {
     "data": {
      "text/html": [
       "<div><img src=\"../files/testing/2a34721f-0109-43ca-5b67-026a36dcc9d0.jpg\" width=25% alt=\"Image not found\"> <p><strong>ID:</strong> /home/ekansa/github/archaeology-images-ai/files/testing/2a34721f-0109-43ca-5b67-026a36dcc9d0.jpg</p><p><strong>Score:</strong> 0.4838931231626511</p><p><strong>Caption:</strong> Image of an archaeological artifact found at Poggio Civitate, in Italy. This pottery vessel, mainly consists of pottery. Context suggests dates of 700 BCE to 535 BCE. Fabric Category: Impasto; Object Type: Vessel; Decorative Technique: Inscribed; Vessel Form: Form unspecified</p><p><a href=\"https://opencontext.org/media/2a34721f-0109-43ca-5b67-026a36dcc9d0\">Link to full record</a></p></div><div><img src=\"../files/testing/dfac5caf-9b21-4ee0-a1ba-0df455b26c29.jpg\" width=25% alt=\"Image not found\"> <p><strong>ID:</strong> /home/ekansa/github/archaeology-images-ai/files/testing/dfac5caf-9b21-4ee0-a1ba-0df455b26c29.jpg</p><p><strong>Score:</strong> 0.4392860237160114</p><p><strong>Caption:</strong> Image of an archaeological artifact found at Poggio Civitate, in Italy. This pottery vessel, mainly consists of pottery. Context suggests dates of 700 BCE to 535 BCE. Fabric Category: Impasto; Object Type: Vessel; Decorative Technique: Inscribed; Vessel Form: Form unspecified</p><p><a href=\"https://opencontext.org/media/dfac5caf-9b21-4ee0-a1ba-0df455b26c29\">Link to full record</a></p></div><div><img src=\"../files/testing/44a8087e-6e07-4a71-ca3b-87d75fb8311f.jpg\" width=25% alt=\"Image not found\"> <p><strong>ID:</strong> /home/ekansa/github/archaeology-images-ai/files/testing/44a8087e-6e07-4a71-ca3b-87d75fb8311f.jpg</p><p><strong>Score:</strong> 0.4219676122042141</p><p><strong>Caption:</strong> Image of an archaeological artifact found at Poggio Civitate, in Italy. This pottery vessel, mainly consists of terracotta (clay material). Context suggests dates of 700 BCE to 535 BCE. Fabric Category: Terracotta; Object Type: Vessel; Decorative Technique: Incised; Inscribed; Vessel Form: Form unspecified</p><p><a href=\"https://opencontext.org/media/44a8087e-6e07-4a71-ca3b-87d75fb8311f\">Link to full record</a></p></div><div><img src=\"../files/testing/a711f99a-4c24-4a56-356a-1b5330093edb.jpg\" width=25% alt=\"Image not found\"> <p><strong>ID:</strong> /home/ekansa/github/archaeology-images-ai/files/testing/a711f99a-4c24-4a56-356a-1b5330093edb.jpg</p><p><strong>Score:</strong> 0.397145572039535</p><p><strong>Caption:</strong> Image of an archaeological artifact found at Poggio Civitate, in Italy. This pottery, vessel; vase; vases, mainly consists of clay. Context suggests dates of 700 BCE to 535 BCE. Fabric Category: Clay; Object Type: Vessel; Decorative Technique: Inscribed; Vessel Form: Vase</p><p><a href=\"https://opencontext.org/media/a711f99a-4c24-4a56-356a-1b5330093edb\">Link to full record</a></p></div><div><img src=\"../files/testing/63286f4a-3a65-47a4-f6d0-b383f03bf74f.jpg\" width=25% alt=\"Image not found\"> <p><strong>ID:</strong> /home/ekansa/github/archaeology-images-ai/files/testing/63286f4a-3a65-47a4-f6d0-b383f03bf74f.jpg</p><p><strong>Score:</strong> 0.3908803260749207</p><p><strong>Caption:</strong> Image of an archaeological artifact found at Poggio Civitate, in Italy. This architectural element, plaque or flat object, mainly consists of clay. Context suggests dates of 700 BCE to 535 BCE. Chronology: Securely Archaic; Fabric Category: Clay; Motif: Banquet; Object Type: Architectural, Frieze Plaque</p><p><a href=\"https://opencontext.org/media/63286f4a-3a65-47a4-f6d0-b383f03bf74f\">Link to full record</a></p></div><div><img src=\"../files/testing/9a0df56a-5d44-4057-7211-d131e9451deb.jpg\" width=25% alt=\"Image not found\"> <p><strong>ID:</strong> /home/ekansa/github/archaeology-images-ai/files/testing/9a0df56a-5d44-4057-7211-d131e9451deb.jpg</p><p><strong>Score:</strong> 0.3788021676167086</p><p><strong>Caption:</strong> Image of an archaeological artifact found at Poggio Civitate, in Italy. This pottery vessel, mainly consists of pottery ceramic (material). Context suggests dates of 700 BCE to 535 BCE. Fabric Category: Coarse Ware; Object Type: Vessel; Decorative Technique: Inscribed; Vessel Form: Form unspecified</p><p><a href=\"https://opencontext.org/media/9a0df56a-5d44-4057-7211-d131e9451deb\">Link to full record</a></p></div><div><img src=\"../files/testing/84ab73c2-e200-409d-8a38-37ba6bb8ef75.jpg\" width=25% alt=\"Image not found\"> <p><strong>ID:</strong> /home/ekansa/github/archaeology-images-ai/files/testing/84ab73c2-e200-409d-8a38-37ba6bb8ef75.jpg</p><p><strong>Score:</strong> 0.3767428555280266</p><p><strong>Caption:</strong> Image of an archaeological artifact found at Poggio Civitate, in Italy. This pottery vessel, mainly consists of pottery. Context suggests dates of 700 BCE to 535 BCE. Fabric Category: Impasto; Object Type: Vessel; Decorative Technique: Inscribed; Incised; Vessel Form: Form unspecified</p><p><a href=\"https://opencontext.org/media/84ab73c2-e200-409d-8a38-37ba6bb8ef75\">Link to full record</a></p></div><div><img src=\"../files/testing/6ad52eb6-9d67-4d82-8657-661707f87e99.jpg\" width=25% alt=\"Image not found\"> <p><strong>ID:</strong> /home/ekansa/github/archaeology-images-ai/files/testing/6ad52eb6-9d67-4d82-8657-661707f87e99.jpg</p><p><strong>Score:</strong> 0.3767351830827565</p><p><strong>Caption:</strong> Image of an archaeological artifact found at Tell en-Nasbeh, in Palestinian Authority. This example of lithics, mainly consists of chert flint (rock). Condition: Stable; Category Type: Lithic; Material: Flint; Subcatagory: Lithic - Tool; Manufacture: Handmade</p><p><a href=\"https://opencontext.org/media/6ad52eb6-9d67-4d82-8657-661707f87e99\">Link to full record</a></p></div><div><img src=\"../files/testing/538233f4-b876-45bc-444a-147fc3ffd744.jpg\" width=25% alt=\"Image not found\"> <p><strong>ID:</strong> /home/ekansa/github/archaeology-images-ai/files/testing/538233f4-b876-45bc-444a-147fc3ffd744.jpg</p><p><strong>Score:</strong> 0.37270470451242443</p><p><strong>Caption:</strong> Image of an archaeological artifact found at Poggio Civitate, in Italy. This architectural element, roof-tile; cover tile, mainly consists of clay. Context suggests dates of 700 BCE to 535 BCE. Fabric Category: Clay; Object Type: Architectural, Cover Tile; Decorative Technique: Incised</p><p><a href=\"https://opencontext.org/media/538233f4-b876-45bc-444a-147fc3ffd744\">Link to full record</a></p></div><div><img src=\"../files/testing/bd3924c5-f201-410d-9155-46775e5fa0e7.jpg\" width=25% alt=\"Image not found\"> <p><strong>ID:</strong> /home/ekansa/github/archaeology-images-ai/files/testing/bd3924c5-f201-410d-9155-46775e5fa0e7.jpg</p><p><strong>Score:</strong> 0.3722747251692623</p><p><strong>Caption:</strong> Image of an archaeological artifact found at Tell en-Nasbeh, in Palestinian Authority. This example of lithics, mainly consists of chert flint (rock). Condition: Stable; Category Type: Lithic; Material: Flint; Subcatagory: Lithic - Tool; Manufacture: Handmade</p><p><a href=\"https://opencontext.org/media/bd3924c5-f201-410d-9155-46775e5fa0e7\">Link to full record</a></p></div>"
      ],
      "text/plain": [
       "<IPython.core.display.HTML object>"
      ]
     },
     "metadata": {},
     "output_type": "display_data"
    }
   ],
   "source": [
    "query = \"Something inscribed with hieroglyphics\"\n",
    "display_similar_ideas(query)"
   ]
  },
  {
   "cell_type": "code",
   "execution_count": 8,
   "id": "3aedffa5-f94e-4f09-858f-d3941e3f8168",
   "metadata": {},
   "outputs": [
    {
     "data": {
      "text/html": [
       "<div><img src=\"../files/testing/1df7224e-2ad2-4981-ea36-4b368e6b9064.jpg\" width=25% alt=\"Image not found\"> <p><strong>ID:</strong> /home/ekansa/github/archaeology-images-ai/files/testing/1df7224e-2ad2-4981-ea36-4b368e6b9064.jpg</p><p><strong>Score:</strong> 0.3914421815467466</p><p><strong>Caption:</strong> Image of an archaeological artifact found at Poggio Civitate, in Italy. This example of disc; disks (object genres), mainly consists of amber. Context suggests dates of 700 BCE to 535 BCE. Fabric Category: Amber; Object Type: Shaped Object, Disc</p><p><a href=\"https://opencontext.org/media/1df7224e-2ad2-4981-ea36-4b368e6b9064\">Link to full record</a></p></div><div><img src=\"../files/testing/9c97b6ef-5045-4a2d-dee3-0b94aa7db287.jpg\" width=25% alt=\"Image not found\"> <p><strong>ID:</strong> /home/ekansa/github/archaeology-images-ai/files/testing/9c97b6ef-5045-4a2d-dee3-0b94aa7db287.jpg</p><p><strong>Score:</strong> 0.3767562869506082</p><p><strong>Caption:</strong> Image of an archaeological artifact found at Domuztepe, in Turkey. This coin, coins (money), mainly consists of billon. Context suggests dates of 300 to 400. It was originally made at Nicomedia. Artifact Name: Coin; Material: Billon; Initials: EM; Conservation: partially; Mint: SMNA Nicomedia</p><p><a href=\"https://opencontext.org/media/9c97b6ef-5045-4a2d-dee3-0b94aa7db287\">Link to full record</a></p></div><div><img src=\"../files/testing/2556f1b6-054c-4c03-809a-e6ccdc3ef9ec.jpg\" width=25% alt=\"Image not found\"> <p><strong>ID:</strong> /home/ekansa/github/archaeology-images-ai/files/testing/2556f1b6-054c-4c03-809a-e6ccdc3ef9ec.jpg</p><p><strong>Score:</strong> 0.3698242159439494</p><p><strong>Caption:</strong> Image of an archaeological artifact found at Tall al-Umayri, in Jordan. This object is classified as coins (money). Record Type (Object or Artifact): Object</p><p><a href=\"https://opencontext.org/media/2556f1b6-054c-4c03-809a-e6ccdc3ef9ec\">Link to full record</a></p></div><div><img src=\"../files/testing/ec2df0b2-7bde-45ae-8dcc-b15448d3cd6d.jpg\" width=25% alt=\"Image not found\"> <p><strong>ID:</strong> /home/ekansa/github/archaeology-images-ai/files/testing/ec2df0b2-7bde-45ae-8dcc-b15448d3cd6d.jpg</p><p><strong>Score:</strong> 0.36712986448669</p><p><strong>Caption:</strong> Image of an archaeological artifact found at Poggio Civitate, in Italy. This example of bead; beads (pierced objects), mainly consists of amber. Context suggests dates of 700 BCE to 535 BCE. Fabric Category: Amber; Object Type: Costume, Accessories, Bead</p><p><a href=\"https://opencontext.org/media/ec2df0b2-7bde-45ae-8dcc-b15448d3cd6d\">Link to full record</a></p></div><div><img src=\"../files/testing/4de707e2-3279-426d-8ef3-362412c7a010.jpg\" width=25% alt=\"Image not found\"> <p><strong>ID:</strong> /home/ekansa/github/archaeology-images-ai/files/testing/4de707e2-3279-426d-8ef3-362412c7a010.jpg</p><p><strong>Score:</strong> 0.36674251135561037</p><p><strong>Caption:</strong> Image of an archaeological artifact found at PKAP Survey Area, in Cyprus. This example of ceramic (material), mainly consists of pottery (visual works). Chronotype: Cypriot Red Slip 8; Material: pottery; Fabric group: fine; Period: Roman, Late; Extant Part(s): rim; Color: pink</p><p><a href=\"https://opencontext.org/media/4de707e2-3279-426d-8ef3-362412c7a010\">Link to full record</a></p></div><div><img src=\"../files/testing/4d9d6bae-8616-4c7d-989e-8153fd4c5136.jpg\" width=25% alt=\"Image not found\"> <p><strong>ID:</strong> /home/ekansa/github/archaeology-images-ai/files/testing/4d9d6bae-8616-4c7d-989e-8153fd4c5136.jpg</p><p><strong>Score:</strong> 0.35897204100550223</p><p><strong>Caption:</strong> Image of an archaeological artifact found at Gabii, in Italy. This object is classified as coins (money). Context suggests dates of 675 BCE to 0. Special Find Object Type: Coin</p><p><a href=\"https://opencontext.org/media/4d9d6bae-8616-4c7d-989e-8153fd4c5136\">Link to full record</a></p></div><div><img src=\"../files/testing/f585610b-ff2f-4000-7ba6-e953d22f9f05.jpg\" width=25% alt=\"Image not found\"> <p><strong>ID:</strong> /home/ekansa/github/archaeology-images-ai/files/testing/f585610b-ff2f-4000-7ba6-e953d22f9f05.jpg</p><p><strong>Score:</strong> 0.35768690249795404</p><p><strong>Caption:</strong> Image of an archaeological artifact found at PKAP Survey Area, in Cyprus. This object is classified as eastern sigillata a. Chronotype: Eastern Sigillata A</p><p><a href=\"https://opencontext.org/media/f585610b-ff2f-4000-7ba6-e953d22f9f05\">Link to full record</a></p></div><div><img src=\"../files/testing/3b6cc9c4-1984-45b8-7e55-69daa832c795.jpg\" width=25% alt=\"Image not found\"> <p><strong>ID:</strong> /home/ekansa/github/archaeology-images-ai/files/testing/3b6cc9c4-1984-45b8-7e55-69daa832c795.jpg</p><p><strong>Score:</strong> 0.35534644776902363</p><p><strong>Caption:</strong> Image of an archaeological artifact found at Poggio Civitate, in Italy. This example of sample; biological material, mainly consists of amber. Context suggests dates of 700 BCE to 535 BCE. Fabric Category: Amber; Object Type: Organic (ecofact)</p><p><a href=\"https://opencontext.org/media/3b6cc9c4-1984-45b8-7e55-69daa832c795\">Link to full record</a></p></div><div><img src=\"../files/testing/7e724ef1-71ef-437b-8571-ace991934478.jpg\" width=25% alt=\"Image not found\"> <p><strong>ID:</strong> /home/ekansa/github/archaeology-images-ai/files/testing/7e724ef1-71ef-437b-8571-ace991934478.jpg</p><p><strong>Score:</strong> 0.35329572350632704</p><p><strong>Caption:</strong> Image of an archaeological artifact found at Poggio Civitate, in Italy. This example of artefact, mainly consists of antler. Context suggests dates of 700 BCE to 535 BCE. Fabric Category: Antler; Object Type: Production Material, Worked Antler</p><p><a href=\"https://opencontext.org/media/7e724ef1-71ef-437b-8571-ace991934478\">Link to full record</a></p></div><div><img src=\"../files/testing/e307555c-9856-4e3d-ac63-7d197e06d281.jpg\" width=25% alt=\"Image not found\"> <p><strong>ID:</strong> /home/ekansa/github/archaeology-images-ai/files/testing/e307555c-9856-4e3d-ac63-7d197e06d281.jpg</p><p><strong>Score:</strong> 0.35105080514579434</p><p><strong>Caption:</strong> Image of an archaeological artifact found at PKAP Survey Area, in Cyprus. This object is classified as late roman 1 amphora. Chronotype: Amphora, Late Roman 1</p><p><a href=\"https://opencontext.org/media/e307555c-9856-4e3d-ac63-7d197e06d281\">Link to full record</a></p></div>"
      ],
      "text/plain": [
       "<IPython.core.display.HTML object>"
      ]
     },
     "metadata": {},
     "output_type": "display_data"
    }
   ],
   "source": [
    "query = \"A coin with a Roman emperor\"\n",
    "display_similar_ideas(query)"
   ]
  },
  {
   "cell_type": "code",
   "execution_count": 9,
   "id": "93eecd75-a694-47b0-909d-91fa64694dbf",
   "metadata": {},
   "outputs": [
    {
     "data": {
      "text/html": [
       "<div><img src=\"../files/testing/1ef70f34-5f4b-40c0-1096-41e902d3a9ad.jpg\" width=25% alt=\"Image not found\"> <p><strong>ID:</strong> /home/ekansa/github/archaeology-images-ai/files/testing/1ef70f34-5f4b-40c0-1096-41e902d3a9ad.jpg</p><p><strong>Score:</strong> 0.39294051941984437</p><p><strong>Caption:</strong> Image of an archaeological artifact found at Poggio Civitate, in Italy. This pottery, vessel; oinochoe; oenochoe; oinochoai, mainly consists of pottery. Context suggests dates of 700 BCE to 535 BCE. Fabric Category: Italo-Corinthian Ware; Object Type: Vessel; Decorative Technique: Painted</p><p><a href=\"https://opencontext.org/media/1ef70f34-5f4b-40c0-1096-41e902d3a9ad\">Link to full record</a></p></div><div><img src=\"../files/testing/58f59109-68f5-4a48-3536-5c4a8c98ef40.jpg\" width=25% alt=\"Image not found\"> <p><strong>ID:</strong> /home/ekansa/github/archaeology-images-ai/files/testing/58f59109-68f5-4a48-3536-5c4a8c98ef40.jpg</p><p><strong>Score:</strong> 0.389505390042611</p><p><strong>Caption:</strong> Image of an archaeological artifact found at Poggio Civitate, in Italy. This architectural element, acroterion, acroteria, mainly consists of terracotta (clay material). Context suggests dates of 700 BCE to 535 BCE. Fabric Category: Terracotta; Object Type: Architectural, Akroterion</p><p><a href=\"https://opencontext.org/media/58f59109-68f5-4a48-3536-5c4a8c98ef40\">Link to full record</a></p></div><div><img src=\"../files/testing/6580949e-d14e-4125-1586-65ddfee0c10d.jpg\" width=25% alt=\"Image not found\"> <p><strong>ID:</strong> /home/ekansa/github/archaeology-images-ai/files/testing/6580949e-d14e-4125-1586-65ddfee0c10d.jpg</p><p><strong>Score:</strong> 0.38588422165847563</p><p><strong>Caption:</strong> Image of an archaeological artifact found at Poggio Civitate, in Italy. This pottery, vessel; cooking-stand, mainly consists of terracotta (clay material). Context suggests dates of 700 BCE to 535 BCE. Fabric Category: Terracotta; Object Type: Vessel; Vessel Form: Cooking stand</p><p><a href=\"https://opencontext.org/media/6580949e-d14e-4125-1586-65ddfee0c10d\">Link to full record</a></p></div><div><img src=\"../files/testing/89a56f43-bea6-4ed2-7f04-c738a06d640c.jpg\" width=25% alt=\"Image not found\"> <p><strong>ID:</strong> /home/ekansa/github/archaeology-images-ai/files/testing/89a56f43-bea6-4ed2-7f04-c738a06d640c.jpg</p><p><strong>Score:</strong> 0.3831806097211497</p><p><strong>Caption:</strong> Image of an archaeological artifact found at Poggio Civitate, in Italy. This pottery vessel, mainly consists of pottery. Context suggests dates of 700 BCE to 535 BCE. Fabric Category: Italo-Corinthian Ware; Object Type: Vessel; Decorative Technique: Painted; Vessel Form: Form unspecified; Conservation Action: cleaned; Conservation Material:</p><p><a href=\"https://opencontext.org/media/89a56f43-bea6-4ed2-7f04-c738a06d640c\">Link to full record</a></p></div><div><img src=\"../files/testing/41f87a17-d5ce-4892-a255-2bb60e6158e7.jpg\" width=25% alt=\"Image not found\"> <p><strong>ID:</strong> /home/ekansa/github/archaeology-images-ai/files/testing/41f87a17-d5ce-4892-a255-2bb60e6158e7.jpg</p><p><strong>Score:</strong> 0.3795785148518059</p><p><strong>Caption:</strong> Image of an archaeological artifact found at Poggio Civitate, in Italy. This example of blade; blades (tool and equipment components), mainly consists of iron (metal). Context suggests dates of 700 BCE to 535 BCE. Fabric Category: Iron; Object Type: Tool / Weapon, Blade; Conservation Action: cleaned; Conservation Material: acetone</p><p><a href=\"https://opencontext.org/media/41f87a17-d5ce-4892-a255-2bb60e6158e7\">Link to full record</a></p></div><div><img src=\"../files/testing/044a3250-6960-42c5-d5f3-0a5c5e7de80a.jpg\" width=25% alt=\"Image not found\"> <p><strong>ID:</strong> /home/ekansa/github/archaeology-images-ai/files/testing/044a3250-6960-42c5-d5f3-0a5c5e7de80a.jpg</p><p><strong>Score:</strong> 0.3785792700036339</p><p><strong>Caption:</strong> Image of an archaeological artifact found at Poggio Civitate, in Italy. This pottery vessel, mainly consists of pottery. Context suggests dates of 700 BCE to 535 BCE. Fabric Category: Impasto; Object Type: Vessel; Vessel Form: Form unspecified</p><p><a href=\"https://opencontext.org/media/044a3250-6960-42c5-d5f3-0a5c5e7de80a\">Link to full record</a></p></div><div><img src=\"../files/testing/1e4a06ff-f4c4-417f-7db2-c09f147f7dc3.jpg\" width=25% alt=\"Image not found\"> <p><strong>ID:</strong> /home/ekansa/github/archaeology-images-ai/files/testing/1e4a06ff-f4c4-417f-7db2-c09f147f7dc3.jpg</p><p><strong>Score:</strong> 0.37705569158991753</p><p><strong>Caption:</strong> Image of an archaeological artifact found at Poggio Civitate, in Italy. This pottery vessel, mainly consists of pottery. Context suggests dates of 700 BCE to 535 BCE. Fabric Category: Ionic Ware; Object Type: Vessel; Decorative Technique: Painted; Vessel Form: Form unspecified</p><p><a href=\"https://opencontext.org/media/1e4a06ff-f4c4-417f-7db2-c09f147f7dc3\">Link to full record</a></p></div><div><img src=\"../files/testing/79f9c607-1907-443d-019b-5f699b77e072.jpg\" width=25% alt=\"Image not found\"> <p><strong>ID:</strong> /home/ekansa/github/archaeology-images-ai/files/testing/79f9c607-1907-443d-019b-5f699b77e072.jpg</p><p><strong>Score:</strong> 0.37577421379757614</p><p><strong>Caption:</strong> Image of an archaeological artifact found at Poggio Civitate, in Italy. This pottery vessel, mainly consists of bucchero ware bucchero. Context suggests dates of 700 BCE to 535 BCE. Fabric Category: Bucchero; Object Type: Vessel; Decorative Technique: Stamped; Molded; Vessel Form: Form unspecified; Conservation Action:</p><p><a href=\"https://opencontext.org/media/79f9c607-1907-443d-019b-5f699b77e072\">Link to full record</a></p></div><div><img src=\"../files/testing/9cad1d13-15d8-4676-90e5-d818dfa43902.jpg\" width=25% alt=\"Image not found\"> <p><strong>ID:</strong> /home/ekansa/github/archaeology-images-ai/files/testing/9cad1d13-15d8-4676-90e5-d818dfa43902.jpg</p><p><strong>Score:</strong> 0.37450584870277903</p><p><strong>Caption:</strong> Image of an archaeological artifact found at Poggio Civitate, in Italy. This pottery vessel, mainly consists of terracotta (clay material). Context suggests dates of 700 BCE to 535 BCE. Fabric Category: Terracotta; Object Type: Vessel; Vessel Form: Form unspecified</p><p><a href=\"https://opencontext.org/media/9cad1d13-15d8-4676-90e5-d818dfa43902\">Link to full record</a></p></div><div><img src=\"../files/testing/cf238dc5-828a-4f05-e4f4-401bb8359f7e.jpg\" width=25% alt=\"Image not found\"> <p><strong>ID:</strong> /home/ekansa/github/archaeology-images-ai/files/testing/cf238dc5-828a-4f05-e4f4-401bb8359f7e.jpg</p><p><strong>Score:</strong> 0.373016788755381</p><p><strong>Caption:</strong> Image of an archaeological artifact found at Poggio Civitate, in Italy. This example of sample; biological material, mainly consists of bone (material). Context suggests dates of 700 BCE to 535 BCE. Chronology: Probably Orientalizing; Fabric Category: Bone; Object Type: Organic (ecofact)</p><p><a href=\"https://opencontext.org/media/cf238dc5-828a-4f05-e4f4-401bb8359f7e\">Link to full record</a></p></div>"
      ],
      "text/plain": [
       "<IPython.core.display.HTML object>"
      ]
     },
     "metadata": {},
     "output_type": "display_data"
    }
   ],
   "source": [
    "query = \"A scene depicting people and furniture\"\n",
    "display_similar_ideas(query)"
   ]
  },
  {
   "cell_type": "code",
   "execution_count": 10,
   "id": "e6c29f01-c780-4811-b604-05942bfaa6aa",
   "metadata": {},
   "outputs": [
    {
     "data": {
      "text/html": [
       "<div><img src=\"../files/testing/9f91f6db-18e7-48de-35db-92306ded8326.jpg\" width=25% alt=\"Image not found\"> <p><strong>ID:</strong> /home/ekansa/github/archaeology-images-ai/files/testing/9f91f6db-18e7-48de-35db-92306ded8326.jpg</p><p><strong>Score:</strong> 0.44601532975650077</p><p><strong>Caption:</strong> Image of an archaeological artifact found at Poggio Civitate, in Italy. This architectural element, architecture, mainly consists of clay. Context suggests dates of 700 BCE to 535 BCE. Fabric Category: Clay; Motif: Feline; Object Type: Architectural, Unspecified / Misc.</p><p><a href=\"https://opencontext.org/media/9f91f6db-18e7-48de-35db-92306ded8326\">Link to full record</a></p></div><div><img src=\"../files/testing/5185d9e0-48d5-4784-e355-2c2129203012.jpg\" width=25% alt=\"Image not found\"> <p><strong>ID:</strong> /home/ekansa/github/archaeology-images-ai/files/testing/5185d9e0-48d5-4784-e355-2c2129203012.jpg</p><p><strong>Score:</strong> 0.42008288999241467</p><p><strong>Caption:</strong> Image of an archaeological artifact found at Poggio Civitate, in Italy. This example of statuette; figurines, mainly consists of ivory (material). Context suggests dates of 700 BCE to 535 BCE. Chronology: Securely Orientalizing; Fabric Category: Ivory; Motif: Animal; Object Type: Figurine / Statuette; Decorative</p><p><a href=\"https://opencontext.org/media/5185d9e0-48d5-4784-e355-2c2129203012\">Link to full record</a></p></div><div><img src=\"../files/testing/c0b94349-1233-4a96-c4ba-6963b43d6889.jpg\" width=25% alt=\"Image not found\"> <p><strong>ID:</strong> /home/ekansa/github/archaeology-images-ai/files/testing/c0b94349-1233-4a96-c4ba-6963b43d6889.jpg</p><p><strong>Score:</strong> 0.4081717278231428</p><p><strong>Caption:</strong> Image of an archaeological artifact found at Poggio Civitate, in Italy. This architectural element, architecture, mainly consists of terracotta (clay material). Context suggests dates of 700 BCE to 535 BCE. Fabric Category: Terracotta; Motif: Feline; Object Type: Architectural, Unspecified / Misc.</p><p><a href=\"https://opencontext.org/media/c0b94349-1233-4a96-c4ba-6963b43d6889\">Link to full record</a></p></div><div><img src=\"../files/testing/4ec0de05-e838-488a-8f4a-5d8db7a0c038.jpg\" width=25% alt=\"Image not found\"> <p><strong>ID:</strong> /home/ekansa/github/archaeology-images-ai/files/testing/4ec0de05-e838-488a-8f4a-5d8db7a0c038.jpg</p><p><strong>Score:</strong> 0.407230932176366</p><p><strong>Caption:</strong> Image of an archaeological artifact found at Poggio Civitate, in Italy. This architectural element, architecture, mainly consists of clay. Context suggests dates of 700 BCE to 535 BCE. Fabric Category: Clay; Motif: Feline; Object Type: Architectural, Unspecified / Misc.; Decorative Technique: Painted</p><p><a href=\"https://opencontext.org/media/4ec0de05-e838-488a-8f4a-5d8db7a0c038\">Link to full record</a></p></div><div><img src=\"../files/testing/749065d3-32ff-45c4-547b-b1729a174162.jpg\" width=25% alt=\"Image not found\"> <p><strong>ID:</strong> /home/ekansa/github/archaeology-images-ai/files/testing/749065d3-32ff-45c4-547b-b1729a174162.jpg</p><p><strong>Score:</strong> 0.40613980760211915</p><p><strong>Caption:</strong> Image of an archaeological artifact found at Poggio Civitate, in Italy. This pottery vessel, mainly consists of terracotta (clay material). Context suggests dates of 700 BCE to 535 BCE. Fabric Category: Terracotta; Motif: Feline; Object Type: Vessel; Vessel Form: Form unspecified</p><p><a href=\"https://opencontext.org/media/749065d3-32ff-45c4-547b-b1729a174162\">Link to full record</a></p></div><div><img src=\"../files/testing/5e471f10-fc86-4384-a21f-cb29065e2ffb.jpg\" width=25% alt=\"Image not found\"> <p><strong>ID:</strong> /home/ekansa/github/archaeology-images-ai/files/testing/5e471f10-fc86-4384-a21f-cb29065e2ffb.jpg</p><p><strong>Score:</strong> 0.40589346064430304</p><p><strong>Caption:</strong> Image of an archaeological artifact found at Poggio Civitate, in Italy. This pottery vessel, mainly consists of pottery. Context suggests dates of 700 BCE to 535 BCE. Fabric Category: Impasto; Motif: Feline; Animal; Panther; Object Type: Vessel; Decorative Technique: Relief; Molded; Vessel Form: Form unspecified</p><p><a href=\"https://opencontext.org/media/5e471f10-fc86-4384-a21f-cb29065e2ffb\">Link to full record</a></p></div><div><img src=\"../files/testing/18b309ee-d6bd-4b8b-1d3b-b5ff7eaf437e.jpg\" width=25% alt=\"Image not found\"> <p><strong>ID:</strong> /home/ekansa/github/archaeology-images-ai/files/testing/18b309ee-d6bd-4b8b-1d3b-b5ff7eaf437e.jpg</p><p><strong>Score:</strong> 0.3993267210412408</p><p><strong>Caption:</strong> Image of an archaeological artifact found at Poggio Civitate, in Italy. This architectural element, architecture, mainly consists of clay. Context suggests dates of 700 BCE to 535 BCE. Fabric Category: Clay; Motif: Feline; Object Type: Architectural, Unspecified / Misc.; Decorative Technique: Relief</p><p><a href=\"https://opencontext.org/media/18b309ee-d6bd-4b8b-1d3b-b5ff7eaf437e\">Link to full record</a></p></div><div><img src=\"../files/testing/89b8e560-b76a-4b59-007b-dc175f05940c.jpg\" width=25% alt=\"Image not found\"> <p><strong>ID:</strong> /home/ekansa/github/archaeology-images-ai/files/testing/89b8e560-b76a-4b59-007b-dc175f05940c.jpg</p><p><strong>Score:</strong> 0.3934259937987801</p><p><strong>Caption:</strong> Image of an archaeological artifact found at Poggio Civitate, in Italy. This architectural element, sima; cymas, mainly consists of terracotta (clay material). Context suggests dates of 700 BCE to 535 BCE. Fabric Category: Terracotta; Motif: Feline; Object Type: Architectural, Lateral Sima</p><p><a href=\"https://opencontext.org/media/89b8e560-b76a-4b59-007b-dc175f05940c\">Link to full record</a></p></div><div><img src=\"../files/testing/556a3f4f-7432-4500-a053-3d208513a6b2.jpg\" width=25% alt=\"Image not found\"> <p><strong>ID:</strong> /home/ekansa/github/archaeology-images-ai/files/testing/556a3f4f-7432-4500-a053-3d208513a6b2.jpg</p><p><strong>Score:</strong> 0.39341173984157696</p><p><strong>Caption:</strong> Image of an archaeological artifact found at Poggio Civitate, in Italy. This pottery, vessel; vase; vases, mainly consists of bucchero ware bucchero. Context suggests dates of 700 BCE to 535 BCE. Fabric Category: Bucchero; Object Type: Vessel; Vessel Form: Vase</p><p><a href=\"https://opencontext.org/media/556a3f4f-7432-4500-a053-3d208513a6b2\">Link to full record</a></p></div><div><img src=\"../files/testing/1f078603-410a-4b2e-5c4f-08d1413d9836.jpg\" width=25% alt=\"Image not found\"> <p><strong>ID:</strong> /home/ekansa/github/archaeology-images-ai/files/testing/1f078603-410a-4b2e-5c4f-08d1413d9836.jpg</p><p><strong>Score:</strong> 0.3890638036647601</p><p><strong>Caption:</strong> Image of an archaeological artifact found at Poggio Civitate, in Italy. This pottery vessel, mainly consists of pottery. Context suggests dates of 700 BCE to 535 BCE. Fabric Category: Impasto; Motif: Female; Object Type: Vessel; Decorative Technique: Incised; Molded; Vessel Form: Form unspecified; Conservation Action: cleaned;</p><p><a href=\"https://opencontext.org/media/1f078603-410a-4b2e-5c4f-08d1413d9836\">Link to full record</a></p></div>"
      ],
      "text/plain": [
       "<IPython.core.display.HTML object>"
      ]
     },
     "metadata": {},
     "output_type": "display_data"
    }
   ],
   "source": [
    "query = \"A feline face sculpted on an ancient artifact\"\n",
    "display_similar_ideas(query)"
   ]
  },
  {
   "cell_type": "code",
   "execution_count": 11,
   "id": "a0be6307-846e-4e96-be0c-58e9d150fed5",
   "metadata": {},
   "outputs": [
    {
     "data": {
      "text/html": [
       "<div><img src=\"../files/testing/b919d88e-6b18-46df-9966-64df1c60cb27.jpg\" width=25% alt=\"Image not found\"> <p><strong>ID:</strong> /home/ekansa/github/archaeology-images-ai/files/testing/b919d88e-6b18-46df-9966-64df1c60cb27.jpg</p><p><strong>Score:</strong> 0.41965051915102747</p><p><strong>Caption:</strong> Image of an archaeological artifact found at Poggio Civitate, in Italy. This architectural element, acroterion, acroteria, mainly consists of terracotta (clay material). Context suggests dates of 700 BCE to 535 BCE. Chronology: Probably Archaic; Fabric Category: Terracotta; Motif: Bearded; Object Type</p><p><a href=\"https://opencontext.org/media/b919d88e-6b18-46df-9966-64df1c60cb27\">Link to full record</a></p></div><div><img src=\"../files/testing/1c5207ca-98b5-4df4-fe1e-bcd3ff53ab1a.jpg\" width=25% alt=\"Image not found\"> <p><strong>ID:</strong> /home/ekansa/github/archaeology-images-ai/files/testing/1c5207ca-98b5-4df4-fe1e-bcd3ff53ab1a.jpg</p><p><strong>Score:</strong> 0.4144211162038117</p><p><strong>Caption:</strong> Image of an archaeological artifact found at Poggio Civitate, in Italy. This example of tack; nails (fasteners), mainly consists of bronze (metal). Context suggests dates of 700 BCE to 535 BCE. Fabric Category: Bronze; Object Type: Fastener, Nail; Conservation Action: cleaned; Conservation Material: alcohol; tap water</p><p><a href=\"https://opencontext.org/media/1c5207ca-98b5-4df4-fe1e-bcd3ff53ab1a\">Link to full record</a></p></div><div><img src=\"../files/testing/6f683c2a-9e20-4e6f-a60c-677ae02b558a.jpg\" width=25% alt=\"Image not found\"> <p><strong>ID:</strong> /home/ekansa/github/archaeology-images-ai/files/testing/6f683c2a-9e20-4e6f-a60c-677ae02b558a.jpg</p><p><strong>Score:</strong> 0.4090592139813948</p><p><strong>Caption:</strong> Image of an archaeological artifact found at Poggio Civitate, in Italy. This example of artefact; strips (object genres), mainly consists of gold (metal). Context suggests dates of 700 BCE to 535 BCE. Fabric Category: Gold; Motif: Flower; Object Type: Shaped Object, Ribbon / Strip</p><p><a href=\"https://opencontext.org/media/6f683c2a-9e20-4e6f-a60c-677ae02b558a\">Link to full record</a></p></div><div><img src=\"../files/testing/d18d801f-9947-4a2d-a0ce-fc2c315e0ae2.jpg\" width=25% alt=\"Image not found\"> <p><strong>ID:</strong> /home/ekansa/github/archaeology-images-ai/files/testing/d18d801f-9947-4a2d-a0ce-fc2c315e0ae2.jpg</p><p><strong>Score:</strong> 0.403151590053728</p><p><strong>Caption:</strong> Image of an archaeological artifact found at Gabii, in Italy. This object is classified as pins (fasteners). Context suggests dates of 900 BCE to 200. Special Find Object Type: Pin</p><p><a href=\"https://opencontext.org/media/d18d801f-9947-4a2d-a0ce-fc2c315e0ae2\">Link to full record</a></p></div><div><img src=\"../files/testing/e2d1b253-f5f5-4cbc-1e96-03e883048683.jpg\" width=25% alt=\"Image not found\"> <p><strong>ID:</strong> /home/ekansa/github/archaeology-images-ai/files/testing/e2d1b253-f5f5-4cbc-1e96-03e883048683.jpg</p><p><strong>Score:</strong> 0.4023769351828549</p><p><strong>Caption:</strong> Image of an archaeological artifact found at Alaska, in United States. This example of metal, mainly consists of brass (alloy). Context suggests dates of 1800 to 1840. Object Description: Metal; Material: Brass; Object Description 2: Button; Artifact No.: 6; Level: L1; Excavator initials: AVM</p><p><a href=\"https://opencontext.org/media/e2d1b253-f5f5-4cbc-1e96-03e883048683\">Link to full record</a></p></div><div><img src=\"../files/testing/cd5d99ef-3554-4350-882c-a483f498294d.jpg\" width=25% alt=\"Image not found\"> <p><strong>ID:</strong> /home/ekansa/github/archaeology-images-ai/files/testing/cd5d99ef-3554-4350-882c-a483f498294d.jpg</p><p><strong>Score:</strong> 0.3977552341180642</p><p><strong>Caption:</strong> Image of an archaeological artifact found at Minnesota, in United States. This example of fragments (object portions); fragments (object portions); furnishings (hierarchy name); birdcages (containers), mainly consists of iron (metal). Context suggests dates of 1820 to 1950. General Object Type: Furnishings; Materials (1): iron (metal); Descriptor (1</p><p><a href=\"https://opencontext.org/media/cd5d99ef-3554-4350-882c-a483f498294d\">Link to full record</a></p></div><div><img src=\"../files/testing/b764cd42-500a-4826-c09a-dbc049418388.jpg\" width=25% alt=\"Image not found\"> <p><strong>ID:</strong> /home/ekansa/github/archaeology-images-ai/files/testing/b764cd42-500a-4826-c09a-dbc049418388.jpg</p><p><strong>Score:</strong> 0.39647096392285325</p><p><strong>Caption:</strong> Image of an archaeological artifact found at Poggio Civitate, in Italy. This example of stud; studs (bosses), mainly consists of iron (metal). Context suggests dates of 700 BCE to 535 BCE. Fabric Category: Iron; Object Type: Fastener, Stud; Conservation Action: cleaned; Conservation Material: No Value (-)</p><p><a href=\"https://opencontext.org/media/b764cd42-500a-4826-c09a-dbc049418388\">Link to full record</a></p></div><div><img src=\"../files/testing/1fd1ba08-6494-4d4d-0f90-fbb9901961df.jpg\" width=25% alt=\"Image not found\"> <p><strong>ID:</strong> /home/ekansa/github/archaeology-images-ai/files/testing/1fd1ba08-6494-4d4d-0f90-fbb9901961df.jpg</p><p><strong>Score:</strong> 0.3945318373379896</p><p><strong>Caption:</strong> Image of an archaeological artifact found at Poggio Civitate, in Italy. This example of cosmetic-pot, mainly consists of bone (material). Context suggests dates of 700 BCE to 535 BCE. Fabric Category: Bone; Object Type: Tool / Weapon, Cosmetic; Decorative Technique: Incised</p><p><a href=\"https://opencontext.org/media/1fd1ba08-6494-4d4d-0f90-fbb9901961df\">Link to full record</a></p></div><div><img src=\"../files/testing/66db1cdd-c112-4584-21e7-ebd66afcfaca.jpg\" width=25% alt=\"Image not found\"> <p><strong>ID:</strong> /home/ekansa/github/archaeology-images-ai/files/testing/66db1cdd-c112-4584-21e7-ebd66afcfaca.jpg</p><p><strong>Score:</strong> 0.3909620175809012</p><p><strong>Caption:</strong> Image of an archaeological artifact found at Petra Great Temple, in Jordan. This example of pins (fasteners), mainly consists of bone (material). Context suggests dates of 200 BCE to 360. Culture: Unknown; Material: Bone; Cat Month: VIII; Diagnostic: Pin; Cat Type Full: Bones; Display Date: 1-viii; Year (text): </p><p><a href=\"https://opencontext.org/media/66db1cdd-c112-4584-21e7-ebd66afcfaca\">Link to full record</a></p></div><div><img src=\"../files/testing/8e814faa-88be-47b7-8528-04a1d8d0ba62.jpg\" width=25% alt=\"Image not found\"> <p><strong>ID:</strong> /home/ekansa/github/archaeology-images-ai/files/testing/8e814faa-88be-47b7-8528-04a1d8d0ba62.jpg</p><p><strong>Score:</strong> 0.3851724021025909</p><p><strong>Caption:</strong> Image of an archaeological artifact found at Corinthia, in Greece. This object is classified as eastern sigillata a. Chronotype: Eastern Sigillata A; Zone: 11; Class: Standard; Collection-Strategy: Chronotype; Extant-Part: Base; Material: Pottery; Fabric: Fine; Location: Field; Drawing-Status: Drawing; Period</p><p><a href=\"https://opencontext.org/media/8e814faa-88be-47b7-8528-04a1d8d0ba62\">Link to full record</a></p></div>"
      ],
      "text/plain": [
       "<IPython.core.display.HTML object>"
      ]
     },
     "metadata": {},
     "output_type": "display_data"
    }
   ],
   "source": [
    "query = \"A Greek goddess holding a bow\"\n",
    "display_similar_ideas(query)"
   ]
  },
  {
   "cell_type": "code",
   "execution_count": 12,
   "id": "446c4979-40bd-48f5-bafd-0af606cff47e",
   "metadata": {},
   "outputs": [
    {
     "data": {
      "text/html": [
       "<div><img src=\"../files/testing/539b4898-b1c2-4843-c632-8c30584d9ca8.jpg\" width=25% alt=\"Image not found\"> <p><strong>ID:</strong> /home/ekansa/github/archaeology-images-ai/files/testing/539b4898-b1c2-4843-c632-8c30584d9ca8.jpg</p><p><strong>Score:</strong> 0.4225577132832429</p><p><strong>Caption:</strong> Image of an archaeological artifact found at Poggio Civitate, in Italy. This example of seal; seals (artifacts), mainly consists of stone rock (inorganic material). Context suggests dates of 700 BCE to 535 BCE. Fabric Category: Stone; Object Type: Costume, Accessories, Seal; Decorative Technique: Incised; Ridged</p><p><a href=\"https://opencontext.org/media/539b4898-b1c2-4843-c632-8c30584d9ca8\">Link to full record</a></p></div><div><img src=\"../files/testing/9a6d0054-23b0-4698-d72a-fbdf0b6fad04.jpg\" width=25% alt=\"Image not found\"> <p><strong>ID:</strong> /home/ekansa/github/archaeology-images-ai/files/testing/9a6d0054-23b0-4698-d72a-fbdf0b6fad04.jpg</p><p><strong>Score:</strong> 0.40606731567808296</p><p><strong>Caption:</strong> Image of an archaeological artifact found at Poggio Civitate, in Italy. This example of seal; seals (artifacts), mainly consists of stone rock (inorganic material). Context suggests dates of 700 BCE to 535 BCE. Fabric Category: Stone; Object Type: Costume, Accessories, Seal; Decorative Technique: Incised; Ridged</p><p><a href=\"https://opencontext.org/media/9a6d0054-23b0-4698-d72a-fbdf0b6fad04\">Link to full record</a></p></div><div><img src=\"../files/testing/ec2d7851-2470-4c2d-8843-8be68bcf330b.jpg\" width=25% alt=\"Image not found\"> <p><strong>ID:</strong> /home/ekansa/github/archaeology-images-ai/files/testing/ec2d7851-2470-4c2d-8843-8be68bcf330b.jpg</p><p><strong>Score:</strong> 0.3970772267683118</p><p><strong>Caption:</strong> Image of an archaeological artifact found at Poggio Civitate, in Italy. This example of seal; seals (artifacts), mainly consists of stone rock (inorganic material). Context suggests dates of 700 BCE to 535 BCE. Fabric Category: Stone; Object Type: Costume, Accessories, Seal; Decorative Technique: Incised; Ridged</p><p><a href=\"https://opencontext.org/media/ec2d7851-2470-4c2d-8843-8be68bcf330b\">Link to full record</a></p></div><div><img src=\"../files/testing/3e5fe12d-7fa1-4cd0-0627-807617a23baf.jpg\" width=25% alt=\"Image not found\"> <p><strong>ID:</strong> /home/ekansa/github/archaeology-images-ai/files/testing/3e5fe12d-7fa1-4cd0-0627-807617a23baf.jpg</p><p><strong>Score:</strong> 0.3886481031448091</p><p><strong>Caption:</strong> Image of an archaeological artifact found at Poggio Civitate, in Italy. This example of plaque or flat object, mainly consists of ivory (material). Context suggests dates of 700 BCE to 535 BCE. Chronology: Securely Orientalizing; Fabric Category: Ivory; Motif: Tongue; Gorgon; Object Type: Ornament, Plaque; Decor</p><p><a href=\"https://opencontext.org/media/3e5fe12d-7fa1-4cd0-0627-807617a23baf\">Link to full record</a></p></div><div><img src=\"../files/testing/d5d6ee46-75b4-bc1a-5a92-c8e41b8c02c0.jpg\" width=25% alt=\"Image not found\"> <p><strong>ID:</strong> /home/ekansa/github/archaeology-images-ai/files/testing/d5d6ee46-75b4-bc1a-5a92-c8e41b8c02c0.jpg</p><p><strong>Score:</strong> 0.3861983936195499</p><p><strong>Caption:</strong> Image of an archaeological artifact found at Domuztepe, in Turkey. This example of seals (artifacts), mainly consists of alabaster (mineral). Context suggests dates of 6500 BCE to 5500 BCE. Artifact Name: Stamp Seal; Material: Alabaster; Disposition: Marash Mus. invent</p><p><a href=\"https://opencontext.org/media/d5d6ee46-75b4-bc1a-5a92-c8e41b8c02c0\">Link to full record</a></p></div><div><img src=\"../files/testing/7a158cc5-869e-4a7e-8dd2-d6e3fc442903.jpg\" width=25% alt=\"Image not found\"> <p><strong>ID:</strong> /home/ekansa/github/archaeology-images-ai/files/testing/7a158cc5-869e-4a7e-8dd2-d6e3fc442903.jpg</p><p><strong>Score:</strong> 0.38534189711380984</p><p><strong>Caption:</strong> Image of an archaeological artifact found at Gabii, in Italy. This object is classified as graffiti. Special Find Object Type: Graffito</p><p><a href=\"https://opencontext.org/media/7a158cc5-869e-4a7e-8dd2-d6e3fc442903\">Link to full record</a></p></div><div><img src=\"../files/testing/6f683c2a-9e20-4e6f-a60c-677ae02b558a.jpg\" width=25% alt=\"Image not found\"> <p><strong>ID:</strong> /home/ekansa/github/archaeology-images-ai/files/testing/6f683c2a-9e20-4e6f-a60c-677ae02b558a.jpg</p><p><strong>Score:</strong> 0.38180293440053087</p><p><strong>Caption:</strong> Image of an archaeological artifact found at Poggio Civitate, in Italy. This example of artefact; strips (object genres), mainly consists of gold (metal). Context suggests dates of 700 BCE to 535 BCE. Fabric Category: Gold; Motif: Flower; Object Type: Shaped Object, Ribbon / Strip</p><p><a href=\"https://opencontext.org/media/6f683c2a-9e20-4e6f-a60c-677ae02b558a\">Link to full record</a></p></div><div><img src=\"../files/testing/d18d801f-9947-4a2d-a0ce-fc2c315e0ae2.jpg\" width=25% alt=\"Image not found\"> <p><strong>ID:</strong> /home/ekansa/github/archaeology-images-ai/files/testing/d18d801f-9947-4a2d-a0ce-fc2c315e0ae2.jpg</p><p><strong>Score:</strong> 0.3683164785427608</p><p><strong>Caption:</strong> Image of an archaeological artifact found at Gabii, in Italy. This object is classified as pins (fasteners). Context suggests dates of 900 BCE to 200. Special Find Object Type: Pin</p><p><a href=\"https://opencontext.org/media/d18d801f-9947-4a2d-a0ce-fc2c315e0ae2\">Link to full record</a></p></div><div><img src=\"../files/testing/3de6497d-9b2a-458e-7af7-f6f79645bf39.jpg\" width=25% alt=\"Image not found\"> <p><strong>ID:</strong> /home/ekansa/github/archaeology-images-ai/files/testing/3de6497d-9b2a-458e-7af7-f6f79645bf39.jpg</p><p><strong>Score:</strong> 0.36742767168968155</p><p><strong>Caption:</strong> Image of an archaeological artifact found at Nippur, in Iraq. This example of weight; weights (object genres), mainly consists of granodiorite. Context suggests dates of 2500 BCE to 750. Material: grano-diorite?; Location: Philadelphia; Height (cm): 3.9; Weight Type: stele; Condition: chip along</p><p><a href=\"https://opencontext.org/media/3de6497d-9b2a-458e-7af7-f6f79645bf39\">Link to full record</a></p></div><div><img src=\"../files/testing/3baa000f-1bd0-4605-5f03-1b8f6a2a2cc1.jpg\" width=25% alt=\"Image not found\"> <p><strong>ID:</strong> /home/ekansa/github/archaeology-images-ai/files/testing/3baa000f-1bd0-4605-5f03-1b8f6a2a2cc1.jpg</p><p><strong>Score:</strong> 0.36672903482291264</p><p><strong>Caption:</strong> Image of an archaeological artifact found at Poggio Civitate, in Italy. This example of die; dice, mainly consists of clay. Context suggests dates of 700 BCE to 535 BCE. Chronology: Securely Orientalizing; Fabric Category: Clay; Object Type: Die; Decorative Technique: Incised</p><p><a href=\"https://opencontext.org/media/3baa000f-1bd0-4605-5f03-1b8f6a2a2cc1\">Link to full record</a></p></div>"
      ],
      "text/plain": [
       "<IPython.core.display.HTML object>"
      ]
     },
     "metadata": {},
     "output_type": "display_data"
    }
   ],
   "source": [
    "query = \"An ancient Greek mythological monster\"\n",
    "display_similar_ideas(query)"
   ]
  },
  {
   "cell_type": "code",
   "execution_count": 26,
   "id": "ff498a76-c569-494b-bc0a-1def0566943d",
   "metadata": {},
   "outputs": [
    {
     "data": {
      "text/html": [
       "<div><img src=\"../files/testing/539b4898-b1c2-4843-c632-8c30584d9ca8.jpg\" width=25% alt=\"Image not found\"> <p><strong>ID:</strong> /home/ekansa/github/archaeology-images-ai/files/testing/539b4898-b1c2-4843-c632-8c30584d9ca8.jpg</p><p><strong>Score:</strong> 0.4924108004782767</p><p><strong>Caption:</strong> Image of an archaeological artifact found at Poggio Civitate, in Italy. This example of seal; seals (artifacts), mainly consists of stone rock (inorganic material). Context suggests dates of 700 BCE to 535 BCE. Fabric Category: Stone; Object Type: Costume, Accessories, Seal; Decorative Technique: Incised; Ridged</p><p><a href=\"https://opencontext.org/media/539b4898-b1c2-4843-c632-8c30584d9ca8\">Link to full record</a></p></div><div><img src=\"../files/testing/9a6d0054-23b0-4698-d72a-fbdf0b6fad04.jpg\" width=25% alt=\"Image not found\"> <p><strong>ID:</strong> /home/ekansa/github/archaeology-images-ai/files/testing/9a6d0054-23b0-4698-d72a-fbdf0b6fad04.jpg</p><p><strong>Score:</strong> 0.43331537038195334</p><p><strong>Caption:</strong> Image of an archaeological artifact found at Poggio Civitate, in Italy. This example of seal; seals (artifacts), mainly consists of stone rock (inorganic material). Context suggests dates of 700 BCE to 535 BCE. Fabric Category: Stone; Object Type: Costume, Accessories, Seal; Decorative Technique: Incised; Ridged</p><p><a href=\"https://opencontext.org/media/9a6d0054-23b0-4698-d72a-fbdf0b6fad04\">Link to full record</a></p></div><div><img src=\"../files/testing/c6306c21-b3c0-4f55-8971-89e10f8f2c7a.jpg\" width=25% alt=\"Image not found\"> <p><strong>ID:</strong> /home/ekansa/github/archaeology-images-ai/files/testing/c6306c21-b3c0-4f55-8971-89e10f8f2c7a.jpg</p><p><strong>Score:</strong> 0.42880721187505993</p><p><strong>Caption:</strong> Image of an archaeological artifact found at Tall al-Umayri, in Jordan. This example of seals (artifacts), mainly consists of limestone. Record Type (Object or Artifact): Object; Designation certainty: Certain; Material: Limestone; Preservation: Complete; Craftsmanship: Fine; Allocation: DoA</p><p><a href=\"https://opencontext.org/media/c6306c21-b3c0-4f55-8971-89e10f8f2c7a\">Link to full record</a></p></div><div><img src=\"../files/testing/3e5fe12d-7fa1-4cd0-0627-807617a23baf.jpg\" width=25% alt=\"Image not found\"> <p><strong>ID:</strong> /home/ekansa/github/archaeology-images-ai/files/testing/3e5fe12d-7fa1-4cd0-0627-807617a23baf.jpg</p><p><strong>Score:</strong> 0.42240646279016275</p><p><strong>Caption:</strong> Image of an archaeological artifact found at Poggio Civitate, in Italy. This example of plaque or flat object, mainly consists of ivory (material). Context suggests dates of 700 BCE to 535 BCE. Chronology: Securely Orientalizing; Fabric Category: Ivory; Motif: Tongue; Gorgon; Object Type: Ornament, Plaque; Decor</p><p><a href=\"https://opencontext.org/media/3e5fe12d-7fa1-4cd0-0627-807617a23baf\">Link to full record</a></p></div><div><img src=\"../files/testing/4586dc49-0155-424d-6a8b-8032e0dbf93c.jpg\" width=25% alt=\"Image not found\"> <p><strong>ID:</strong> /home/ekansa/github/archaeology-images-ai/files/testing/4586dc49-0155-424d-6a8b-8032e0dbf93c.jpg</p><p><strong>Score:</strong> 0.42238718567819605</p><p><strong>Caption:</strong> Image of an archaeological artifact found at Poggio Civitate, in Italy. This example of artefact, mainly consists of antler. Context suggests dates of 700 BCE to 535 BCE. Fabric Category: Antler; Motif: Volute; Sphinx; Object Type: Production Material, Worked Antler; Decorative Technique: Relief; Incised</p><p><a href=\"https://opencontext.org/media/4586dc49-0155-424d-6a8b-8032e0dbf93c\">Link to full record</a></p></div><div><img src=\"../files/testing/f8d85d7b-5748-4dc2-1b9a-57b3dde8d184.jpg\" width=25% alt=\"Image not found\"> <p><strong>ID:</strong> /home/ekansa/github/archaeology-images-ai/files/testing/f8d85d7b-5748-4dc2-1b9a-57b3dde8d184.jpg</p><p><strong>Score:</strong> 0.4209369004382149</p><p><strong>Caption:</strong> Image of an archaeological artifact found at Poggio Civitate, in Italy. This architectural element, plaque or flat object, mainly consists of terracotta (clay material). Context suggests dates of 700 BCE to 535 BCE. Chronology: Securely Archaic; Fabric Category: Terracotta; Motif: Banquet; Object Type: Architectural,</p><p><a href=\"https://opencontext.org/media/f8d85d7b-5748-4dc2-1b9a-57b3dde8d184\">Link to full record</a></p></div><div><img src=\"../files/testing/5cd710c7-60fe-40d3-8e89-7dbbd67bc961.jpg\" width=25% alt=\"Image not found\"> <p><strong>ID:</strong> /home/ekansa/github/archaeology-images-ai/files/testing/5cd710c7-60fe-40d3-8e89-7dbbd67bc961.jpg</p><p><strong>Score:</strong> 0.4163471071466971</p><p><strong>Caption:</strong> Image of an archaeological artifact found at Tall al-Umayri, in Jordan. This object is classified as seals (artifacts). Record Type (Object or Artifact): Object; Designation certainty: Certain; Material: Tuff; Preservation: Complete; Craftsmanship: Crude; Allocation: DoA</p><p><a href=\"https://opencontext.org/media/5cd710c7-60fe-40d3-8e89-7dbbd67bc961\">Link to full record</a></p></div><div><img src=\"../files/testing/c7117c3a-e020-4af0-9279-2062bd1eccac.jpg\" width=25% alt=\"Image not found\"> <p><strong>ID:</strong> /home/ekansa/github/archaeology-images-ai/files/testing/c7117c3a-e020-4af0-9279-2062bd1eccac.jpg</p><p><strong>Score:</strong> 0.40821523680976884</p><p><strong>Caption:</strong> Image of an archaeological artifact found at Tall al-Umayri, in Jordan. This example of seals (artifacts), mainly consists of limestone. Record Type (Object or Artifact): Object; Designation certainty: Certain; Material: Limestone; Preservation: Complete; Allocation: DoA</p><p><a href=\"https://opencontext.org/media/c7117c3a-e020-4af0-9279-2062bd1eccac\">Link to full record</a></p></div><div><img src=\"../files/testing/8f01b5ad-2d48-4523-3de7-a783715a7b3b.jpg\" width=25% alt=\"Image not found\"> <p><strong>ID:</strong> /home/ekansa/github/archaeology-images-ai/files/testing/8f01b5ad-2d48-4523-3de7-a783715a7b3b.jpg</p><p><strong>Score:</strong> 0.40620205338453813</p><p><strong>Caption:</strong> Image of an archaeological artifact found at Poggio Civitate, in Italy. This example of plaque or flat object, mainly consists of ivory (material). Context suggests dates of 700 BCE to 535 BCE. Fabric Category: Ivory; Object Type: Ornament, Plaque; Decorative Technique: Incised</p><p><a href=\"https://opencontext.org/media/8f01b5ad-2d48-4523-3de7-a783715a7b3b\">Link to full record</a></p></div><div><img src=\"../files/testing/6a8db707-ab9b-4021-8ffe-fc7d30a7cb34.jpg\" width=25% alt=\"Image not found\"> <p><strong>ID:</strong> /home/ekansa/github/archaeology-images-ai/files/testing/6a8db707-ab9b-4021-8ffe-fc7d30a7cb34.jpg</p><p><strong>Score:</strong> 0.40129719468053004</p><p><strong>Caption:</strong> Image of an archaeological artifact found at Poggio Civitate, in Italy. This example of artefact, mainly consists of ivory (material). Context suggests dates of 700 BCE to 535 BCE. Fabric Category: Ivory; Motif: Deer; Object Type: Ornament, Unspecified / Misc.</p><p><a href=\"https://opencontext.org/media/6a8db707-ab9b-4021-8ffe-fc7d30a7cb34\">Link to full record</a></p></div>"
      ],
      "text/plain": [
       "<IPython.core.display.HTML object>"
      ]
     },
     "metadata": {},
     "output_type": "display_data"
    }
   ],
   "source": [
    "query = \"A stamped seal impression of Athena\"\n",
    "display_similar_ideas(query)"
   ]
  },
  {
   "cell_type": "code",
   "execution_count": 30,
   "id": "928051c5-90ca-4120-8030-ccb92d1f7ecc",
   "metadata": {},
   "outputs": [
    {
     "data": {
      "text/html": [
       "<div><img src=\"../files/testing/0504b98a-72d2-4858-0449-75e790174733.jpg\" width=25% alt=\"Image not found\"> <p><strong>ID:</strong> /home/ekansa/github/archaeology-images-ai/files/testing/0504b98a-72d2-4858-0449-75e790174733.jpg</p><p><strong>Score:</strong> 0.4846777136646694</p><p><strong>Caption:</strong> Image of an archaeological artifact found at Poggio Civitate, in Italy. This example of vessel; bone (material), mainly consists of bone (material). Context suggests dates of 700 BCE to 535 BCE. Fabric Category: Bone; Object Type: Production Material, Worked Bone</p><p><a href=\"https://opencontext.org/media/0504b98a-72d2-4858-0449-75e790174733\">Link to full record</a></p></div><div><img src=\"../files/testing/447c09c5-e155-44ba-8258-93ff4bb5d9fd.jpg\" width=25% alt=\"Image not found\"> <p><strong>ID:</strong> /home/ekansa/github/archaeology-images-ai/files/testing/447c09c5-e155-44ba-8258-93ff4bb5d9fd.jpg</p><p><strong>Score:</strong> 0.4787885511815952</p><p><strong>Caption:</strong> Image of an archaeological artifact found at Poggio Civitate, in Italy. This example of vessel; bone (material), mainly consists of bone (material). Context suggests dates of 700 BCE to 535 BCE. Fabric Category: Bone; Object Type: Production Material, Worked Bone</p><p><a href=\"https://opencontext.org/media/447c09c5-e155-44ba-8258-93ff4bb5d9fd\">Link to full record</a></p></div><div><img src=\"../files/testing/33ef9aae-a0f9-44f6-0c48-cb496cc68f5d.jpg\" width=25% alt=\"Image not found\"> <p><strong>ID:</strong> /home/ekansa/github/archaeology-images-ai/files/testing/33ef9aae-a0f9-44f6-0c48-cb496cc68f5d.jpg</p><p><strong>Score:</strong> 0.47702650738776814</p><p><strong>Caption:</strong> Image of an archaeological artifact found at Poggio Civitate, in Italy. This example of vessel; bone (material), mainly consists of bone (material). Context suggests dates of 700 BCE to 535 BCE. Fabric Category: Bone; Object Type: Production Material, Worked Bone</p><p><a href=\"https://opencontext.org/media/33ef9aae-a0f9-44f6-0c48-cb496cc68f5d\">Link to full record</a></p></div><div><img src=\"../files/testing/5311e6fd-7d35-4cb2-e4ba-6d7a9bdef5d7.jpg\" width=25% alt=\"Image not found\"> <p><strong>ID:</strong> /home/ekansa/github/archaeology-images-ai/files/testing/5311e6fd-7d35-4cb2-e4ba-6d7a9bdef5d7.jpg</p><p><strong>Score:</strong> 0.4682327827643477</p><p><strong>Caption:</strong> Image of an archaeological artifact found at Poggio Civitate, in Italy. This example of artefact, mainly consists of antler. Context suggests dates of 700 BCE to 535 BCE. Fabric Category: Antler; Object Type: Production Material, Worked Antler</p><p><a href=\"https://opencontext.org/media/5311e6fd-7d35-4cb2-e4ba-6d7a9bdef5d7\">Link to full record</a></p></div><div><img src=\"../files/testing/d125f5b2-2b59-44c3-a196-9d013a421832.jpg\" width=25% alt=\"Image not found\"> <p><strong>ID:</strong> /home/ekansa/github/archaeology-images-ai/files/testing/d125f5b2-2b59-44c3-a196-9d013a421832.jpg</p><p><strong>Score:</strong> 0.4680316274744872</p><p><strong>Caption:</strong> Image of an archaeological artifact found at Poggio Civitate, in Italy. This example of vessel; bone (material), mainly consists of bone (material). Context suggests dates of 700 BCE to 535 BCE. Fabric Category: Bone; Object Type: Production Material, Worked Bone</p><p><a href=\"https://opencontext.org/media/d125f5b2-2b59-44c3-a196-9d013a421832\">Link to full record</a></p></div><div><img src=\"../files/testing/19c8d17f-d487-4932-7a75-97ec27f796c9.jpg\" width=25% alt=\"Image not found\"> <p><strong>ID:</strong> /home/ekansa/github/archaeology-images-ai/files/testing/19c8d17f-d487-4932-7a75-97ec27f796c9.jpg</p><p><strong>Score:</strong> 0.467502776019884</p><p><strong>Caption:</strong> Image of an archaeological artifact found at Poggio Civitate, in Italy. This example of vessel; bone (material), mainly consists of bone (material). Context suggests dates of 700 BCE to 535 BCE. Fabric Category: Bone; Object Type: Production Material, Worked Bone</p><p><a href=\"https://opencontext.org/media/19c8d17f-d487-4932-7a75-97ec27f796c9\">Link to full record</a></p></div><div><img src=\"../files/testing/e0ba5ebf-0317-47e2-65ef-a121e5e73d82.jpg\" width=25% alt=\"Image not found\"> <p><strong>ID:</strong> /home/ekansa/github/archaeology-images-ai/files/testing/e0ba5ebf-0317-47e2-65ef-a121e5e73d82.jpg</p><p><strong>Score:</strong> 0.467128168957329</p><p><strong>Caption:</strong> Image of an archaeological artifact found at Poggio Civitate, in Italy. This example of vessel; bone (material), mainly consists of bone (material). Context suggests dates of 700 BCE to 535 BCE. Fabric Category: Bone; Object Type: Production Material, Worked Bone</p><p><a href=\"https://opencontext.org/media/e0ba5ebf-0317-47e2-65ef-a121e5e73d82\">Link to full record</a></p></div><div><img src=\"../files/testing/a1e36c2b-1586-4939-83f6-29230d4e6a7a.jpg\" width=25% alt=\"Image not found\"> <p><strong>ID:</strong> /home/ekansa/github/archaeology-images-ai/files/testing/a1e36c2b-1586-4939-83f6-29230d4e6a7a.jpg</p><p><strong>Score:</strong> 0.4640110887763997</p><p><strong>Caption:</strong> Image of an archaeological artifact found at Poggio Civitate, in Italy. This example of vessel; bone (material), mainly consists of bone (material). Context suggests dates of 700 BCE to 535 BCE. Fabric Category: Bone; Object Type: Production Material, Worked Bone</p><p><a href=\"https://opencontext.org/media/a1e36c2b-1586-4939-83f6-29230d4e6a7a\">Link to full record</a></p></div><div><img src=\"../files/testing/209bdf10-bc92-47d9-dc8f-caa7c58f5cb7.jpg\" width=25% alt=\"Image not found\"> <p><strong>ID:</strong> /home/ekansa/github/archaeology-images-ai/files/testing/209bdf10-bc92-47d9-dc8f-caa7c58f5cb7.jpg</p><p><strong>Score:</strong> 0.4629552265505391</p><p><strong>Caption:</strong> Image of an archaeological artifact found at Poggio Civitate, in Italy. This example of vessel; bone (material), mainly consists of bone (material). Context suggests dates of 700 BCE to 535 BCE. Fabric Category: Bone; Object Type: Production Material, Worked Bone</p><p><a href=\"https://opencontext.org/media/209bdf10-bc92-47d9-dc8f-caa7c58f5cb7\">Link to full record</a></p></div><div><img src=\"../files/testing/f8d30684-27b4-4130-625d-6a40e61397da.jpg\" width=25% alt=\"Image not found\"> <p><strong>ID:</strong> /home/ekansa/github/archaeology-images-ai/files/testing/f8d30684-27b4-4130-625d-6a40e61397da.jpg</p><p><strong>Score:</strong> 0.46150564519206466</p><p><strong>Caption:</strong> Image of an archaeological artifact found at Poggio Civitate, in Italy. This example of vessel; bone (material), mainly consists of bone (material). Context suggests dates of 700 BCE to 535 BCE. Fabric Category: Bone; Object Type: Production Material, Worked Bone</p><p><a href=\"https://opencontext.org/media/f8d30684-27b4-4130-625d-6a40e61397da\">Link to full record</a></p></div>"
      ],
      "text/plain": [
       "<IPython.core.display.HTML object>"
      ]
     },
     "metadata": {},
     "output_type": "display_data"
    }
   ],
   "source": [
    "query = \"A bone\"\n",
    "display_similar_ideas(query)"
   ]
  },
  {
   "cell_type": "markdown",
   "id": "728172eb-6a0a-40cc-bad7-5ecaf8582c0c",
   "metadata": {},
   "source": [
    "# Assessment\n",
    "\n",
    "I'm not really impressed with the results of the \"idea\" queries. Maybe we over-fit the data when training?"
   ]
  },
  {
   "cell_type": "code",
   "execution_count": 15,
   "id": "46dd8ee5-9fb1-4565-b285-3b0d32b01a42",
   "metadata": {},
   "outputs": [
    {
     "data": {
      "text/html": [
       "<div>Search for images similar to:<br/><img src=\"../files/testing/0ace44d4-52f2-4ced-777f-563585c32172.jpg\" width=25% alt=\"Image not found\" /><p>----------------------------------</p><p><strong>Results Below</strong>:</p></div><div><img src=\"../files/testing/0ace44d4-52f2-4ced-777f-563585c32172.jpg\" width=25% alt=\"Image not found\"> <p><strong>ID:</strong> /home/ekansa/github/archaeology-images-ai/files/testing/0ace44d4-52f2-4ced-777f-563585c32172.jpg</p><p><strong>Score:</strong> 0.9999999999998659</p><p><strong>Caption:</strong> Image of an archaeological artifact found at Poggio Civitate, in Italy. This architectural element, plaque or flat object, mainly consists of terracotta (clay material). Context suggests dates of 700 BCE to 535 BCE. Chronology: Securely Archaic; Fabric Category: Terracotta; Motif: Banquet; Guilloche; Object Type</p><p><a href=\"https://opencontext.org/media/0ace44d4-52f2-4ced-777f-563585c32172\">Link to full record</a></p></div><div><img src=\"../files/testing/797a15c6-9cc7-4c88-df3b-f18fe4406d5b.jpg\" width=25% alt=\"Image not found\"> <p><strong>ID:</strong> /home/ekansa/github/archaeology-images-ai/files/testing/797a15c6-9cc7-4c88-df3b-f18fe4406d5b.jpg</p><p><strong>Score:</strong> 0.8990887732352376</p><p><strong>Caption:</strong> Image of an archaeological artifact found at Poggio Civitate, in Italy. This architectural element, plaque or flat object, mainly consists of terracotta (clay material). Context suggests dates of 700 BCE to 535 BCE. Chronology: Securely Archaic; Fabric Category: Terracotta; Motif: Banquet; Guilloche; Object Type</p><p><a href=\"https://opencontext.org/media/797a15c6-9cc7-4c88-df3b-f18fe4406d5b\">Link to full record</a></p></div><div><img src=\"../files/testing/f4ccf07a-9af7-4bcf-e9e4-c689230dd694.jpg\" width=25% alt=\"Image not found\"> <p><strong>ID:</strong> /home/ekansa/github/archaeology-images-ai/files/testing/f4ccf07a-9af7-4bcf-e9e4-c689230dd694.jpg</p><p><strong>Score:</strong> 0.881770804115413</p><p><strong>Caption:</strong> Image of an archaeological artifact found at Poggio Civitate, in Italy. This architectural element, plaque or flat object, mainly consists of clay. Context suggests dates of 700 BCE to 535 BCE. Chronology: Securely Archaic; Fabric Category: Clay; Motif: Banquet; Object Type: Architectural, Frieze Plaque</p><p><a href=\"https://opencontext.org/media/f4ccf07a-9af7-4bcf-e9e4-c689230dd694\">Link to full record</a></p></div><div><img src=\"../files/testing/e89b5d6b-fa0a-4f02-8774-121d30e033ea.jpg\" width=25% alt=\"Image not found\"> <p><strong>ID:</strong> /home/ekansa/github/archaeology-images-ai/files/testing/e89b5d6b-fa0a-4f02-8774-121d30e033ea.jpg</p><p><strong>Score:</strong> 0.8748033172709597</p><p><strong>Caption:</strong> Image of an archaeological artifact found at Poggio Civitate, in Italy. This architectural element, plaque or flat object, mainly consists of clay. Context suggests dates of 700 BCE to 535 BCE. Chronology: Securely Archaic; Fabric Category: Clay; Motif: Banquet; Object Type: Architectural, Frieze Plaque</p><p><a href=\"https://opencontext.org/media/e89b5d6b-fa0a-4f02-8774-121d30e033ea\">Link to full record</a></p></div><div><img src=\"../files/testing/aed6b555-bdf2-427e-a0b9-a3c976028e3b.jpg\" width=25% alt=\"Image not found\"> <p><strong>ID:</strong> /home/ekansa/github/archaeology-images-ai/files/testing/aed6b555-bdf2-427e-a0b9-a3c976028e3b.jpg</p><p><strong>Score:</strong> 0.857729878018181</p><p><strong>Caption:</strong> Image of an archaeological artifact found at Poggio Civitate, in Italy. This architectural element, plaque or flat object, mainly consists of clay. Context suggests dates of 700 BCE to 535 BCE. Chronology: Securely Archaic; Fabric Category: Clay; Motif: Seated Figure; Object Type: Architectural, Frieze Plaque</p><p><a href=\"https://opencontext.org/media/aed6b555-bdf2-427e-a0b9-a3c976028e3b\">Link to full record</a></p></div><div><img src=\"../files/testing/fe14fa72-bec8-4a8f-6e4e-f6ab55e07fbb.jpg\" width=25% alt=\"Image not found\"> <p><strong>ID:</strong> /home/ekansa/github/archaeology-images-ai/files/testing/fe14fa72-bec8-4a8f-6e4e-f6ab55e07fbb.jpg</p><p><strong>Score:</strong> 0.8571457291459288</p><p><strong>Caption:</strong> Image of an archaeological artifact found at Poggio Civitate, in Italy. This architectural element, plaque or flat object, mainly consists of terracotta (clay material). Context suggests dates of 700 BCE to 535 BCE. Chronology: Securely Archaic; Fabric Category: Terracotta; Motif: Banquet; Guilloche; Object Type</p><p><a href=\"https://opencontext.org/media/fe14fa72-bec8-4a8f-6e4e-f6ab55e07fbb\">Link to full record</a></p></div><div><img src=\"../files/testing/72f16030-10b9-433a-8411-70b6899cc99a.jpg\" width=25% alt=\"Image not found\"> <p><strong>ID:</strong> /home/ekansa/github/archaeology-images-ai/files/testing/72f16030-10b9-433a-8411-70b6899cc99a.jpg</p><p><strong>Score:</strong> 0.8473454579760391</p><p><strong>Caption:</strong> Image of an archaeological artifact found at Poggio Civitate, in Italy. This architectural element, plaque or flat object, mainly consists of terracotta (clay material). Context suggests dates of 700 BCE to 535 BCE. Chronology: Securely Archaic; Fabric Category: Terracotta; Motif: Banquet; Guilloche; Object Type</p><p><a href=\"https://opencontext.org/media/72f16030-10b9-433a-8411-70b6899cc99a\">Link to full record</a></p></div><div><img src=\"../files/testing/8bc64343-bc4b-41f0-0eb2-6dcaa2420c2c.jpg\" width=25% alt=\"Image not found\"> <p><strong>ID:</strong> /home/ekansa/github/archaeology-images-ai/files/testing/8bc64343-bc4b-41f0-0eb2-6dcaa2420c2c.jpg</p><p><strong>Score:</strong> 0.8306132047210208</p><p><strong>Caption:</strong> Image of an archaeological artifact found at Poggio Civitate, in Italy. This architectural element, plaque or flat object, mainly consists of terracotta (clay material). Context suggests dates of 700 BCE to 535 BCE. Chronology: Securely Archaic; Fabric Category: Terracotta; Motif: Banquet; Guilloche; Object Type</p><p><a href=\"https://opencontext.org/media/8bc64343-bc4b-41f0-0eb2-6dcaa2420c2c\">Link to full record</a></p></div><div><img src=\"../files/testing/a75adc31-c2c1-4814-8b0b-697d482940fe.jpg\" width=25% alt=\"Image not found\"> <p><strong>ID:</strong> /home/ekansa/github/archaeology-images-ai/files/testing/a75adc31-c2c1-4814-8b0b-697d482940fe.jpg</p><p><strong>Score:</strong> 0.8297665723424401</p><p><strong>Caption:</strong> Image of an archaeological artifact found at Poggio Civitate, in Italy. This architectural element, plaque or flat object, mainly consists of terracotta (clay material). Context suggests dates of 700 BCE to 535 BCE. Chronology: Securely Archaic; Fabric Category: Terracotta; Motif: Banquet; Guilloche; Object Type</p><p><a href=\"https://opencontext.org/media/a75adc31-c2c1-4814-8b0b-697d482940fe\">Link to full record</a></p></div><div><img src=\"../files/testing/e83f62db-29d5-48ab-b3b1-000b7e3ffe43.jpg\" width=25% alt=\"Image not found\"> <p><strong>ID:</strong> /home/ekansa/github/archaeology-images-ai/files/testing/e83f62db-29d5-48ab-b3b1-000b7e3ffe43.jpg</p><p><strong>Score:</strong> 0.8249064038235648</p><p><strong>Caption:</strong> Image of an archaeological artifact found at Poggio Civitate, in Italy. This architectural element, plaque or flat object, mainly consists of clay. Context suggests dates of 700 BCE to 535 BCE. Chronology: Securely Archaic; Fabric Category: Clay; Motif: Banquet; Guilloche; Female; Object Type: Architectural, Frie</p><p><a href=\"https://opencontext.org/media/e83f62db-29d5-48ab-b3b1-000b7e3ffe43\">Link to full record</a></p></div>"
      ],
      "text/plain": [
       "<IPython.core.display.HTML object>"
      ]
     },
     "metadata": {},
     "output_type": "display_data"
    }
   ],
   "source": [
    "query = \"/home/ekansa/github/archaeology-images-ai/files/testing/0ace44d4-52f2-4ced-777f-563585c32172.jpg\"\n",
    "display_similar_images(query)"
   ]
  },
  {
   "cell_type": "code",
   "execution_count": 16,
   "id": "11588893-0c2c-475a-9cde-cca1fb6a7172",
   "metadata": {},
   "outputs": [
    {
     "data": {
      "text/html": [
       "<div>Search for images similar to:<br/><img src=\"../files/testing/0ad70498-fc77-47ea-acc4-c31e5c5b5791.jpg\" width=25% alt=\"Image not found\" /><p>----------------------------------</p><p><strong>Results Below</strong>:</p></div><div><img src=\"../files/testing/0ad70498-fc77-47ea-acc4-c31e5c5b5791.jpg\" width=25% alt=\"Image not found\"> <p><strong>ID:</strong> /home/ekansa/github/archaeology-images-ai/files/testing/0ad70498-fc77-47ea-acc4-c31e5c5b5791.jpg</p><p><strong>Score:</strong> 0.9999999999998574</p><p><strong>Caption:</strong> Image of an archaeological artifact found at Poggio Civitate, in Italy. This example of spools; spool, mainly consists of bucchero ware bucchero. Context suggests dates of 700 BCE to 535 BCE. Fabric Category: Bucchero; Object Type: Textile Related, Rocchetto; Decorative Technique: Stamped; Conservation Action:</p><p><a href=\"https://opencontext.org/media/0ad70498-fc77-47ea-acc4-c31e5c5b5791\">Link to full record</a></p></div><div><img src=\"../files/testing/e97c68de-104a-4c5b-e056-4e006b1ceb16.jpg\" width=25% alt=\"Image not found\"> <p><strong>ID:</strong> /home/ekansa/github/archaeology-images-ai/files/testing/e97c68de-104a-4c5b-e056-4e006b1ceb16.jpg</p><p><strong>Score:</strong> 0.829852423350621</p><p><strong>Caption:</strong> Image of an archaeological artifact found at Poggio Civitate, in Italy. This example of spools; spool, mainly consists of pottery. Context suggests dates of 700 BCE to 535 BCE. Fabric Category: Impasto; Motif: Stag; Object Type: Textile Related, Rocchetto; Decorative Technique: Stamped; Conservation Action: cleaned</p><p><a href=\"https://opencontext.org/media/e97c68de-104a-4c5b-e056-4e006b1ceb16\">Link to full record</a></p></div><div><img src=\"../files/testing/83aa16e5-0be0-4a15-1cad-d6532bc70789.jpg\" width=25% alt=\"Image not found\"> <p><strong>ID:</strong> /home/ekansa/github/archaeology-images-ai/files/testing/83aa16e5-0be0-4a15-1cad-d6532bc70789.jpg</p><p><strong>Score:</strong> 0.8238693576301596</p><p><strong>Caption:</strong> Image of an archaeological artifact found at Poggio Civitate, in Italy. This example of spools; spool, mainly consists of pottery. Context suggests dates of 700 BCE to 535 BCE. Fabric Category: Impasto; Object Type: Textile Related, Rocchetto; Conservation Action: cleaned; Conservation Material: alcohol; tap water</p><p><a href=\"https://opencontext.org/media/83aa16e5-0be0-4a15-1cad-d6532bc70789\">Link to full record</a></p></div><div><img src=\"../files/testing/9f767c90-72e2-40e8-bc0f-5be55a38c760.jpg\" width=25% alt=\"Image not found\"> <p><strong>ID:</strong> /home/ekansa/github/archaeology-images-ai/files/testing/9f767c90-72e2-40e8-bc0f-5be55a38c760.jpg</p><p><strong>Score:</strong> 0.8151525050085674</p><p><strong>Caption:</strong> Image of an archaeological artifact found at Poggio Civitate, in Italy. This example of spools; spool, mainly consists of pottery. Context suggests dates of 700 BCE to 535 BCE. Fabric Category: Impasto; Motif: Circles; Object Type: Textile Related, Rocchetto; Decorative Technique: Stamped; Conservation Action: cleaned</p><p><a href=\"https://opencontext.org/media/9f767c90-72e2-40e8-bc0f-5be55a38c760\">Link to full record</a></p></div><div><img src=\"../files/testing/18f27877-61dc-48db-f4e5-ac7d4a7b590a.jpg\" width=25% alt=\"Image not found\"> <p><strong>ID:</strong> /home/ekansa/github/archaeology-images-ai/files/testing/18f27877-61dc-48db-f4e5-ac7d4a7b590a.jpg</p><p><strong>Score:</strong> 0.8135450243943918</p><p><strong>Caption:</strong> Image of an archaeological artifact found at Poggio Civitate, in Italy. This example of spools; spool, mainly consists of bucchero ware bucchero. Context suggests dates of 700 BCE to 535 BCE. Fabric Category: Bucchero; Object Type: Textile Related, Rocchetto; Decorative Technique: Stamped; Conservation Action:</p><p><a href=\"https://opencontext.org/media/18f27877-61dc-48db-f4e5-ac7d4a7b590a\">Link to full record</a></p></div><div><img src=\"../files/testing/5f934db0-6180-4a63-380e-71630029230c.jpg\" width=25% alt=\"Image not found\"> <p><strong>ID:</strong> /home/ekansa/github/archaeology-images-ai/files/testing/5f934db0-6180-4a63-380e-71630029230c.jpg</p><p><strong>Score:</strong> 0.8134885360230198</p><p><strong>Caption:</strong> Image of an archaeological artifact found at Poggio Civitate, in Italy. This example of spools; spool, mainly consists of pottery. Context suggests dates of 700 BCE to 535 BCE. Fabric Category: Impasto; Motif: Quadruped; Object Type: Textile Related, Rocchetto; Decorative Technique: Stamped</p><p><a href=\"https://opencontext.org/media/5f934db0-6180-4a63-380e-71630029230c\">Link to full record</a></p></div><div><img src=\"../files/testing/2a38cb1d-f3bb-4bce-953e-696dbe78c442.jpg\" width=25% alt=\"Image not found\"> <p><strong>ID:</strong> /home/ekansa/github/archaeology-images-ai/files/testing/2a38cb1d-f3bb-4bce-953e-696dbe78c442.jpg</p><p><strong>Score:</strong> 0.8130681435138165</p><p><strong>Caption:</strong> Image of an archaeological artifact found at Poggio Civitate, in Italy. This example of spools; spool, mainly consists of pottery. Context suggests dates of 700 BCE to 535 BCE. Fabric Category: Impasto; Object Type: Textile Related, Rocchetto; Decorative Technique: Stamped; Conservation Action: cleaned; buffed; Conservation Material</p><p><a href=\"https://opencontext.org/media/2a38cb1d-f3bb-4bce-953e-696dbe78c442\">Link to full record</a></p></div><div><img src=\"../files/testing/60ce994c-cf55-4802-1e33-cbefaf4f7716.jpg\" width=25% alt=\"Image not found\"> <p><strong>ID:</strong> /home/ekansa/github/archaeology-images-ai/files/testing/60ce994c-cf55-4802-1e33-cbefaf4f7716.jpg</p><p><strong>Score:</strong> 0.7693000738445769</p><p><strong>Caption:</strong> Image of an archaeological artifact found at Poggio Civitate, in Italy. This example of spools; spool, mainly consists of pottery. Context suggests dates of 700 BCE to 535 BCE. Fabric Category: Impasto; Motif: Quadruped; Object Type: Textile Related, Rocchetto; Decorative Technique: Stamped</p><p><a href=\"https://opencontext.org/media/60ce994c-cf55-4802-1e33-cbefaf4f7716\">Link to full record</a></p></div><div><img src=\"../files/testing/2487f7c9-1c73-4f2d-240e-f57120cc965f.jpg\" width=25% alt=\"Image not found\"> <p><strong>ID:</strong> /home/ekansa/github/archaeology-images-ai/files/testing/2487f7c9-1c73-4f2d-240e-f57120cc965f.jpg</p><p><strong>Score:</strong> 0.7638928346489677</p><p><strong>Caption:</strong> Image of an archaeological artifact found at Poggio Civitate, in Italy. This example of spools; spool, mainly consists of bucchero ware bucchero. Context suggests dates of 700 BCE to 535 BCE. Fabric Category: Bucchero; Object Type: Textile Related, Rocchetto; Decorative Technique: Impressed</p><p><a href=\"https://opencontext.org/media/2487f7c9-1c73-4f2d-240e-f57120cc965f\">Link to full record</a></p></div><div><img src=\"../files/testing/7285d365-29d1-4514-3384-169166d55e22.jpg\" width=25% alt=\"Image not found\"> <p><strong>ID:</strong> /home/ekansa/github/archaeology-images-ai/files/testing/7285d365-29d1-4514-3384-169166d55e22.jpg</p><p><strong>Score:</strong> 0.755353688455957</p><p><strong>Caption:</strong> Image of an archaeological artifact found at Poggio Civitate, in Italy. This example of spools; spool, mainly consists of pottery. Context suggests dates of 700 BCE to 535 BCE. Chronology: Securely Orientalizing; Fabric Category: Impasto; Motif: Circles; Object Type: Textile Related, Rocchetto; Decorative Technique</p><p><a href=\"https://opencontext.org/media/7285d365-29d1-4514-3384-169166d55e22\">Link to full record</a></p></div>"
      ],
      "text/plain": [
       "<IPython.core.display.HTML object>"
      ]
     },
     "metadata": {},
     "output_type": "display_data"
    }
   ],
   "source": [
    "query = \"/home/ekansa/github/archaeology-images-ai/files/testing/0ad70498-fc77-47ea-acc4-c31e5c5b5791.jpg\"\n",
    "display_similar_images(query)"
   ]
  },
  {
   "cell_type": "code",
   "execution_count": 17,
   "id": "728000ff-1fea-4e5e-93a1-d082010961af",
   "metadata": {},
   "outputs": [
    {
     "data": {
      "text/html": [
       "<div>Search for images similar to:<br/><img src=\"../files/testing/1a62ff87-d9f4-47dd-aa55-c1fbb5d3f344.jpg\" width=25% alt=\"Image not found\" /><p>----------------------------------</p><p><strong>Results Below</strong>:</p></div><div><img src=\"../files/testing/1a62ff87-d9f4-47dd-aa55-c1fbb5d3f344.jpg\" width=25% alt=\"Image not found\"> <p><strong>ID:</strong> /home/ekansa/github/archaeology-images-ai/files/testing/1a62ff87-d9f4-47dd-aa55-c1fbb5d3f344.jpg</p><p><strong>Score:</strong> 0.999999999999809</p><p><strong>Caption:</strong> Image of an archaeological artifact found at Tel Kedesh, in Israel. This object is classified as seals (marks). Context suggests dates of 200 BCE to 150 BCE. Object Type: Bulla or sealing; General type: Tyches; Preservation of sealing: Fully preserved or intact; Shape of sealing: Wide oval; Preservation of impression: 3/4 preserved</p><p><a href=\"https://opencontext.org/media/1a62ff87-d9f4-47dd-aa55-c1fbb5d3f344\">Link to full record</a></p></div><div><img src=\"../files/testing/b8f445e0-2016-493d-94e4-bf9d264e4841.jpg\" width=25% alt=\"Image not found\"> <p><strong>ID:</strong> /home/ekansa/github/archaeology-images-ai/files/testing/b8f445e0-2016-493d-94e4-bf9d264e4841.jpg</p><p><strong>Score:</strong> 0.8839335781428964</p><p><strong>Caption:</strong> Image of an archaeological artifact found at Tel Kedesh, in Israel. This object is classified as seals (marks). Context suggests dates of 200 BCE to 150 BCE. Object Type: Bulla or sealing; General type: Tyches; Preservation of sealing: Fully preserved or intact; Shape of sealing: Up-and-down oval; Preservation of impression: Fully preserved or</p><p><a href=\"https://opencontext.org/media/b8f445e0-2016-493d-94e4-bf9d264e4841\">Link to full record</a></p></div><div><img src=\"../files/testing/23db1e05-3f97-4b6c-aa89-45c712754638.jpg\" width=25% alt=\"Image not found\"> <p><strong>ID:</strong> /home/ekansa/github/archaeology-images-ai/files/testing/23db1e05-3f97-4b6c-aa89-45c712754638.jpg</p><p><strong>Score:</strong> 0.8824460438575807</p><p><strong>Caption:</strong> Image of an archaeological artifact found at Tel Kedesh, in Israel. This object is classified as seals (marks). Context suggests dates of 200 BCE to 150 BCE. Object Type: Bulla or sealing; General type: Tyches; Preservation of sealing: Fully preserved or intact; Shape of sealing: Up-and-down oval; Preservation of impression: 3/</p><p><a href=\"https://opencontext.org/media/23db1e05-3f97-4b6c-aa89-45c712754638\">Link to full record</a></p></div><div><img src=\"../files/testing/bb1c572e-fdf1-4dab-a1ee-457d53ca1858.jpg\" width=25% alt=\"Image not found\"> <p><strong>ID:</strong> /home/ekansa/github/archaeology-images-ai/files/testing/bb1c572e-fdf1-4dab-a1ee-457d53ca1858.jpg</p><p><strong>Score:</strong> 0.8810887888231506</p><p><strong>Caption:</strong> Image of an archaeological artifact found at Tel Kedesh, in Israel. This object is classified as seals (marks). Context suggests dates of 200 BCE to 150 BCE. Object Type: Bulla or sealing; General type: Tyches; Preservation of sealing: Fully preserved or intact; Shape of sealing: Up-and-down oval; Preservation of impression: 3/</p><p><a href=\"https://opencontext.org/media/bb1c572e-fdf1-4dab-a1ee-457d53ca1858\">Link to full record</a></p></div><div><img src=\"../files/testing/896049fa-350d-4308-81d0-36cb5cf63fa0.jpg\" width=25% alt=\"Image not found\"> <p><strong>ID:</strong> /home/ekansa/github/archaeology-images-ai/files/testing/896049fa-350d-4308-81d0-36cb5cf63fa0.jpg</p><p><strong>Score:</strong> 0.8801426159681741</p><p><strong>Caption:</strong> Image of an archaeological artifact found at Tel Kedesh, in Israel. This object is classified as seals (marks). Context suggests dates of 200 BCE to 150 BCE. Object Type: Bulla or sealing; General type: Tyches; Preservation of sealing: 3/4 preserved or intact; Shape of sealing: Irregular; Preservation of impression: 3</p><p><a href=\"https://opencontext.org/media/896049fa-350d-4308-81d0-36cb5cf63fa0\">Link to full record</a></p></div><div><img src=\"../files/testing/1c27c249-3e14-47ed-a2c9-868b66c411c2.jpg\" width=25% alt=\"Image not found\"> <p><strong>ID:</strong> /home/ekansa/github/archaeology-images-ai/files/testing/1c27c249-3e14-47ed-a2c9-868b66c411c2.jpg</p><p><strong>Score:</strong> 0.8721004683338451</p><p><strong>Caption:</strong> Image of an archaeological artifact found at Tel Kedesh, in Israel. This object is classified as seals (marks). Context suggests dates of 200 BCE to 150 BCE. Object Type: Bulla or sealing; General type: Tyches; Preservation of sealing: Fully preserved or intact; Shape of sealing: Up-and-down oval; Preservation of impression: 3/</p><p><a href=\"https://opencontext.org/media/1c27c249-3e14-47ed-a2c9-868b66c411c2\">Link to full record</a></p></div><div><img src=\"../files/testing/f6849443-29d6-4666-81b7-afa326a6025f.jpg\" width=25% alt=\"Image not found\"> <p><strong>ID:</strong> /home/ekansa/github/archaeology-images-ai/files/testing/f6849443-29d6-4666-81b7-afa326a6025f.jpg</p><p><strong>Score:</strong> 0.8657676825177906</p><p><strong>Caption:</strong> Image of an archaeological artifact found at Tel Kedesh, in Israel. This object is classified as seals (marks). Context suggests dates of 200 BCE to 150 BCE. Object Type: Bulla or sealing; General type: Tyches; Preservation of sealing: 3/4 preserved or intact; Shape of sealing: Up-and-down oval; Preservation of impression:</p><p><a href=\"https://opencontext.org/media/f6849443-29d6-4666-81b7-afa326a6025f\">Link to full record</a></p></div><div><img src=\"../files/testing/09d7595f-baad-4cb3-bc93-3c5755dcb6cd.jpg\" width=25% alt=\"Image not found\"> <p><strong>ID:</strong> /home/ekansa/github/archaeology-images-ai/files/testing/09d7595f-baad-4cb3-bc93-3c5755dcb6cd.jpg</p><p><strong>Score:</strong> 0.8577200129432827</p><p><strong>Caption:</strong> Image of an archaeological artifact found at Tel Kedesh, in Israel. This object is classified as seals (marks). Context suggests dates of 200 BCE to 150 BCE. Object Type: Bulla or sealing; General type: Tyches; Preservation of sealing: Fully preserved or intact; Shape of sealing: Up-and-down oval; Preservation of impression: Fully preserved or</p><p><a href=\"https://opencontext.org/media/09d7595f-baad-4cb3-bc93-3c5755dcb6cd\">Link to full record</a></p></div><div><img src=\"../files/testing/84e25a9f-3ae0-4748-a61d-6e7aebeb666e.jpg\" width=25% alt=\"Image not found\"> <p><strong>ID:</strong> /home/ekansa/github/archaeology-images-ai/files/testing/84e25a9f-3ae0-4748-a61d-6e7aebeb666e.jpg</p><p><strong>Score:</strong> 0.8574464739395047</p><p><strong>Caption:</strong> Image of an archaeological artifact found at Tel Kedesh, in Israel. This object is classified as seals (marks). Context suggests dates of 200 BCE to 150 BCE. Object Type: Bulla or sealing; General type: Tyches; Preservation of sealing: Fully preserved or intact; Shape of sealing: Up-and-down oval; Preservation of impression: Fully preserved or</p><p><a href=\"https://opencontext.org/media/84e25a9f-3ae0-4748-a61d-6e7aebeb666e\">Link to full record</a></p></div><div><img src=\"../files/testing/25045835-7c55-48d7-acac-328a5f92877f.jpg\" width=25% alt=\"Image not found\"> <p><strong>ID:</strong> /home/ekansa/github/archaeology-images-ai/files/testing/25045835-7c55-48d7-acac-328a5f92877f.jpg</p><p><strong>Score:</strong> 0.8569252030992891</p><p><strong>Caption:</strong> Image of an archaeological artifact found at Tel Kedesh, in Israel. This object is classified as seals (marks). Context suggests dates of 200 BCE to 150 BCE. Object Type: Bulla or sealing; General type: Tyches; Preservation of sealing: Fully preserved or intact; Shape of sealing: Irregular; Preservation of impression: Fully preserved or intact;</p><p><a href=\"https://opencontext.org/media/25045835-7c55-48d7-acac-328a5f92877f\">Link to full record</a></p></div>"
      ],
      "text/plain": [
       "<IPython.core.display.HTML object>"
      ]
     },
     "metadata": {},
     "output_type": "display_data"
    }
   ],
   "source": [
    "query = \"/home/ekansa/github/archaeology-images-ai/files/testing/1a62ff87-d9f4-47dd-aa55-c1fbb5d3f344.jpg\"\n",
    "display_similar_images(query)"
   ]
  },
  {
   "cell_type": "code",
   "execution_count": null,
   "id": "fc9c2a05-30c3-4944-88e8-9e2c9c623124",
   "metadata": {},
   "outputs": [],
   "source": []
  }
 ],
 "metadata": {
  "kernelspec": {
   "display_name": "Python 3 (ipykernel)",
   "language": "python",
   "name": "python3"
  },
  "language_info": {
   "codemirror_mode": {
    "name": "ipython",
    "version": 3
   },
   "file_extension": ".py",
   "mimetype": "text/x-python",
   "name": "python",
   "nbconvert_exporter": "python",
   "pygments_lexer": "ipython3",
   "version": "3.11.5"
  }
 },
 "nbformat": 4,
 "nbformat_minor": 5
}
