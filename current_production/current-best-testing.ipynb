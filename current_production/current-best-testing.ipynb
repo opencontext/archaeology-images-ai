{
 "cells": [
  {
   "cell_type": "markdown",
   "id": "5759bf85-7621-4ad3-9d56-22f8621f6a86",
   "metadata": {},
   "source": [
    "## LLM Clip\n",
    "\n",
    "https://github.com/simonw/llm-clip\n",
    "requires LLM: https://llm.datasette.io/en/stable/\n",
    "\n",
    "```\n",
    "$ pip install llm\n",
    "$ llm install llm-clip\n",
    "```\n",
    "\n",
    "Then, assuming you are doing this in an environment (I create mine with conda), find the site packages directory, and the **llm_clip.py** file. `archaeology-images-ai/.venv/lib/python3.11/site-packages/llm_clip.py` is where mine hides.\n",
    "\n",
    "For convenience, it would be nice to easily change models used in testing. For instance, you may have multiple models developed with different training data and different training parameters. For this reason, we should make a modification to the  **llm_clip.py**, by first adding to the top of the file this line:\n",
    "\n",
    "```python\n",
    "import os\n",
    "```\n",
    "\n",
    "And then alter this function to check to see if a `LLM_CLIP_MODEL_PATH` environment variable has been specified, and if so, use that:\n",
    "le."
   ]
  },
  {
   "cell_type": "markdown",
   "id": "e48d555d-fae6-447a-8b3e-dc1a34d49faf",
   "metadata": {},
   "source": [
    "```python\n",
    "def embed_batch(self, items):\n",
    "    # Embeds a mix of text strings and binary images\n",
    "    model_to_use = os.getenv('LLM_CLIP_MODEL_PATH', 'clip-ViT-B-32')\n",
    "    # Now set the model, either from the env varaible or the default clip.\n",
    "    if self._model is None:\n",
    "        self._model = SentenceTransformer(model_to_use)\n",
    "```"
   ]
  },
  {
   "cell_type": "markdown",
   "id": "3b8ae79c-9b7d-4608-a261-3919e0d2863c",
   "metadata": {},
   "source": [
    "This should give some more flexibility in switching between different models to use with llm-clip."
   ]
  },
  {
   "cell_type": "code",
   "execution_count": 1,
   "id": "1ad57cdc-eb57-45e5-9190-272cab9c5cba",
   "metadata": {},
   "outputs": [],
   "source": [
    "import os\n",
    "import requests\n",
    "\n",
    "REPO_PATH = os.path.dirname(os.path.abspath(os.getcwd()))\n",
    "\n",
    "# We will need files from:\n",
    "# https://huggingface.co/sentence-transformers/clip-ViT-B-32/tree/main\n",
    "# But since there's no clear license for these, we can't put them into source control in this repo.\n",
    "# So we'll need to download them at run time and store in a folder that's ignored by git.\n",
    "CLIP_FILE_WEB_ROOT = 'https://huggingface.co/sentence-transformers/clip-ViT-B-32/resolve/main'\n",
    "REQUIRED_CLIP_FILES = [\n",
    "    (None, 'config_sentence_transformers.json',),\n",
    "    (None, 'modules.json'),\n",
    "    ('0_CLIPModel', 'merges.txt', ),\n",
    "    ('0_CLIPModel', 'preprocessor_config.json', ),\n",
    "    ('0_CLIPModel', 'special_tokens_map.json', ),\n",
    "    ('0_CLIPModel', 'tokenizer_config.json', ),\n",
    "    ('0_CLIPModel', 'vocab.json', ),\n",
    "]\n",
    "\n",
    "def get_required_clip_files(use_model_path):\n",
    "    \"\"\"Populates the use_model directory with the needed CLIP files via\n",
    "    Web requests from Hugging Face\n",
    "    \"\"\"\n",
    "    for sub_dir, filename in REQUIRED_CLIP_FILES:\n",
    "        if sub_dir:\n",
    "            filepath =  os.path.join(use_model_path, sub_dir, filename)\n",
    "            file_url = f'{CLIP_FILE_WEB_ROOT}/{sub_dir}/{filename}'\n",
    "        else:\n",
    "            filepath =  os.path.join(use_model_path, filename)\n",
    "            file_url = f'{CLIP_FILE_WEB_ROOT}/{filename}'\n",
    "        if os.path.exists(filepath):\n",
    "            # We already have this file, no need to download it again.\n",
    "            continue\n",
    "        print(f'Get needed CLIP file from {file_url}')\n",
    "        r = requests.get(file_url)  \n",
    "        with open(filepath, 'wb') as fd:\n",
    "            fd.write(r.content)\n",
    "\n",
    "def move_results_data_into_use_model(results_path, use_model_path):\n",
    "    \"\"\"Moves the results data to the correct place for the use_mode\"\"\"\n",
    "    clip_path =  os.path.join(use_model_path, '0_CLIPModel')\n",
    "    os.makedirs(clip_path, exist_ok=True)\n",
    "    files = [\n",
    "        'model.safetensors', # current preferred format\n",
    "        'pytorch_model.bin', # old-school format\n",
    "        'config.json',\n",
    "    ]\n",
    "    for file in files:\n",
    "        source_path = os.path.join(results_path, file)\n",
    "        use_path = os.path.join(clip_path, file)\n",
    "        if os.path.exists(use_path):\n",
    "            # nothing to do, we already have the expected\n",
    "            # file in the correct place\n",
    "            continue\n",
    "        if not os.path.exists(source_path):\n",
    "            print(f'We do not have the file, cannot move: {source_path}')\n",
    "            continue\n",
    "        os.rename(source_path, use_path)\n",
    "        print(f'Moved {file} to {use_path}')\n",
    "\n",
    "\n",
    "def prepare_usable_model_from_fine_tuned_results(results_path, use_model_dir='fine_tuned_model'):\n",
    "    use_model_path =  os.path.join(results_path, use_model_dir)\n",
    "    # Make sure we have a directory for our overall model\n",
    "    os.makedirs(use_model_path, exist_ok=True)\n",
    "    # Now make sure that overall model has a directory called 0_CLIPModel\n",
    "    clip_path =  os.path.join(use_model_path, '0_CLIPModel')\n",
    "    os.makedirs(clip_path, exist_ok=True)\n",
    "    # Make sure we have all the needed files.\n",
    "    get_required_clip_files(use_model_path)\n",
    "    # Make sure our results data is in the correct place.\n",
    "    move_results_data_into_use_model(results_path, use_model_path)\n",
    "    return use_model_path\n",
    "    "
   ]
  },
  {
   "cell_type": "code",
   "execution_count": 2,
   "id": "751c7d5d-1371-4ee2-92ad-82ff84b74202",
   "metadata": {},
   "outputs": [
    {
     "name": "stdout",
     "output_type": "stream",
     "text": [
      "We do not have the file, cannot move: /home/ekansa/github/archaeology-images-ai/results/pytorch_model.bin\n",
      "Using the model here: /home/ekansa/github/archaeology-images-ai/results/fine_tuned_model\n"
     ]
    }
   ],
   "source": [
    "import os\n",
    "\n",
    "repo_path = os.path.dirname(os.path.abspath(os.getcwd()))\n",
    "results_path = os.path.join(REPO_PATH, 'results')\n",
    "# Set up our model for use\n",
    "# model_name = 'fine_tuned_model'\n",
    "model_name = None\n",
    "if model_name:\n",
    "    use_model_path = os.path.join(repo_path, 'results', model_name)\n",
    "else:\n",
    "    use_model_path = prepare_usable_model_from_fine_tuned_results(results_path)\n",
    "os.environ['LLM_CLIP_MODEL_PATH'] = use_model_path\n",
    "\n",
    "print(f'Using the model here: {os.getenv(\"LLM_CLIP_MODEL_PATH\")}')\n",
    "\n",
    "train_files = os.path.join(repo_path, 'files', 'training')\n",
    "test_files = os.path.join(repo_path, 'files', 'testing')\n"
   ]
  },
  {
   "cell_type": "code",
   "execution_count": 3,
   "id": "dbb89cbf-0a93-4595-9065-e46e5f3e6700",
   "metadata": {},
   "outputs": [],
   "source": [
    "# Load delete any prior embeddings from earlier attempts\n",
    "# !llm collections delete photos\n",
    "# Load the test images into embeddings...\n",
    "# !llm embed-multi photos --files {train_files} '*.jpg' --binary -m clip\n",
    "# Load the test images into embeddings...\n",
    "# !llm embed-multi photos --files {test_files} '*.jpg' --binary -m clip"
   ]
  },
  {
   "cell_type": "code",
   "execution_count": 4,
   "id": "e507d6ff-4977-4c7c-b6d1-0dcd4099e592",
   "metadata": {},
   "outputs": [],
   "source": [
    "# functions to look up images and captions from the results of llm search\n",
    "import subprocess\n",
    "import json\n",
    "import IPython.display as display\n",
    "import pandas as pd\n",
    "\n",
    "def setup_uuid_keyed_image_metadata(IMAGE_METADATA):\n",
    "    \"\"\"Reads the json file and retrieves the metadata for the given image ids\"\"\"\n",
    "    data_path = os.path.join(REPO_PATH, 'json_data', 'artifact_images_w_sentence_captions.json')\n",
    "    df = pd.read_json(data_path)\n",
    "    for _, row in df.iterrows():\n",
    "        if not row['caption']:\n",
    "            continue\n",
    "        uuid = str(row['media__uuid'])\n",
    "        caption = row['caption']\n",
    "        IMAGE_METADATA[uuid] = caption\n",
    "    return IMAGE_METADATA\n",
    "\n",
    "# Setup the image metadata.\n",
    "IMAGE_METADATA = {}\n",
    "IMAGE_METADATA = setup_uuid_keyed_image_metadata(IMAGE_METADATA)\n",
    "\n",
    "def get_similar_ideas(query):\n",
    "    # Construct the command\n",
    "    cmd = f'llm similar photos -c \"{query}\"'\n",
    "    \n",
    "    # Execute the command and retrieve its output\n",
    "    output = subprocess.check_output(cmd, shell=True)\n",
    "    \n",
    "    # Since the output is a bytes object, decode it to convert it to a string\n",
    "    output_str = output.decode()\n",
    "    \n",
    "    # Split the output by lines and parse each line as JSON\n",
    "    results = [json.loads(line) for line in output_str.split('\\n') if line.strip()]\n",
    "    \n",
    "    # Return the parsed output\n",
    "    return results\n",
    "\n",
    "def get_similar_images(query):\n",
    "    # Construct the command\n",
    "    cmd = f'llm similar photos -i \"{query}\" --binary'\n",
    " \n",
    "    # Execute the command and retrieve its output\n",
    "    output = subprocess.check_output(cmd, shell=True)\n",
    "    \n",
    "    # Since the output is a bytes object, decode it to convert it to a string\n",
    "    output_str = output.decode()\n",
    "    \n",
    "    # Split the output by lines and parse each line as JSON\n",
    "    results = [json.loads(line) for line in output_str.split('\\n') if line.strip()]\n",
    "    \n",
    "    # Return the parsed output\n",
    "    return results\n",
    "\n",
    "def display_similar_ideas(query, metadata=IMAGE_METADATA):\n",
    "    \"Fetches similar ideas using the llm package and displays them with captions\"\n",
    "    similar_images = get_similar_ideas(query)\n",
    "    training_file_path = os.path.join(REPO_PATH, 'files', 'training')\n",
    "    testing_file_path = os.path.join(REPO_PATH, 'files', 'testing')\n",
    "    html_str = ''\n",
    "    for img in similar_images:\n",
    "        score = img['score']\n",
    "        image_id = os.path.join(testing_file_path, img['id'])\n",
    "        if os.path.exists(image_id):\n",
    "            src = f\"../files/testing/{ img['id']}\"  # located in our repo, but under git version control\n",
    "        else:\n",
    "            src = f\"../files/training/{ img['id']}\"  # Experimenting with embeddings from our training set\n",
    "        uuid = img['id'].split('.')[0]  # This will remove the '.jpg' from the image id\n",
    "        caption = metadata.get(uuid, uuid)\n",
    "        url = f\"https://opencontext.org/media/{uuid}\"  # Create the URL by concatenating the base URL and the image id (without 'testing/' and '.jpg')\n",
    "        html_str += f'<div><img src=\"{src}\" width=25% alt=\"Image not found\"> <p><strong>ID:</strong> {image_id}</p><p><strong>Score:</strong> {score}</p><p><strong>Caption:</strong> {caption}</p><p><a href=\"{url}\">Link to full record</a></p></div>'\n",
    "    display.display(display.HTML(html_str))\n",
    "\n",
    "def display_similar_images(query, metadata=IMAGE_METADATA):\n",
    "    \"Fetches similar ideas using the llm package and displays them with captions\"\n",
    "    similar_images = get_similar_images(query)\n",
    "    training_file_path = os.path.join(REPO_PATH, 'files', 'training')\n",
    "    testing_file_path = os.path.join(REPO_PATH, 'files', 'testing')\n",
    "    html_str = ''\n",
    "    if '/files/' in query:\n",
    "        q_file = query.split('/files/')[-1]\n",
    "        q_src = f\"../files/{ q_file}\"\n",
    "        html_str += f'<div>Search for images similar to:<br/><img src=\"{q_src}\" width=25% alt=\"Image not found\" /><p>----------------------------------</p>'\n",
    "        html_str += '<p><strong>Results Below</strong>:</p></div>'\n",
    "    for img in similar_images:\n",
    "        score = img['score']\n",
    "        image_id = os.path.join(testing_file_path, img['id'])\n",
    "        if os.path.exists(image_id):\n",
    "            src = f\"../files/testing/{ img['id']}\"  # located in our repo, but under git version control\n",
    "        else:\n",
    "            src = f\"../files/training/{ img['id']}\"  # Experimenting with embeddings from our training set\n",
    "        uuid = img['id'].split('.')[0]  # This will remove the '.jpg' from the image id\n",
    "        url = f\"https://opencontext.org/media/{uuid}\"\n",
    "        caption = metadata.get(uuid, uuid)        \n",
    "        html_str += f'<div><img src=\"{src}\" width=25% alt=\"Image not found\"> <p><strong>ID:</strong> {image_id}</p><p><strong>Score:</strong> {score}</p><p><strong>Caption:</strong> {caption}</p><p><a href=\"{url}\">Link to full record</a></p></div>'\n",
    "    display.display(display.HTML(html_str))"
   ]
  },
  {
   "cell_type": "code",
   "execution_count": 5,
   "id": "0dd6de70-8548-4422-a54f-414b35027976",
   "metadata": {},
   "outputs": [
    {
     "data": {
      "text/html": [
       "<div><img src=\"../files/testing/d9b8a90f-02e8-469a-9f55-f22fbb0189c5.jpg\" width=25% alt=\"Image not found\"> <p><strong>ID:</strong> /home/ekansa/github/archaeology-images-ai/files/testing/d9b8a90f-02e8-469a-9f55-f22fbb0189c5.jpg</p><p><strong>Score:</strong> 0.3568962660501151</p><p><strong>Caption:</strong> Image of an archaeological artifact found at Poggio Civitate, in Italy. This pottery, vessel; strainer; strainers (culinary tools), mainly consists of clay. Context suggests dates of 700 BCE to 535 BCE. Fabric Category: Clay; Object Type: Vessel; Vessel Form: Strainer / Sieve</p><p><a href=\"https://opencontext.org/media/d9b8a90f-02e8-469a-9f55-f22fbb0189c5\">Link to full record</a></p></div><div><img src=\"../files/testing/79f05fd4-0d8d-8e10-3b19-ccc9d45ad363.jpg\" width=25% alt=\"Image not found\"> <p><strong>ID:</strong> /home/ekansa/github/archaeology-images-ai/files/testing/79f05fd4-0d8d-8e10-3b19-ccc9d45ad363.jpg</p><p><strong>Score:</strong> 0.33903013433715107</p><p><strong>Caption:</strong> Image of an archaeological artifact found at Poggio Civitate, in Italy. This example of roof-tile; pantile; architectural elements, mainly consists of terracotta (clay material). Context suggests dates of 700 BCE to 535 BCE. Fabric Category: Terracotta; Object Type: Architectural; Architectural, Pan Tile; Decorative Technique: Sl</p><p><a href=\"https://opencontext.org/media/79f05fd4-0d8d-8e10-3b19-ccc9d45ad363\">Link to full record</a></p></div><div><img src=\"../files/testing/df671bb8-0674-42ca-a4fd-2634fb0770f9.jpg\" width=25% alt=\"Image not found\"> <p><strong>ID:</strong> /home/ekansa/github/archaeology-images-ai/files/testing/df671bb8-0674-42ca-a4fd-2634fb0770f9.jpg</p><p><strong>Score:</strong> 0.33091783061065133</p><p><strong>Caption:</strong> Image of an archaeological artifact found at Poggio Civitate, in Italy. This example of artefact, mainly consists of stone rock (inorganic material). Context suggests dates of 700 BCE to 535 BCE. Fabric Category: Stone; Motif: Rosette; Object Type: Ornament, Unspecified / Misc.</p><p><a href=\"https://opencontext.org/media/df671bb8-0674-42ca-a4fd-2634fb0770f9\">Link to full record</a></p></div><div><img src=\"../files/testing/52469cd7-b13f-d138-c0ac-51e3a62c1c71.jpg\" width=25% alt=\"Image not found\"> <p><strong>ID:</strong> /home/ekansa/github/archaeology-images-ai/files/testing/52469cd7-b13f-d138-c0ac-51e3a62c1c71.jpg</p><p><strong>Score:</strong> 0.3232209984652556</p><p><strong>Caption:</strong> Image of an archaeological artifact found at Domuztepe, in Turkey. This example of beads (pierced objects), mainly consists of obsidian. Context suggests dates of 6500 BCE to 5500 BCE. Artifact Name: Bead; Material: Obsidian; Disposition: Marash Mus. invent</p><p><a href=\"https://opencontext.org/media/52469cd7-b13f-d138-c0ac-51e3a62c1c71\">Link to full record</a></p></div><div><img src=\"../files/testing/ef7eed58-1904-438f-a665-67fca89cac57.jpg\" width=25% alt=\"Image not found\"> <p><strong>ID:</strong> /home/ekansa/github/archaeology-images-ai/files/testing/ef7eed58-1904-438f-a665-67fca89cac57.jpg</p><p><strong>Score:</strong> 0.3218991925487745</p><p><strong>Caption:</strong> Image of an archaeological artifact found at Poggio Civitate, in Italy. This example of tack; nails (fasteners), mainly consists of iron (metal). Context suggests dates of 700 BCE to 535 BCE. Fabric Category: Iron; Object Type: Fastener, Nail; Conservation Action: consolidated; Conservation Material: acetone; Acryloid B-48</p><p><a href=\"https://opencontext.org/media/ef7eed58-1904-438f-a665-67fca89cac57\">Link to full record</a></p></div><div><img src=\"../files/testing/5cac5199-c3f3-f722-df8d-4d0ff580b318.jpg\" width=25% alt=\"Image not found\"> <p><strong>ID:</strong> /home/ekansa/github/archaeology-images-ai/files/testing/5cac5199-c3f3-f722-df8d-4d0ff580b318.jpg</p><p><strong>Score:</strong> 0.3216903712878585</p><p><strong>Caption:</strong> Image of an archaeological artifact found at Poggio Civitate, in Italy. This example of roof-tile; pantile; architectural elements, mainly consists of terracotta (clay material). Context suggests dates of 700 BCE to 535 BCE. Fabric Category: Terracotta; Object Type: Architectural; Architectural, Pan Tile; Decorative Technique: Imp</p><p><a href=\"https://opencontext.org/media/5cac5199-c3f3-f722-df8d-4d0ff580b318\">Link to full record</a></p></div><div><img src=\"../files/testing/a5e6bc80-9412-40ad-c458-ca6b1ae2b685.jpg\" width=25% alt=\"Image not found\"> <p><strong>ID:</strong> /home/ekansa/github/archaeology-images-ai/files/testing/a5e6bc80-9412-40ad-c458-ca6b1ae2b685.jpg</p><p><strong>Score:</strong> 0.31929240954197774</p><p><strong>Caption:</strong> Image of an archaeological artifact found at Poggio Civitate, in Italy. This architectural element, roof-tile; cover tile, mainly consists of terracotta (clay material). Context suggests dates of 700 BCE to 535 BCE. Chronology: Securely Orientalizing; Fabric Category: Terracotta; Motif: Female; Notches; Object Type:</p><p><a href=\"https://opencontext.org/media/a5e6bc80-9412-40ad-c458-ca6b1ae2b685\">Link to full record</a></p></div><div><img src=\"../files/testing/6d1eae7f-232f-439c-89f8-62befaf5f478.jpg\" width=25% alt=\"Image not found\"> <p><strong>ID:</strong> /home/ekansa/github/archaeology-images-ai/files/testing/6d1eae7f-232f-439c-89f8-62befaf5f478.jpg</p><p><strong>Score:</strong> 0.3162430220512281</p><p><strong>Caption:</strong> Image of an archaeological artifact found at Vescovado di Murlo, in Italy. This pottery, vessel; amphora; amphorae (storage vessels), mainly consists of pottery. Context suggests dates of 535 BCE to 50 BCE. Fabric Category: Impasto; Object Type: Vessel; Vessel Form: Amphora</p><p><a href=\"https://opencontext.org/media/6d1eae7f-232f-439c-89f8-62befaf5f478\">Link to full record</a></p></div><div><img src=\"../files/testing/86169d0d-a0ac-43d5-bf56-f729c239e252.jpg\" width=25% alt=\"Image not found\"> <p><strong>ID:</strong> /home/ekansa/github/archaeology-images-ai/files/testing/86169d0d-a0ac-43d5-bf56-f729c239e252.jpg</p><p><strong>Score:</strong> 0.3160256215045996</p><p><strong>Caption:</strong> Image of an archaeological artifact found at Poggio Civitate, in Italy. This architectural element, plaque or flat object, mainly consists of clay. Context suggests dates of 700 BCE to 535 BCE. Chronology: Securely Archaic; Fabric Category: Clay; Motif: Horse Race; Object Type: Architectural, Frieze Plaque</p><p><a href=\"https://opencontext.org/media/86169d0d-a0ac-43d5-bf56-f729c239e252\">Link to full record</a></p></div><div><img src=\"../files/testing/52e6c9a0-40d9-4044-3158-4c77eaedf908.jpg\" width=25% alt=\"Image not found\"> <p><strong>ID:</strong> /home/ekansa/github/archaeology-images-ai/files/testing/52e6c9a0-40d9-4044-3158-4c77eaedf908.jpg</p><p><strong>Score:</strong> 0.31561416541434006</p><p><strong>Caption:</strong> Image of an archaeological artifact found at Poggio Civitate, in Italy. This architectural element, architecture, mainly consists of plaster. Context suggests dates of 700 BCE to 535 BCE. Fabric Category: Plaster; Object Type: Architectural, Unspecified / Misc.</p><p><a href=\"https://opencontext.org/media/52e6c9a0-40d9-4044-3158-4c77eaedf908\">Link to full record</a></p></div>"
      ],
      "text/plain": [
       "<IPython.core.display.HTML object>"
      ]
     },
     "metadata": {},
     "output_type": "display_data"
    }
   ],
   "source": [
    "query = \"A clay tablet with incisions\"\n",
    "display_similar_ideas(query)"
   ]
  },
  {
   "cell_type": "code",
   "execution_count": 6,
   "id": "1fb1f03b-0301-4990-be23-d577009b9bec",
   "metadata": {},
   "outputs": [
    {
     "data": {
      "text/html": [
       "<div><img src=\"../files/testing/885ec053-9e8a-4063-e473-2aab990434b9.jpg\" width=25% alt=\"Image not found\"> <p><strong>ID:</strong> /home/ekansa/github/archaeology-images-ai/files/testing/885ec053-9e8a-4063-e473-2aab990434b9.jpg</p><p><strong>Score:</strong> 0.3411442679774633</p><p><strong>Caption:</strong> Image of an archaeological artifact found at Poggio Civitate, in Italy. This architectural element, sima; cymas, mainly consists of terracotta (clay material). Context suggests dates of 700 BCE to 535 BCE. Chronology: Securely Orientalizing; Fabric Category: Terracotta; Motif: Female; Object Type: Architectural,</p><p><a href=\"https://opencontext.org/media/885ec053-9e8a-4063-e473-2aab990434b9\">Link to full record</a></p></div><div><img src=\"../files/testing/929f7190-9bd0-4972-1816-0a50de909010.jpg\" width=25% alt=\"Image not found\"> <p><strong>ID:</strong> /home/ekansa/github/archaeology-images-ai/files/testing/929f7190-9bd0-4972-1816-0a50de909010.jpg</p><p><strong>Score:</strong> 0.33215852037823673</p><p><strong>Caption:</strong> Image of an archaeological artifact found at Poggio Civitate, in Italy. This architectural element, sima; cymas, mainly consists of clay. Context suggests dates of 700 BCE to 535 BCE. Chronology: Securely Archaic; Fabric Category: Clay; Object Type: Architectural, Lateral Sima</p><p><a href=\"https://opencontext.org/media/929f7190-9bd0-4972-1816-0a50de909010\">Link to full record</a></p></div><div><img src=\"../files/testing/1224bf1e-5898-4698-184c-bc04d4480574.jpg\" width=25% alt=\"Image not found\"> <p><strong>ID:</strong> /home/ekansa/github/archaeology-images-ai/files/testing/1224bf1e-5898-4698-184c-bc04d4480574.jpg</p><p><strong>Score:</strong> 0.3320872088282892</p><p><strong>Caption:</strong> Image of an archaeological artifact found at Poggio Civitate, in Italy. This example of production/replication, mainly consists of terracotta (clay material). Context suggests dates of 700 BCE to 535 BCE. Chronology: Probably Orientalizing; Fabric Category: Terracotta; Object Type: Production Waste</p><p><a href=\"https://opencontext.org/media/1224bf1e-5898-4698-184c-bc04d4480574\">Link to full record</a></p></div><div><img src=\"../files/testing/d848f482-d93f-41b3-82e3-5cce4c798f08.jpg\" width=25% alt=\"Image not found\"> <p><strong>ID:</strong> /home/ekansa/github/archaeology-images-ai/files/testing/d848f482-d93f-41b3-82e3-5cce4c798f08.jpg</p><p><strong>Score:</strong> 0.3273953160559216</p><p><strong>Caption:</strong> Image of an archaeological artifact found at Poggio Civitate, in Italy. This architectural element, architecture, mainly consists of terracotta (clay material). Context suggests dates of 700 BCE to 535 BCE. Chronology: Securely Archaic; Fabric Category: Terracotta; Motif: Female; Object Type: Architectural, Unspecified / Misc</p><p><a href=\"https://opencontext.org/media/d848f482-d93f-41b3-82e3-5cce4c798f08\">Link to full record</a></p></div><div><img src=\"../files/testing/d178871e-4ae4-4c72-e18f-bffd6aadf4e4.jpg\" width=25% alt=\"Image not found\"> <p><strong>ID:</strong> /home/ekansa/github/archaeology-images-ai/files/testing/d178871e-4ae4-4c72-e18f-bffd6aadf4e4.jpg</p><p><strong>Score:</strong> 0.3257541595239628</p><p><strong>Caption:</strong> Image of an archaeological artifact found at Poggio Civitate, in Italy. This pottery vessel, mainly consists of bucchero ware bucchero. Context suggests dates of 700 BCE to 535 BCE. Fabric Category: Bucchero; Motif: Female; Object Type: Vessel; Vessel Form: Form unspecified</p><p><a href=\"https://opencontext.org/media/d178871e-4ae4-4c72-e18f-bffd6aadf4e4\">Link to full record</a></p></div><div><img src=\"../files/testing/94e37b9a-d5cd-4185-b8fb-be8d9beb6f09.jpg\" width=25% alt=\"Image not found\"> <p><strong>ID:</strong> /home/ekansa/github/archaeology-images-ai/files/testing/94e37b9a-d5cd-4185-b8fb-be8d9beb6f09.jpg</p><p><strong>Score:</strong> 0.323809966691487</p><p><strong>Caption:</strong> Image of an archaeological artifact found at Poggio Civitate, in Italy. This architectural element, sima; cymas, mainly consists of terracotta (clay material). Context suggests dates of 700 BCE to 535 BCE. Fabric Category: Terracotta; Object Type: Architectural, Lateral Sima</p><p><a href=\"https://opencontext.org/media/94e37b9a-d5cd-4185-b8fb-be8d9beb6f09\">Link to full record</a></p></div><div><img src=\"../files/testing/3cbcf74e-341f-48e7-b2ad-f367b431221b.jpg\" width=25% alt=\"Image not found\"> <p><strong>ID:</strong> /home/ekansa/github/archaeology-images-ai/files/testing/3cbcf74e-341f-48e7-b2ad-f367b431221b.jpg</p><p><strong>Score:</strong> 0.3218164791471994</p><p><strong>Caption:</strong> Image of an archaeological artifact found at Tel Kedesh, in Israel. This object is classified as seals (marks). Context suggests dates of 200 BCE to 150 BCE. Object Type: Bulla or sealing; General type: Human portraits; Preservation of sealing: Fully preserved or intact; Shape of sealing: Irregular; Preservation of impression: 3/4 preserved or</p><p><a href=\"https://opencontext.org/media/3cbcf74e-341f-48e7-b2ad-f367b431221b\">Link to full record</a></p></div><div><img src=\"../files/testing/4de79cba-d471-4655-a9ef-e1c63ffab62d.jpg\" width=25% alt=\"Image not found\"> <p><strong>ID:</strong> /home/ekansa/github/archaeology-images-ai/files/testing/4de79cba-d471-4655-a9ef-e1c63ffab62d.jpg</p><p><strong>Score:</strong> 0.32045090269878734</p><p><strong>Caption:</strong> Image of an archaeological artifact found at Poggio Civitate, in Italy. This pottery vessel, mainly consists of bucchero ware bucchero. Context suggests dates of 700 BCE to 535 BCE. Fabric Category: Bucchero; Motif: Female; Object Type: Vessel; Decorative Technique: Incised; Molded; Plastic; Vessel Form</p><p><a href=\"https://opencontext.org/media/4de79cba-d471-4655-a9ef-e1c63ffab62d\">Link to full record</a></p></div><div><img src=\"../files/testing/a2787cb7-28fd-4a60-897f-703a821be939.jpg\" width=25% alt=\"Image not found\"> <p><strong>ID:</strong> /home/ekansa/github/archaeology-images-ai/files/testing/a2787cb7-28fd-4a60-897f-703a821be939.jpg</p><p><strong>Score:</strong> 0.3181499733675808</p><p><strong>Caption:</strong> Image of an archaeological artifact found at Poggio Civitate, in Italy. This example of vessel, mainly consists of clay. Context suggests dates of 700 BCE to 535 BCE. Fabric Category: Clay; Motif: Lotus; Object Type: Vessel; Decorative Technique: Molded</p><p><a href=\"https://opencontext.org/media/a2787cb7-28fd-4a60-897f-703a821be939\">Link to full record</a></p></div><div><img src=\"../files/testing/0d1d2c95-06f8-4b57-5d13-f2156ebcc0b0.jpg\" width=25% alt=\"Image not found\"> <p><strong>ID:</strong> /home/ekansa/github/archaeology-images-ai/files/testing/0d1d2c95-06f8-4b57-5d13-f2156ebcc0b0.jpg</p><p><strong>Score:</strong> 0.3170531505379107</p><p><strong>Caption:</strong> Image of an archaeological artifact found at Poggio Civitate, in Italy. This pottery vessel, mainly consists of bucchero ware bucchero. Context suggests dates of 700 BCE to 535 BCE. Fabric Category: Bucchero; Motif: Female; Object Type: Vessel; Decorative Technique: Molded; Vessel Form: Form unspecified; Conservation</p><p><a href=\"https://opencontext.org/media/0d1d2c95-06f8-4b57-5d13-f2156ebcc0b0\">Link to full record</a></p></div>"
      ],
      "text/plain": [
       "<IPython.core.display.HTML object>"
      ]
     },
     "metadata": {},
     "output_type": "display_data"
    }
   ],
   "source": [
    "query = \"A woman's face\"\n",
    "display_similar_ideas(query)"
   ]
  },
  {
   "cell_type": "code",
   "execution_count": 7,
   "id": "7c8876ca-e76e-4732-bca6-93ba35df9364",
   "metadata": {},
   "outputs": [
    {
     "data": {
      "text/html": [
       "<div><img src=\"../files/testing/bc23d060-4642-402a-b247-dc08a8efc9e6.jpg\" width=25% alt=\"Image not found\"> <p><strong>ID:</strong> /home/ekansa/github/archaeology-images-ai/files/testing/bc23d060-4642-402a-b247-dc08a8efc9e6.jpg</p><p><strong>Score:</strong> 0.36079850515579553</p><p><strong>Caption:</strong> Image of an archaeological artifact found at Poggio Civitate, in Italy. This architectural element, antefix, mainly consists of clay. Context suggests dates of 700 BCE to 535 BCE. Chronology: Securely Archaic; Fabric Category: Clay; Motif: Gorgon; Object Type: Architectural, Antefix</p><p><a href=\"https://opencontext.org/media/bc23d060-4642-402a-b247-dc08a8efc9e6\">Link to full record</a></p></div><div><img src=\"../files/testing/67d75bd8-23ac-4657-ca4d-cf8fea31a1f3.jpg\" width=25% alt=\"Image not found\"> <p><strong>ID:</strong> /home/ekansa/github/archaeology-images-ai/files/testing/67d75bd8-23ac-4657-ca4d-cf8fea31a1f3.jpg</p><p><strong>Score:</strong> 0.3567521659957508</p><p><strong>Caption:</strong> Image of an archaeological artifact found at Poggio Civitate, in Italy. This architectural element, antefix, mainly consists of clay. Context suggests dates of 700 BCE to 535 BCE. Chronology: Securely Archaic; Fabric Category: Clay; Motif: Gorgon; Tongue; Object Type: Architectural, Antefix</p><p><a href=\"https://opencontext.org/media/67d75bd8-23ac-4657-ca4d-cf8fea31a1f3\">Link to full record</a></p></div><div><img src=\"../files/testing/9cc041d2-a13d-4595-cd14-f44050a049c0.jpg\" width=25% alt=\"Image not found\"> <p><strong>ID:</strong> /home/ekansa/github/archaeology-images-ai/files/testing/9cc041d2-a13d-4595-cd14-f44050a049c0.jpg</p><p><strong>Score:</strong> 0.3557362159870965</p><p><strong>Caption:</strong> Image of an archaeological artifact found at Poggio Civitate, in Italy. This architectural element, antefix, mainly consists of clay. Context suggests dates of 700 BCE to 535 BCE. Chronology: Securely Archaic; Fabric Category: Clay; Motif: Gorgon; Tongue; Object Type: Architectural, Antefix</p><p><a href=\"https://opencontext.org/media/9cc041d2-a13d-4595-cd14-f44050a049c0\">Link to full record</a></p></div><div><img src=\"../files/testing/429a7d8d-d48a-472e-7331-4e9e14acf448.jpg\" width=25% alt=\"Image not found\"> <p><strong>ID:</strong> /home/ekansa/github/archaeology-images-ai/files/testing/429a7d8d-d48a-472e-7331-4e9e14acf448.jpg</p><p><strong>Score:</strong> 0.3455968596288176</p><p><strong>Caption:</strong> Image of an archaeological artifact found at Poggio Civitate, in Italy. This architectural element, antefix, mainly consists of terracotta (clay material). Context suggests dates of 700 BCE to 535 BCE. Chronology: Securely Archaic; Fabric Category: Terracotta; Motif: Gorgon; Object Type: Architectural,</p><p><a href=\"https://opencontext.org/media/429a7d8d-d48a-472e-7331-4e9e14acf448\">Link to full record</a></p></div><div><img src=\"../files/testing/3aeb1405-f821-4a7d-5bd6-4d96e5e04502.jpg\" width=25% alt=\"Image not found\"> <p><strong>ID:</strong> /home/ekansa/github/archaeology-images-ai/files/testing/3aeb1405-f821-4a7d-5bd6-4d96e5e04502.jpg</p><p><strong>Score:</strong> 0.3444818114865845</p><p><strong>Caption:</strong> Image of an archaeological artifact found at Poggio Civitate, in Italy. This architectural element, antefix, mainly consists of terracotta (clay material). Context suggests dates of 700 BCE to 535 BCE. Chronology: Securely Archaic; Fabric Category: Terracotta; Motif: Gorgon; Tongue; Object Type:</p><p><a href=\"https://opencontext.org/media/3aeb1405-f821-4a7d-5bd6-4d96e5e04502\">Link to full record</a></p></div><div><img src=\"../files/testing/1f078603-410a-4b2e-5c4f-08d1413d9836.jpg\" width=25% alt=\"Image not found\"> <p><strong>ID:</strong> /home/ekansa/github/archaeology-images-ai/files/testing/1f078603-410a-4b2e-5c4f-08d1413d9836.jpg</p><p><strong>Score:</strong> 0.3437283117215815</p><p><strong>Caption:</strong> Image of an archaeological artifact found at Poggio Civitate, in Italy. This pottery vessel, mainly consists of pottery. Context suggests dates of 700 BCE to 535 BCE. Fabric Category: Impasto; Motif: Female; Object Type: Vessel; Decorative Technique: Incised; Molded; Vessel Form: Form unspecified; Conservation Action: cleaned;</p><p><a href=\"https://opencontext.org/media/1f078603-410a-4b2e-5c4f-08d1413d9836\">Link to full record</a></p></div><div><img src=\"../files/testing/60b60245-59dd-492f-39ef-12c4be0a2264.jpg\" width=25% alt=\"Image not found\"> <p><strong>ID:</strong> /home/ekansa/github/archaeology-images-ai/files/testing/60b60245-59dd-492f-39ef-12c4be0a2264.jpg</p><p><strong>Score:</strong> 0.34127792965182585</p><p><strong>Caption:</strong> Image of an archaeological artifact found at Poggio Civitate, in Italy. This architectural element, antefix, mainly consists of terracotta (clay material). Context suggests dates of 700 BCE to 535 BCE. Chronology: Securely Archaic; Fabric Category: Terracotta; Motif: Gorgon; Object Type: Architectural,</p><p><a href=\"https://opencontext.org/media/60b60245-59dd-492f-39ef-12c4be0a2264\">Link to full record</a></p></div><div><img src=\"../files/testing/51adc5cd-e033-4433-56f9-9430503a7795.jpg\" width=25% alt=\"Image not found\"> <p><strong>ID:</strong> /home/ekansa/github/archaeology-images-ai/files/testing/51adc5cd-e033-4433-56f9-9430503a7795.jpg</p><p><strong>Score:</strong> 0.3409458787263123</p><p><strong>Caption:</strong> Image of an archaeological artifact found at Poggio Civitate, in Italy. This architectural element, antefix, mainly consists of clay. Context suggests dates of 700 BCE to 535 BCE. Chronology: Securely Archaic; Fabric Category: Clay; Motif: Gorgon; Object Type: Architectural, Antefix</p><p><a href=\"https://opencontext.org/media/51adc5cd-e033-4433-56f9-9430503a7795\">Link to full record</a></p></div><div><img src=\"../files/testing/6d1eae7f-232f-439c-89f8-62befaf5f478.jpg\" width=25% alt=\"Image not found\"> <p><strong>ID:</strong> /home/ekansa/github/archaeology-images-ai/files/testing/6d1eae7f-232f-439c-89f8-62befaf5f478.jpg</p><p><strong>Score:</strong> 0.34023008257941034</p><p><strong>Caption:</strong> Image of an archaeological artifact found at Vescovado di Murlo, in Italy. This pottery, vessel; amphora; amphorae (storage vessels), mainly consists of pottery. Context suggests dates of 535 BCE to 50 BCE. Fabric Category: Impasto; Object Type: Vessel; Vessel Form: Amphora</p><p><a href=\"https://opencontext.org/media/6d1eae7f-232f-439c-89f8-62befaf5f478\">Link to full record</a></p></div><div><img src=\"../files/testing/ff2b7d5e-3a70-458b-9722-14ca8d283738.jpg\" width=25% alt=\"Image not found\"> <p><strong>ID:</strong> /home/ekansa/github/archaeology-images-ai/files/testing/ff2b7d5e-3a70-458b-9722-14ca8d283738.jpg</p><p><strong>Score:</strong> 0.335736966531846</p><p><strong>Caption:</strong> Image of an archaeological artifact found at Poggio Civitate, in Italy. This architectural element, antefix, mainly consists of clay. Context suggests dates of 700 BCE to 535 BCE. Fabric Category: Clay; Motif: Gorgon; Object Type: Architectural, Antefix</p><p><a href=\"https://opencontext.org/media/ff2b7d5e-3a70-458b-9722-14ca8d283738\">Link to full record</a></p></div>"
      ],
      "text/plain": [
       "<IPython.core.display.HTML object>"
      ]
     },
     "metadata": {},
     "output_type": "display_data"
    }
   ],
   "source": [
    "query = \"A sculpture of a Gorgon's face\"\n",
    "display_similar_ideas(query)"
   ]
  },
  {
   "cell_type": "code",
   "execution_count": 8,
   "id": "3aedffa5-f94e-4f09-858f-d3941e3f8168",
   "metadata": {},
   "outputs": [
    {
     "data": {
      "text/html": [
       "<div><img src=\"../files/testing/1bd5e00e-1dbb-4986-75cf-f2f638d38b70.jpg\" width=25% alt=\"Image not found\"> <p><strong>ID:</strong> /home/ekansa/github/archaeology-images-ai/files/testing/1bd5e00e-1dbb-4986-75cf-f2f638d38b70.jpg</p><p><strong>Score:</strong> 0.3428340309881943</p><p><strong>Caption:</strong> Image of an archaeological artifact found at Domuztepe, in Turkey. This coin, coins (money), mainly consists of billon. Context suggests dates of 300 to 400. It was originally made at Antiochia/Theoupolis. Artifact Name: Coin; Material: Billon; Initials: EM; Conservation: no; Mint: · / SM[A</p><p><a href=\"https://opencontext.org/media/1bd5e00e-1dbb-4986-75cf-f2f638d38b70\">Link to full record</a></p></div><div><img src=\"../files/testing/7b2480e2-4d8b-47b0-a373-eb5dc3bb4d87.jpg\" width=25% alt=\"Image not found\"> <p><strong>ID:</strong> /home/ekansa/github/archaeology-images-ai/files/testing/7b2480e2-4d8b-47b0-a373-eb5dc3bb4d87.jpg</p><p><strong>Score:</strong> 0.3365302718311536</p><p><strong>Caption:</strong> Image of an archaeological artifact found at Domuztepe, in Turkey. This coin, coins (money), mainly consists of billon. Context suggests dates of 300 to 400. It was originally made at Byzantium. Artifact Name: Coin; Material: Billon; Initials: EM; Conservation: no; Mint: CONSH Constantinople</p><p><a href=\"https://opencontext.org/media/7b2480e2-4d8b-47b0-a373-eb5dc3bb4d87\">Link to full record</a></p></div><div><img src=\"../files/testing/9c97b6ef-5045-4a2d-dee3-0b94aa7db287.jpg\" width=25% alt=\"Image not found\"> <p><strong>ID:</strong> /home/ekansa/github/archaeology-images-ai/files/testing/9c97b6ef-5045-4a2d-dee3-0b94aa7db287.jpg</p><p><strong>Score:</strong> 0.3341597876713488</p><p><strong>Caption:</strong> Image of an archaeological artifact found at Domuztepe, in Turkey. This coin, coins (money), mainly consists of billon. Context suggests dates of 300 to 400. It was originally made at Nicomedia. Artifact Name: Coin; Material: Billon; Initials: EM; Conservation: partially; Mint: SMNA Nicomedia</p><p><a href=\"https://opencontext.org/media/9c97b6ef-5045-4a2d-dee3-0b94aa7db287\">Link to full record</a></p></div><div><img src=\"../files/testing/2556f1b6-054c-4c03-809a-e6ccdc3ef9ec.jpg\" width=25% alt=\"Image not found\"> <p><strong>ID:</strong> /home/ekansa/github/archaeology-images-ai/files/testing/2556f1b6-054c-4c03-809a-e6ccdc3ef9ec.jpg</p><p><strong>Score:</strong> 0.33316233386407773</p><p><strong>Caption:</strong> Image of an archaeological artifact found at Tall al-Umayri, in Jordan. This object is classified as coins (money). Record Type (Object or Artifact): Object</p><p><a href=\"https://opencontext.org/media/2556f1b6-054c-4c03-809a-e6ccdc3ef9ec\">Link to full record</a></p></div><div><img src=\"../files/testing/bbd10cc6-7803-4023-9b92-d398e8ce4f2c.jpg\" width=25% alt=\"Image not found\"> <p><strong>ID:</strong> /home/ekansa/github/archaeology-images-ai/files/testing/bbd10cc6-7803-4023-9b92-d398e8ce4f2c.jpg</p><p><strong>Score:</strong> 0.331777935093883</p><p><strong>Caption:</strong> Image of an archaeological artifact found at Domuztepe, in Turkey. This coin, coins (money), mainly consists of billon. Context suggests dates of 300 to 400. It was originally made at Antiochia/Theoupolis. Artifact Name: Coin; Material: Billon; Initials: EM; Conservation: no; Mint: SMANH Ant</p><p><a href=\"https://opencontext.org/media/bbd10cc6-7803-4023-9b92-d398e8ce4f2c\">Link to full record</a></p></div><div><img src=\"../files/testing/cd3dae25-c35a-415d-58a3-2455661fc287.jpg\" width=25% alt=\"Image not found\"> <p><strong>ID:</strong> /home/ekansa/github/archaeology-images-ai/files/testing/cd3dae25-c35a-415d-58a3-2455661fc287.jpg</p><p><strong>Score:</strong> 0.3291043037314255</p><p><strong>Caption:</strong> Image of an archaeological artifact found at Domuztepe, in Turkey. This coin, coins (money), mainly consists of billon. Context suggests dates of 300 to 400. It was originally made at Byzantium. Artifact Name: Coin; Material: Billon; Initials: EM; Conservation: no; Mint: CONSH Constantinople</p><p><a href=\"https://opencontext.org/media/cd3dae25-c35a-415d-58a3-2455661fc287\">Link to full record</a></p></div><div><img src=\"../files/testing/50eceb0b-4ceb-4b01-be2e-41097340a084.jpg\" width=25% alt=\"Image not found\"> <p><strong>ID:</strong> /home/ekansa/github/archaeology-images-ai/files/testing/50eceb0b-4ceb-4b01-be2e-41097340a084.jpg</p><p><strong>Score:</strong> 0.3289415193978523</p><p><strong>Caption:</strong> Image of an archaeological artifact found at Tall al-Umayri, in Jordan. This object is classified as coins (money). Record Type (Object or Artifact): Object; Designation certainty: Probable; Material: UD; Preservation: Complete; Craftsmanship: Undetermined; Allocation: DoA</p><p><a href=\"https://opencontext.org/media/50eceb0b-4ceb-4b01-be2e-41097340a084\">Link to full record</a></p></div><div><img src=\"../files/testing/4392fa26-7a54-4c0b-ae12-f40d0a439557.jpg\" width=25% alt=\"Image not found\"> <p><strong>ID:</strong> /home/ekansa/github/archaeology-images-ai/files/testing/4392fa26-7a54-4c0b-ae12-f40d0a439557.jpg</p><p><strong>Score:</strong> 0.3284839343437671</p><p><strong>Caption:</strong> Image of an archaeological artifact found at Domuztepe, in Turkey. This coin, coins (money), mainly consists of billon. Context suggests dates of 300 to 400. It was originally made at Antiochia/Theoupolis. Artifact Name: Coin; Material: Billon; Initials: EM; Conservation: no; Mint: SMANΓ</p><p><a href=\"https://opencontext.org/media/4392fa26-7a54-4c0b-ae12-f40d0a439557\">Link to full record</a></p></div><div><img src=\"../files/testing/a07eff31-f3b7-4b56-f92d-c2caa0c9d698.jpg\" width=25% alt=\"Image not found\"> <p><strong>ID:</strong> /home/ekansa/github/archaeology-images-ai/files/testing/a07eff31-f3b7-4b56-f92d-c2caa0c9d698.jpg</p><p><strong>Score:</strong> 0.32713356711797786</p><p><strong>Caption:</strong> Image of an archaeological artifact found at Domuztepe, in Turkey. This coin, coins (money), mainly consists of billon. Context suggests dates of 300 to 400. Artifact Name: Coin; Material: Billon; Initials: EM; Conservation: no; Mint: -</p><p><a href=\"https://opencontext.org/media/a07eff31-f3b7-4b56-f92d-c2caa0c9d698\">Link to full record</a></p></div><div><img src=\"../files/testing/6dc40925-3a5a-4b66-7068-ffdb0b3b7c3e.jpg\" width=25% alt=\"Image not found\"> <p><strong>ID:</strong> /home/ekansa/github/archaeology-images-ai/files/testing/6dc40925-3a5a-4b66-7068-ffdb0b3b7c3e.jpg</p><p><strong>Score:</strong> 0.326933605695905</p><p><strong>Caption:</strong> Image of an archaeological artifact found at Domuztepe, in Turkey. This coin, coins (money), mainly consists of billon. Context suggests dates of 300 to 400. It was originally made at Antiochia/Theoupolis. Artifact Name: Coin; Material: Billon; Initials: EM; Conservation: no; Mint: · / SMAN</p><p><a href=\"https://opencontext.org/media/6dc40925-3a5a-4b66-7068-ffdb0b3b7c3e\">Link to full record</a></p></div>"
      ],
      "text/plain": [
       "<IPython.core.display.HTML object>"
      ]
     },
     "metadata": {},
     "output_type": "display_data"
    }
   ],
   "source": [
    "query = \"A coin with a Roman emperor\"\n",
    "display_similar_ideas(query)"
   ]
  },
  {
   "cell_type": "code",
   "execution_count": 9,
   "id": "87fdc260-d24d-4466-bd67-7b98d0b09b24",
   "metadata": {},
   "outputs": [
    {
     "data": {
      "text/html": [
       "<div><img src=\"../files/testing/2a34721f-0109-43ca-5b67-026a36dcc9d0.jpg\" width=25% alt=\"Image not found\"> <p><strong>ID:</strong> /home/ekansa/github/archaeology-images-ai/files/testing/2a34721f-0109-43ca-5b67-026a36dcc9d0.jpg</p><p><strong>Score:</strong> 0.3585928355633668</p><p><strong>Caption:</strong> Image of an archaeological artifact found at Poggio Civitate, in Italy. This pottery vessel, mainly consists of pottery. Context suggests dates of 700 BCE to 535 BCE. Fabric Category: Impasto; Object Type: Vessel; Decorative Technique: Inscribed; Vessel Form: Form unspecified</p><p><a href=\"https://opencontext.org/media/2a34721f-0109-43ca-5b67-026a36dcc9d0\">Link to full record</a></p></div><div><img src=\"../files/testing/9fb263b8-a0dd-49aa-4540-0d629714dedf.jpg\" width=25% alt=\"Image not found\"> <p><strong>ID:</strong> /home/ekansa/github/archaeology-images-ai/files/testing/9fb263b8-a0dd-49aa-4540-0d629714dedf.jpg</p><p><strong>Score:</strong> 0.34304377034390754</p><p><strong>Caption:</strong> Image of an archaeological artifact found at Poggio Civitate, in Italy. This pottery vessel, mainly consists of pottery. Context suggests dates of 700 BCE to 535 BCE. Fabric Category: Impasto; Object Type: Vessel; Decorative Technique: Inscribed; Vessel Form: Form unspecified</p><p><a href=\"https://opencontext.org/media/9fb263b8-a0dd-49aa-4540-0d629714dedf\">Link to full record</a></p></div><div><img src=\"../files/testing/d3aeeb04-ffb0-4e62-9f6d-3f3f76e2c06c.jpg\" width=25% alt=\"Image not found\"> <p><strong>ID:</strong> /home/ekansa/github/archaeology-images-ai/files/testing/d3aeeb04-ffb0-4e62-9f6d-3f3f76e2c06c.jpg</p><p><strong>Score:</strong> 0.3346203450894358</p><p><strong>Caption:</strong> Image of an archaeological artifact found at Poggio Civitate, in Italy. This pottery vessel, mainly consists of pottery. Context suggests dates of 700 BCE to 535 BCE. Chronology: Securely Orientalizing; Fabric Category: Impasto; Object Type: Vessel; Decorative Technique: Inscribed; Vessel Form: Form unspecified</p><p><a href=\"https://opencontext.org/media/d3aeeb04-ffb0-4e62-9f6d-3f3f76e2c06c\">Link to full record</a></p></div><div><img src=\"../files/testing/b958c433-53ad-4aa1-dfe2-15e8b228824a.jpg\" width=25% alt=\"Image not found\"> <p><strong>ID:</strong> /home/ekansa/github/archaeology-images-ai/files/testing/b958c433-53ad-4aa1-dfe2-15e8b228824a.jpg</p><p><strong>Score:</strong> 0.3300080165465925</p><p><strong>Caption:</strong> Image of an archaeological artifact found at Poggio Civitate, in Italy. This architectural element, roof-tile; cover tile, mainly consists of terracotta (clay material). Context suggests dates of 700 BCE to 535 BCE. Fabric Category: Terracotta; Object Type: Architectural, Cover Tile; Decorative Technique: Inscribed</p><p><a href=\"https://opencontext.org/media/b958c433-53ad-4aa1-dfe2-15e8b228824a\">Link to full record</a></p></div><div><img src=\"../files/testing/4a043fab-4048-4017-430a-9520162330f8.jpg\" width=25% alt=\"Image not found\"> <p><strong>ID:</strong> /home/ekansa/github/archaeology-images-ai/files/testing/4a043fab-4048-4017-430a-9520162330f8.jpg</p><p><strong>Score:</strong> 0.32988005967854434</p><p><strong>Caption:</strong> Image of an archaeological artifact found at Poggio Civitate, in Italy. This pottery vessel, mainly consists of pottery. Context suggests dates of 700 BCE to 535 BCE. Fabric Category: Impasto; Object Type: Vessel; Decorative Technique: Inscribed; Vessel Form: Form unspecified</p><p><a href=\"https://opencontext.org/media/4a043fab-4048-4017-430a-9520162330f8\">Link to full record</a></p></div><div><img src=\"../files/testing/e76ec29e-c991-4695-3743-10dea2404d88.jpg\" width=25% alt=\"Image not found\"> <p><strong>ID:</strong> /home/ekansa/github/archaeology-images-ai/files/testing/e76ec29e-c991-4695-3743-10dea2404d88.jpg</p><p><strong>Score:</strong> 0.327202030217085</p><p><strong>Caption:</strong> Image of an archaeological artifact found at Poggio Civitate, in Italy. This pottery, vessel; tondo, mainly consists of pottery. Context suggests dates of 700 BCE to 535 BCE. Fabric Category: Impasto; Object Type: Vessel; Decorative Technique: Incised; Vessel Form: Tondo; Conservation Action: cleaned; Conservation Material: acet</p><p><a href=\"https://opencontext.org/media/e76ec29e-c991-4695-3743-10dea2404d88\">Link to full record</a></p></div><div><img src=\"../files/testing/dfac5caf-9b21-4ee0-a1ba-0df455b26c29.jpg\" width=25% alt=\"Image not found\"> <p><strong>ID:</strong> /home/ekansa/github/archaeology-images-ai/files/testing/dfac5caf-9b21-4ee0-a1ba-0df455b26c29.jpg</p><p><strong>Score:</strong> 0.32556651491630617</p><p><strong>Caption:</strong> Image of an archaeological artifact found at Poggio Civitate, in Italy. This pottery vessel, mainly consists of pottery. Context suggests dates of 700 BCE to 535 BCE. Fabric Category: Impasto; Object Type: Vessel; Decorative Technique: Inscribed; Vessel Form: Form unspecified</p><p><a href=\"https://opencontext.org/media/dfac5caf-9b21-4ee0-a1ba-0df455b26c29\">Link to full record</a></p></div><div><img src=\"../files/testing/bcaa41cc-507f-4bce-01ca-c174555f2676.jpg\" width=25% alt=\"Image not found\"> <p><strong>ID:</strong> /home/ekansa/github/archaeology-images-ai/files/testing/bcaa41cc-507f-4bce-01ca-c174555f2676.jpg</p><p><strong>Score:</strong> 0.32539707400737633</p><p><strong>Caption:</strong> Image of an archaeological artifact found at Poggio Civitate, in Italy. This pottery vessel, mainly consists of pottery ceramic (material). Context suggests dates of 700 BCE to 535 BCE. Fabric Category: Coarse Ware; Object Type: Vessel; Decorative Technique: Inscribed; Vessel Form: Form unspecified</p><p><a href=\"https://opencontext.org/media/bcaa41cc-507f-4bce-01ca-c174555f2676\">Link to full record</a></p></div><div><img src=\"../files/testing/de7ec1e8-3cba-4e93-422f-6fe1895f929f.jpg\" width=25% alt=\"Image not found\"> <p><strong>ID:</strong> /home/ekansa/github/archaeology-images-ai/files/testing/de7ec1e8-3cba-4e93-422f-6fe1895f929f.jpg</p><p><strong>Score:</strong> 0.3238451584419002</p><p><strong>Caption:</strong> Image of an archaeological artifact found at Poggio Civitate, in Italy. This architectural element, roof-tile; cover tile, mainly consists of terracotta (clay material). Context suggests dates of 700 BCE to 535 BCE. Fabric Category: Terracotta; Object Type: Architectural, Cover Tile; Decorative Technique: Inscribed</p><p><a href=\"https://opencontext.org/media/de7ec1e8-3cba-4e93-422f-6fe1895f929f\">Link to full record</a></p></div><div><img src=\"../files/testing/edbc3178-3649-47a6-4887-610e1e0c3ace.jpg\" width=25% alt=\"Image not found\"> <p><strong>ID:</strong> /home/ekansa/github/archaeology-images-ai/files/testing/edbc3178-3649-47a6-4887-610e1e0c3ace.jpg</p><p><strong>Score:</strong> 0.32248564266945384</p><p><strong>Caption:</strong> Image of an archaeological artifact found at Poggio Civitate, in Italy. This pottery vessel, mainly consists of pottery. Context suggests dates of 700 BCE to 535 BCE. Fabric Category: Impasto; Object Type: Vessel; Decorative Technique: Inscribed; Vessel Form: Form unspecified</p><p><a href=\"https://opencontext.org/media/edbc3178-3649-47a6-4887-610e1e0c3ace\">Link to full record</a></p></div>"
      ],
      "text/plain": [
       "<IPython.core.display.HTML object>"
      ]
     },
     "metadata": {},
     "output_type": "display_data"
    }
   ],
   "source": [
    "query = \"Something inscribed with hieroglyphics\"\n",
    "display_similar_ideas(query)"
   ]
  },
  {
   "cell_type": "code",
   "execution_count": 10,
   "id": "93eecd75-a694-47b0-909d-91fa64694dbf",
   "metadata": {},
   "outputs": [
    {
     "data": {
      "text/html": [
       "<div><img src=\"../files/testing/6d110481-b908-417e-b626-7886f6dcc85f.jpg\" width=25% alt=\"Image not found\"> <p><strong>ID:</strong> /home/ekansa/github/archaeology-images-ai/files/testing/6d110481-b908-417e-b626-7886f6dcc85f.jpg</p><p><strong>Score:</strong> 0.332607651023263</p><p><strong>Caption:</strong> Image of an archaeological artifact found at Poggio Civitate, in Italy. This pottery, vessel, mainly consists of pottery. Context suggests dates of 700 BCE to 535 BCE. Fabric Category: Impasto; Object Type: Vessel</p><p><a href=\"https://opencontext.org/media/6d110481-b908-417e-b626-7886f6dcc85f\">Link to full record</a></p></div><div><img src=\"../files/testing/2d11b121-aeaa-4961-9012-0f6a4c354714.jpg\" width=25% alt=\"Image not found\"> <p><strong>ID:</strong> /home/ekansa/github/archaeology-images-ai/files/testing/2d11b121-aeaa-4961-9012-0f6a4c354714.jpg</p><p><strong>Score:</strong> 0.32832559101006653</p><p><strong>Caption:</strong> Image of an archaeological artifact found at Poggio Civitate, in Italy. This pottery vessel, mainly consists of pottery. Context suggests dates of 700 BCE to 535 BCE. Fabric Category: Impasto; Object Type: Vessel; Vessel Form: Form unspecified</p><p><a href=\"https://opencontext.org/media/2d11b121-aeaa-4961-9012-0f6a4c354714\">Link to full record</a></p></div><div><img src=\"../files/testing/d1517bde-e194-4c41-ba72-8ebe6891d12c.jpg\" width=25% alt=\"Image not found\"> <p><strong>ID:</strong> /home/ekansa/github/archaeology-images-ai/files/testing/d1517bde-e194-4c41-ba72-8ebe6891d12c.jpg</p><p><strong>Score:</strong> 0.32819807621960667</p><p><strong>Caption:</strong> Image of an archaeological artifact found at Poggio Civitate, in Italy. This pottery vessel, mainly consists of pottery. Context suggests dates of 700 BCE to 535 BCE. Fabric Category: Impasto; Object Type: Vessel; Vessel Form: Form unspecified</p><p><a href=\"https://opencontext.org/media/d1517bde-e194-4c41-ba72-8ebe6891d12c\">Link to full record</a></p></div><div><img src=\"../files/testing/58675ecb-7c57-4832-9dfd-3eb0aee464d5.jpg\" width=25% alt=\"Image not found\"> <p><strong>ID:</strong> /home/ekansa/github/archaeology-images-ai/files/testing/58675ecb-7c57-4832-9dfd-3eb0aee464d5.jpg</p><p><strong>Score:</strong> 0.32663405076205915</p><p><strong>Caption:</strong> Image of an archaeological artifact found at Poggio Civitate, in Italy. This architectural element, acroterion, acroteria, mainly consists of terracotta (clay material). Context suggests dates of 700 BCE to 535 BCE. Chronology: Securely Archaic; Fabric Category: Terracotta; Motif: Seated Figure;</p><p><a href=\"https://opencontext.org/media/58675ecb-7c57-4832-9dfd-3eb0aee464d5\">Link to full record</a></p></div><div><img src=\"../files/testing/6d1eae7f-232f-439c-89f8-62befaf5f478.jpg\" width=25% alt=\"Image not found\"> <p><strong>ID:</strong> /home/ekansa/github/archaeology-images-ai/files/testing/6d1eae7f-232f-439c-89f8-62befaf5f478.jpg</p><p><strong>Score:</strong> 0.3264126359362891</p><p><strong>Caption:</strong> Image of an archaeological artifact found at Vescovado di Murlo, in Italy. This pottery, vessel; amphora; amphorae (storage vessels), mainly consists of pottery. Context suggests dates of 535 BCE to 50 BCE. Fabric Category: Impasto; Object Type: Vessel; Vessel Form: Amphora</p><p><a href=\"https://opencontext.org/media/6d1eae7f-232f-439c-89f8-62befaf5f478\">Link to full record</a></p></div><div><img src=\"../files/testing/d8183f0a-e118-421f-9eb9-98a9f6c43b95.jpg\" width=25% alt=\"Image not found\"> <p><strong>ID:</strong> /home/ekansa/github/archaeology-images-ai/files/testing/d8183f0a-e118-421f-9eb9-98a9f6c43b95.jpg</p><p><strong>Score:</strong> 0.32368418771279867</p><p><strong>Caption:</strong> Image of an archaeological artifact found at Poggio Civitate, in Italy. This example of artefact; rock (inorganic material), mainly consists of stone rock (inorganic material). Context suggests dates of 700 BCE to 535 BCE. Fabric Category: Stone; Object Type: Production Material, Worked Stone</p><p><a href=\"https://opencontext.org/media/d8183f0a-e118-421f-9eb9-98a9f6c43b95\">Link to full record</a></p></div><div><img src=\"../files/testing/cca43417-5780-4e15-a649-307938334711.jpg\" width=25% alt=\"Image not found\"> <p><strong>ID:</strong> /home/ekansa/github/archaeology-images-ai/files/testing/cca43417-5780-4e15-a649-307938334711.jpg</p><p><strong>Score:</strong> 0.3197523768950367</p><p><strong>Caption:</strong> Image of an archaeological artifact found at Poggio Civitate, in Italy. This pottery, vessel, mainly consists of pottery. Context suggests dates of 700 BCE to 535 BCE. Fabric Category: Impasto; Object Type: Vessel</p><p><a href=\"https://opencontext.org/media/cca43417-5780-4e15-a649-307938334711\">Link to full record</a></p></div><div><img src=\"../files/testing/da9d1773-6068-41fe-a51b-bc8f5b9b95f1.jpg\" width=25% alt=\"Image not found\"> <p><strong>ID:</strong> /home/ekansa/github/archaeology-images-ai/files/testing/da9d1773-6068-41fe-a51b-bc8f5b9b95f1.jpg</p><p><strong>Score:</strong> 0.3145040794796346</p><p><strong>Caption:</strong> Image of an archaeological artifact found at Poggio Civitate, in Italy. This architectural element, sima; cymas, mainly consists of terracotta (clay material). Context suggests dates of 700 BCE to 535 BCE. Fabric Category: Terracotta; Object Type: Architectural, Lateral Sima</p><p><a href=\"https://opencontext.org/media/da9d1773-6068-41fe-a51b-bc8f5b9b95f1\">Link to full record</a></p></div><div><img src=\"../files/testing/1196319b-d98d-47bf-98ae-ee848ac47b3f.jpg\" width=25% alt=\"Image not found\"> <p><strong>ID:</strong> /home/ekansa/github/archaeology-images-ai/files/testing/1196319b-d98d-47bf-98ae-ee848ac47b3f.jpg</p><p><strong>Score:</strong> 0.3141361629931132</p><p><strong>Caption:</strong> Image of an archaeological artifact found at Poggio Civitate, in Italy. This example of sample, mainly consists of terracotta (clay material). Context suggests dates of 700 BCE to 535 BCE. Fabric Category: Terracotta; Object Type: Unclassified / Debris / Misc.</p><p><a href=\"https://opencontext.org/media/1196319b-d98d-47bf-98ae-ee848ac47b3f\">Link to full record</a></p></div><div><img src=\"../files/testing/31684170-3998-4218-a1d2-3485027a47a1.jpg\" width=25% alt=\"Image not found\"> <p><strong>ID:</strong> /home/ekansa/github/archaeology-images-ai/files/testing/31684170-3998-4218-a1d2-3485027a47a1.jpg</p><p><strong>Score:</strong> 0.31157305464057794</p><p><strong>Caption:</strong> Image of an archaeological artifact found at Poggio Civitate, in Italy. This architectural element, acroterion, acroteria, mainly consists of terracotta (clay material). Context suggests dates of 700 BCE to 535 BCE. Chronology: Securely Archaic; Fabric Category: Terracotta; Motif: Seated Figure;</p><p><a href=\"https://opencontext.org/media/31684170-3998-4218-a1d2-3485027a47a1\">Link to full record</a></p></div>"
      ],
      "text/plain": [
       "<IPython.core.display.HTML object>"
      ]
     },
     "metadata": {},
     "output_type": "display_data"
    }
   ],
   "source": [
    "query = \"A scene depicting people and furniture\"\n",
    "display_similar_ideas(query)"
   ]
  },
  {
   "cell_type": "code",
   "execution_count": 11,
   "id": "e6c29f01-c780-4811-b604-05942bfaa6aa",
   "metadata": {},
   "outputs": [
    {
     "data": {
      "text/html": [
       "<div><img src=\"../files/testing/d33b45a3-3689-45cd-1a5c-6bc4e799c3d0.jpg\" width=25% alt=\"Image not found\"> <p><strong>ID:</strong> /home/ekansa/github/archaeology-images-ai/files/testing/d33b45a3-3689-45cd-1a5c-6bc4e799c3d0.jpg</p><p><strong>Score:</strong> 0.3895029730181905</p><p><strong>Caption:</strong> Image of an archaeological artifact found at Poggio Civitate, in Italy. This architectural element, sima; cymas, mainly consists of clay. Context suggests dates of 700 BCE to 535 BCE. Chronology: Securely Archaic; Fabric Category: Clay; Motif: Feline; Object Type: Architectural, Lateral Sima; Decor</p><p><a href=\"https://opencontext.org/media/d33b45a3-3689-45cd-1a5c-6bc4e799c3d0\">Link to full record</a></p></div><div><img src=\"../files/testing/4b3cbd2e-54be-4e18-4a41-d77b80afa6b5.jpg\" width=25% alt=\"Image not found\"> <p><strong>ID:</strong> /home/ekansa/github/archaeology-images-ai/files/testing/4b3cbd2e-54be-4e18-4a41-d77b80afa6b5.jpg</p><p><strong>Score:</strong> 0.3882310294583992</p><p><strong>Caption:</strong> Image of an archaeological artifact found at Poggio Civitate, in Italy. This pottery vessel, mainly consists of pottery. Context suggests dates of 700 BCE to 535 BCE. Chronology: Securely Archaic; Fabric Category: Impasto; Motif: Animal; Feline; Object Type: Vessel; Vessel Form: Form unspecified</p><p><a href=\"https://opencontext.org/media/4b3cbd2e-54be-4e18-4a41-d77b80afa6b5\">Link to full record</a></p></div><div><img src=\"../files/testing/aac251ff-90e9-44fe-9440-40f2f38ddde4.jpg\" width=25% alt=\"Image not found\"> <p><strong>ID:</strong> /home/ekansa/github/archaeology-images-ai/files/testing/aac251ff-90e9-44fe-9440-40f2f38ddde4.jpg</p><p><strong>Score:</strong> 0.38249858878079696</p><p><strong>Caption:</strong> Image of an archaeological artifact found at Poggio Civitate, in Italy. This architectural element, architecture, mainly consists of terracotta (clay material). Context suggests dates of 700 BCE to 535 BCE. Chronology: Securely Archaic; Fabric Category: Terracotta; Motif: Animal; Feline; Object Type: Architectural, Un</p><p><a href=\"https://opencontext.org/media/aac251ff-90e9-44fe-9440-40f2f38ddde4\">Link to full record</a></p></div><div><img src=\"../files/testing/9f91f6db-18e7-48de-35db-92306ded8326.jpg\" width=25% alt=\"Image not found\"> <p><strong>ID:</strong> /home/ekansa/github/archaeology-images-ai/files/testing/9f91f6db-18e7-48de-35db-92306ded8326.jpg</p><p><strong>Score:</strong> 0.3730714820739874</p><p><strong>Caption:</strong> Image of an archaeological artifact found at Poggio Civitate, in Italy. This architectural element, architecture, mainly consists of clay. Context suggests dates of 700 BCE to 535 BCE. Fabric Category: Clay; Motif: Feline; Object Type: Architectural, Unspecified / Misc.</p><p><a href=\"https://opencontext.org/media/9f91f6db-18e7-48de-35db-92306ded8326\">Link to full record</a></p></div><div><img src=\"../files/testing/89b8e560-b76a-4b59-007b-dc175f05940c.jpg\" width=25% alt=\"Image not found\"> <p><strong>ID:</strong> /home/ekansa/github/archaeology-images-ai/files/testing/89b8e560-b76a-4b59-007b-dc175f05940c.jpg</p><p><strong>Score:</strong> 0.36721039281634615</p><p><strong>Caption:</strong> Image of an archaeological artifact found at Poggio Civitate, in Italy. This architectural element, sima; cymas, mainly consists of terracotta (clay material). Context suggests dates of 700 BCE to 535 BCE. Fabric Category: Terracotta; Motif: Feline; Object Type: Architectural, Lateral Sima</p><p><a href=\"https://opencontext.org/media/89b8e560-b76a-4b59-007b-dc175f05940c\">Link to full record</a></p></div><div><img src=\"../files/testing/749065d3-32ff-45c4-547b-b1729a174162.jpg\" width=25% alt=\"Image not found\"> <p><strong>ID:</strong> /home/ekansa/github/archaeology-images-ai/files/testing/749065d3-32ff-45c4-547b-b1729a174162.jpg</p><p><strong>Score:</strong> 0.36467080253346473</p><p><strong>Caption:</strong> Image of an archaeological artifact found at Poggio Civitate, in Italy. This pottery vessel, mainly consists of terracotta (clay material). Context suggests dates of 700 BCE to 535 BCE. Fabric Category: Terracotta; Motif: Feline; Object Type: Vessel; Vessel Form: Form unspecified</p><p><a href=\"https://opencontext.org/media/749065d3-32ff-45c4-547b-b1729a174162\">Link to full record</a></p></div><div><img src=\"../files/testing/18b309ee-d6bd-4b8b-1d3b-b5ff7eaf437e.jpg\" width=25% alt=\"Image not found\"> <p><strong>ID:</strong> /home/ekansa/github/archaeology-images-ai/files/testing/18b309ee-d6bd-4b8b-1d3b-b5ff7eaf437e.jpg</p><p><strong>Score:</strong> 0.3620254426693798</p><p><strong>Caption:</strong> Image of an archaeological artifact found at Poggio Civitate, in Italy. This architectural element, architecture, mainly consists of clay. Context suggests dates of 700 BCE to 535 BCE. Fabric Category: Clay; Motif: Feline; Object Type: Architectural, Unspecified / Misc.; Decorative Technique: Relief</p><p><a href=\"https://opencontext.org/media/18b309ee-d6bd-4b8b-1d3b-b5ff7eaf437e\">Link to full record</a></p></div><div><img src=\"../files/testing/de724854-a7bf-49d0-a784-06907f144e0d.jpg\" width=25% alt=\"Image not found\"> <p><strong>ID:</strong> /home/ekansa/github/archaeology-images-ai/files/testing/de724854-a7bf-49d0-a784-06907f144e0d.jpg</p><p><strong>Score:</strong> 0.3604773781196167</p><p><strong>Caption:</strong> Image of an archaeological artifact found at Poggio Civitate, in Italy. This architectural element, sima; cymas, mainly consists of clay. Context suggests dates of 700 BCE to 535 BCE. Chronology: Securely Archaic; Fabric Category: Clay; Motif: Feline; Object Type: Architectural, Lateral Sima; Decor</p><p><a href=\"https://opencontext.org/media/de724854-a7bf-49d0-a784-06907f144e0d\">Link to full record</a></p></div><div><img src=\"../files/testing/77ff2b7f-0252-4f6e-7402-61ffbd86b74c.jpg\" width=25% alt=\"Image not found\"> <p><strong>ID:</strong> /home/ekansa/github/archaeology-images-ai/files/testing/77ff2b7f-0252-4f6e-7402-61ffbd86b74c.jpg</p><p><strong>Score:</strong> 0.3597351567584997</p><p><strong>Caption:</strong> Image of an archaeological artifact found at Poggio Civitate, in Italy. This architectural element, architecture, mainly consists of terracotta (clay material). Context suggests dates of 700 BCE to 535 BCE. Fabric Category: Terracotta; Motif: Lion; Feline; Object Type: Architectural, Unspecified / Misc.</p><p><a href=\"https://opencontext.org/media/77ff2b7f-0252-4f6e-7402-61ffbd86b74c\">Link to full record</a></p></div><div><img src=\"../files/testing/cb9e2dd6-ea35-4a1c-374f-d08caa46bc96.jpg\" width=25% alt=\"Image not found\"> <p><strong>ID:</strong> /home/ekansa/github/archaeology-images-ai/files/testing/cb9e2dd6-ea35-4a1c-374f-d08caa46bc96.jpg</p><p><strong>Score:</strong> 0.3583380976141544</p><p><strong>Caption:</strong> Image of an archaeological artifact found at Poggio Civitate, in Italy. This example of statuette; figurines, mainly consists of pottery. Context suggests dates of 700 BCE to 535 BCE. Fabric Category: Impasto; Motif: Feline; Animal; Object Type: Figurine / Statuette</p><p><a href=\"https://opencontext.org/media/cb9e2dd6-ea35-4a1c-374f-d08caa46bc96\">Link to full record</a></p></div>"
      ],
      "text/plain": [
       "<IPython.core.display.HTML object>"
      ]
     },
     "metadata": {},
     "output_type": "display_data"
    }
   ],
   "source": [
    "query = \"A feline face sculpted on an ancient artifact\"\n",
    "display_similar_ideas(query)"
   ]
  },
  {
   "cell_type": "code",
   "execution_count": 12,
   "id": "a0be6307-846e-4e96-be0c-58e9d150fed5",
   "metadata": {},
   "outputs": [
    {
     "data": {
      "text/html": [
       "<div><img src=\"../files/testing/dcddad53-0e98-40e2-0bf1-8612a1bf92e9.jpg\" width=25% alt=\"Image not found\"> <p><strong>ID:</strong> /home/ekansa/github/archaeology-images-ai/files/testing/dcddad53-0e98-40e2-0bf1-8612a1bf92e9.jpg</p><p><strong>Score:</strong> 0.3211421066355964</p><p><strong>Caption:</strong> Image of an archaeological artifact found at Poggio Civitate, in Italy. This architectural element, plaque or flat object, mainly consists of clay. Context suggests dates of 700 BCE to 535 BCE. Chronology: Securely Archaic; Fabric Category: Clay; Motif: Horse Race; Object Type: Architectural, Frieze Plaque</p><p><a href=\"https://opencontext.org/media/dcddad53-0e98-40e2-0bf1-8612a1bf92e9\">Link to full record</a></p></div><div><img src=\"../files/testing/fd2247af-08e7-4474-8cac-e48d401c8e72.jpg\" width=25% alt=\"Image not found\"> <p><strong>ID:</strong> /home/ekansa/github/archaeology-images-ai/files/testing/fd2247af-08e7-4474-8cac-e48d401c8e72.jpg</p><p><strong>Score:</strong> 0.31370491560183583</p><p><strong>Caption:</strong> Image of an archaeological artifact found at Poggio Civitate, in Italy. This architectural element, plaque or flat object, mainly consists of clay. Context suggests dates of 700 BCE to 535 BCE. Chronology: Securely Archaic; Fabric Category: Clay; Motif: Horse Race; Object Type: Architectural, Frieze Plaque; Decorative</p><p><a href=\"https://opencontext.org/media/fd2247af-08e7-4474-8cac-e48d401c8e72\">Link to full record</a></p></div><div><img src=\"../files/testing/ac2f315e-04fa-4335-5531-d5c5e94e8b90.jpg\" width=25% alt=\"Image not found\"> <p><strong>ID:</strong> /home/ekansa/github/archaeology-images-ai/files/testing/ac2f315e-04fa-4335-5531-d5c5e94e8b90.jpg</p><p><strong>Score:</strong> 0.3075885474212639</p><p><strong>Caption:</strong> Image of an archaeological artifact found at Poggio Civitate, in Italy. This architectural element, plaque or flat object, mainly consists of clay. Context suggests dates of 700 BCE to 535 BCE. Chronology: Securely Archaic; Fabric Category: Clay; Motif: Horse Race; Object Type: Architectural, Frieze Plaque</p><p><a href=\"https://opencontext.org/media/ac2f315e-04fa-4335-5531-d5c5e94e8b90\">Link to full record</a></p></div><div><img src=\"../files/testing/dfe530e5-f1f1-4808-4265-e4f52ad0957f.jpg\" width=25% alt=\"Image not found\"> <p><strong>ID:</strong> /home/ekansa/github/archaeology-images-ai/files/testing/dfe530e5-f1f1-4808-4265-e4f52ad0957f.jpg</p><p><strong>Score:</strong> 0.3074061315074245</p><p><strong>Caption:</strong> Image of an archaeological artifact found at Poggio Civitate, in Italy. This architectural element, plaque or flat object, mainly consists of terracotta (clay material). Context suggests dates of 700 BCE to 535 BCE. Chronology: Securely Archaic; Fabric Category: Terracotta; Motif: Horse Race; Guilloche; Object Type</p><p><a href=\"https://opencontext.org/media/dfe530e5-f1f1-4808-4265-e4f52ad0957f\">Link to full record</a></p></div><div><img src=\"../files/testing/f77308a8-c94c-4d38-a156-6ab744078363.jpg\" width=25% alt=\"Image not found\"> <p><strong>ID:</strong> /home/ekansa/github/archaeology-images-ai/files/testing/f77308a8-c94c-4d38-a156-6ab744078363.jpg</p><p><strong>Score:</strong> 0.3060342667136775</p><p><strong>Caption:</strong> Image of an archaeological artifact found at Poggio Civitate, in Italy. This architectural element, plaque or flat object, mainly consists of terracotta (clay material). Context suggests dates of 700 BCE to 535 BCE. Chronology: Securely Archaic; Fabric Category: Terracotta; Motif: Horse Race; Object Type: Architectural,</p><p><a href=\"https://opencontext.org/media/f77308a8-c94c-4d38-a156-6ab744078363\">Link to full record</a></p></div><div><img src=\"../files/testing/2803c2ec-3cb3-4875-7843-2c886b475a94.jpg\" width=25% alt=\"Image not found\"> <p><strong>ID:</strong> /home/ekansa/github/archaeology-images-ai/files/testing/2803c2ec-3cb3-4875-7843-2c886b475a94.jpg</p><p><strong>Score:</strong> 0.30138883138144335</p><p><strong>Caption:</strong> Image of an archaeological artifact found at Poggio Civitate, in Italy. This architectural element, plaque or flat object, mainly consists of terracotta (clay material). Context suggests dates of 700 BCE to 535 BCE. Chronology: Securely Archaic; Fabric Category: Terracotta; Motif: Horse Race; Guilloche; Object Type</p><p><a href=\"https://opencontext.org/media/2803c2ec-3cb3-4875-7843-2c886b475a94\">Link to full record</a></p></div><div><img src=\"../files/testing/d8e09397-4b10-406b-98f2-b8dbfc2c4843.jpg\" width=25% alt=\"Image not found\"> <p><strong>ID:</strong> /home/ekansa/github/archaeology-images-ai/files/testing/d8e09397-4b10-406b-98f2-b8dbfc2c4843.jpg</p><p><strong>Score:</strong> 0.29911878212411197</p><p><strong>Caption:</strong> Image of an archaeological artifact found at Vescovado di Murlo, in Italy. This pottery, vessel; oinochoe; oenochoe; oinochoai, mainly consists of pottery. Context suggests dates of 535 BCE to 50 BCE. Fabric Category: Impasto; Object Type: Vessel; Vessel Form: Oinochoe</p><p><a href=\"https://opencontext.org/media/d8e09397-4b10-406b-98f2-b8dbfc2c4843\">Link to full record</a></p></div><div><img src=\"../files/testing/2c9e4fb5-03c1-4378-8224-03e250c26cc0.jpg\" width=25% alt=\"Image not found\"> <p><strong>ID:</strong> /home/ekansa/github/archaeology-images-ai/files/testing/2c9e4fb5-03c1-4378-8224-03e250c26cc0.jpg</p><p><strong>Score:</strong> 0.29789127163734536</p><p><strong>Caption:</strong> Image of an archaeological artifact found at Vescovado di Murlo, in Italy. This pottery vessel, mainly consists of pottery. Context suggests dates of 535 BCE to 50 BCE. Fabric Category: Impasto; Object Type: Vessel; Vessel Form: Form unspecified</p><p><a href=\"https://opencontext.org/media/2c9e4fb5-03c1-4378-8224-03e250c26cc0\">Link to full record</a></p></div><div><img src=\"../files/testing/06b02edb-0427-4c2a-cd96-2b5cb3fcfd40.jpg\" width=25% alt=\"Image not found\"> <p><strong>ID:</strong> /home/ekansa/github/archaeology-images-ai/files/testing/06b02edb-0427-4c2a-cd96-2b5cb3fcfd40.jpg</p><p><strong>Score:</strong> 0.29763258398633213</p><p><strong>Caption:</strong> Image of an archaeological artifact found at Poggio Civitate, in Italy. This architectural element, plaque or flat object, mainly consists of clay. Context suggests dates of 700 BCE to 535 BCE. Chronology: Securely Archaic; Fabric Category: Clay; Motif: Horse Race; Object Type: Architectural, Frieze Plaque</p><p><a href=\"https://opencontext.org/media/06b02edb-0427-4c2a-cd96-2b5cb3fcfd40\">Link to full record</a></p></div><div><img src=\"../files/testing/12827246-47c4-44d8-8d59-d95efc67f3f3.jpg\" width=25% alt=\"Image not found\"> <p><strong>ID:</strong> /home/ekansa/github/archaeology-images-ai/files/testing/12827246-47c4-44d8-8d59-d95efc67f3f3.jpg</p><p><strong>Score:</strong> 0.2965974786596855</p><p><strong>Caption:</strong> Image of an archaeological artifact found at Poggio Civitate, in Italy. This architectural element, acroterion, acroteria, mainly consists of terracotta (clay material). Context suggests dates of 700 BCE to 535 BCE. Chronology: Securely Archaic; Fabric Category: Terracotta; Motif: Horse; Object Type</p><p><a href=\"https://opencontext.org/media/12827246-47c4-44d8-8d59-d95efc67f3f3\">Link to full record</a></p></div>"
      ],
      "text/plain": [
       "<IPython.core.display.HTML object>"
      ]
     },
     "metadata": {},
     "output_type": "display_data"
    }
   ],
   "source": [
    "query = \"A cowboy\"\n",
    "display_similar_ideas(query)"
   ]
  },
  {
   "cell_type": "code",
   "execution_count": 13,
   "id": "5c6d2a28-80e3-4774-9219-62772214c0ff",
   "metadata": {},
   "outputs": [
    {
     "data": {
      "text/html": [
       "<div><img src=\"../files/testing/f5486e00-45db-4f97-badb-4e68e7fde7fb.jpg\" width=25% alt=\"Image not found\"> <p><strong>ID:</strong> /home/ekansa/github/archaeology-images-ai/files/testing/f5486e00-45db-4f97-badb-4e68e7fde7fb.jpg</p><p><strong>Score:</strong> 0.39961091296580414</p><p><strong>Caption:</strong> Image of an archaeological artifact found at Poggio Civitate, in Italy. This pottery, vessel; kantharos; kantharoi, mainly consists of bucchero ware bucchero. Context suggests dates of 700 BCE to 535 BCE. Chronology: Probably Orientalizing; Fabric Category: Bucchero; Object Type: Vessel; Decorative</p><p><a href=\"https://opencontext.org/media/f5486e00-45db-4f97-badb-4e68e7fde7fb\">Link to full record</a></p></div><div><img src=\"../files/testing/81b5fb20-0bd3-4970-31db-1ccf1c6f6466.jpg\" width=25% alt=\"Image not found\"> <p><strong>ID:</strong> /home/ekansa/github/archaeology-images-ai/files/testing/81b5fb20-0bd3-4970-31db-1ccf1c6f6466.jpg</p><p><strong>Score:</strong> 0.39857826737375</p><p><strong>Caption:</strong> Image of an archaeological artifact found at Poggio Civitate, in Italy. This pottery vessel, mainly consists of bucchero ware bucchero. Context suggests dates of 700 BCE to 535 BCE. Chronology: Securely Orientalizing; Fabric Category: Bucchero; Object Type: Vessel; Vessel Form: Form unspecified; Conservation Action: cleaned;</p><p><a href=\"https://opencontext.org/media/81b5fb20-0bd3-4970-31db-1ccf1c6f6466\">Link to full record</a></p></div><div><img src=\"../files/testing/d5d69f0d-ba19-4f10-dc00-99310337de02.jpg\" width=25% alt=\"Image not found\"> <p><strong>ID:</strong> /home/ekansa/github/archaeology-images-ai/files/testing/d5d69f0d-ba19-4f10-dc00-99310337de02.jpg</p><p><strong>Score:</strong> 0.39486801996673365</p><p><strong>Caption:</strong> Image of an archaeological artifact found at Poggio Civitate, in Italy. This pottery, vessel; vase; vases, mainly consists of bucchero ware bucchero. Context suggests dates of 700 BCE to 535 BCE. Fabric Category: Bucchero; Object Type: Vessel; Decorative Technique: Molded; Vessel Form: Vase</p><p><a href=\"https://opencontext.org/media/d5d69f0d-ba19-4f10-dc00-99310337de02\">Link to full record</a></p></div><div><img src=\"../files/testing/9939b679-99f7-4add-7a5c-eaed803739e9.jpg\" width=25% alt=\"Image not found\"> <p><strong>ID:</strong> /home/ekansa/github/archaeology-images-ai/files/testing/9939b679-99f7-4add-7a5c-eaed803739e9.jpg</p><p><strong>Score:</strong> 0.3926982068668313</p><p><strong>Caption:</strong> Image of an archaeological artifact found at Poggio Civitate, in Italy. This pottery vessel, mainly consists of bucchero ware bucchero. Context suggests dates of 700 BCE to 535 BCE. Fabric Category: Bucchero; Object Type: Vessel; Vessel Form: Form unspecified</p><p><a href=\"https://opencontext.org/media/9939b679-99f7-4add-7a5c-eaed803739e9\">Link to full record</a></p></div><div><img src=\"../files/testing/c9bc1f23-77b7-414f-603c-ae021ffa9ef2.jpg\" width=25% alt=\"Image not found\"> <p><strong>ID:</strong> /home/ekansa/github/archaeology-images-ai/files/testing/c9bc1f23-77b7-414f-603c-ae021ffa9ef2.jpg</p><p><strong>Score:</strong> 0.3898951031781048</p><p><strong>Caption:</strong> Image of an archaeological artifact found at Poggio Civitate, in Italy. This pottery, vessel; vase; vases, mainly consists of bucchero ware bucchero. Context suggests dates of 700 BCE to 535 BCE. Fabric Category: Bucchero; Object Type: Vessel; Decorative Technique: Incised; Vessel Form: Vase</p><p><a href=\"https://opencontext.org/media/c9bc1f23-77b7-414f-603c-ae021ffa9ef2\">Link to full record</a></p></div><div><img src=\"../files/testing/39155eff-e7e5-4c88-d8a3-0de6b829324c.jpg\" width=25% alt=\"Image not found\"> <p><strong>ID:</strong> /home/ekansa/github/archaeology-images-ai/files/testing/39155eff-e7e5-4c88-d8a3-0de6b829324c.jpg</p><p><strong>Score:</strong> 0.38865408442160143</p><p><strong>Caption:</strong> Image of an archaeological artifact found at Poggio Civitate, in Italy. This pottery, vessel; lid or cover, mainly consists of bucchero ware bucchero. Context suggests dates of 700 BCE to 535 BCE. Fabric Category: Bucchero; Object Type: Vessel; Vessel Form: Lid</p><p><a href=\"https://opencontext.org/media/39155eff-e7e5-4c88-d8a3-0de6b829324c\">Link to full record</a></p></div><div><img src=\"../files/testing/332ccf4d-4ef1-42b2-f921-eea50f46f279.jpg\" width=25% alt=\"Image not found\"> <p><strong>ID:</strong> /home/ekansa/github/archaeology-images-ai/files/testing/332ccf4d-4ef1-42b2-f921-eea50f46f279.jpg</p><p><strong>Score:</strong> 0.3851176035078944</p><p><strong>Caption:</strong> Image of an archaeological artifact found at Poggio Civitate, in Italy. This pottery, vessel; bowl; bowls (vessels), mainly consists of bucchero ware bucchero. Context suggests dates of 700 BCE to 535 BCE. Fabric Category: Bucchero; Object Type: Vessel; Vessel Form: Bowl</p><p><a href=\"https://opencontext.org/media/332ccf4d-4ef1-42b2-f921-eea50f46f279\">Link to full record</a></p></div><div><img src=\"../files/testing/8f151188-4ad2-4b40-fd51-f0d14e9694fe.jpg\" width=25% alt=\"Image not found\"> <p><strong>ID:</strong> /home/ekansa/github/archaeology-images-ai/files/testing/8f151188-4ad2-4b40-fd51-f0d14e9694fe.jpg</p><p><strong>Score:</strong> 0.3848230433395403</p><p><strong>Caption:</strong> Image of an archaeological artifact found at Poggio Civitate, in Italy. This pottery, vessel; vase; vases, mainly consists of bucchero ware bucchero. Context suggests dates of 700 BCE to 535 BCE. Fabric Category: Bucchero; Object Type: Vessel; Vessel Form: Vase</p><p><a href=\"https://opencontext.org/media/8f151188-4ad2-4b40-fd51-f0d14e9694fe\">Link to full record</a></p></div><div><img src=\"../files/testing/43f970e0-8345-4130-402f-22283a0663cc.jpg\" width=25% alt=\"Image not found\"> <p><strong>ID:</strong> /home/ekansa/github/archaeology-images-ai/files/testing/43f970e0-8345-4130-402f-22283a0663cc.jpg</p><p><strong>Score:</strong> 0.38468271074385335</p><p><strong>Caption:</strong> Image of an archaeological artifact found at Poggio Civitate, in Italy. This pottery, vessel; vase; vases, mainly consists of bucchero ware bucchero. Context suggests dates of 700 BCE to 535 BCE. Fabric Category: Bucchero; Object Type: Vessel; Decorative Technique: Incised; Vessel Form: Vase</p><p><a href=\"https://opencontext.org/media/43f970e0-8345-4130-402f-22283a0663cc\">Link to full record</a></p></div><div><img src=\"../files/testing/9e2d854e-04ae-4481-6697-a32b2949fce1.jpg\" width=25% alt=\"Image not found\"> <p><strong>ID:</strong> /home/ekansa/github/archaeology-images-ai/files/testing/9e2d854e-04ae-4481-6697-a32b2949fce1.jpg</p><p><strong>Score:</strong> 0.38458156435999763</p><p><strong>Caption:</strong> Image of an archaeological artifact found at Poggio Civitate, in Italy. This pottery, vessel; bowl; bowls (vessels), mainly consists of clay. Context suggests dates of 700 BCE to 535 BCE. Fabric Category: Clay; Object Type: Vessel; Vessel Form: Bowl</p><p><a href=\"https://opencontext.org/media/9e2d854e-04ae-4481-6697-a32b2949fce1\">Link to full record</a></p></div>"
      ],
      "text/plain": [
       "<IPython.core.display.HTML object>"
      ]
     },
     "metadata": {},
     "output_type": "display_data"
    }
   ],
   "source": [
    "query = \"Glossy black vase from Italy\"\n",
    "display_similar_ideas(query)"
   ]
  },
  {
   "cell_type": "code",
   "execution_count": 14,
   "id": "446c4979-40bd-48f5-bafd-0af606cff47e",
   "metadata": {},
   "outputs": [
    {
     "data": {
      "text/html": [
       "<div><img src=\"../files/testing/f84a6f04-e437-475b-ac73-69498bfb41e3.jpg\" width=25% alt=\"Image not found\"> <p><strong>ID:</strong> /home/ekansa/github/archaeology-images-ai/files/testing/f84a6f04-e437-475b-ac73-69498bfb41e3.jpg</p><p><strong>Score:</strong> 0.33511743363645213</p><p><strong>Caption:</strong> Image of an archaeological artifact found at Gabii, in Italy. This object is classified as sculpture (visual works). Special Find Object Type: Sculpture</p><p><a href=\"https://opencontext.org/media/f84a6f04-e437-475b-ac73-69498bfb41e3\">Link to full record</a></p></div><div><img src=\"../files/testing/4de79cba-d471-4655-a9ef-e1c63ffab62d.jpg\" width=25% alt=\"Image not found\"> <p><strong>ID:</strong> /home/ekansa/github/archaeology-images-ai/files/testing/4de79cba-d471-4655-a9ef-e1c63ffab62d.jpg</p><p><strong>Score:</strong> 0.33401034567727195</p><p><strong>Caption:</strong> Image of an archaeological artifact found at Poggio Civitate, in Italy. This pottery vessel, mainly consists of bucchero ware bucchero. Context suggests dates of 700 BCE to 535 BCE. Fabric Category: Bucchero; Motif: Female; Object Type: Vessel; Decorative Technique: Incised; Molded; Plastic; Vessel Form</p><p><a href=\"https://opencontext.org/media/4de79cba-d471-4655-a9ef-e1c63ffab62d\">Link to full record</a></p></div><div><img src=\"../files/testing/6a93f01a-54c6-4b12-f936-0a9b7ce75f04.jpg\" width=25% alt=\"Image not found\"> <p><strong>ID:</strong> /home/ekansa/github/archaeology-images-ai/files/testing/6a93f01a-54c6-4b12-f936-0a9b7ce75f04.jpg</p><p><strong>Score:</strong> 0.3315671845359283</p><p><strong>Caption:</strong> Image of an archaeological artifact found at Poggio Civitate, in Italy. This architectural element, sima; cymas, mainly consists of terracotta (clay material). Context suggests dates of 700 BCE to 535 BCE. Chronology: Securely Archaic; Fabric Category: Terracotta; Object Type: Architectural, Lateral Sima</p><p><a href=\"https://opencontext.org/media/6a93f01a-54c6-4b12-f936-0a9b7ce75f04\">Link to full record</a></p></div><div><img src=\"../files/testing/8e814faa-88be-47b7-8528-04a1d8d0ba62.jpg\" width=25% alt=\"Image not found\"> <p><strong>ID:</strong> /home/ekansa/github/archaeology-images-ai/files/testing/8e814faa-88be-47b7-8528-04a1d8d0ba62.jpg</p><p><strong>Score:</strong> 0.3202188062484353</p><p><strong>Caption:</strong> Image of an archaeological artifact found at Corinthia, in Greece. This object is classified as eastern sigillata a. Chronotype: Eastern Sigillata A; Zone: 11; Class: Standard; Collection-Strategy: Chronotype; Extant-Part: Base; Material: Pottery; Fabric: Fine; Location: Field; Drawing-Status: Drawing; Period</p><p><a href=\"https://opencontext.org/media/8e814faa-88be-47b7-8528-04a1d8d0ba62\">Link to full record</a></p></div><div><img src=\"../files/testing/2a0e59be-485a-4bd2-8d98-9b04169b8e26.jpg\" width=25% alt=\"Image not found\"> <p><strong>ID:</strong> /home/ekansa/github/archaeology-images-ai/files/testing/2a0e59be-485a-4bd2-8d98-9b04169b8e26.jpg</p><p><strong>Score:</strong> 0.3136324047765131</p><p><strong>Caption:</strong> Image of an archaeological artifact found at Tel Kedesh, in Israel. This object is classified as seals (marks). Context suggests dates of 200 BCE to 150 BCE. Object Type: Bulla or sealing; General type: Generic humans; Specific type: Males; Preservation of sealing: Fully preserved or intact; Shape of sealing: Irregular; Preservation of impression:</p><p><a href=\"https://opencontext.org/media/2a0e59be-485a-4bd2-8d98-9b04169b8e26\">Link to full record</a></p></div><div><img src=\"../files/testing/1d405b61-102a-468d-8f45-75846c9f76e8.jpg\" width=25% alt=\"Image not found\"> <p><strong>ID:</strong> /home/ekansa/github/archaeology-images-ai/files/testing/1d405b61-102a-468d-8f45-75846c9f76e8.jpg</p><p><strong>Score:</strong> 0.31145780252279953</p><p><strong>Caption:</strong> Image of an archaeological artifact found at Tel Kedesh, in Israel. This object is classified as seals (marks). Context suggests dates of 200 BCE to 150 BCE. Object Type: Bulla or sealing; General type: Generic humans; Specific type: Male-female; Preservation of sealing: Fully preserved or intact; Shape of sealing: Irregular; Preservation of impression</p><p><a href=\"https://opencontext.org/media/1d405b61-102a-468d-8f45-75846c9f76e8\">Link to full record</a></p></div><div><img src=\"../files/testing/9cc041d2-a13d-4595-cd14-f44050a049c0.jpg\" width=25% alt=\"Image not found\"> <p><strong>ID:</strong> /home/ekansa/github/archaeology-images-ai/files/testing/9cc041d2-a13d-4595-cd14-f44050a049c0.jpg</p><p><strong>Score:</strong> 0.31012367852093436</p><p><strong>Caption:</strong> Image of an archaeological artifact found at Poggio Civitate, in Italy. This architectural element, antefix, mainly consists of clay. Context suggests dates of 700 BCE to 535 BCE. Chronology: Securely Archaic; Fabric Category: Clay; Motif: Gorgon; Tongue; Object Type: Architectural, Antefix</p><p><a href=\"https://opencontext.org/media/9cc041d2-a13d-4595-cd14-f44050a049c0\">Link to full record</a></p></div><div><img src=\"../files/testing/47bc968b-13ab-45ad-08cf-da71e1cbc434.jpg\" width=25% alt=\"Image not found\"> <p><strong>ID:</strong> /home/ekansa/github/archaeology-images-ai/files/testing/47bc968b-13ab-45ad-08cf-da71e1cbc434.jpg</p><p><strong>Score:</strong> 0.3071198141866573</p><p><strong>Caption:</strong> Image of an archaeological artifact found at Poggio Civitate, in Italy. This architectural element, sima; cymas, mainly consists of clay. Context suggests dates of 700 BCE to 535 BCE. Chronology: Securely Archaic; Fabric Category: Clay; Object Type: Architectural, Lateral Sima</p><p><a href=\"https://opencontext.org/media/47bc968b-13ab-45ad-08cf-da71e1cbc434\">Link to full record</a></p></div><div><img src=\"../files/testing/4b3cbd2e-54be-4e18-4a41-d77b80afa6b5.jpg\" width=25% alt=\"Image not found\"> <p><strong>ID:</strong> /home/ekansa/github/archaeology-images-ai/files/testing/4b3cbd2e-54be-4e18-4a41-d77b80afa6b5.jpg</p><p><strong>Score:</strong> 0.30681225768415443</p><p><strong>Caption:</strong> Image of an archaeological artifact found at Poggio Civitate, in Italy. This pottery vessel, mainly consists of pottery. Context suggests dates of 700 BCE to 535 BCE. Chronology: Securely Archaic; Fabric Category: Impasto; Motif: Animal; Feline; Object Type: Vessel; Vessel Form: Form unspecified</p><p><a href=\"https://opencontext.org/media/4b3cbd2e-54be-4e18-4a41-d77b80afa6b5\">Link to full record</a></p></div><div><img src=\"../files/testing/7ba3f03c-48d3-4314-ac94-ccbc7f6157f1.jpg\" width=25% alt=\"Image not found\"> <p><strong>ID:</strong> /home/ekansa/github/archaeology-images-ai/files/testing/7ba3f03c-48d3-4314-ac94-ccbc7f6157f1.jpg</p><p><strong>Score:</strong> 0.30422629448592137</p><p><strong>Caption:</strong> Image of an archaeological artifact found at Tel Kedesh, in Israel. This object is classified as seals (marks). Context suggests dates of 200 BCE to 150 BCE. Object Type: Bulla or sealing; General type: Artemis; Preservation of sealing: Fully preserved or intact; Shape of sealing: Up-and-down oval; Preservation of impression: 3/4</p><p><a href=\"https://opencontext.org/media/7ba3f03c-48d3-4314-ac94-ccbc7f6157f1\">Link to full record</a></p></div>"
      ],
      "text/plain": [
       "<IPython.core.display.HTML object>"
      ]
     },
     "metadata": {},
     "output_type": "display_data"
    }
   ],
   "source": [
    "query = \"An ancient Greek mythological monster\"\n",
    "display_similar_ideas(query)"
   ]
  },
  {
   "cell_type": "code",
   "execution_count": 15,
   "id": "ff498a76-c569-494b-bc0a-1def0566943d",
   "metadata": {},
   "outputs": [
    {
     "data": {
      "text/html": [
       "<div><img src=\"../files/testing/f2291c2c-5cf4-456e-f6bc-cb9179c76ce4.jpg\" width=25% alt=\"Image not found\"> <p><strong>ID:</strong> /home/ekansa/github/archaeology-images-ai/files/testing/f2291c2c-5cf4-456e-f6bc-cb9179c76ce4.jpg</p><p><strong>Score:</strong> 0.33158736166280556</p><p><strong>Caption:</strong> Image of an archaeological artifact found at Poggio Civitate, in Italy. This pottery vessel, mainly consists of bucchero ware bucchero. Context suggests dates of 700 BCE to 535 BCE. Fabric Category: Bucchero; Object Type: Vessel; Decorative Technique: Stamped; Vessel Form: Form unspecified</p><p><a href=\"https://opencontext.org/media/f2291c2c-5cf4-456e-f6bc-cb9179c76ce4\">Link to full record</a></p></div><div><img src=\"../files/testing/fcc78069-96ea-43dd-06cc-da7462203d78.jpg\" width=25% alt=\"Image not found\"> <p><strong>ID:</strong> /home/ekansa/github/archaeology-images-ai/files/testing/fcc78069-96ea-43dd-06cc-da7462203d78.jpg</p><p><strong>Score:</strong> 0.32352433966237887</p><p><strong>Caption:</strong> Image of an archaeological artifact found at Poggio Civitate, in Italy. This pottery vessel, mainly consists of bucchero ware bucchero. Context suggests dates of 700 BCE to 535 BCE. Fabric Category: Bucchero; Motif: Animal; Deer; Object Type: Vessel; Decorative Technique: Stamped; Vessel Form: Form unspecified</p><p><a href=\"https://opencontext.org/media/fcc78069-96ea-43dd-06cc-da7462203d78\">Link to full record</a></p></div><div><img src=\"../files/testing/71966ca2-071d-4f6a-6835-f24b89c8f022.jpg\" width=25% alt=\"Image not found\"> <p><strong>ID:</strong> /home/ekansa/github/archaeology-images-ai/files/testing/71966ca2-071d-4f6a-6835-f24b89c8f022.jpg</p><p><strong>Score:</strong> 0.3222472626520279</p><p><strong>Caption:</strong> Image of an archaeological artifact found at Poggio Civitate, in Italy. This object is classified as spools; spool. Context suggests dates of 700 BCE to 535 BCE. Fabric Category: Unclassified; Motif: Male; Object Type: Textile Related, Rocchetto; Decorative Technique: Incised</p><p><a href=\"https://opencontext.org/media/71966ca2-071d-4f6a-6835-f24b89c8f022\">Link to full record</a></p></div><div><img src=\"../files/testing/e3fedc35-0862-4616-ea7b-86937d174fbe.jpg\" width=25% alt=\"Image not found\"> <p><strong>ID:</strong> /home/ekansa/github/archaeology-images-ai/files/testing/e3fedc35-0862-4616-ea7b-86937d174fbe.jpg</p><p><strong>Score:</strong> 0.3200794093717932</p><p><strong>Caption:</strong> Image of an archaeological artifact found at Poggio Civitate, in Italy. This pottery vessel, mainly consists of bucchero ware bucchero. Context suggests dates of 700 BCE to 535 BCE. Fabric Category: Bucchero; Object Type: Vessel; Decorative Technique: Stamped; Vessel Form: Form unspecified</p><p><a href=\"https://opencontext.org/media/e3fedc35-0862-4616-ea7b-86937d174fbe\">Link to full record</a></p></div><div><img src=\"../files/testing/9a6d0054-23b0-4698-d72a-fbdf0b6fad04.jpg\" width=25% alt=\"Image not found\"> <p><strong>ID:</strong> /home/ekansa/github/archaeology-images-ai/files/testing/9a6d0054-23b0-4698-d72a-fbdf0b6fad04.jpg</p><p><strong>Score:</strong> 0.31789469927751485</p><p><strong>Caption:</strong> Image of an archaeological artifact found at Poggio Civitate, in Italy. This example of seal; seals (artifacts), mainly consists of stone rock (inorganic material). Context suggests dates of 700 BCE to 535 BCE. Fabric Category: Stone; Object Type: Costume, Accessories, Seal; Decorative Technique: Incised; Ridged</p><p><a href=\"https://opencontext.org/media/9a6d0054-23b0-4698-d72a-fbdf0b6fad04\">Link to full record</a></p></div><div><img src=\"../files/testing/e7e1e918-19d6-4261-6dce-72ba37ea6814.jpg\" width=25% alt=\"Image not found\"> <p><strong>ID:</strong> /home/ekansa/github/archaeology-images-ai/files/testing/e7e1e918-19d6-4261-6dce-72ba37ea6814.jpg</p><p><strong>Score:</strong> 0.3178589813791344</p><p><strong>Caption:</strong> Image of an archaeological artifact found at Domuztepe, in Turkey. This coin, coins (money), mainly consists of billon. Context suggests dates of 300 to 400. It was originally made at Heraclea. Artifact Name: Coin; Material: Billon; Initials: EM; Conservation: no; Mint: HTЄ Heraclea</p><p><a href=\"https://opencontext.org/media/e7e1e918-19d6-4261-6dce-72ba37ea6814\">Link to full record</a></p></div><div><img src=\"../files/testing/4b88f618-075b-46ee-0d1b-8247ba4bb93c.jpg\" width=25% alt=\"Image not found\"> <p><strong>ID:</strong> /home/ekansa/github/archaeology-images-ai/files/testing/4b88f618-075b-46ee-0d1b-8247ba4bb93c.jpg</p><p><strong>Score:</strong> 0.31681399794196957</p><p><strong>Caption:</strong> Image of an archaeological artifact found at Poggio Civitate, in Italy. This example of inlay; inlays (decorations), mainly consists of ivory (material). Context suggests dates of 700 BCE to 535 BCE. Fabric Category: Ivory; Object Type: Ornament, Inlay / Inset; Decorative Technique: Incised</p><p><a href=\"https://opencontext.org/media/4b88f618-075b-46ee-0d1b-8247ba4bb93c\">Link to full record</a></p></div><div><img src=\"../files/testing/6a324138-2f4a-4f11-9219-6e82816c6fa8.jpg\" width=25% alt=\"Image not found\"> <p><strong>ID:</strong> /home/ekansa/github/archaeology-images-ai/files/testing/6a324138-2f4a-4f11-9219-6e82816c6fa8.jpg</p><p><strong>Score:</strong> 0.3156315093581106</p><p><strong>Caption:</strong> Image of an archaeological artifact found at Poggio Civitate, in Italy. This example of inlay; inlays (decorations), mainly consists of ivory (material). Context suggests dates of 700 BCE to 535 BCE. Fabric Category: Ivory; Motif: Lotus; Object Type: Ornament, Inlay / Inset; Decorative Technique: Incised</p><p><a href=\"https://opencontext.org/media/6a324138-2f4a-4f11-9219-6e82816c6fa8\">Link to full record</a></p></div><div><img src=\"../files/testing/69dbd4c7-0a3f-427c-df8c-1f039779513d.jpg\" width=25% alt=\"Image not found\"> <p><strong>ID:</strong> /home/ekansa/github/archaeology-images-ai/files/testing/69dbd4c7-0a3f-427c-df8c-1f039779513d.jpg</p><p><strong>Score:</strong> 0.31491673934648134</p><p><strong>Caption:</strong> Image of an archaeological artifact found at Poggio Civitate, in Italy. This pottery vessel, mainly consists of bucchero ware bucchero. Context suggests dates of 700 BCE to 535 BCE. Fabric Category: Bucchero; Object Type: Vessel; Decorative Technique: Stamped; Vessel Form: Form unspecified</p><p><a href=\"https://opencontext.org/media/69dbd4c7-0a3f-427c-df8c-1f039779513d\">Link to full record</a></p></div><div><img src=\"../files/testing/f8d85d7b-5748-4dc2-1b9a-57b3dde8d184.jpg\" width=25% alt=\"Image not found\"> <p><strong>ID:</strong> /home/ekansa/github/archaeology-images-ai/files/testing/f8d85d7b-5748-4dc2-1b9a-57b3dde8d184.jpg</p><p><strong>Score:</strong> 0.31452665225219134</p><p><strong>Caption:</strong> Image of an archaeological artifact found at Poggio Civitate, in Italy. This architectural element, plaque or flat object, mainly consists of terracotta (clay material). Context suggests dates of 700 BCE to 535 BCE. Chronology: Securely Archaic; Fabric Category: Terracotta; Motif: Banquet; Object Type: Architectural,</p><p><a href=\"https://opencontext.org/media/f8d85d7b-5748-4dc2-1b9a-57b3dde8d184\">Link to full record</a></p></div>"
      ],
      "text/plain": [
       "<IPython.core.display.HTML object>"
      ]
     },
     "metadata": {},
     "output_type": "display_data"
    }
   ],
   "source": [
    "query = \"A stamped seal impression of Athena\"\n",
    "display_similar_ideas(query)"
   ]
  },
  {
   "cell_type": "code",
   "execution_count": 16,
   "id": "a04a7959-c440-422e-8faf-428dbbaf6617",
   "metadata": {},
   "outputs": [
    {
     "data": {
      "text/html": [
       "<div><img src=\"../files/testing/accf382d-d242-4fe9-6c36-66afcddc9330.jpg\" width=25% alt=\"Image not found\"> <p><strong>ID:</strong> /home/ekansa/github/archaeology-images-ai/files/testing/accf382d-d242-4fe9-6c36-66afcddc9330.jpg</p><p><strong>Score:</strong> 0.34172134844490115</p><p><strong>Caption:</strong> Image of an archaeological artifact found at Petra Great Temple, in Jordan. This example of <cups by form>, mainly consists of ceramic (material). Context suggests dates of 200 BCE to 360. Culture: Nabataean; Material: Ceramic; Cat Month: VII; Diagnostic: Cup; Cat Type Full: Pottery; Display Date: 26-VI; Year</p><p><a href=\"https://opencontext.org/media/accf382d-d242-4fe9-6c36-66afcddc9330\">Link to full record</a></p></div><div><img src=\"../files/testing/4ed65d06-e9d1-46be-8bb8-8cdb35b67ce1.jpg\" width=25% alt=\"Image not found\"> <p><strong>ID:</strong> /home/ekansa/github/archaeology-images-ai/files/testing/4ed65d06-e9d1-46be-8bb8-8cdb35b67ce1.jpg</p><p><strong>Score:</strong> 0.34132411967620213</p><p><strong>Caption:</strong> Image of an archaeological artifact found at PKAP Survey Area, in Cyprus. This example of amphora; amphorae (storage vessels), mainly consists of pottery (visual works). Chronotype: Amphora, Hellenistic-Roman Early; Material: pottery; Fabric group: amphora; Period: Hellenistic-Roman, Early; Extant Part(s): handle;</p><p><a href=\"https://opencontext.org/media/4ed65d06-e9d1-46be-8bb8-8cdb35b67ce1\">Link to full record</a></p></div><div><img src=\"../files/testing/1d7f69db-9a01-4343-a52b-ea3071af1aae.jpg\" width=25% alt=\"Image not found\"> <p><strong>ID:</strong> /home/ekansa/github/archaeology-images-ai/files/testing/1d7f69db-9a01-4343-a52b-ea3071af1aae.jpg</p><p><strong>Score:</strong> 0.33492331809053316</p><p><strong>Caption:</strong> Image of an archaeological artifact found at Tall al-Umayri, in Jordan. This example of grinding stones, mainly consists of quartzite. Record Type (Object or Artifact): Artifact; Designation certainty: Probable; Material: Quartzite; Preservation: Fragmentary; Craftsmanship: Crude; Allocation: CNEA</p><p><a href=\"https://opencontext.org/media/1d7f69db-9a01-4343-a52b-ea3071af1aae\">Link to full record</a></p></div><div><img src=\"../files/testing/f068a9f0-8146-4f5d-8db6-967f9b8ed8a9.jpg\" width=25% alt=\"Image not found\"> <p><strong>ID:</strong> /home/ekansa/github/archaeology-images-ai/files/testing/f068a9f0-8146-4f5d-8db6-967f9b8ed8a9.jpg</p><p><strong>Score:</strong> 0.33172442320814977</p><p><strong>Caption:</strong> Image of an archaeological artifact found at PKAP Survey Area, in Cyprus. This example of amphora; amphorae (storage vessels); late roman 1 amphora, mainly consists of pottery (visual works). Chronotype: Amphora, Late Roman 1; Material: pottery; Fabric group: amphora; Period: Roman, Late; Extant Part(s): rim</p><p><a href=\"https://opencontext.org/media/f068a9f0-8146-4f5d-8db6-967f9b8ed8a9\">Link to full record</a></p></div><div><img src=\"../files/testing/081760f5-1a14-43b2-9e02-2afc1b3167fd.jpg\" width=25% alt=\"Image not found\"> <p><strong>ID:</strong> /home/ekansa/github/archaeology-images-ai/files/testing/081760f5-1a14-43b2-9e02-2afc1b3167fd.jpg</p><p><strong>Score:</strong> 0.32831344057557155</p><p><strong>Caption:</strong> Image of an archaeological artifact found at PKAP Survey Area, in Cyprus. This example of amphora; amphorae (storage vessels), mainly consists of pottery (visual works). Chronotype: Amphora, Roman Late; Material: pottery; Fabric group: amphora; Period: Roman, Late; Extant Part(s): handle; Color: orange</p><p><a href=\"https://opencontext.org/media/081760f5-1a14-43b2-9e02-2afc1b3167fd\">Link to full record</a></p></div><div><img src=\"../files/testing/822d37ad-b7a8-426e-bebe-3446793b8032.jpg\" width=25% alt=\"Image not found\"> <p><strong>ID:</strong> /home/ekansa/github/archaeology-images-ai/files/testing/822d37ad-b7a8-426e-bebe-3446793b8032.jpg</p><p><strong>Score:</strong> 0.3276075468960616</p><p><strong>Caption:</strong> Image of an archaeological artifact found at PKAP Survey Area, in Cyprus. This example of amphora; amphorae (storage vessels); late roman 1 amphora, mainly consists of pottery (visual works). Chronotype: Amphora, Late Roman 1; Material: pottery; Fabric group: amphora; Period: Roman, Late; Extant Part(s): handle</p><p><a href=\"https://opencontext.org/media/822d37ad-b7a8-426e-bebe-3446793b8032\">Link to full record</a></p></div><div><img src=\"../files/testing/71e6002d-d5f0-4a07-5b4d-ef2eef11d727.jpg\" width=25% alt=\"Image not found\"> <p><strong>ID:</strong> /home/ekansa/github/archaeology-images-ai/files/testing/71e6002d-d5f0-4a07-5b4d-ef2eef11d727.jpg</p><p><strong>Score:</strong> 0.3268400908672581</p><p><strong>Caption:</strong> Image of an archaeological artifact found at Poggio Civitate, in Italy. This pottery vessel, mainly consists of pottery ceramic (material). Context suggests dates of 700 BCE to 535 BCE. Chronology: Probably Archaic; Fabric Category: Coarse Ware; Object Type: Vessel; Vessel Form: Form unspecified; Conservation Action: cleaned; adhered;</p><p><a href=\"https://opencontext.org/media/71e6002d-d5f0-4a07-5b4d-ef2eef11d727\">Link to full record</a></p></div><div><img src=\"../files/testing/73ffe208-f38c-41d0-6ffe-f376d555e922.jpg\" width=25% alt=\"Image not found\"> <p><strong>ID:</strong> /home/ekansa/github/archaeology-images-ai/files/testing/73ffe208-f38c-41d0-6ffe-f376d555e922.jpg</p><p><strong>Score:</strong> 0.3253552449532791</p><p><strong>Caption:</strong> Image of an archaeological artifact found at Poggio Civitate, in Italy. This pottery vessel; vessels (containers), mainly consists of pottery. Context suggests dates of 700 BCE to 535 BCE. Fabric Category: Impasto; Object Type: Vessel; Vessel Form: Globular pot</p><p><a href=\"https://opencontext.org/media/73ffe208-f38c-41d0-6ffe-f376d555e922\">Link to full record</a></p></div><div><img src=\"../files/testing/8c11535a-2c2a-4e93-5731-8de024ab9ad7.jpg\" width=25% alt=\"Image not found\"> <p><strong>ID:</strong> /home/ekansa/github/archaeology-images-ai/files/testing/8c11535a-2c2a-4e93-5731-8de024ab9ad7.jpg</p><p><strong>Score:</strong> 0.32322274972670856</p><p><strong>Caption:</strong> Image of an archaeological artifact found at Petra Great Temple, in Jordan. This example of cooking vessels, mainly consists of ceramic (material). Context suggests dates of 200 BCE to 360. Culture: Nabataean; Material: Ceramic; Cat Month: VII; Diagnostic: Cooking pot; Cat Type Full: Pottery; Display Date: 17-VII; Year (text</p><p><a href=\"https://opencontext.org/media/8c11535a-2c2a-4e93-5731-8de024ab9ad7\">Link to full record</a></p></div><div><img src=\"../files/testing/fda3a798-5779-4547-9de7-221ac4b3e78d.jpg\" width=25% alt=\"Image not found\"> <p><strong>ID:</strong> /home/ekansa/github/archaeology-images-ai/files/testing/fda3a798-5779-4547-9de7-221ac4b3e78d.jpg</p><p><strong>Score:</strong> 0.3213577245742464</p><p><strong>Caption:</strong> Image of an archaeological artifact found at PKAP Survey Area, in Cyprus. This example of amphora; amphorae (storage vessels); late roman 1 amphora, mainly consists of pottery (visual works). Chronotype: Amphora, Late Roman 1; Material: pottery; Fabric group: amphora; Period: Roman, Late; Extant Part(s): rim</p><p><a href=\"https://opencontext.org/media/fda3a798-5779-4547-9de7-221ac4b3e78d\">Link to full record</a></p></div>"
      ],
      "text/plain": [
       "<IPython.core.display.HTML object>"
      ]
     },
     "metadata": {},
     "output_type": "display_data"
    }
   ],
   "source": [
    "query = \"Ancient pottery from Jordan\"\n",
    "display_similar_ideas(query)"
   ]
  },
  {
   "cell_type": "code",
   "execution_count": 17,
   "id": "928051c5-90ca-4120-8030-ccb92d1f7ecc",
   "metadata": {},
   "outputs": [
    {
     "data": {
      "text/html": [
       "<div><img src=\"../files/testing/0dd6083e-cc9a-45e1-2808-671413d0bb71.jpg\" width=25% alt=\"Image not found\"> <p><strong>ID:</strong> /home/ekansa/github/archaeology-images-ai/files/testing/0dd6083e-cc9a-45e1-2808-671413d0bb71.jpg</p><p><strong>Score:</strong> 0.34726018045234824</p><p><strong>Caption:</strong> Image of an archaeological artifact found at Poggio Civitate, in Italy. This example of spools; spool, mainly consists of pottery. Context suggests dates of 700 BCE to 535 BCE. Fabric Category: Impasto; Object Type: Textile Related, Rocchetto</p><p><a href=\"https://opencontext.org/media/0dd6083e-cc9a-45e1-2808-671413d0bb71\">Link to full record</a></p></div><div><img src=\"../files/testing/956329ca-92ca-4c5f-374c-c1346df189b1.jpg\" width=25% alt=\"Image not found\"> <p><strong>ID:</strong> /home/ekansa/github/archaeology-images-ai/files/testing/956329ca-92ca-4c5f-374c-c1346df189b1.jpg</p><p><strong>Score:</strong> 0.34632254902397475</p><p><strong>Caption:</strong> Image of an archaeological artifact found at Poggio Civitate, in Italy. This example of spindle-whorl; whorls (spindle flywheels), mainly consists of pottery. Context suggests dates of 700 BCE to 535 BCE. Fabric Category: Impasto; Object Type: Textile Related, Spindle Whorl</p><p><a href=\"https://opencontext.org/media/956329ca-92ca-4c5f-374c-c1346df189b1\">Link to full record</a></p></div><div><img src=\"../files/testing/7b68737a-f00e-4b88-5301-0bd078c6b518.jpg\" width=25% alt=\"Image not found\"> <p><strong>ID:</strong> /home/ekansa/github/archaeology-images-ai/files/testing/7b68737a-f00e-4b88-5301-0bd078c6b518.jpg</p><p><strong>Score:</strong> 0.34072253411398323</p><p><strong>Caption:</strong> Image of an archaeological artifact found at Poggio Civitate, in Italy. This example of spindle-whorl; whorls (spindle flywheels), mainly consists of pottery. Context suggests dates of 700 BCE to 535 BCE. Chronology: Securely Orientalizing; Fabric Category: Impasto; Object Type: Textile Related, Spindle Whor</p><p><a href=\"https://opencontext.org/media/7b68737a-f00e-4b88-5301-0bd078c6b518\">Link to full record</a></p></div><div><img src=\"../files/testing/b5b1e4ad-558f-4736-df6e-fed16d0f7cb2.jpg\" width=25% alt=\"Image not found\"> <p><strong>ID:</strong> /home/ekansa/github/archaeology-images-ai/files/testing/b5b1e4ad-558f-4736-df6e-fed16d0f7cb2.jpg</p><p><strong>Score:</strong> 0.3393452678419552</p><p><strong>Caption:</strong> Image of an archaeological artifact found at Poggio Civitate, in Italy. This example of spools; spool, mainly consists of pottery. Context suggests dates of 700 BCE to 535 BCE. Fabric Category: Impasto; Object Type: Textile Related, Rocchetto</p><p><a href=\"https://opencontext.org/media/b5b1e4ad-558f-4736-df6e-fed16d0f7cb2\">Link to full record</a></p></div><div><img src=\"../files/testing/bda219f0-8569-42f7-8ebe-46217fbcdd04.jpg\" width=25% alt=\"Image not found\"> <p><strong>ID:</strong> /home/ekansa/github/archaeology-images-ai/files/testing/bda219f0-8569-42f7-8ebe-46217fbcdd04.jpg</p><p><strong>Score:</strong> 0.3384049916573762</p><p><strong>Caption:</strong> Image of an archaeological artifact found at Poggio Civitate, in Italy. This example of spools; spool, mainly consists of pottery. Context suggests dates of 700 BCE to 535 BCE. Fabric Category: Impasto; Object Type: Textile Related, Rocchetto</p><p><a href=\"https://opencontext.org/media/bda219f0-8569-42f7-8ebe-46217fbcdd04\">Link to full record</a></p></div><div><img src=\"../files/testing/68716548-6b8c-4cd0-afc5-a1b1040555e8.jpg\" width=25% alt=\"Image not found\"> <p><strong>ID:</strong> /home/ekansa/github/archaeology-images-ai/files/testing/68716548-6b8c-4cd0-afc5-a1b1040555e8.jpg</p><p><strong>Score:</strong> 0.33777306731524925</p><p><strong>Caption:</strong> Image of an archaeological artifact found at Poggio Civitate, in Italy. This example of spools; spool, mainly consists of pottery. Context suggests dates of 700 BCE to 535 BCE. Fabric Category: Impasto; Object Type: Textile Related, Rocchetto</p><p><a href=\"https://opencontext.org/media/68716548-6b8c-4cd0-afc5-a1b1040555e8\">Link to full record</a></p></div><div><img src=\"../files/testing/b499fdfa-d40a-43e0-103d-68ad3df162ac.jpg\" width=25% alt=\"Image not found\"> <p><strong>ID:</strong> /home/ekansa/github/archaeology-images-ai/files/testing/b499fdfa-d40a-43e0-103d-68ad3df162ac.jpg</p><p><strong>Score:</strong> 0.3376521944155753</p><p><strong>Caption:</strong> Image of an archaeological artifact found at Poggio Civitate, in Italy. This example of spindle-whorl; whorls (spindle flywheels), mainly consists of pottery. Context suggests dates of 700 BCE to 535 BCE. Fabric Category: Impasto; Object Type: Textile Related, Spindle Whorl</p><p><a href=\"https://opencontext.org/media/b499fdfa-d40a-43e0-103d-68ad3df162ac\">Link to full record</a></p></div><div><img src=\"../files/testing/25e4ff52-4b30-4e30-57f5-3cead696554d.jpg\" width=25% alt=\"Image not found\"> <p><strong>ID:</strong> /home/ekansa/github/archaeology-images-ai/files/testing/25e4ff52-4b30-4e30-57f5-3cead696554d.jpg</p><p><strong>Score:</strong> 0.335816834330891</p><p><strong>Caption:</strong> Image of an archaeological artifact found at Poggio Civitate, in Italy. This example of spools; spool, mainly consists of pottery. Context suggests dates of 700 BCE to 535 BCE. Fabric Category: Impasto; Object Type: Textile Related, Rocchetto</p><p><a href=\"https://opencontext.org/media/25e4ff52-4b30-4e30-57f5-3cead696554d\">Link to full record</a></p></div><div><img src=\"../files/testing/044a3250-6960-42c5-d5f3-0a5c5e7de80a.jpg\" width=25% alt=\"Image not found\"> <p><strong>ID:</strong> /home/ekansa/github/archaeology-images-ai/files/testing/044a3250-6960-42c5-d5f3-0a5c5e7de80a.jpg</p><p><strong>Score:</strong> 0.33566191338038326</p><p><strong>Caption:</strong> Image of an archaeological artifact found at Poggio Civitate, in Italy. This pottery vessel, mainly consists of pottery. Context suggests dates of 700 BCE to 535 BCE. Fabric Category: Impasto; Object Type: Vessel; Vessel Form: Form unspecified</p><p><a href=\"https://opencontext.org/media/044a3250-6960-42c5-d5f3-0a5c5e7de80a\">Link to full record</a></p></div><div><img src=\"../files/testing/298ed8ea-f9c6-42a2-bfe2-981827e7939a.jpg\" width=25% alt=\"Image not found\"> <p><strong>ID:</strong> /home/ekansa/github/archaeology-images-ai/files/testing/298ed8ea-f9c6-42a2-bfe2-981827e7939a.jpg</p><p><strong>Score:</strong> 0.33541787917437205</p><p><strong>Caption:</strong> Image of an archaeological artifact found at Poggio Civitate, in Italy. This example of spools; spool, mainly consists of pottery. Context suggests dates of 700 BCE to 535 BCE. Fabric Category: Impasto; Object Type: Textile Related, Rocchetto</p><p><a href=\"https://opencontext.org/media/298ed8ea-f9c6-42a2-bfe2-981827e7939a\">Link to full record</a></p></div>"
      ],
      "text/plain": [
       "<IPython.core.display.HTML object>"
      ]
     },
     "metadata": {},
     "output_type": "display_data"
    }
   ],
   "source": [
    "query = \"Part of a tool for spinning yarn\"\n",
    "display_similar_ideas(query)"
   ]
  },
  {
   "cell_type": "markdown",
   "id": "728172eb-6a0a-40cc-bad7-5ecaf8582c0c",
   "metadata": {},
   "source": [
    "# Assessment\n",
    "\n",
    "It will take a while to understand how best to use \"idea\" queries, but the results seem interesting. However, the reserve image search results below seem especially useful!"
   ]
  },
  {
   "cell_type": "code",
   "execution_count": 18,
   "id": "46dd8ee5-9fb1-4565-b285-3b0d32b01a42",
   "metadata": {},
   "outputs": [
    {
     "data": {
      "text/html": [
       "<div>Search for images similar to:<br/><img src=\"../files/testing/0ace44d4-52f2-4ced-777f-563585c32172.jpg\" width=25% alt=\"Image not found\" /><p>----------------------------------</p><p><strong>Results Below</strong>:</p></div><div><img src=\"../files/testing/0ace44d4-52f2-4ced-777f-563585c32172.jpg\" width=25% alt=\"Image not found\"> <p><strong>ID:</strong> /home/ekansa/github/archaeology-images-ai/files/testing/0ace44d4-52f2-4ced-777f-563585c32172.jpg</p><p><strong>Score:</strong> 0.9999999999997896</p><p><strong>Caption:</strong> Image of an archaeological artifact found at Poggio Civitate, in Italy. This architectural element, plaque or flat object, mainly consists of terracotta (clay material). Context suggests dates of 700 BCE to 535 BCE. Chronology: Securely Archaic; Fabric Category: Terracotta; Motif: Banquet; Guilloche; Object Type</p><p><a href=\"https://opencontext.org/media/0ace44d4-52f2-4ced-777f-563585c32172\">Link to full record</a></p></div><div><img src=\"../files/testing/797a15c6-9cc7-4c88-df3b-f18fe4406d5b.jpg\" width=25% alt=\"Image not found\"> <p><strong>ID:</strong> /home/ekansa/github/archaeology-images-ai/files/testing/797a15c6-9cc7-4c88-df3b-f18fe4406d5b.jpg</p><p><strong>Score:</strong> 0.9159500356806433</p><p><strong>Caption:</strong> Image of an archaeological artifact found at Poggio Civitate, in Italy. This architectural element, plaque or flat object, mainly consists of terracotta (clay material). Context suggests dates of 700 BCE to 535 BCE. Chronology: Securely Archaic; Fabric Category: Terracotta; Motif: Banquet; Guilloche; Object Type</p><p><a href=\"https://opencontext.org/media/797a15c6-9cc7-4c88-df3b-f18fe4406d5b\">Link to full record</a></p></div><div><img src=\"../files/testing/aed6b555-bdf2-427e-a0b9-a3c976028e3b.jpg\" width=25% alt=\"Image not found\"> <p><strong>ID:</strong> /home/ekansa/github/archaeology-images-ai/files/testing/aed6b555-bdf2-427e-a0b9-a3c976028e3b.jpg</p><p><strong>Score:</strong> 0.9095451096055134</p><p><strong>Caption:</strong> Image of an archaeological artifact found at Poggio Civitate, in Italy. This architectural element, plaque or flat object, mainly consists of clay. Context suggests dates of 700 BCE to 535 BCE. Chronology: Securely Archaic; Fabric Category: Clay; Motif: Seated Figure; Object Type: Architectural, Frieze Plaque</p><p><a href=\"https://opencontext.org/media/aed6b555-bdf2-427e-a0b9-a3c976028e3b\">Link to full record</a></p></div><div><img src=\"../files/testing/1b015746-a719-4af7-7420-5ecf9eb1dedc.jpg\" width=25% alt=\"Image not found\"> <p><strong>ID:</strong> /home/ekansa/github/archaeology-images-ai/files/testing/1b015746-a719-4af7-7420-5ecf9eb1dedc.jpg</p><p><strong>Score:</strong> 0.9038763957503574</p><p><strong>Caption:</strong> Image of an archaeological artifact found at Poggio Civitate, in Italy. This architectural element, plaque or flat object, mainly consists of terracotta (clay material). Context suggests dates of 700 BCE to 535 BCE. Chronology: Securely Archaic; Fabric Category: Terracotta; Motif: Banquet; Dots; Guilloche</p><p><a href=\"https://opencontext.org/media/1b015746-a719-4af7-7420-5ecf9eb1dedc\">Link to full record</a></p></div><div><img src=\"../files/testing/43feab65-60c5-4fb5-df5a-40ef6202235a.jpg\" width=25% alt=\"Image not found\"> <p><strong>ID:</strong> /home/ekansa/github/archaeology-images-ai/files/testing/43feab65-60c5-4fb5-df5a-40ef6202235a.jpg</p><p><strong>Score:</strong> 0.9010158917899574</p><p><strong>Caption:</strong> Image of an archaeological artifact found at Poggio Civitate, in Italy. This architectural element, plaque or flat object, mainly consists of clay. Context suggests dates of 700 BCE to 535 BCE. Chronology: Securely Archaic; Fabric Category: Clay; Motif: Seated Figure; Guilloche; Object Type: Architectural, Frieze</p><p><a href=\"https://opencontext.org/media/43feab65-60c5-4fb5-df5a-40ef6202235a\">Link to full record</a></p></div><div><img src=\"../files/testing/fe14fa72-bec8-4a8f-6e4e-f6ab55e07fbb.jpg\" width=25% alt=\"Image not found\"> <p><strong>ID:</strong> /home/ekansa/github/archaeology-images-ai/files/testing/fe14fa72-bec8-4a8f-6e4e-f6ab55e07fbb.jpg</p><p><strong>Score:</strong> 0.8943225597154949</p><p><strong>Caption:</strong> Image of an archaeological artifact found at Poggio Civitate, in Italy. This architectural element, plaque or flat object, mainly consists of terracotta (clay material). Context suggests dates of 700 BCE to 535 BCE. Chronology: Securely Archaic; Fabric Category: Terracotta; Motif: Banquet; Guilloche; Object Type</p><p><a href=\"https://opencontext.org/media/fe14fa72-bec8-4a8f-6e4e-f6ab55e07fbb\">Link to full record</a></p></div><div><img src=\"../files/testing/93093542-9935-4a06-35eb-455e87906836.jpg\" width=25% alt=\"Image not found\"> <p><strong>ID:</strong> /home/ekansa/github/archaeology-images-ai/files/testing/93093542-9935-4a06-35eb-455e87906836.jpg</p><p><strong>Score:</strong> 0.8925441834077708</p><p><strong>Caption:</strong> Image of an archaeological artifact found at Poggio Civitate, in Italy. This architectural element, plaque or flat object, mainly consists of terracotta (clay material). Context suggests dates of 700 BCE to 535 BCE. Chronology: Securely Archaic; Fabric Category: Terracotta; Motif: Banquet; Dots; Guilloche</p><p><a href=\"https://opencontext.org/media/93093542-9935-4a06-35eb-455e87906836\">Link to full record</a></p></div><div><img src=\"../files/testing/e17143ba-9510-415e-7374-b393634a4020.jpg\" width=25% alt=\"Image not found\"> <p><strong>ID:</strong> /home/ekansa/github/archaeology-images-ai/files/testing/e17143ba-9510-415e-7374-b393634a4020.jpg</p><p><strong>Score:</strong> 0.8892046187033011</p><p><strong>Caption:</strong> Image of an archaeological artifact found at Poggio Civitate, in Italy. This architectural element, plaque or flat object, mainly consists of terracotta (clay material). Context suggests dates of 700 BCE to 535 BCE. Chronology: Securely Archaic; Fabric Category: Terracotta; Motif: Banquet; Guilloche; Object Type</p><p><a href=\"https://opencontext.org/media/e17143ba-9510-415e-7374-b393634a4020\">Link to full record</a></p></div><div><img src=\"../files/testing/13f6814e-6db5-437c-cf31-2f4c42f43702.jpg\" width=25% alt=\"Image not found\"> <p><strong>ID:</strong> /home/ekansa/github/archaeology-images-ai/files/testing/13f6814e-6db5-437c-cf31-2f4c42f43702.jpg</p><p><strong>Score:</strong> 0.8888970863421287</p><p><strong>Caption:</strong> Image of an archaeological artifact found at Poggio Civitate, in Italy. This architectural element, plaque or flat object, mainly consists of terracotta (clay material). Context suggests dates of 700 BCE to 535 BCE. Chronology: Securely Archaic; Fabric Category: Terracotta; Motif: Banquet; Guilloche; Object Type</p><p><a href=\"https://opencontext.org/media/13f6814e-6db5-437c-cf31-2f4c42f43702\">Link to full record</a></p></div><div><img src=\"../files/testing/3d159cc5-6cab-4c17-ca86-b90f9cc818dd.jpg\" width=25% alt=\"Image not found\"> <p><strong>ID:</strong> /home/ekansa/github/archaeology-images-ai/files/testing/3d159cc5-6cab-4c17-ca86-b90f9cc818dd.jpg</p><p><strong>Score:</strong> 0.8884556662976926</p><p><strong>Caption:</strong> Image of an archaeological artifact found at Poggio Civitate, in Italy. This architectural element, plaque or flat object, mainly consists of terracotta (clay material). Context suggests dates of 700 BCE to 535 BCE. Chronology: Securely Archaic; Fabric Category: Terracotta; Motif: Seated Figure; Guilloche; Object</p><p><a href=\"https://opencontext.org/media/3d159cc5-6cab-4c17-ca86-b90f9cc818dd\">Link to full record</a></p></div>"
      ],
      "text/plain": [
       "<IPython.core.display.HTML object>"
      ]
     },
     "metadata": {},
     "output_type": "display_data"
    }
   ],
   "source": [
    "query = f\"{REPO_PATH}/files/testing/0ace44d4-52f2-4ced-777f-563585c32172.jpg\"\n",
    "display_similar_images(query)"
   ]
  },
  {
   "cell_type": "code",
   "execution_count": 19,
   "id": "11588893-0c2c-475a-9cde-cca1fb6a7172",
   "metadata": {},
   "outputs": [
    {
     "data": {
      "text/html": [
       "<div>Search for images similar to:<br/><img src=\"../files/testing/0ad70498-fc77-47ea-acc4-c31e5c5b5791.jpg\" width=25% alt=\"Image not found\" /><p>----------------------------------</p><p><strong>Results Below</strong>:</p></div><div><img src=\"../files/testing/0ad70498-fc77-47ea-acc4-c31e5c5b5791.jpg\" width=25% alt=\"Image not found\"> <p><strong>ID:</strong> /home/ekansa/github/archaeology-images-ai/files/testing/0ad70498-fc77-47ea-acc4-c31e5c5b5791.jpg</p><p><strong>Score:</strong> 0.9999999999996113</p><p><strong>Caption:</strong> Image of an archaeological artifact found at Poggio Civitate, in Italy. This example of spools; spool, mainly consists of bucchero ware bucchero. Context suggests dates of 700 BCE to 535 BCE. Fabric Category: Bucchero; Object Type: Textile Related, Rocchetto; Decorative Technique: Stamped; Conservation Action:</p><p><a href=\"https://opencontext.org/media/0ad70498-fc77-47ea-acc4-c31e5c5b5791\">Link to full record</a></p></div><div><img src=\"../files/testing/2a38cb1d-f3bb-4bce-953e-696dbe78c442.jpg\" width=25% alt=\"Image not found\"> <p><strong>ID:</strong> /home/ekansa/github/archaeology-images-ai/files/testing/2a38cb1d-f3bb-4bce-953e-696dbe78c442.jpg</p><p><strong>Score:</strong> 0.8537349784967577</p><p><strong>Caption:</strong> Image of an archaeological artifact found at Poggio Civitate, in Italy. This example of spools; spool, mainly consists of pottery. Context suggests dates of 700 BCE to 535 BCE. Fabric Category: Impasto; Object Type: Textile Related, Rocchetto; Decorative Technique: Stamped; Conservation Action: cleaned; buffed; Conservation Material</p><p><a href=\"https://opencontext.org/media/2a38cb1d-f3bb-4bce-953e-696dbe78c442\">Link to full record</a></p></div><div><img src=\"../files/testing/b94ca4b9-9d66-4385-b833-a577a5e5cb0e.jpg\" width=25% alt=\"Image not found\"> <p><strong>ID:</strong> /home/ekansa/github/archaeology-images-ai/files/testing/b94ca4b9-9d66-4385-b833-a577a5e5cb0e.jpg</p><p><strong>Score:</strong> 0.8234221525217129</p><p><strong>Caption:</strong> Image of an archaeological artifact found at Poggio Civitate, in Italy. This example of spools; spool, mainly consists of pottery. Context suggests dates of 700 BCE to 535 BCE. Chronology: Securely Orientalizing; Fabric Category: Impasto; Motif: Palmette; Lotus; Flower; Object Type: Textile Related, Rocchet</p><p><a href=\"https://opencontext.org/media/b94ca4b9-9d66-4385-b833-a577a5e5cb0e\">Link to full record</a></p></div><div><img src=\"../files/testing/59dba323-4eb9-442b-950f-89f55f551c3c.jpg\" width=25% alt=\"Image not found\"> <p><strong>ID:</strong> /home/ekansa/github/archaeology-images-ai/files/testing/59dba323-4eb9-442b-950f-89f55f551c3c.jpg</p><p><strong>Score:</strong> 0.8221211549472388</p><p><strong>Caption:</strong> Image of an archaeological artifact found at Poggio Civitate, in Italy. This example of spools; spool, mainly consists of bucchero ware bucchero. Context suggests dates of 700 BCE to 535 BCE. Chronology: Securely Orientalizing; Fabric Category: Bucchero; Motif: Volute; Object Type: Textile Related,</p><p><a href=\"https://opencontext.org/media/59dba323-4eb9-442b-950f-89f55f551c3c\">Link to full record</a></p></div><div><img src=\"../files/testing/4ebbca3a-3135-418d-7b82-acb9380d500f.jpg\" width=25% alt=\"Image not found\"> <p><strong>ID:</strong> /home/ekansa/github/archaeology-images-ai/files/testing/4ebbca3a-3135-418d-7b82-acb9380d500f.jpg</p><p><strong>Score:</strong> 0.8189060707292125</p><p><strong>Caption:</strong> Image of an archaeological artifact found at Poggio Civitate, in Italy. This example of spools; spool, mainly consists of bucchero ware bucchero. Context suggests dates of 700 BCE to 535 BCE. Fabric Category: Bucchero; Object Type: Textile Related, Rocchetto; Decorative Technique: Fluted</p><p><a href=\"https://opencontext.org/media/4ebbca3a-3135-418d-7b82-acb9380d500f\">Link to full record</a></p></div><div><img src=\"../files/testing/9f767c90-72e2-40e8-bc0f-5be55a38c760.jpg\" width=25% alt=\"Image not found\"> <p><strong>ID:</strong> /home/ekansa/github/archaeology-images-ai/files/testing/9f767c90-72e2-40e8-bc0f-5be55a38c760.jpg</p><p><strong>Score:</strong> 0.7941712754289647</p><p><strong>Caption:</strong> Image of an archaeological artifact found at Poggio Civitate, in Italy. This example of spools; spool, mainly consists of pottery. Context suggests dates of 700 BCE to 535 BCE. Fabric Category: Impasto; Motif: Circles; Object Type: Textile Related, Rocchetto; Decorative Technique: Stamped; Conservation Action: cleaned</p><p><a href=\"https://opencontext.org/media/9f767c90-72e2-40e8-bc0f-5be55a38c760\">Link to full record</a></p></div><div><img src=\"../files/testing/00d7232a-fc87-4128-a240-44273ff1c70e.jpg\" width=25% alt=\"Image not found\"> <p><strong>ID:</strong> /home/ekansa/github/archaeology-images-ai/files/testing/00d7232a-fc87-4128-a240-44273ff1c70e.jpg</p><p><strong>Score:</strong> 0.7751372724648832</p><p><strong>Caption:</strong> Image of an archaeological artifact found at Poggio Civitate, in Italy. This example of spools; spool, mainly consists of bucchero ware bucchero. Context suggests dates of 700 BCE to 535 BCE. Fabric Category: Bucchero; Object Type: Textile Related, Rocchetto</p><p><a href=\"https://opencontext.org/media/00d7232a-fc87-4128-a240-44273ff1c70e\">Link to full record</a></p></div><div><img src=\"../files/testing/1c402a3f-376c-41f7-1543-8fc3c16eecb1.jpg\" width=25% alt=\"Image not found\"> <p><strong>ID:</strong> /home/ekansa/github/archaeology-images-ai/files/testing/1c402a3f-376c-41f7-1543-8fc3c16eecb1.jpg</p><p><strong>Score:</strong> 0.766095699895979</p><p><strong>Caption:</strong> Image of an archaeological artifact found at Poggio Civitate, in Italy. This example of spools; spool, mainly consists of pottery. Context suggests dates of 700 BCE to 535 BCE. Fabric Category: Impasto; Object Type: Textile Related, Rocchetto; Conservation Action: cleaned; Conservation Material: alcohol</p><p><a href=\"https://opencontext.org/media/1c402a3f-376c-41f7-1543-8fc3c16eecb1\">Link to full record</a></p></div><div><img src=\"../files/testing/cd3487d7-a984-41c9-895f-8028f0013c53.jpg\" width=25% alt=\"Image not found\"> <p><strong>ID:</strong> /home/ekansa/github/archaeology-images-ai/files/testing/cd3487d7-a984-41c9-895f-8028f0013c53.jpg</p><p><strong>Score:</strong> 0.7655493959443671</p><p><strong>Caption:</strong> Image of an archaeological artifact found at Poggio Civitate, in Italy. This example of spools; spool, mainly consists of pottery. Context suggests dates of 700 BCE to 535 BCE. Fabric Category: Impasto; Motif: Palmette; Object Type: Textile Related, Rocchetto; Conservation Action: cleaned; Conservation Material: acetone</p><p><a href=\"https://opencontext.org/media/cd3487d7-a984-41c9-895f-8028f0013c53\">Link to full record</a></p></div><div><img src=\"../files/testing/32539aef-1f3d-46d1-189b-9a1151a4c688.jpg\" width=25% alt=\"Image not found\"> <p><strong>ID:</strong> /home/ekansa/github/archaeology-images-ai/files/testing/32539aef-1f3d-46d1-189b-9a1151a4c688.jpg</p><p><strong>Score:</strong> 0.7642551743218968</p><p><strong>Caption:</strong> Image of an archaeological artifact found at Poggio Civitate, in Italy. This example of spools; spool, mainly consists of bucchero ware bucchero. Context suggests dates of 700 BCE to 535 BCE. Chronology: Securely Orientalizing; Fabric Category: Bucchero; Motif: Circles; Object Type: Textile Related,</p><p><a href=\"https://opencontext.org/media/32539aef-1f3d-46d1-189b-9a1151a4c688\">Link to full record</a></p></div>"
      ],
      "text/plain": [
       "<IPython.core.display.HTML object>"
      ]
     },
     "metadata": {},
     "output_type": "display_data"
    }
   ],
   "source": [
    "query = f\"{REPO_PATH}/files/testing/0ad70498-fc77-47ea-acc4-c31e5c5b5791.jpg\"\n",
    "display_similar_images(query)"
   ]
  },
  {
   "cell_type": "code",
   "execution_count": 20,
   "id": "728000ff-1fea-4e5e-93a1-d082010961af",
   "metadata": {},
   "outputs": [
    {
     "data": {
      "text/html": [
       "<div>Search for images similar to:<br/><img src=\"../files/testing/1a62ff87-d9f4-47dd-aa55-c1fbb5d3f344.jpg\" width=25% alt=\"Image not found\" /><p>----------------------------------</p><p><strong>Results Below</strong>:</p></div><div><img src=\"../files/testing/1a62ff87-d9f4-47dd-aa55-c1fbb5d3f344.jpg\" width=25% alt=\"Image not found\"> <p><strong>ID:</strong> /home/ekansa/github/archaeology-images-ai/files/testing/1a62ff87-d9f4-47dd-aa55-c1fbb5d3f344.jpg</p><p><strong>Score:</strong> 0.999999999999788</p><p><strong>Caption:</strong> Image of an archaeological artifact found at Tel Kedesh, in Israel. This object is classified as seals (marks). Context suggests dates of 200 BCE to 150 BCE. Object Type: Bulla or sealing; General type: Tyches; Preservation of sealing: Fully preserved or intact; Shape of sealing: Wide oval; Preservation of impression: 3/4 preserved</p><p><a href=\"https://opencontext.org/media/1a62ff87-d9f4-47dd-aa55-c1fbb5d3f344\">Link to full record</a></p></div><div><img src=\"../files/testing/2332382c-931e-4873-b357-5647bcb5a410.jpg\" width=25% alt=\"Image not found\"> <p><strong>ID:</strong> /home/ekansa/github/archaeology-images-ai/files/testing/2332382c-931e-4873-b357-5647bcb5a410.jpg</p><p><strong>Score:</strong> 0.9265353767878038</p><p><strong>Caption:</strong> Image of an archaeological artifact found at Tel Kedesh, in Israel. This object is classified as seals (marks). Context suggests dates of 200 BCE to 150 BCE. Object Type: Bulla or sealing; General type: Tyches; Preservation of sealing: Fully preserved or intact; Shape of sealing: Up-and-down oval; Preservation of impression: Fully preserved or</p><p><a href=\"https://opencontext.org/media/2332382c-931e-4873-b357-5647bcb5a410\">Link to full record</a></p></div><div><img src=\"../files/testing/25045835-7c55-48d7-acac-328a5f92877f.jpg\" width=25% alt=\"Image not found\"> <p><strong>ID:</strong> /home/ekansa/github/archaeology-images-ai/files/testing/25045835-7c55-48d7-acac-328a5f92877f.jpg</p><p><strong>Score:</strong> 0.9263956658351539</p><p><strong>Caption:</strong> Image of an archaeological artifact found at Tel Kedesh, in Israel. This object is classified as seals (marks). Context suggests dates of 200 BCE to 150 BCE. Object Type: Bulla or sealing; General type: Tyches; Preservation of sealing: Fully preserved or intact; Shape of sealing: Irregular; Preservation of impression: Fully preserved or intact;</p><p><a href=\"https://opencontext.org/media/25045835-7c55-48d7-acac-328a5f92877f\">Link to full record</a></p></div><div><img src=\"../files/testing/bb1c572e-fdf1-4dab-a1ee-457d53ca1858.jpg\" width=25% alt=\"Image not found\"> <p><strong>ID:</strong> /home/ekansa/github/archaeology-images-ai/files/testing/bb1c572e-fdf1-4dab-a1ee-457d53ca1858.jpg</p><p><strong>Score:</strong> 0.9189083222464859</p><p><strong>Caption:</strong> Image of an archaeological artifact found at Tel Kedesh, in Israel. This object is classified as seals (marks). Context suggests dates of 200 BCE to 150 BCE. Object Type: Bulla or sealing; General type: Tyches; Preservation of sealing: Fully preserved or intact; Shape of sealing: Up-and-down oval; Preservation of impression: 3/</p><p><a href=\"https://opencontext.org/media/bb1c572e-fdf1-4dab-a1ee-457d53ca1858\">Link to full record</a></p></div><div><img src=\"../files/testing/f6849443-29d6-4666-81b7-afa326a6025f.jpg\" width=25% alt=\"Image not found\"> <p><strong>ID:</strong> /home/ekansa/github/archaeology-images-ai/files/testing/f6849443-29d6-4666-81b7-afa326a6025f.jpg</p><p><strong>Score:</strong> 0.9163647475887897</p><p><strong>Caption:</strong> Image of an archaeological artifact found at Tel Kedesh, in Israel. This object is classified as seals (marks). Context suggests dates of 200 BCE to 150 BCE. Object Type: Bulla or sealing; General type: Tyches; Preservation of sealing: 3/4 preserved or intact; Shape of sealing: Up-and-down oval; Preservation of impression:</p><p><a href=\"https://opencontext.org/media/f6849443-29d6-4666-81b7-afa326a6025f\">Link to full record</a></p></div><div><img src=\"../files/testing/896049fa-350d-4308-81d0-36cb5cf63fa0.jpg\" width=25% alt=\"Image not found\"> <p><strong>ID:</strong> /home/ekansa/github/archaeology-images-ai/files/testing/896049fa-350d-4308-81d0-36cb5cf63fa0.jpg</p><p><strong>Score:</strong> 0.9129394121924458</p><p><strong>Caption:</strong> Image of an archaeological artifact found at Tel Kedesh, in Israel. This object is classified as seals (marks). Context suggests dates of 200 BCE to 150 BCE. Object Type: Bulla or sealing; General type: Tyches; Preservation of sealing: 3/4 preserved or intact; Shape of sealing: Irregular; Preservation of impression: 3</p><p><a href=\"https://opencontext.org/media/896049fa-350d-4308-81d0-36cb5cf63fa0\">Link to full record</a></p></div><div><img src=\"../files/testing/13dc54ff-280e-4185-bff5-7c579f016a3d.jpg\" width=25% alt=\"Image not found\"> <p><strong>ID:</strong> /home/ekansa/github/archaeology-images-ai/files/testing/13dc54ff-280e-4185-bff5-7c579f016a3d.jpg</p><p><strong>Score:</strong> 0.8939523329290101</p><p><strong>Caption:</strong> Image of an archaeological artifact found at Tel Kedesh, in Israel. This object is classified as seals (marks). Context suggests dates of 200 BCE to 150 BCE. Object Type: Bulla or sealing; General type: Tyches; Preservation of sealing: Fully preserved or intact; Shape of sealing: Up-and-down oval; Preservation of impression: 3/</p><p><a href=\"https://opencontext.org/media/13dc54ff-280e-4185-bff5-7c579f016a3d\">Link to full record</a></p></div><div><img src=\"../files/testing/b589dd87-b5ea-4ea7-90c4-3b2cc498bbdd.jpg\" width=25% alt=\"Image not found\"> <p><strong>ID:</strong> /home/ekansa/github/archaeology-images-ai/files/testing/b589dd87-b5ea-4ea7-90c4-3b2cc498bbdd.jpg</p><p><strong>Score:</strong> 0.8889506949119003</p><p><strong>Caption:</strong> Image of an archaeological artifact found at Tel Kedesh, in Israel. This object is classified as seals (marks). Context suggests dates of 200 BCE to 150 BCE. Object Type: Bulla or sealing; General type: Tyches; Preservation of sealing: Fully preserved or intact; Shape of sealing: Circular; Preservation of impression: 3/4 preserved or</p><p><a href=\"https://opencontext.org/media/b589dd87-b5ea-4ea7-90c4-3b2cc498bbdd\">Link to full record</a></p></div><div><img src=\"../files/testing/23db1e05-3f97-4b6c-aa89-45c712754638.jpg\" width=25% alt=\"Image not found\"> <p><strong>ID:</strong> /home/ekansa/github/archaeology-images-ai/files/testing/23db1e05-3f97-4b6c-aa89-45c712754638.jpg</p><p><strong>Score:</strong> 0.8866049583991317</p><p><strong>Caption:</strong> Image of an archaeological artifact found at Tel Kedesh, in Israel. This object is classified as seals (marks). Context suggests dates of 200 BCE to 150 BCE. Object Type: Bulla or sealing; General type: Tyches; Preservation of sealing: Fully preserved or intact; Shape of sealing: Up-and-down oval; Preservation of impression: 3/</p><p><a href=\"https://opencontext.org/media/23db1e05-3f97-4b6c-aa89-45c712754638\">Link to full record</a></p></div><div><img src=\"../files/testing/c87257ae-c981-40dd-9061-6287b777c434.jpg\" width=25% alt=\"Image not found\"> <p><strong>ID:</strong> /home/ekansa/github/archaeology-images-ai/files/testing/c87257ae-c981-40dd-9061-6287b777c434.jpg</p><p><strong>Score:</strong> 0.8826223566365429</p><p><strong>Caption:</strong> Image of an archaeological artifact found at Tel Kedesh, in Israel. This object is classified as seals (marks). Context suggests dates of 200 BCE to 150 BCE. Object Type: Bulla or sealing; General type: Tyches; Preservation of sealing: 3/4 preserved or intact; Shape of sealing: Up-and-down oval; Preservation of impression:</p><p><a href=\"https://opencontext.org/media/c87257ae-c981-40dd-9061-6287b777c434\">Link to full record</a></p></div>"
      ],
      "text/plain": [
       "<IPython.core.display.HTML object>"
      ]
     },
     "metadata": {},
     "output_type": "display_data"
    }
   ],
   "source": [
    "query = f\"{REPO_PATH}/files/testing/1a62ff87-d9f4-47dd-aa55-c1fbb5d3f344.jpg\"\n",
    "display_similar_images(query)"
   ]
  },
  {
   "cell_type": "code",
   "execution_count": null,
   "id": "fc9c2a05-30c3-4944-88e8-9e2c9c623124",
   "metadata": {},
   "outputs": [],
   "source": []
  }
 ],
 "metadata": {
  "kernelspec": {
   "display_name": "Python 3 (ipykernel)",
   "language": "python",
   "name": "python3"
  },
  "language_info": {
   "codemirror_mode": {
    "name": "ipython",
    "version": 3
   },
   "file_extension": ".py",
   "mimetype": "text/x-python",
   "name": "python",
   "nbconvert_exporter": "python",
   "pygments_lexer": "ipython3",
   "version": "3.11.5"
  }
 },
 "nbformat": 4,
 "nbformat_minor": 5
}
