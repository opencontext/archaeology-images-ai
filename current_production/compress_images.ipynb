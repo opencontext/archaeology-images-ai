{
 "cells": [
  {
   "cell_type": "code",
   "execution_count": 1,
   "id": "80783ff7-1658-43b9-823a-7e8de1596f8c",
   "metadata": {},
   "outputs": [
    {
     "name": "stdout",
     "output_type": "stream",
     "text": [
      "Compressed [17614 of 17614]: /home/ekansa/github/archaeology-images-ai/files/testing/f1834bad-e33e-4131-45a7-81af50ab5a3c.jpgg\r"
     ]
    }
   ],
   "source": [
    "from PIL import Image\n",
    "import os\n",
    "\n",
    "\n",
    "repo_path = os.path.dirname(os.path.abspath(os.getcwd()))\n",
    "\n",
    "# Set the input and output directory\n",
    "train_files = os.path.join(repo_path, 'files', 'training')\n",
    "test_files = os.path.join(repo_path, 'files', 'testing')\n",
    "\n",
    "# Set the compression quality (1 to 95, 95 being the highest quality)\n",
    "compression_quality = 50  # Adjust as needed\n",
    "\n",
    "\n",
    "def increase_jpg_commpression(dir_path, compression_quality=50):\n",
    "    # Get a list of all JPEG files in the input directory\n",
    "    jpeg_files = [f for f in os.listdir(dir_path) if f.lower().endswith('.jpg')]\n",
    "    i = 0\n",
    "    total = len(jpeg_files)\n",
    "    for jpeg_file in jpeg_files:\n",
    "        i += 1\n",
    "        file_path = os.path.join(dir_path, jpeg_file)\n",
    "        with Image.open(file_path) as img:\n",
    "            # Save the image with the desired compression quality\n",
    "            img.save(file_path, format='JPEG', quality=compression_quality)\n",
    "        print(f'Compressed [{i} of {total}]: {file_path}   ', end='\\r')\n",
    "\n",
    "increase_jpg_commpression(train_files)\n",
    "increase_jpg_commpression(test_files)"
   ]
  },
  {
   "cell_type": "code",
   "execution_count": null,
   "id": "ec947984-f874-4d0e-ad3e-59e8de4b03e2",
   "metadata": {},
   "outputs": [],
   "source": []
  }
 ],
 "metadata": {
  "kernelspec": {
   "display_name": "Python 3 (ipykernel)",
   "language": "python",
   "name": "python3"
  },
  "language_info": {
   "codemirror_mode": {
    "name": "ipython",
    "version": 3
   },
   "file_extension": ".py",
   "mimetype": "text/x-python",
   "name": "python",
   "nbconvert_exporter": "python",
   "pygments_lexer": "ipython3",
   "version": "3.11.5"
  }
 },
 "nbformat": 4,
 "nbformat_minor": 5
}
