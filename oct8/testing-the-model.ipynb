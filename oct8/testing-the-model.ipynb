{
 "cells": [
  {
   "cell_type": "code",
   "execution_count": 27,
   "id": "ab15c310-c786-49e9-b853-b6b596917ae5",
   "metadata": {},
   "outputs": [
    {
     "name": "stdout",
     "output_type": "stream",
     "text": [
      "\u001b[?25lEmbedding  [####################################]  100%          \u001b[?25h\n"
     ]
    }
   ],
   "source": [
    "# so.... have we trained anything?\n",
    "# create the embeddings\n",
    "!llm embed-multi photos --files testing/ '*.jpg' --binary -m clip"
   ]
  },
  {
   "cell_type": "code",
   "execution_count": 28,
   "id": "22d94cad-da2e-4c63-a245-102814efb9cc",
   "metadata": {},
   "outputs": [
    {
     "name": "stdout",
     "output_type": "stream",
     "text": [
      "{\"id\": \"AIA-1684I_flip.jpg\", \"score\": 0.34357732035701444, \"content\": null, \"metadata\": null}\n",
      "{\"id\": \"AIA-1732I_reflect.jpg\", \"score\": 0.3394416804090219, \"content\": null, \"metadata\": null}\n",
      "{\"id\": \"AIA-1684I.jpg\", \"score\": 0.33879859382134736, \"content\": null, \"metadata\": null}\n",
      "{\"id\": \"AIA-939E_reflect.jpg\", \"score\": 0.3376331366113959, \"content\": null, \"metadata\": null}\n",
      "{\"id\": \"AIA-1737I_reflect.jpg\", \"score\": 0.3371126139683739, \"content\": null, \"metadata\": null}\n",
      "{\"id\": \"3777E_flip.jpg\", \"score\": 0.33452711247731864, \"content\": null, \"metadata\": null}\n",
      "{\"id\": \"AIA-1031E_flip.jpg\", \"score\": 0.33388824247009524, \"content\": null, \"metadata\": null}\n",
      "{\"id\": \"3734E_rotate.jpg\", \"score\": 0.3324093974287063, \"content\": null, \"metadata\": null}\n",
      "{\"id\": \"AIA-939E.jpg\", \"score\": 0.3320815627512272, \"content\": null, \"metadata\": null}\n",
      "{\"id\": \"AIA-1715I.jpg\", \"score\": 0.33165876151110174, \"content\": null, \"metadata\": null}\n"
     ]
    }
   ],
   "source": [
    "!llm similar photos -c 'pottery dating to 300 BCE from Sardis'"
   ]
  },
  {
   "cell_type": "markdown",
   "id": "9de8feb0-ed65-4cec-ab3e-0a13ed07fe36",
   "metadata": {},
   "source": [
    "AIA-1684I \"archaeology artifact Pottery Asia Turkey Kinet 1500 BCE to 300 BCE jars Description, general form: jar\"\n",
    "\n",
    "AIA-1732I \"archaeology artifact Pottery Asia Turkey Sardis 1200 BCE to 200 BCE NAA Analysed: No \\n Ware Type: buff \\n Form: lydion\"\n",
    "\n",
    "AIA-939 \"archaeology artifact Pottery Asia Turkey Sardis 1200 BCE to 200 BCE Sample Type: Pottery\"\n"
   ]
  },
  {
   "cell_type": "code",
   "execution_count": 32,
   "id": "a56af458-83d6-4645-8afb-c93a04a5adbe",
   "metadata": {},
   "outputs": [
    {
     "name": "stdout",
     "output_type": "stream",
     "text": [
      "{\"id\": \"opencontext-1-dscn2251jpg.jpg\", \"score\": 0.35199532704006287, \"content\": null, \"metadata\": null}\n",
      "{\"id\": \"opencontext-1-dscn1758jpg_rotate.jpg\", \"score\": 0.34704585236576163, \"content\": null, \"metadata\": null}\n",
      "{\"id\": \"opencontext-1-dscn1524jpg_flip.jpg\", \"score\": 0.3465185820091067, \"content\": null, \"metadata\": null}\n",
      "{\"id\": \"opencontext-1-dt5130rev1jpg_rotate.jpg\", \"score\": 0.34488286700138066, \"content\": null, \"metadata\": null}\n",
      "{\"id\": \"opencontext-1-dt5130rev1jpg_reflect.jpg\", \"score\": 0.3425514677038847, \"content\": null, \"metadata\": null}\n",
      "{\"id\": \"opencontext-1-dscn2213jpg.jpg\", \"score\": 0.3425461493010073, \"content\": null, \"metadata\": null}\n",
      "{\"id\": \"opencontext-1-dscn1524jpg_reflect.jpg\", \"score\": 0.34207233471155324, \"content\": null, \"metadata\": null}\n",
      "{\"id\": \"opencontext-1-dscn1524jpg.jpg\", \"score\": 0.3401854239939257, \"content\": null, \"metadata\": null}\n",
      "{\"id\": \"opencontext-1-dt5130rev1jpg.jpg\", \"score\": 0.33977131905886915, \"content\": null, \"metadata\": null}\n",
      "{\"id\": \"opencontext-1-dscn1542jpg.jpg\", \"score\": 0.33926429763431504, \"content\": null, \"metadata\": null}\n"
     ]
    }
   ],
   "source": [
    "!llm similar photos -c 'a Roman coin from Poggio Civitate'"
   ]
  },
  {
   "cell_type": "markdown",
   "id": "0a05c2ac-7b60-4643-81d9-a9a4e74e8432",
   "metadata": {},
   "source": [
    "opencontext-1-dscn2251: \"archaeology artifact Coin Asia Turkey Domuztepe 6500 BCE to 5500 BCE coins (money) billon Artifact Name: Coin \\n Material: Billon \\n Initials: EM \\n Conservation: no \\n Mint: SMKS\"\n",
    "\n",
    "opencontext-1-dscn1758: \"archaeology artifact Coin Asia Turkey Domuztepe 6500 BCE to 5500 BCE coins (money) billon Theline/Col. Arelate/Constantina Artifact Name: Coin \\n Material: Billon \\n Initials: EM \\n Conservation: no \\n Mint: PARL Arles\"\n",
    "\n",
    "ropencontext-1-dscn1524: \"archaeology artifact Coin Asia Turkey Domuztepe 6500 BCE to 5500 BCE coins (money) billon Byzantium Artifact Name: Coin \\n Material: Billon \\n Initials: EM \\n Conservation: no \\n Mint: CONS\\u0404 Constantinopl\n",
    "\n",
    "\n"
   ]
  },
  {
   "cell_type": "markdown",
   "id": "1b2cfd14-1894-4859-a736-d62bf6c63321",
   "metadata": {},
   "source": [
    "opencontext-104-1871\n",
    "<img src=\"similarimages/a-coin-from-opencontext-104-1871.jpg\">"
   ]
  },
  {
   "cell_type": "code",
   "execution_count": 30,
   "id": "b9b1298e-e2ab-4988-947d-7511abef0852",
   "metadata": {},
   "outputs": [
    {
     "name": "stdout",
     "output_type": "stream",
     "text": [
      "{\"id\": \"opencontext-1-photo3-dt-2780_reflect.jpg\", \"score\": 0.9148210650631351, \"content\": null, \"metadata\": null}\n",
      "{\"id\": \"opencontext-1-photo3-dt-2780.jpg\", \"score\": 0.901555462041486, \"content\": null, \"metadata\": null}\n",
      "{\"id\": \"opencontext-1-photo2-dt-2932_reflect.jpg\", \"score\": 0.8959968725831109, \"content\": null, \"metadata\": null}\n",
      "{\"id\": \"opencontext-1-photo3-dt-2780_flip.jpg\", \"score\": 0.8958097677449768, \"content\": null, \"metadata\": null}\n",
      "{\"id\": \"opencontext-1-photo3-dt-2780_rotate.jpg\", \"score\": 0.8900200494058103, \"content\": null, \"metadata\": null}\n",
      "{\"id\": \"opencontext-1-photo2-dt-2932_flip.jpg\", \"score\": 0.8865186090333714, \"content\": null, \"metadata\": null}\n",
      "{\"id\": \"opencontext-1-photo-dt-1076_reflect.jpg\", \"score\": 0.8838147187359966, \"content\": null, \"metadata\": null}\n",
      "{\"id\": \"opencontext-1-photo2-dt-2932.jpg\", \"score\": 0.8814565401812163, \"content\": null, \"metadata\": null}\n",
      "{\"id\": \"opencontext-1-photo-dt-1076.jpg\", \"score\": 0.8761373161553099, \"content\": null, \"metadata\": null}\n",
      "{\"id\": \"opencontext-1-photo-dt-1076_flip.jpg\", \"score\": 0.8731148676938593, \"content\": null, \"metadata\": null}\n"
     ]
    }
   ],
   "source": [
    "!llm similar photos -i similarimages/a-coin-from-opencontext-104-1871.jpg --binary"
   ]
  },
  {
   "cell_type": "markdown",
   "id": "fc428a3c-c428-46bc-b1be-e4a521d11e52",
   "metadata": {},
   "source": [
    "opencontext-1-photo3-dt-2780\n",
    "<img src=\"similarimages/opencontext-1-photo3-dt-2780_reflect.jpg\">\n",
    "\n",
    "opencontext-1-photo2-dt-2932\n",
    "<img src=\"similarimages/opencontext-1-photo2-dt-2932_reflect.jpg\">"
   ]
  }
 ],
 "metadata": {
  "kernelspec": {
   "display_name": "Python 3 (ipykernel)",
   "language": "python",
   "name": "python3"
  },
  "language_info": {
   "codemirror_mode": {
    "name": "ipython",
    "version": 3
   },
   "file_extension": ".py",
   "mimetype": "text/x-python",
   "name": "python",
   "nbconvert_exporter": "python",
   "pygments_lexer": "ipython3",
   "version": "3.11.5"
  }
 },
 "nbformat": 4,
 "nbformat_minor": 5
}
