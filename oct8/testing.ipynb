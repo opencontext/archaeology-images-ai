{
 "cells": [
  {
   "cell_type": "markdown",
   "id": "5eeec1a8-efd5-431d-832a-208d61841f3a",
   "metadata": {},
   "source": [
    "## LLM Clip\n",
    "\n",
    "https://github.com/simonw/llm-clip\n",
    "\n",
    "requires LLM: https://llm.datasette.io/en/stable/\n",
    "\n",
    "So: \n",
    "\n",
    "```\n",
    "$ pip install llm\n",
    "$ llm install llm-clip\n",
    "```\n",
    "\n",
    "Then, assuming you are doing this in an environment (I create mine with conda), find the site packages directory, and the llm-clip.py file. `/Users/shawngraham/mambaforge/envs/clip/lib/python3.10/site-packages` is where mine hides.\n",
    "\n",
    "Change\n",
    "\n",
    "```\n",
    "if self._model is None:\n",
    "   self._model = SentenceTransformer('clip-ViT-B-32')\n",
    "```\n",
    "to point to your new model, like so: \n",
    "\n",
    "```\n",
    "    def embed_batch(self, items):\n",
    "        # Embeds a mix of text strings and binary images\n",
    "        if self._model is None:\n",
    "            self._model = SentenceTransformer('/path/to/your/retrained-model')\n",
    "```\n",
    "\n",
    "The folder with your model should contain a pytorch_model.bin and config.json inside a _subfolder_ called `0CLIP_Model`. You will need the extra json files and so on from here https://huggingface.co/sentence-transformers/clip-ViT-B-32/tree/main . You _need_ all those .json files, arranged that way. And since you're not otherwise futzing with the basic CLIP-ness, it should be ok. \n",
    "\n",
    "Once you create your embeddings, these will be in your `~Library/Application Support/io.datasette.llm` folder."
   ]
  },
  {
   "cell_type": "code",
   "execution_count": 5,
   "id": "f720dbac-8b0b-441b-a1a6-5cccf432774b",
   "metadata": {},
   "outputs": [
    {
     "name": "stdout",
     "output_type": "stream",
     "text": [
      "\u001b[?25lEmbedding  [####################################]  100%\u001b[?25h\n"
     ]
    }
   ],
   "source": [
    "#turn your test images into embeddings\n",
    "!llm embed-multi photos --files testing/ '*.jpg' --binary -m clip"
   ]
  },
  {
   "cell_type": "code",
   "execution_count": 72,
   "id": "8a91d1a5-5289-44db-8adb-973c1196a99e",
   "metadata": {},
   "outputs": [],
   "source": [
    "# functions to look up images and captions from the results of llm search\n",
    "import subprocess\n",
    "import json\n",
    "import IPython.display as display\n",
    "\n",
    "def get_similar_ideas(query):\n",
    "    # Construct the command\n",
    "    cmd = f'llm similar photos -c \"{query}\"'\n",
    "    \n",
    "    # Execute the command and retrieve its output\n",
    "    output = subprocess.check_output(cmd, shell=True)\n",
    "    \n",
    "    # Since the output is a bytes object, decode it to convert it to a string\n",
    "    output_str = output.decode()\n",
    "    \n",
    "    # Split the output by lines and parse each line as JSON\n",
    "    results = [json.loads(line) for line in output_str.split('\\n') if line.strip()]\n",
    "    \n",
    "    # Return the parsed output\n",
    "    return results\n",
    "\n",
    "def get_similar_images(query):\n",
    "    # Construct the command\n",
    "    cmd = f'llm similar photos -i \"{query}\" --binary'\n",
    " \n",
    "    # Execute the command and retrieve its output\n",
    "    output = subprocess.check_output(cmd, shell=True)\n",
    "    \n",
    "    # Since the output is a bytes object, decode it to convert it to a string\n",
    "    output_str = output.decode()\n",
    "    \n",
    "    # Split the output by lines and parse each line as JSON\n",
    "    results = [json.loads(line) for line in output_str.split('\\n') if line.strip()]\n",
    "    \n",
    "    # Return the parsed output\n",
    "    return results\n",
    "\n",
    "def get_image_metadata(image_ids):\n",
    "    \"Reads the json file and retrieves the metadata for the given image ids\"\n",
    "    metadata = {}\n",
    "    with open('test.json', 'r') as f:\n",
    "        for line in f:\n",
    "            data = json.loads(line)\n",
    "            if data['image'].replace(\"\\\\\", \"\") in image_ids:\n",
    "                metadata[data['image'].replace(\"\\\\\", \"\")] = data['caption']\n",
    "                \n",
    "    return metadata\n",
    "\n",
    "def display_similar_ideas(query):\n",
    "    \"Fetches similar ideas using the llm package and displays them with captions\"\n",
    "    similar_images = get_similar_ideas(query)\n",
    "    image_ids = [\"testing/\" + img['id'] for img in similar_images]\n",
    "    image_metadata = get_image_metadata(image_ids)\n",
    "    html_str = ''\n",
    "    for img in similar_images:\n",
    "        image_id = \"testing/\" + img['id']  # Adding \"testing/\" here\n",
    "        score = img['score']\n",
    "        caption = image_metadata.get(image_id, '')  # Now this should retrieve the correct caption\n",
    "        \n",
    "        src = image_id  # image_id now contains 'testing/'\n",
    "        url_id = img['id'].split('.jpg')[0]  # This will remove the '.jpg' from the image id\n",
    "        url = \"https://opencontext.org/media/\" + url_id  # Create the URL by concatenating the base URL and the image id (without 'testing/' and '.jpg')\n",
    "        \n",
    "        html_str += f'<div><img src=\"{src}\" width=25% alt=\"Image not found\"> <p><strong>Score:</strong> {score}</p><p><strong>Caption:</strong> {caption}</p><p><a href=\"{url}\">Link to full record</a></p></div>'\n",
    "    display.display(display.HTML(html_str))\n",
    "\n",
    "def display_similar_images(query):\n",
    "    \"Fetches similar ideas using the llm package and displays them with captions\"\n",
    "    similar_images = get_similar_images(query)\n",
    "    image_ids = [\"testing/\" + img['id'] for img in similar_images]\n",
    "    image_metadata = get_image_metadata(image_ids)\n",
    "    html_str = ''\n",
    "    for img in similar_images:\n",
    "        image_id = \"testing/\" + img['id']  # Adding \"testing/\" here\n",
    "        score = img['score']\n",
    "        caption = image_metadata.get(image_id, '')  # Now this should retrieve the correct caption\n",
    "        \n",
    "        src = image_id  # image_id now contains 'testing/'\n",
    "        url_id = img['id'].split('.jpg')[0]  # This will remove the '.jpg' from the image id\n",
    "        url = \"https://opencontext.org/media/\" + url_id  # Create the URL by concatenating the base URL and the image id (without 'testing/' and '.jpg')\n",
    "        \n",
    "        html_str += f'<div><img src=\"{src}\" width=25% alt=\"Image not found\"> <p><strong>Score:</strong> {score}</p><p><strong>Caption:</strong> {caption}</p><p><a href=\"{url}\">Link to full record</a></p></div>'\n",
    "    display.display(display.HTML(html_str))"
   ]
  },
  {
   "cell_type": "code",
   "execution_count": 73,
   "id": "e813c3fb-3e33-490f-b1f2-c3bb9173b567",
   "metadata": {
    "scrolled": true
   },
   "outputs": [
    {
     "data": {
      "text/html": [
       "<div><img src=\"testing/b3911efe-1222-42ff-3c1f-3c38b9a096e7.jpg\" width=25% alt=\"Image not found\"> <p><strong>Score:</strong> 0.2789272029993125</p><p><strong>Caption:</strong> A photograph of terracotta   Terracotta   terracotta  clay material   Chronology  Securely Orientalizing \n",
       " Fragment Noted  true \n",
       " Fabric Category  Terracotta \n",
       " Object Type  Architectural  Cover Tile \n",
       " Decorative Technique  Inscribed \n",
       " Conservation Action  cleaned \n",
       " Conservation Material  No Value      dating to 700 BCE to 535 BCE from Europe  Italy  Poggio Civitate</p><p><a href=\"https://opencontext.org/media/b3911efe-1222-42ff-3c1f-3c38b9a096e7\">Link to full record</a></p></div><div><img src=\"testing/14bad3c6-b90d-4519-d447-7ebc881644ac.jpg\" width=25% alt=\"Image not found\"> <p><strong>Score:</strong> 0.26817087582387816</p><p><strong>Caption:</strong> A photograph of terracotta   Terracotta   terracotta  clay material   Fragment Noted  true \n",
       " Fabric Category  Terracotta \n",
       " Object Type  Architectural  Akroterion \n",
       " Decorative Technique  Incised dating to 700 BCE to 535 BCE from Europe  Italy  Poggio Civitate</p><p><a href=\"https://opencontext.org/media/14bad3c6-b90d-4519-d447-7ebc881644ac\">Link to full record</a></p></div><div><img src=\"testing/e23380c7-84b6-4004-df89-6db296447d7b.jpg\" width=25% alt=\"Image not found\"> <p><strong>Score:</strong> 0.24755770080931133</p><p><strong>Caption:</strong> A photograph of   City Dynasty  Gallienus \n",
       " Metal Description  Bronze \n",
       " Metal  AE dating to 200 BCE to 360 from Asia  Jordan  Petra Great Temple</p><p><a href=\"https://opencontext.org/media/e23380c7-84b6-4004-df89-6db296447d7b\">Link to full record</a></p></div><div><img src=\"testing/8fd44c48-d354-46f7-ab6f-5bac4730dba0.jpg\" width=25% alt=\"Image not found\"> <p><strong>Score:</strong> 0.2414644404658664</p><p><strong>Caption:</strong> A photograph of plaster   plaster  Fragment Noted  true \n",
       " Fabric Category  Plaster \n",
       " Object Type  Architectural  Unspecified   Misc  \n",
       " Conservation Action  cleaned \n",
       " Conservation Material  No Value      dating to 700 BCE to 535 BCE from Europe  Italy  Poggio Civitate</p><p><a href=\"https://opencontext.org/media/8fd44c48-d354-46f7-ab6f-5bac4730dba0\">Link to full record</a></p></div><div><img src=\"testing/2f14ee79-3080-4ea6-6de6-17595133fde5.jpg\" width=25% alt=\"Image not found\"> <p><strong>Score:</strong> 0.2298599183969789</p><p><strong>Caption:</strong> A photograph of   References  Illegible  \n",
       " Culture  Uncertain dating to 200 BCE to 360 from Asia  Jordan  Petra Great Temple</p><p><a href=\"https://opencontext.org/media/2f14ee79-3080-4ea6-6de6-17595133fde5\">Link to full record</a></p></div><div><img src=\"testing/9e7df256-9077-4c5d-880c-0bc2f88a925d.jpg\" width=25% alt=\"Image not found\"> <p><strong>Score:</strong> 0.22402634891746342</p><p><strong>Caption:</strong> A photograph of bucchero ware   Bucchero  Fragment Noted  false \n",
       " Fabric Category  Bucchero \n",
       " Motif  Dots \n",
       " Object Type  Vessel \n",
       " Decorative Technique  Incised \n",
       " Vessel Form  Form unspecified dating to 700 BCE to 535 BCE from Europe  Italy  Poggio Civitate</p><p><a href=\"https://opencontext.org/media/9e7df256-9077-4c5d-880c-0bc2f88a925d\">Link to full record</a></p></div><div><img src=\"testing/dbf8cf07-9772-42ad-51e6-c4ac0f6de2e4.jpg\" width=25% alt=\"Image not found\"> <p><strong>Score:</strong> 0.222127526562314</p><p><strong>Caption:</strong> A photograph of pottery  Fragment Noted  true \n",
       " Fabric Category  Impasto \n",
       " Object Type  Textile Related  Rocchetto \n",
       " Conservation Action  cleaned   inhibited   rinsed   degreased   desiccated   coated \n",
       " Conservation Material  No Value        acetone   alcohol   benzotriazole   Acryloid B 72   fumed silica dating to 700 BCE to 535 BCE from Europe  Italy  Poggio Civitate</p><p><a href=\"https://opencontext.org/media/dbf8cf07-9772-42ad-51e6-c4ac0f6de2e4\">Link to full record</a></p></div><div><img src=\"testing/dada1acc-bf3d-47c8-f16b-a79741757962.jpg\" width=25% alt=\"Image not found\"> <p><strong>Score:</strong> 0.20936383669653028</p><p><strong>Caption:</strong> A photograph of pottery   ceramic  material   Chronology  Securely Orientalizing \n",
       " Fragment Noted  false \n",
       " Fabric Category  Coarse Ware \n",
       " Object Type  Vessel \n",
       " Decorative Technique  Inscribed \n",
       " Vessel Form  Form unspecified \n",
       " Conservation Action  cleaned \n",
       " Conservation Material  No Value      dating to 700 BCE to 535 BCE from Europe  Italy  Poggio Civitate</p><p><a href=\"https://opencontext.org/media/dada1acc-bf3d-47c8-f16b-a79741757962\">Link to full record</a></p></div><div><img src=\"testing/0876074f-4a5b-4803-996b-84d0879338cb.jpg\" width=25% alt=\"Image not found\"> <p><strong>Score:</strong> 0.20799718670287504</p><p><strong>Caption:</strong> A photograph of terracotta   Terracotta   terracotta  clay material   Chronology  Securely Archaic \n",
       " Fragment Noted  true \n",
       " Fabric Category  Terracotta \n",
       " Object Type  Architectural  Akroterion dating to 700 BCE to 535 BCE from Europe  Italy  Poggio Civitate</p><p><a href=\"https://opencontext.org/media/0876074f-4a5b-4803-996b-84d0879338cb\">Link to full record</a></p></div><div><img src=\"testing/6580949e-d14e-4125-1586-65ddfee0c10d.jpg\" width=25% alt=\"Image not found\"> <p><strong>Score:</strong> 0.1786043914170174</p><p><strong>Caption:</strong> A photograph of terracotta   Terracotta   terracotta  clay material   Fragment Noted  true \n",
       " Fabric Category  Terracotta \n",
       " Object Type  Vessel \n",
       " Vessel Form  Cooking stand dating to 700 BCE to 535 BCE from Europe  Italy  Poggio Civitate</p><p><a href=\"https://opencontext.org/media/6580949e-d14e-4125-1586-65ddfee0c10d\">Link to full record</a></p></div>"
      ],
      "text/plain": [
       "<IPython.core.display.HTML object>"
      ]
     },
     "metadata": {},
     "output_type": "display_data"
    }
   ],
   "source": [
    "query = \"terracotta tile from 600 BCE\"\n",
    "display_similar_ideas(query)"
   ]
  },
  {
   "cell_type": "code",
   "execution_count": 71,
   "id": "d3056630-31cb-4698-84f6-79f67dc0c28b",
   "metadata": {},
   "outputs": [
    {
     "data": {
      "text/html": [
       "<div><img src=\"testing/b3911efe-1222-42ff-3c1f-3c38b9a096e7.jpg\" width=25% alt=\"Image not found\"> <p><strong>Score:</strong> 0.9999999999997915</p><p><strong>Caption:</strong> A photograph of terracotta   Terracotta   terracotta  clay material   Chronology  Securely Orientalizing \n",
       " Fragment Noted  true \n",
       " Fabric Category  Terracotta \n",
       " Object Type  Architectural  Cover Tile \n",
       " Decorative Technique  Inscribed \n",
       " Conservation Action  cleaned \n",
       " Conservation Material  No Value      dating to 700 BCE to 535 BCE from Europe  Italy  Poggio Civitate</p><p><a href=\"https://opencontext.org/media/b3911efe-1222-42ff-3c1f-3c38b9a096e7\">Link to image</a></p></div><div><img src=\"testing/dada1acc-bf3d-47c8-f16b-a79741757962.jpg\" width=25% alt=\"Image not found\"> <p><strong>Score:</strong> 0.8163187076590892</p><p><strong>Caption:</strong> A photograph of pottery   ceramic  material   Chronology  Securely Orientalizing \n",
       " Fragment Noted  false \n",
       " Fabric Category  Coarse Ware \n",
       " Object Type  Vessel \n",
       " Decorative Technique  Inscribed \n",
       " Vessel Form  Form unspecified \n",
       " Conservation Action  cleaned \n",
       " Conservation Material  No Value      dating to 700 BCE to 535 BCE from Europe  Italy  Poggio Civitate</p><p><a href=\"https://opencontext.org/media/dada1acc-bf3d-47c8-f16b-a79741757962\">Link to image</a></p></div><div><img src=\"testing/14bad3c6-b90d-4519-d447-7ebc881644ac.jpg\" width=25% alt=\"Image not found\"> <p><strong>Score:</strong> 0.8020135028427878</p><p><strong>Caption:</strong> A photograph of terracotta   Terracotta   terracotta  clay material   Fragment Noted  true \n",
       " Fabric Category  Terracotta \n",
       " Object Type  Architectural  Akroterion \n",
       " Decorative Technique  Incised dating to 700 BCE to 535 BCE from Europe  Italy  Poggio Civitate</p><p><a href=\"https://opencontext.org/media/14bad3c6-b90d-4519-d447-7ebc881644ac\">Link to image</a></p></div><div><img src=\"testing/8f3c502f-2844-4c87-e681-a40ce29d2750.jpg\" width=25% alt=\"Image not found\"> <p><strong>Score:</strong> 0.7375664510455504</p><p><strong>Caption:</strong> A photograph of terracotta   Terracotta   terracotta  clay material   Fragment Noted  true \n",
       " Fabric Category  Terracotta \n",
       " Object Type  Architectural  Cover Tile \n",
       " Decorative Technique  Inscribed \n",
       " Conservation Action  cleaned   consolidated   adhered   filled \n",
       " Conservation Material  acetone   Acryloid B 72   Acryloid B 48   alcohol   glass microballoons   acrylic paint dating to 700 BCE to 535 BCE from Europe  Italy  Poggio Civitate</p><p><a href=\"https://opencontext.org/media/8f3c502f-2844-4c87-e681-a40ce29d2750\">Link to image</a></p></div><div><img src=\"testing/e23380c7-84b6-4004-df89-6db296447d7b.jpg\" width=25% alt=\"Image not found\"> <p><strong>Score:</strong> 0.6953365776944953</p><p><strong>Caption:</strong> A photograph of   City Dynasty  Gallienus \n",
       " Metal Description  Bronze \n",
       " Metal  AE dating to 200 BCE to 360 from Asia  Jordan  Petra Great Temple</p><p><a href=\"https://opencontext.org/media/e23380c7-84b6-4004-df89-6db296447d7b\">Link to image</a></p></div><div><img src=\"testing/dbf8cf07-9772-42ad-51e6-c4ac0f6de2e4.jpg\" width=25% alt=\"Image not found\"> <p><strong>Score:</strong> 0.6779623686714801</p><p><strong>Caption:</strong> A photograph of pottery  Fragment Noted  true \n",
       " Fabric Category  Impasto \n",
       " Object Type  Textile Related  Rocchetto \n",
       " Conservation Action  cleaned   inhibited   rinsed   degreased   desiccated   coated \n",
       " Conservation Material  No Value        acetone   alcohol   benzotriazole   Acryloid B 72   fumed silica dating to 700 BCE to 535 BCE from Europe  Italy  Poggio Civitate</p><p><a href=\"https://opencontext.org/media/dbf8cf07-9772-42ad-51e6-c4ac0f6de2e4\">Link to image</a></p></div><div><img src=\"testing/adbe4f38-feaf-4736-1f0a-c6d74ca30ebb.jpg\" width=25% alt=\"Image not found\"> <p><strong>Score:</strong> 0.6368519156703306</p><p><strong>Caption:</strong> A photograph of   Material  Stone dating to  from Asia  Turkey  Kenan Tepe</p><p><a href=\"https://opencontext.org/media/adbe4f38-feaf-4736-1f0a-c6d74ca30ebb\">Link to image</a></p></div><div><img src=\"testing/6cca19e7-f439-44ef-f103-1572e661b0da.jpg\" width=25% alt=\"Image not found\"> <p><strong>Score:</strong> 0.634363023739497</p><p><strong>Caption:</strong> A photograph of   Material  Lithics dating to 3600 BCE to 2900 BCE from Asia  Turkey  Kenan Tepe</p><p><a href=\"https://opencontext.org/media/6cca19e7-f439-44ef-f103-1572e661b0da\">Link to image</a></p></div><div><img src=\"testing/7f2d4993-53f9-4ffe-652c-ad1c19605311.jpg\" width=25% alt=\"Image not found\"> <p><strong>Score:</strong> 0.5840334214663516</p><p><strong>Caption:</strong> A photograph of pottery  Fragment Noted  false \n",
       " Fabric Category  Orange Ware \n",
       " Object Type  Vessel \n",
       " Vessel Form  Form unspecified dating to 700 BCE to 535 BCE from Europe  Italy  Poggio Civitate</p><p><a href=\"https://opencontext.org/media/7f2d4993-53f9-4ffe-652c-ad1c19605311\">Link to image</a></p></div><div><img src=\"testing/0114fbbf-d55a-48bc-6a6f-a373818c6f28.jpg\" width=25% alt=\"Image not found\"> <p><strong>Score:</strong> 0.5528653455186067</p><p><strong>Caption:</strong> A photograph of plaster   plaster  Fragment Noted  true \n",
       " Fabric Category  Plaster \n",
       " Object Type  Architectural  Unspecified   Misc  \n",
       " Conservation Action  cleaned \n",
       " Conservation Material  alcohol dating to 535 BCE to 50 BCE from Europe  Italy  Vescovado di Murlo</p><p><a href=\"https://opencontext.org/media/0114fbbf-d55a-48bc-6a6f-a373818c6f28\">Link to image</a></p></div>"
      ],
      "text/plain": [
       "<IPython.core.display.HTML object>"
      ]
     },
     "metadata": {},
     "output_type": "display_data"
    }
   ],
   "source": [
    "#pass a photo and see what you get\n",
    "\n",
    "query = \"testing/b3911efe-1222-42ff-3c1f-3c38b9a096e7.jpg\"\n",
    "display_similar_images(query)"
   ]
  },
  {
   "cell_type": "code",
   "execution_count": null,
   "id": "7d2d6f29-1a3e-4c1f-adb1-d287599a7298",
   "metadata": {},
   "outputs": [],
   "source": []
  }
 ],
 "metadata": {
  "kernelspec": {
   "display_name": "Python 3 (ipykernel)",
   "language": "python",
   "name": "python3"
  },
  "language_info": {
   "codemirror_mode": {
    "name": "ipython",
    "version": 3
   },
   "file_extension": ".py",
   "mimetype": "text/x-python",
   "name": "python",
   "nbconvert_exporter": "python",
   "pygments_lexer": "ipython3",
   "version": "3.10.12"
  }
 },
 "nbformat": 4,
 "nbformat_minor": 5
}
