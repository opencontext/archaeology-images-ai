{
 "cells": [
  {
   "cell_type": "markdown",
   "id": "3bc9be6f-f61e-4f3e-8f53-48150e2ad6bd",
   "metadata": {},
   "source": [
    "https://github.com/elsevierlabs-os/clip-image-search/tree/main"
   ]
  },
  {
   "cell_type": "code",
   "execution_count": null,
   "id": "3c7cbccf-4a5c-4125-b1cf-293ad39e26c9",
   "metadata": {},
   "outputs": [],
   "source": [
    "!pip install ftfy pyperclip spacy torch torchvision transformers"
   ]
  },
  {
   "cell_type": "code",
   "execution_count": null,
   "id": "19060582-9df2-4c6a-a499-619ec8de679c",
   "metadata": {},
   "outputs": [
    {
     "name": "stderr",
     "output_type": "stream",
     "text": [
      "/var/folders/0k/0xq4y1q92k163n98ldpb168c0000gn/T/ipykernel_22902/1265293837.py:8: DtypeWarning: Columns (25,31,32,33,34,37,38) have mixed types. Specify dtype option on import or set low_memory=False.\n",
      "  data = pd.read_csv('/Users/shawngraham/Documents/code-experiments/llm-commandline/archaeology-images-ai/csv_data/artifact_images_w_descriptions.csv')\n"
     ]
    },
    {
     "name": "stdout",
     "output_type": "stream",
     "text": [
      "An error occurred while fetching: https://iiif.archivelab.org/iiif/opencontext-22-c-3-3068-6-1-p-5jpg/full/675,/0/default.jpg\n"
     ]
    }
   ],
   "source": [
    "import os\n",
    "import pandas as pd\n",
    "import requests\n",
    "import time\n",
    "from requests.exceptions import Timeout\n",
    "\n",
    "# Load the csv file\n",
    "data = pd.read_csv('/Users/shawngraham/Documents/code-experiments/llm-commandline/archaeology-images-ai/csv_data/artifact_images_w_descriptions.csv')\n",
    "\n",
    "# Filter the dataset to content with image_file__uri\n",
    "image_data = data[data['image_file__uri'].notna()]\n",
    "\n",
    "# Reset index before split to ensure unique indices\n",
    "image_data = image_data.reset_index(drop=True)\n",
    "\n",
    "# Randomly select 10% for training, 10% for testing and 80% for validation\n",
    "train_data = image_data.sample(frac=0.001, random_state=42) #small number for now just to get the flow right\n",
    "remaining_data = image_data.drop(train_data.index)\n",
    "test_data = remaining_data.sample(frac=0.001, random_state=42)  # 10% of 90% remaining data\n",
    "remaining_data = remaining_data.drop(test_data.index)\n",
    "validation_data = remaining_data.sample(frac=0.0005, random_state=42)  # 5% of 80% remaining data\n",
    "\n",
    "# Create metadata\n",
    "def create_metadata(data):\n",
    "    data['caption'] = (data['item__earliest'].fillna('').astype(str) + ', ' +\n",
    "                       data['item__latest'].fillna('').astype(str) + ', ' +\n",
    "                       data['context___1'].fillna('').astype(str) + ', ' +\n",
    "                       data['context___2'].fillna('').astype(str) + ', ' +\n",
    "                       data['context___3'].fillna('').astype(str) + ', ' +\n",
    "                       data['Consists of (Label) [https://erlangen-crm.org/current/P45_consists_of]'].fillna('').astype(str) + ', ' +\n",
    "                       data['project_specific_descriptions'].fillna('').astype(str))\n",
    "    return data\n",
    "\n",
    "train_data = create_metadata(train_data)\n",
    "test_data = create_metadata(test_data)\n",
    "validation_data = create_metadata(validation_data)\n",
    "\n",
    "# Create the main directories if they don't exist\n",
    "os.makedirs('ourimages/test/octest', exist_ok=True)\n",
    "os.makedirs('ourimages/training/octraining', exist_ok=True)\n",
    "os.makedirs('ourimages/validation/ocvalidation', exist_ok=True)\n",
    "\n",
    "datasets = [(train_data, 'ourimages/training/octraining/'), \n",
    "            (test_data, 'ourimages/test/octest/'), \n",
    "            (validation_data, 'ourimages/validation/ocvalidation/')]\n",
    "\n",
    "url_errors = []\n",
    "\n",
    "\n",
    "# Download images and save into respective folders\n",
    "for dataset in datasets:\n",
    "    data, folder = dataset\n",
    "    # Initialize 'image' column\n",
    "    data['image'] = \"\"\n",
    "    for index, row in data.iterrows():\n",
    "        url = row['image_file__uri']\n",
    "        extension = url.split('.')[-1]\n",
    "        media_uuid = row['media__uri'].split('/')[-1]\n",
    "        file_name = f'{media_uuid}.{extension}'\n",
    "        # Assign the 'file_name' to the 'image' column of the current row\n",
    "        data.loc[index, 'image'] = file_name\n",
    "        file_path = os.path.join(folder, file_name)\n",
    "\n",
    "        try:\n",
    "            response = requests.get(url, timeout=5)\n",
    "            response.raise_for_status()\n",
    "        except (requests.exceptions.RequestException, Timeout):\n",
    "            print(f'An error occurred while fetching: {url}')\n",
    "            url_errors.append(url)\n",
    "            continue\n",
    "\n",
    "        with open(file_path, 'wb') as img_file:\n",
    "            img_file.write(response.content)\n",
    "\n",
    "\n",
    "# Save captions as csv\n",
    "train_data[['image', 'caption']].to_csv('ourimages/training/octraining-Captions.csv', index=False)\n",
    "test_data[['image', 'caption']].to_csv('ourimages/test/octest-captions.txt', sep = \"\\t\", index=False)\n",
    "validation_data[['image', 'caption']].to_csv('ourimages/validation/ocvalidation-Captions.csv', index=False)"
   ]
  },
  {
   "cell_type": "code",
   "execution_count": null,
   "id": "32912aec-c26c-473e-b6bb-018e2dcdbe2f",
   "metadata": {},
   "outputs": [],
   "source": [
    "!python vectorize-images.py -baseline"
   ]
  },
  {
   "cell_type": "code",
   "execution_count": null,
   "id": "6f06901a-943f-4fc9-b684-7897c02f8c12",
   "metadata": {},
   "outputs": [],
   "source": [
    "!python train.py -train_configs/run1.cfg"
   ]
  }
 ],
 "metadata": {
  "kernelspec": {
   "display_name": "Python 3 (ipykernel)",
   "language": "python",
   "name": "python3"
  },
  "language_info": {
   "codemirror_mode": {
    "name": "ipython",
    "version": 3
   },
   "file_extension": ".py",
   "mimetype": "text/x-python",
   "name": "python",
   "nbconvert_exporter": "python",
   "pygments_lexer": "ipython3",
   "version": "3.11.5"
  }
 },
 "nbformat": 4,
 "nbformat_minor": 5
}
