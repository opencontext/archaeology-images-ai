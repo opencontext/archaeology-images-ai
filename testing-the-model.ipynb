{
 "cells": [
  {
   "cell_type": "code",
   "execution_count": 1,
   "id": "ab15c310-c786-49e9-b853-b6b596917ae5",
   "metadata": {},
   "outputs": [
    {
     "name": "stdout",
     "output_type": "stream",
     "text": [
      "\u001b[?25lEmbedding  [####################################]  100%\u001b[?25h\n"
     ]
    }
   ],
   "source": [
    "# so.... have we trained anything?\n",
    "# create the embeddings\n",
    "!llm embed-multi photos --files testing/ '*.jpg' --binary -m clip"
   ]
  },
  {
   "cell_type": "code",
   "execution_count": 2,
   "id": "22d94cad-da2e-4c63-a245-102814efb9cc",
   "metadata": {},
   "outputs": [
    {
     "name": "stdout",
     "output_type": "stream",
     "text": [
      "{\"id\": \"opencontext-10-coin-96-c-25-obverse.jpg\", \"score\": 0.16940166879853816, \"content\": null, \"metadata\": null}\n",
      "{\"id\": \"opencontext-24-20070123b.jpg\", \"score\": 0.1690054545348101, \"content\": null, \"metadata\": null}\n",
      "{\"id\": \"opencontext-24-19890124bhg.jpg\", \"score\": 0.167994081775449, \"content\": null, \"metadata\": null}\n",
      "{\"id\": \"opencontext-24-19820081e.jpg\", \"score\": 0.1664202710340268, \"content\": null, \"metadata\": null}\n",
      "{\"id\": \"opencontext-24-19800171bwb.jpg\", \"score\": 0.1656963180525694, \"content\": null, \"metadata\": null}\n",
      "{\"id\": \"opencontext-24-19760035-2009-001.jpg\", \"score\": 0.16533749502066725, \"content\": null, \"metadata\": null}\n",
      "{\"id\": \"pencontext-1-photo3-dt-722 .jpg\", \"score\": 0.1621323410453734, \"content\": null, \"metadata\": null}\n"
     ]
    }
   ],
   "source": [
    "!llm similar photos -c 'a small metal disc, probably a coin'"
   ]
  },
  {
   "cell_type": "markdown",
   "id": "58eba528-2c1c-436d-a234-7e033e803a99",
   "metadata": {},
   "source": [
    "# yes! yes that IS a coin!\n",
    "<img src=\"testing/opencontext-10-coin-96-c-25-obverse.jpg\" width=5%>"
   ]
  },
  {
   "cell_type": "code",
   "execution_count": 7,
   "id": "a56af458-83d6-4645-8afb-c93a04a5adbe",
   "metadata": {},
   "outputs": [
    {
     "name": "stdout",
     "output_type": "stream",
     "text": [
      "{\"id\": \"opencontext-24-20070123b.jpg\", \"score\": 0.17265999528380002, \"content\": null, \"metadata\": null}\n",
      "{\"id\": \"opencontext-10-coin-96-c-25-obverse.jpg\", \"score\": 0.17231149021509737, \"content\": null, \"metadata\": null}\n",
      "{\"id\": \"opencontext-24-19890124bhg.jpg\", \"score\": 0.1709791489632709, \"content\": null, \"metadata\": null}\n",
      "{\"id\": \"opencontext-24-19800171bwb.jpg\", \"score\": 0.16976116532193009, \"content\": null, \"metadata\": null}\n",
      "{\"id\": \"opencontext-24-19820081e.jpg\", \"score\": 0.16963857491071568, \"content\": null, \"metadata\": null}\n",
      "{\"id\": \"opencontext-24-19760035-2009-001.jpg\", \"score\": 0.16901017639213123, \"content\": null, \"metadata\": null}\n",
      "{\"id\": \"pencontext-1-photo3-dt-722 .jpg\", \"score\": 0.1663868786775763, \"content\": null, \"metadata\": null}\n"
     ]
    }
   ],
   "source": [
    "!llm similar photos -c 'a piece of pottery'"
   ]
  },
  {
   "cell_type": "markdown",
   "id": "7ccf6b09-1e46-4b3f-bf1f-e61f0a8fea88",
   "metadata": {},
   "source": [
    "# yes! yes that IS a piece of pottery!\n",
    "<img src=\"testing/opencontext-24-20070123b.jpg\" width=5%>"
   ]
  },
  {
   "cell_type": "code",
   "execution_count": 19,
   "id": "134d814f-ee64-400f-b0a0-d417b9564413",
   "metadata": {},
   "outputs": [
    {
     "name": "stdout",
     "output_type": "stream",
     "text": [
      "{\"id\": \"opencontext-24-20070123b.jpg\", \"score\": 0.1870155771230668, \"content\": null, \"metadata\": null}\n",
      "{\"id\": \"opencontext-24-19890124bhg.jpg\", \"score\": 0.18579155661012475, \"content\": null, \"metadata\": null}\n",
      "{\"id\": \"opencontext-10-coin-96-c-25-obverse.jpg\", \"score\": 0.18548505658171371, \"content\": null, \"metadata\": null}\n",
      "{\"id\": \"opencontext-24-19800171bwb.jpg\", \"score\": 0.18516668334079817, \"content\": null, \"metadata\": null}\n",
      "{\"id\": \"opencontext-24-19820081e.jpg\", \"score\": 0.18500664345281473, \"content\": null, \"metadata\": null}\n",
      "{\"id\": \"opencontext-24-19760035-2009-001.jpg\", \"score\": 0.18288652955409415, \"content\": null, \"metadata\": null}\n",
      "{\"id\": \"pencontext-1-photo3-dt-722 .jpg\", \"score\": 0.18268532503025622, \"content\": null, \"metadata\": null}\n"
     ]
    }
   ],
   "source": [
    "!llm similar photos -c 'a tile'"
   ]
  }
 ],
 "metadata": {
  "kernelspec": {
   "display_name": "Python 3 (ipykernel)",
   "language": "python",
   "name": "python3"
  },
  "language_info": {
   "codemirror_mode": {
    "name": "ipython",
    "version": 3
   },
   "file_extension": ".py",
   "mimetype": "text/x-python",
   "name": "python",
   "nbconvert_exporter": "python",
   "pygments_lexer": "ipython3",
   "version": "3.11.5"
  }
 },
 "nbformat": 4,
 "nbformat_minor": 5
}
