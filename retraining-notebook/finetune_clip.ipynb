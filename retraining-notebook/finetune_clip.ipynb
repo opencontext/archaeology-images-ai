{
 "cells": [
  {
   "cell_type": "code",
   "execution_count": null,
   "metadata": {
    "id": "sgMQePMfvCWh"
   },
   "outputs": [],
   "source": [
    "!unzip training.zip"
   ]
  },
  {
   "cell_type": "code",
   "execution_count": 6,
   "metadata": {
    "id": "PnpEsjCSvJ7z",
    "scrolled": true
   },
   "outputs": [
    {
     "name": "stdout",
     "output_type": "stream",
     "text": [
      "Collecting torchvision\n",
      "  Downloading torchvision-0.15.2-cp310-cp310-macosx_11_0_arm64.whl (1.4 MB)\n",
      "\u001b[2K     \u001b[90m━━━━━━━━━━━━━━━━━━━━━━━━━━━━━━━━━━━━━━━━\u001b[0m \u001b[32m1.4/1.4 MB\u001b[0m \u001b[31m5.6 MB/s\u001b[0m eta \u001b[36m0:00:00\u001b[0m00:01\u001b[0m00:01\u001b[0m\n",
      "\u001b[?25hRequirement already satisfied: numpy in /Users/shawngraham/mambaforge/lib/python3.10/site-packages (from torchvision) (1.23.5)\n",
      "Requirement already satisfied: pillow!=8.3.*,>=5.3.0 in /Users/shawngraham/mambaforge/lib/python3.10/site-packages (from torchvision) (9.5.0)\n",
      "Requirement already satisfied: requests in /Users/shawngraham/mambaforge/lib/python3.10/site-packages (from torchvision) (2.29.0)\n",
      "Requirement already satisfied: torch==2.0.1 in /Users/shawngraham/mambaforge/lib/python3.10/site-packages (from torchvision) (2.0.1)\n",
      "Requirement already satisfied: jinja2 in /Users/shawngraham/mambaforge/lib/python3.10/site-packages (from torch==2.0.1->torchvision) (3.1.2)\n",
      "Requirement already satisfied: filelock in /Users/shawngraham/mambaforge/lib/python3.10/site-packages (from torch==2.0.1->torchvision) (3.12.4)\n",
      "Requirement already satisfied: typing-extensions in /Users/shawngraham/mambaforge/lib/python3.10/site-packages (from torch==2.0.1->torchvision) (4.5.0)\n",
      "Requirement already satisfied: sympy in /Users/shawngraham/mambaforge/lib/python3.10/site-packages (from torch==2.0.1->torchvision) (1.12)\n",
      "Requirement already satisfied: networkx in /Users/shawngraham/mambaforge/lib/python3.10/site-packages (from torch==2.0.1->torchvision) (3.1)\n",
      "Requirement already satisfied: urllib3<1.27,>=1.21.1 in /Users/shawngraham/mambaforge/lib/python3.10/site-packages (from requests->torchvision) (1.26.15)\n",
      "Requirement already satisfied: charset-normalizer<4,>=2 in /Users/shawngraham/mambaforge/lib/python3.10/site-packages (from requests->torchvision) (3.1.0)\n",
      "Requirement already satisfied: certifi>=2017.4.17 in /Users/shawngraham/mambaforge/lib/python3.10/site-packages (from requests->torchvision) (2023.5.7)\n",
      "Requirement already satisfied: idna<4,>=2.5 in /Users/shawngraham/mambaforge/lib/python3.10/site-packages (from requests->torchvision) (3.4)\n",
      "Requirement already satisfied: MarkupSafe>=2.0 in /Users/shawngraham/mambaforge/lib/python3.10/site-packages (from jinja2->torch==2.0.1->torchvision) (2.1.1)\n",
      "Requirement already satisfied: mpmath>=0.19 in /Users/shawngraham/mambaforge/lib/python3.10/site-packages (from sympy->torch==2.0.1->torchvision) (1.3.0)\n",
      "Installing collected packages: torchvision\n",
      "Successfully installed torchvision-0.15.2\n"
     ]
    }
   ],
   "source": [
    "#!pip install transformers\n",
    "#!pip install torch\n",
    "!pip install torchvision"
   ]
  },
  {
   "cell_type": "code",
   "execution_count": null,
   "metadata": {
    "id": "X3Hvx5you1Kw"
   },
   "outputs": [],
   "source": [
    "#from https://github.com/shashnkvats/Indofashionclip/blob/main/indofashion_clip.py\n",
    "#with modifications\n"
   ]
  },
  {
   "cell_type": "code",
   "execution_count": 1,
   "metadata": {
    "id": "fHlk4sT-u3D3"
   },
   "outputs": [],
   "source": [
    "# the json file with filenames and captions\n",
    "json_path = 'simple.json'\n",
    "image_path = 'training'"
   ]
  },
  {
   "cell_type": "markdown",
   "metadata": {
    "id": "npX-LXi0BfHP"
   },
   "source": [
    "## The main event\n",
    "\n",
    "The code below should create something that is compatible with huggingface transformers architecture, which means it should be easier to integrate with llm-clip"
   ]
  },
  {
   "cell_type": "code",
   "execution_count": 2,
   "metadata": {},
   "outputs": [],
   "source": [
    "from PIL import Image\n",
    "import os\n",
    "import tqdm\n",
    "from tqdm import tqdm\n",
    "import json\n",
    "import torch\n",
    "from torch.utils.data import DataLoader\n",
    "from transformers import CLIPModel, CLIPProcessor\n",
    "from torchvision.transforms import ToTensor, Compose, Resize\n"
   ]
  },
  {
   "cell_type": "code",
   "execution_count": 5,
   "metadata": {
    "colab": {
     "base_uri": "https://localhost:8080/"
    },
    "id": "7jb6oAV79t0o",
    "outputId": "07fbc2e7-e761-4181-f4c6-9a36347ae6b1"
   },
   "outputs": [
    {
     "name": "stderr",
     "output_type": "stream",
     "text": [
      "Epoch 0/10, Loss: 3.2121: 100%|██████████████████████████████████████████████████████████████████████████████████████████████████████████████████████| 3/3 [03:05<00:00, 61.70s/it]\n",
      "Epoch 1/10, Loss: 3.3904: 100%|██████████████████████████████████████████████████████████████████████████████████████████████████████████████████████| 3/3 [03:07<00:00, 62.47s/it]\n",
      "Epoch 2/10, Loss: 3.8025: 100%|██████████████████████████████████████████████████████████████████████████████████████████████████████████████████████| 3/3 [03:04<00:00, 61.35s/it]\n",
      "Epoch 3/10, Loss: 3.0458: 100%|██████████████████████████████████████████████████████████████████████████████████████████████████████████████████████| 3/3 [03:08<00:00, 62.89s/it]\n",
      "Epoch 4/10, Loss: 3.0375: 100%|██████████████████████████████████████████████████████████████████████████████████████████████████████████████████████| 3/3 [03:01<00:00, 60.53s/it]\n",
      "Epoch 5/10, Loss: 3.0325: 100%|██████████████████████████████████████████████████████████████████████████████████████████████████████████████████████| 3/3 [02:52<00:00, 57.44s/it]\n",
      "Epoch 6/10, Loss: 3.0314: 100%|██████████████████████████████████████████████████████████████████████████████████████████████████████████████████████| 3/3 [03:04<00:00, 61.64s/it]\n",
      "Epoch 7/10, Loss: 3.0313: 100%|██████████████████████████████████████████████████████████████████████████████████████████████████████████████████████| 3/3 [02:53<00:00, 57.76s/it]\n",
      "Epoch 8/10, Loss: 3.0315: 100%|██████████████████████████████████████████████████████████████████████████████████████████████████████████████████████| 3/3 [03:10<00:00, 63.66s/it]\n",
      "Epoch 9/10, Loss: 3.0315: 100%|██████████████████████████████████████████████████████████████████████████████████████████████████████████████████████| 3/3 [03:08<00:00, 62.96s/it]\n"
     ]
    }
   ],
   "source": [
    "## try two\n",
    "## try two\n",
    "\n",
    "import os\n",
    "os.environ[\"TOKENIZERS_PARALLELISM\"] = \"false\"\n",
    "# Setting cudnn benchmark\n",
    "torch.backends.cudnn.benchmark = True\n",
    "\n",
    "with open(json_path, 'r') as f:\n",
    "    input_data = json.load(f)\n",
    "\n",
    "# Load CLIP model and processor from Hugging Face\n",
    "\n",
    "# Setting device on GPU if available, else CPU\n",
    "#device = torch.device('cuda' if torch.cuda.is_available() else 'cpu')\n",
    "# Loading model\n",
    "#single_gpu_model = CLIPModel.from_pretrained(\"openai/clip-vit-base-patch32\")\n",
    "#model = torch.nn.DataParallel(single_gpu_model).to(device)   # Make model parallel\n",
    "#processor = CLIPProcessor.from_pretrained(\"openai/clip-vit-base-patch32\")\n",
    "\n",
    "# Setting device on GPU if available, else CPU\n",
    "device = torch.device('cuda' if torch.cuda.is_available() else 'cpu')\n",
    "# Loading model\n",
    "model = CLIPModel.from_pretrained(\"openai/clip-vit-base-patch32\").to(device)\n",
    "\n",
    "processor = CLIPProcessor.from_pretrained(\"openai/clip-vit-base-patch32\")\n",
    "\n",
    "# Define a custom dataset\n",
    "\n",
    "from my_datasets import image_title_dataset\n",
    "\n",
    "# Make sure each image path has one text\n",
    "list_image_path = []\n",
    "list_txt = []\n",
    "for item in input_data:\n",
    "  if 'filename' in item and 'captions' in item:\n",
    "    img_path = os.path.join('training', item['filename'].split('/')[-1])\n",
    "    caption = item['captions'][:40]\n",
    "    # appending path to image then the corresponding caption\n",
    "    list_image_path.append(img_path)\n",
    "    list_txt.append(caption)\n",
    "\n",
    "dataset = image_title_dataset(list_image_path, list_txt)\n",
    "train_dataloader = DataLoader(dataset, batch_size=500, shuffle=True, num_workers=2) #Define your own dataloader\n",
    "\n",
    "# Gradient accumulation steps\n",
    "accumulation_steps = 2\n",
    "\n",
    "# Adjust learning rate\n",
    "optimizer = torch.optim.Adam(model.parameters(), lr=5e-5, betas=(0.9,0.98), eps=1e-6, weight_decay=0.2)\n",
    "\n",
    "loss_img = torch.nn.CrossEntropyLoss()\n",
    "loss_txt = torch.nn.CrossEntropyLoss()\n",
    "\n",
    "num_epochs = 10\n",
    "for epoch in range(num_epochs):\n",
    "    pbar = tqdm(train_dataloader, total = len(train_dataloader))\n",
    "    for i, batch in enumerate(pbar):\n",
    "        if batch is None:\n",
    "            continue\n",
    "        images,texts = batch\n",
    "        inputs = processor(texts, images=images, return_tensors=\"pt\", padding=True, truncation=True)\n",
    "        inputs = {k: v.to(device) for k, v in inputs.items()}\n",
    "        outputs = model(**inputs)\n",
    "\n",
    "        logits_per_image, logits_per_text = outputs.logits_per_image, outputs.logits_per_text\n",
    "\n",
    "        ground_truth = torch.arange(len(images),dtype=torch.long,device=device)\n",
    "        loss = (loss_img(logits_per_image, ground_truth) + loss_txt(logits_per_text, ground_truth)) / 2\n",
    "\n",
    "        # Normalize loss\n",
    "        loss = loss / accumulation_steps\n",
    "\n",
    "        loss.backward()\n",
    "\n",
    "        # Optimizer step and zero the gradients every accumulation_steps\n",
    "        if (i+1) % accumulation_steps == 0:\n",
    "            optimizer.step()\n",
    "            optimizer.zero_grad()\n",
    "\n",
    "        pbar.set_description(f\"Epoch {epoch}/{num_epochs}, Loss: {loss.item():.4f}\")\n",
    "        model.save_pretrained(f'./model_after_epoch_{epoch}')\n",
    "        #torch.save(model.module.state_dict(), f'./model_after_epoch_{epoch}')\n",
    "    # If the number of batches is not exactly divisible by accumulation_steps,\n",
    "    # make sure to still zero the gradients after finishing an epoch\n",
    "    if len(train_dataloader) % accumulation_steps != 0:\n",
    "        optimizer.step()\n",
    "        optimizer.zero_grad()\n"
   ]
  },
  {
   "cell_type": "code",
   "execution_count": null,
   "metadata": {
    "id": "BhYaSn06yJ0r"
   },
   "outputs": [],
   "source": [
    "## this bit was so we could use the data parallel method\n",
    "## but it never really worked.\n",
    "## so ignore.\n",
    "## and now, we do a little sleight of hand to get the resulting model\n",
    "## reshaped for how we want to use it\n",
    "## this is because the dataParallel method can't use save_pretrained.\n",
    "\n",
    "# change X below:\n",
    "# Load weights into the model for other tasks\n",
    "base_model = CLIPModel.from_pretrained(\"openai/clip-vit-base-patch32\").to(device)\n",
    "base_model.load_state_dict(torch.load('model_after_epoch_X'))\n",
    "\n",
    "base_model.save_pretrained(f'./archae_ai')"
   ]
  },
  {
   "cell_type": "code",
   "execution_count": null,
   "metadata": {
    "colab": {
     "base_uri": "https://localhost:8080/"
    },
    "id": "O19iRimACjhh",
    "outputId": "4b8eaa34-06d9-465d-b1e3-e55c422be1f8"
   },
   "outputs": [
    {
     "name": "stdout",
     "output_type": "stream",
     "text": [
      "updating: model_after_epoch_0/ (stored 0%)\n",
      "  adding: model_after_epoch_0/pytorch_model.bin (deflated 7%)\n",
      "  adding: model_after_epoch_0/config.json (deflated 46%)\n"
     ]
    }
   ],
   "source": [
    "!zip test.zip -r archae_ai/"
   ]
  },
  {
   "cell_type": "code",
   "execution_count": null,
   "metadata": {},
   "outputs": [],
   "source": []
  }
 ],
 "metadata": {
  "accelerator": "GPU",
  "colab": {
   "gpuType": "T4",
   "provenance": []
  },
  "kernelspec": {
   "display_name": "Python 3 (ipykernel)",
   "language": "python",
   "name": "python3"
  },
  "language_info": {
   "codemirror_mode": {
    "name": "ipython",
    "version": 3
   },
   "file_extension": ".py",
   "mimetype": "text/x-python",
   "name": "python",
   "nbconvert_exporter": "python",
   "pygments_lexer": "ipython3",
   "version": "3.11.5"
  }
 },
 "nbformat": 4,
 "nbformat_minor": 4
}
