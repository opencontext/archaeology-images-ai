{
  "nbformat": 4,
  "nbformat_minor": 0,
  "metadata": {
    "colab": {
      "provenance": [],
      "gpuType": "T4"
    },
    "kernelspec": {
      "name": "python3",
      "display_name": "Python 3"
    },
    "language_info": {
      "name": "python"
    },
    "accelerator": "GPU"
  },
  "cells": [
    {
      "cell_type": "code",
      "source": [
        "!unzip training.zip"
      ],
      "metadata": {
        "id": "sgMQePMfvCWh"
      },
      "execution_count": null,
      "outputs": []
    },
    {
      "cell_type": "code",
      "source": [
        "!pip install transformers"
      ],
      "metadata": {
        "id": "PnpEsjCSvJ7z"
      },
      "execution_count": null,
      "outputs": []
    },
    {
      "cell_type": "code",
      "source": [
        "#from https://github.com/shashnkvats/Indofashionclip/blob/main/indofashion_clip.py\n",
        "#with modifications\n"
      ],
      "metadata": {
        "id": "X3Hvx5you1Kw"
      },
      "execution_count": null,
      "outputs": []
    },
    {
      "cell_type": "code",
      "source": [
        "# the json file with filenames and captions\n",
        "json_path = 'simple.json'\n"
      ],
      "metadata": {
        "id": "fHlk4sT-u3D3"
      },
      "execution_count": 5,
      "outputs": []
    },
    {
      "cell_type": "markdown",
      "source": [
        "## The main event\n",
        "\n",
        "The code below should create something that is compatible with huggingface transformers architecture, which means it should be easier to integrate with llm-clip"
      ],
      "metadata": {
        "id": "npX-LXi0BfHP"
      }
    },
    {
      "cell_type": "code",
      "source": [
        "## try two\n",
        "from PIL import Image\n",
        "import os\n",
        "import tqdm\n",
        "from tqdm import tqdm\n",
        "import json\n",
        "import torch\n",
        "from torch.utils.data import DataLoader\n",
        "from transformers import CLIPModel, CLIPProcessor\n",
        "from torchvision.transforms import ToTensor, Resize, Compose\n",
        "\n",
        "# Setting cudnn benchmark\n",
        "torch.backends.cudnn.benchmark = True\n",
        "\n",
        "with open(json_path, 'r') as f:\n",
        "    input_data = json.load(f)\n",
        "\n",
        "# Load CLIP model and processor from Hugging Face\n",
        "\n",
        "# Setting device on GPU if available, else CPU\n",
        "device = torch.device('cuda' if torch.cuda.is_available() else 'cpu')\n",
        "# Loading model\n",
        "single_gpu_model = CLIPModel.from_pretrained(\"openai/clip-vit-base-patch32\")\n",
        "model = torch.nn.DataParallel(single_gpu_model).to(device)   # Make model parallel\n",
        "\n",
        "processor = CLIPProcessor.from_pretrained(\"openai/clip-vit-base-patch32\")\n",
        "\n",
        "# Define a custom dataset\n",
        "class image_title_dataset():\n",
        "    def __init__(self, list_image_path,list_txt):\n",
        "        self.image_path = list_image_path\n",
        "        self.list_txt = list_txt\n",
        "        self.transform = Compose([Resize((224, 224)), ToTensor()])  # Resize all images to 224x224\n",
        "\n",
        "    def __len__(self):\n",
        "        return len(self.list_txt)\n",
        "\n",
        "    def __getitem__(self, idx):\n",
        "      try:\n",
        "        image = Image.open(self.image_path[idx]).convert(\"RGB\")\n",
        "        image = self.transform(image)  # Apply the transforms\n",
        "      except Exception as e:\n",
        "        print(f\"Unable to open image at {self.image_path[idx]} due to error : {e}\")\n",
        "        image = torch.zeros(3, 224, 224)  # Adding a Zero tensor in case of image loading failure\n",
        "        # Return an empty string as text\n",
        "      return image, self.list_txt[idx] if self.list_txt[idx] else [\"\"]\n",
        "# Make sure each image path has one text\n",
        "list_image_path = []\n",
        "list_txt = []\n",
        "for item in input_data:\n",
        "  if 'filename' in item and 'captions' in item:\n",
        "    img_path = os.path.join('training', item['filename'].split('/')[-1])\n",
        "    caption = item['captions'][:40]\n",
        "    # appending path to image then the corresponding caption\n",
        "    list_image_path.append(img_path)\n",
        "    list_txt.append(caption)\n",
        "\n",
        "dataset = image_title_dataset(list_image_path, list_txt)\n",
        "train_dataloader = DataLoader(dataset, batch_size=100, shuffle=True, num_workers=2) #Define your own dataloader\n",
        "\n",
        "# Gradient accumulation steps\n",
        "accumulation_steps = 2\n",
        "\n",
        "# Adjust learning rate\n",
        "optimizer = torch.optim.AdamW(model.parameters(), lr=5e-5 * accumulation_steps)\n",
        "\n",
        "loss_img = torch.nn.CrossEntropyLoss()\n",
        "loss_txt = torch.nn.CrossEntropyLoss()\n",
        "\n",
        "num_epochs = 30\n",
        "for epoch in range(num_epochs):\n",
        "    pbar = tqdm(train_dataloader, total = len(train_dataloader))\n",
        "    for i, batch in enumerate(pbar):\n",
        "        if batch is None:\n",
        "            continue\n",
        "        images,texts = batch\n",
        "        inputs = processor(texts, images=images, return_tensors=\"pt\", padding=True, truncation=True)\n",
        "        inputs = {k: v.to(device) for k, v in inputs.items()}\n",
        "        outputs = model(**inputs)\n",
        "\n",
        "        logits_per_image, logits_per_text = outputs.logits_per_image, outputs.logits_per_text\n",
        "\n",
        "        ground_truth = torch.arange(len(images),dtype=torch.long,device=device)\n",
        "        loss = (loss_img(logits_per_image, ground_truth) + loss_txt(logits_per_text, ground_truth)) / 2\n",
        "\n",
        "        # Normalize loss\n",
        "        loss = loss / accumulation_steps\n",
        "\n",
        "        loss.backward()\n",
        "\n",
        "        # Optimizer step and zero the gradients every accumulation_steps\n",
        "        if (i+1) % accumulation_steps == 0:\n",
        "            optimizer.step()\n",
        "            optimizer.zero_grad()\n",
        "\n",
        "        pbar.set_description(f\"Epoch {epoch}/{num_epochs}, Loss: {loss.item():.4f}\")\n",
        "       # model.save_pretrained(f'./model_after_epoch_{epoch}')\n",
        "        torch.save(model.module.state_dict(), f'./model_after_epoch_{epoch}')\n",
        "    # If the number of batches is not exactly divisible by accumulation_steps,\n",
        "    # make sure to still zero the gradients after finishing an epoch\n",
        "    if len(train_dataloader) % accumulation_steps != 0:\n",
        "        optimizer.step()\n",
        "        optimizer.zero_grad()\n"
      ],
      "metadata": {
        "colab": {
          "base_uri": "https://localhost:8080/"
        },
        "id": "7jb6oAV79t0o",
        "outputId": "07fbc2e7-e761-4181-f4c6-9a36347ae6b1"
      },
      "execution_count": null,
      "outputs": [
        {
          "output_type": "stream",
          "name": "stderr",
          "text": [
            "Epoch 0/30, Loss: 1.6850: 100%|██████████| 15/15 [02:07<00:00,  8.49s/it]\n",
            "Epoch 1/30, Loss: 2.3028:  40%|████      | 6/15 [00:51<01:15,  8.42s/it]"
          ]
        }
      ]
    },
    {
      "cell_type": "code",
      "source": [
        "## and now, we do a little sleight of hand to get the resulting model\n",
        "## reshaped for how we want to use it\n",
        "## this is because the dataParallel method can't use save_pretrained.\n",
        "\n",
        "# change X below:\n",
        "# Load weights into the model for other tasks\n",
        "base_model = CLIPModel.from_pretrained(\"openai/clip-vit-base-patch32\").to(device)\n",
        "base_model.load_state_dict(torch.load('model_after_epoch_X.pt'))\n",
        "\n",
        "base_model.save_pretrained(f'./archae_ai')"
      ],
      "metadata": {
        "id": "BhYaSn06yJ0r"
      },
      "execution_count": null,
      "outputs": []
    },
    {
      "cell_type": "code",
      "source": [
        "!zip test.zip -r archae_ai/"
      ],
      "metadata": {
        "colab": {
          "base_uri": "https://localhost:8080/"
        },
        "id": "O19iRimACjhh",
        "outputId": "4b8eaa34-06d9-465d-b1e3-e55c422be1f8"
      },
      "execution_count": null,
      "outputs": [
        {
          "output_type": "stream",
          "name": "stdout",
          "text": [
            "updating: model_after_epoch_0/ (stored 0%)\n",
            "  adding: model_after_epoch_0/pytorch_model.bin (deflated 7%)\n",
            "  adding: model_after_epoch_0/config.json (deflated 46%)\n"
          ]
        }
      ]
    }
  ]
}